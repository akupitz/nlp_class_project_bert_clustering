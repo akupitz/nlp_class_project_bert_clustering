{
 "cells": [
  {
   "cell_type": "code",
   "execution_count": 2,
   "metadata": {
    "collapsed": true,
    "pycharm": {
     "name": "#%%\n"
    }
   },
   "outputs": [
    {
     "name": "stderr",
     "output_type": "stream",
     "text": [
      "/home/amit/python_envs/nlp_env/lib/python3.8/site-packages/tqdm/auto.py:22: TqdmWarning: IProgress not found. Please update jupyter and ipywidgets. See https://ipywidgets.readthedocs.io/en/stable/user_install.html\n",
      "  from .autonotebook import tqdm as notebook_tqdm\n"
     ]
    }
   ],
   "source": [
    "import seaborn as sns\n",
    "import matplotlib.pyplot as plt\n",
    "from collections import Counter\n",
    "from wordcloud import WordCloud\n",
    "import numpy as np\n",
    "import pandas as pd\n",
    "from copy import deepcopy\n",
    "from bertopic import BERTopic\n",
    "from config import ORIGINAL_EXCEL_PATH, WHY_NOT_ETHICAL_CLEAN_WORD_COUNT_COLUMN, WHY_NOT_ETHICAL_CLEAN_TEXT_COLUMN, RISK_1_COLUMN\n",
    "from data_preperation import read_excel_df, fix_df"
   ]
  },
  {
   "cell_type": "code",
   "execution_count": 8,
   "outputs": [
    {
     "name": "stdout",
     "output_type": "stream",
     "text": [
      "CPU times: user 4.7 s, sys: 0 ns, total: 4.7 s\n",
      "Wall time: 4.7 s\n"
     ]
    }
   ],
   "source": [
    "%%time\n",
    "topic_modeling_df = read_excel_df(ORIGINAL_EXCEL_PATH)\n",
    "topic_modeling_df = fix_df(topic_modeling_df)"
   ],
   "metadata": {
    "collapsed": false,
    "pycharm": {
     "name": "#%%\n"
    }
   }
  },
  {
   "cell_type": "code",
   "execution_count": 9,
   "outputs": [],
   "source": [
    "df = topic_modeling_df[[WHY_NOT_ETHICAL_CLEAN_TEXT_COLUMN, RISK_1_COLUMN]]"
   ],
   "metadata": {
    "collapsed": false,
    "pycharm": {
     "name": "#%%\n"
    }
   }
  },
  {
   "cell_type": "code",
   "execution_count": 28,
   "outputs": [
    {
     "data": {
      "text/plain": "[('dp&p uninformed consent', 1264),\n ('onesided terms', 1172),\n ('collection of personal data', 526),\n ('other limitation of liability', 477),\n ('third party data transfers', 457),\n ('limited readability', 417),\n ('limitation of liability', 259),\n ('unfair terms', 239),\n ('storage and retention of personal data', 207),\n ('user content ownership', 187),\n ('data security', 176),\n ('uninformed consent', 159),\n ('tracking user information', 143),\n ('no refunds', 143),\n ('restricting user legal action - general', 141),\n ('dispute resolution clause', 125),\n ('limiting class action', 102),\n ('burdens associated with using the app - general', 57),\n ('international data transfers', 57),\n ('financial risks - general', 52),\n ('legally non compliant', 49),\n ('privacy risks', 46),\n ('processing user information', 44),\n ('eliminating or limiting access to purchased app assets or coins', 38),\n ('in app payments', 33),\n ('advertisements and spam', 32),\n ('severability', 25),\n ('functionality', 21),\n ('content moderation', 13),\n ('cyber risks', 6),\n ('hidden charges', 5),\n ('hidden charges (financial risks)', 4),\n ('paid service', 3),\n ('third party data transfer', 2),\n ('limitation of liability - app will not become invovled in disputes between users',\n  2),\n ('inssuficient measures for avoiding data collection on minors', 2),\n ('dispute resolution clause - choice of law', 2),\n ('severability - unethical that contract does not become void when certain provisions are found illegal',\n  2),\n ('lack of transparency', 2),\n ('data security - insufficient security measures', 2),\n ('restricting user legal action', 2),\n ('misundersood text', 1),\n ('collection of personal data / tracking / broad purpuse specification', 1),\n ('collection of personal data / excessive data collection / tracking', 1),\n ('excessive data collection / third party data sharing', 1),\n ('third party data transfer / limited readability - length', 1),\n ('international data transfer / uninformed consent - lack of transparency',\n  1),\n ('inability to control data management and deletion', 1),\n (\"uninformed consent - inssuficient measures to ensure minors's guardian consent / uninformed consent - by using app\",\n  1),\n ('financial risks/cyber risks - user liablity for hacked actions / user content ownership -username / unilateral change or termination',\n  1),\n ('unilateral change or termination', 1),\n ('cyber risks - user liability for hacked actions / limitation of liability',\n  1),\n ('unilateral change or termination - broad discretion on license violation decision / no procedural safeguards for account termination - present evidence / no refunds',\n  1),\n ('unilateral change or termination / no refunds', 1),\n ('user content ownership - name and likening / collection of personal infromation / legally non-compliant',\n  1),\n ('collection of personal information', 1),\n ('no refunds for involuntary in app purchases', 1),\n ('no refunds / no refunds even when app is faulty', 1),\n ('financial risks - eliminating or limiting access to purchased app assets or coins / limitation of liability / financial risks/cyber risks - user liablity for hacked actions',\n  1),\n ('financial risks - eliminating or limiting access to purchased app assets or coins / limitation of liability / no refunds - even if app is faulty',\n  1),\n ('no refunds / financial risks - user liablity for hacked purchases', 1),\n ('dispute resolution clause - encouraging resolution through internal mechanism',\n  1),\n ('dispute resolution clause - choice of venue creates an unfair advantage for app',\n  1),\n ('dispute resolution clause - choice of venue not practical/accessible for user',\n  1),\n ('collection of personal information / tracking - cookies (third parties) / third party data transfers',\n  1),\n ('collection of personal information / excessive data collection', 1),\n ('exessive data collection / tracking - location + cookies / targeted advertising',\n  1),\n ('collection of personal information - messages - in app messages', 1),\n ('tracking - cookies (third parties) / collection of personal data - exessive data collection / lack of transparency (scope of data collection)',\n  1),\n ('tracking / targeted advertizing / general privacy risks', 1),\n ('tracking - location / collection of personal data - in app messages / inability to opt out data collection',\n  1),\n ('third party data transfers /lack of transparency regarding scope of data sharing / uninformed consent - subjecting users to third party pp',\n  1),\n ('third party data transfers / general privacy risks', 1),\n ('third party data transfers / inability to opt out of data transefrs / uninformed consent - subjecting users to third party pp',\n  1),\n ('lack of transparency / third party data transfers - inernational + to other jurisdiction with inferior privacy legislation',\n  1),\n ('third party data transfers - international', 1),\n ('third party data traresfers - international', 1),\n ('third party is traresfers / lack of transparency', 1),\n ('third party data traresfers - international + to other jurisdiction with inferior privacy legislation',\n  1),\n ('c', 1)]"
     },
     "execution_count": 28,
     "metadata": {},
     "output_type": "execute_result"
    }
   ],
   "source": [
    "Counter(df[RISK_1_COLUMN]).most_common()"
   ],
   "metadata": {
    "collapsed": false,
    "pycharm": {
     "name": "#%%\n"
    }
   }
  },
  {
   "cell_type": "code",
   "execution_count": 29,
   "outputs": [],
   "source": [
    "most_common_clusters_df = df[df[RISK_1_COLUMN].isin([\"dp&p uninformed consent\", \"onesided terms\"])]"
   ],
   "metadata": {
    "collapsed": false,
    "pycharm": {
     "name": "#%%\n"
    }
   }
  },
  {
   "cell_type": "code",
   "execution_count": 30,
   "outputs": [
    {
     "data": {
      "text/plain": "                                   why.not.ethical_clean  \\\n9893   They can change the policy at any time, and it...   \n23242  It should be shorter than 10 days to process o...   \n5912   Email should not be the only contact option if...   \n31123  Zynga does not organise opting out, it is hand...   \n18327  I don't think it should be able to get info fr...   \n29145  The company should make sure that the websites...   \n7445   There is no clause that states the consequence...   \n\n                        Risk 1  \n9893            onesided terms  \n23242  dp&p uninformed consent  \n5912   dp&p uninformed consent  \n31123  dp&p uninformed consent  \n18327  dp&p uninformed consent  \n29145  dp&p uninformed consent  \n7445   dp&p uninformed consent  ",
      "text/html": "<div>\n<style scoped>\n    .dataframe tbody tr th:only-of-type {\n        vertical-align: middle;\n    }\n\n    .dataframe tbody tr th {\n        vertical-align: top;\n    }\n\n    .dataframe thead th {\n        text-align: right;\n    }\n</style>\n<table border=\"1\" class=\"dataframe\">\n  <thead>\n    <tr style=\"text-align: right;\">\n      <th></th>\n      <th>why.not.ethical_clean</th>\n      <th>Risk 1</th>\n    </tr>\n  </thead>\n  <tbody>\n    <tr>\n      <th>9893</th>\n      <td>They can change the policy at any time, and it...</td>\n      <td>onesided terms</td>\n    </tr>\n    <tr>\n      <th>23242</th>\n      <td>It should be shorter than 10 days to process o...</td>\n      <td>dp&amp;p uninformed consent</td>\n    </tr>\n    <tr>\n      <th>5912</th>\n      <td>Email should not be the only contact option if...</td>\n      <td>dp&amp;p uninformed consent</td>\n    </tr>\n    <tr>\n      <th>31123</th>\n      <td>Zynga does not organise opting out, it is hand...</td>\n      <td>dp&amp;p uninformed consent</td>\n    </tr>\n    <tr>\n      <th>18327</th>\n      <td>I don't think it should be able to get info fr...</td>\n      <td>dp&amp;p uninformed consent</td>\n    </tr>\n    <tr>\n      <th>29145</th>\n      <td>The company should make sure that the websites...</td>\n      <td>dp&amp;p uninformed consent</td>\n    </tr>\n    <tr>\n      <th>7445</th>\n      <td>There is no clause that states the consequence...</td>\n      <td>dp&amp;p uninformed consent</td>\n    </tr>\n  </tbody>\n</table>\n</div>"
     },
     "execution_count": 30,
     "metadata": {},
     "output_type": "execute_result"
    }
   ],
   "source": [
    "most_common_clusters_df.sample(7)"
   ],
   "metadata": {
    "collapsed": false,
    "pycharm": {
     "name": "#%%\n"
    }
   }
  },
  {
   "cell_type": "code",
   "execution_count": 32,
   "outputs": [
    {
     "data": {
      "text/plain": "([\"They can suspend or terminate your account if a charge can't be processed or is unpaid. If a payment does not go through, they should take away the thing that you tried to buy, rather than suspending or deleting your account.\",\n  'It feels as if there is some vagueness as to the protections offered to data being transferred out of the EEA. I would also rather see who the affiliates of Moon Active are.',\n  'I think that updated privacy policy changes should always require an active consent from the user.'],\n ['onesided terms', 'dp&p uninformed consent', 'onesided terms'])"
     },
     "execution_count": 32,
     "metadata": {},
     "output_type": "execute_result"
    }
   ],
   "source": [
    "docs = list(most_common_clusters_df.loc[:, WHY_NOT_ETHICAL_CLEAN_TEXT_COLUMN].values)\n",
    "actual_risks = list(most_common_clusters_df.loc[:, RISK_1_COLUMN].values)\n",
    "docs[:3], actual_risks[:3]"
   ],
   "metadata": {
    "collapsed": false,
    "pycharm": {
     "name": "#%%\n"
    }
   }
  },
  {
   "cell_type": "code",
   "execution_count": 33,
   "outputs": [
    {
     "name": "stdout",
     "output_type": "stream",
     "text": [
      "CPU times: user 41min 5s, sys: 6.98 s, total: 41min 12s\n",
      "Wall time: 4min 18s\n"
     ]
    }
   ],
   "source": [
    "%%time\n",
    "model = BERTopic(language=\"english\")\n",
    "topics, probs = model.fit_transform(docs)"
   ],
   "metadata": {
    "collapsed": false,
    "pycharm": {
     "name": "#%%\n"
    }
   }
  },
  {
   "cell_type": "code",
   "execution_count": 38,
   "outputs": [
    {
     "data": {
      "text/plain": "(0.6879019982476003, 7, 'onesided terms')"
     },
     "execution_count": 38,
     "metadata": {},
     "output_type": "execute_result"
    }
   ],
   "source": [
    "i = 2\n",
    "probs[i], topics[i], actual_risks[i]"
   ],
   "metadata": {
    "collapsed": false,
    "pycharm": {
     "name": "#%%\n"
    }
   }
  },
  {
   "cell_type": "code",
   "execution_count": 41,
   "outputs": [
    {
     "data": {
      "text/plain": "      topic      prob              actual_risk\n1365     17  0.623424           onesided terms\n1334     -1  0.000000  dp&p uninformed consent\n1512      1  0.426493           onesided terms\n1881     -1  0.000000           onesided terms\n783       0  1.000000  dp&p uninformed consent\n154      -1  0.000000  dp&p uninformed consent\n1773      8  1.000000  dp&p uninformed consent\n2057      6  1.000000           onesided terms\n687      21  0.856051           onesided terms\n1513      1  0.372805           onesided terms",
      "text/html": "<div>\n<style scoped>\n    .dataframe tbody tr th:only-of-type {\n        vertical-align: middle;\n    }\n\n    .dataframe tbody tr th {\n        vertical-align: top;\n    }\n\n    .dataframe thead th {\n        text-align: right;\n    }\n</style>\n<table border=\"1\" class=\"dataframe\">\n  <thead>\n    <tr style=\"text-align: right;\">\n      <th></th>\n      <th>topic</th>\n      <th>prob</th>\n      <th>actual_risk</th>\n    </tr>\n  </thead>\n  <tbody>\n    <tr>\n      <th>1365</th>\n      <td>17</td>\n      <td>0.623424</td>\n      <td>onesided terms</td>\n    </tr>\n    <tr>\n      <th>1334</th>\n      <td>-1</td>\n      <td>0.000000</td>\n      <td>dp&amp;p uninformed consent</td>\n    </tr>\n    <tr>\n      <th>1512</th>\n      <td>1</td>\n      <td>0.426493</td>\n      <td>onesided terms</td>\n    </tr>\n    <tr>\n      <th>1881</th>\n      <td>-1</td>\n      <td>0.000000</td>\n      <td>onesided terms</td>\n    </tr>\n    <tr>\n      <th>783</th>\n      <td>0</td>\n      <td>1.000000</td>\n      <td>dp&amp;p uninformed consent</td>\n    </tr>\n    <tr>\n      <th>154</th>\n      <td>-1</td>\n      <td>0.000000</td>\n      <td>dp&amp;p uninformed consent</td>\n    </tr>\n    <tr>\n      <th>1773</th>\n      <td>8</td>\n      <td>1.000000</td>\n      <td>dp&amp;p uninformed consent</td>\n    </tr>\n    <tr>\n      <th>2057</th>\n      <td>6</td>\n      <td>1.000000</td>\n      <td>onesided terms</td>\n    </tr>\n    <tr>\n      <th>687</th>\n      <td>21</td>\n      <td>0.856051</td>\n      <td>onesided terms</td>\n    </tr>\n    <tr>\n      <th>1513</th>\n      <td>1</td>\n      <td>0.372805</td>\n      <td>onesided terms</td>\n    </tr>\n  </tbody>\n</table>\n</div>"
     },
     "execution_count": 41,
     "metadata": {},
     "output_type": "execute_result"
    }
   ],
   "source": [
    "topic_output_df = pd.DataFrame({\"topic\": topics, \"prob\": probs, \"actual_risk\": actual_risks})\n",
    "topic_output_df.sample(10)"
   ],
   "metadata": {
    "collapsed": false,
    "pycharm": {
     "name": "#%%\n"
    }
   }
  },
  {
   "cell_type": "code",
   "execution_count": 39,
   "outputs": [
    {
     "ename": "ValueError",
     "evalue": "Mime type rendering requires nbformat>=4.2.0 but it is not installed",
     "output_type": "error",
     "traceback": [
      "\u001B[0;31m---------------------------------------------------------------------------\u001B[0m",
      "\u001B[0;31mValueError\u001B[0m                                Traceback (most recent call last)",
      "File \u001B[0;32m~/python_envs/nlp_env/lib/python3.8/site-packages/IPython/core/formatters.py:921\u001B[0m, in \u001B[0;36mIPythonDisplayFormatter.__call__\u001B[0;34m(self, obj)\u001B[0m\n\u001B[1;32m    919\u001B[0m method \u001B[38;5;241m=\u001B[39m get_real_method(obj, \u001B[38;5;28mself\u001B[39m\u001B[38;5;241m.\u001B[39mprint_method)\n\u001B[1;32m    920\u001B[0m \u001B[38;5;28;01mif\u001B[39;00m method \u001B[38;5;129;01mis\u001B[39;00m \u001B[38;5;129;01mnot\u001B[39;00m \u001B[38;5;28;01mNone\u001B[39;00m:\n\u001B[0;32m--> 921\u001B[0m     \u001B[43mmethod\u001B[49m\u001B[43m(\u001B[49m\u001B[43m)\u001B[49m\n\u001B[1;32m    922\u001B[0m     \u001B[38;5;28;01mreturn\u001B[39;00m \u001B[38;5;28;01mTrue\u001B[39;00m\n",
      "File \u001B[0;32m~/python_envs/nlp_env/lib/python3.8/site-packages/plotly/basedatatypes.py:842\u001B[0m, in \u001B[0;36mBaseFigure._ipython_display_\u001B[0;34m(self)\u001B[0m\n\u001B[1;32m    839\u001B[0m \u001B[38;5;28;01mimport\u001B[39;00m \u001B[38;5;21;01mplotly\u001B[39;00m\u001B[38;5;21;01m.\u001B[39;00m\u001B[38;5;21;01mio\u001B[39;00m \u001B[38;5;28;01mas\u001B[39;00m \u001B[38;5;21;01mpio\u001B[39;00m\n\u001B[1;32m    841\u001B[0m \u001B[38;5;28;01mif\u001B[39;00m pio\u001B[38;5;241m.\u001B[39mrenderers\u001B[38;5;241m.\u001B[39mrender_on_display \u001B[38;5;129;01mand\u001B[39;00m pio\u001B[38;5;241m.\u001B[39mrenderers\u001B[38;5;241m.\u001B[39mdefault:\n\u001B[0;32m--> 842\u001B[0m     \u001B[43mpio\u001B[49m\u001B[38;5;241;43m.\u001B[39;49m\u001B[43mshow\u001B[49m\u001B[43m(\u001B[49m\u001B[38;5;28;43mself\u001B[39;49m\u001B[43m)\u001B[49m\n\u001B[1;32m    843\u001B[0m \u001B[38;5;28;01melse\u001B[39;00m:\n\u001B[1;32m    844\u001B[0m     \u001B[38;5;28mprint\u001B[39m(\u001B[38;5;28mrepr\u001B[39m(\u001B[38;5;28mself\u001B[39m))\n",
      "File \u001B[0;32m~/python_envs/nlp_env/lib/python3.8/site-packages/plotly/io/_renderers.py:396\u001B[0m, in \u001B[0;36mshow\u001B[0;34m(fig, renderer, validate, **kwargs)\u001B[0m\n\u001B[1;32m    391\u001B[0m         \u001B[38;5;28;01mraise\u001B[39;00m \u001B[38;5;167;01mValueError\u001B[39;00m(\n\u001B[1;32m    392\u001B[0m             \u001B[38;5;124m\"\u001B[39m\u001B[38;5;124mMime type rendering requires ipython but it is not installed\u001B[39m\u001B[38;5;124m\"\u001B[39m\n\u001B[1;32m    393\u001B[0m         )\n\u001B[1;32m    395\u001B[0m     \u001B[38;5;28;01mif\u001B[39;00m \u001B[38;5;129;01mnot\u001B[39;00m nbformat \u001B[38;5;129;01mor\u001B[39;00m LooseVersion(nbformat\u001B[38;5;241m.\u001B[39m__version__) \u001B[38;5;241m<\u001B[39m LooseVersion(\u001B[38;5;124m\"\u001B[39m\u001B[38;5;124m4.2.0\u001B[39m\u001B[38;5;124m\"\u001B[39m):\n\u001B[0;32m--> 396\u001B[0m         \u001B[38;5;28;01mraise\u001B[39;00m \u001B[38;5;167;01mValueError\u001B[39;00m(\n\u001B[1;32m    397\u001B[0m             \u001B[38;5;124m\"\u001B[39m\u001B[38;5;124mMime type rendering requires nbformat>=4.2.0 but it is not installed\u001B[39m\u001B[38;5;124m\"\u001B[39m\n\u001B[1;32m    398\u001B[0m         )\n\u001B[1;32m    400\u001B[0m     ipython_display\u001B[38;5;241m.\u001B[39mdisplay(bundle, raw\u001B[38;5;241m=\u001B[39m\u001B[38;5;28;01mTrue\u001B[39;00m)\n\u001B[1;32m    402\u001B[0m \u001B[38;5;66;03m# external renderers\u001B[39;00m\n",
      "\u001B[0;31mValueError\u001B[0m: Mime type rendering requires nbformat>=4.2.0 but it is not installed"
     ]
    },
    {
     "data": {
      "application/vnd.plotly.v1+json": {
       "data": [
        {
         "marker": {
          "color": "#D55E00"
         },
         "orientation": "h",
         "x": [
          0.01814906199866913,
          0.018496673088147404,
          0.02123344341948135,
          0.023420267528693636,
          0.03477487459001497
         ],
         "y": [
          "to  ",
          "they  ",
          "personal  ",
          "information  ",
          "data  "
         ],
         "type": "bar",
         "xaxis": "x",
         "yaxis": "y"
        },
        {
         "marker": {
          "color": "#0072B2"
         },
         "orientation": "h",
         "x": [
          0.027712773505304468,
          0.02824050856538263,
          0.031096653945836945,
          0.03669396553599796,
          0.08381328566085121
         ],
         "y": [
          "and  ",
          "changes  ",
          "change  ",
          "conditions  ",
          "terms  "
         ],
         "type": "bar",
         "xaxis": "x2",
         "yaxis": "y2"
        },
        {
         "marker": {
          "color": "#CC79A7"
         },
         "orientation": "h",
         "x": [
          0.02308612343195694,
          0.028942486268542466,
          0.029483260733468748,
          0.03552244330541125,
          0.051376255102809514
         ],
         "y": [
          "this  ",
          "it  ",
          "data  ",
          "is  ",
          "unethical  "
         ],
         "type": "bar",
         "xaxis": "x3",
         "yaxis": "y3"
        },
        {
         "marker": {
          "color": "#E69F00"
         },
         "orientation": "h",
         "x": [
          0.018675982803003897,
          0.019250674313965366,
          0.025418616277027368,
          0.0270557361938596,
          0.0746285837259015
         ],
         "y": [
          "to  ",
          "of  ",
          "third  ",
          "the  ",
          "app  "
         ],
         "type": "bar",
         "xaxis": "x4",
         "yaxis": "y4"
        },
        {
         "marker": {
          "color": "#56B4E9"
         },
         "orientation": "h",
         "x": [
          0.025026455464321567,
          0.027951270039321248,
          0.033050762272103844,
          0.0338409333318599,
          0.05760427391856248
         ],
         "y": [
          "sole  ",
          "discretion  ",
          "waive  ",
          "unethical  ",
          "rights  "
         ],
         "type": "bar",
         "xaxis": "x5",
         "yaxis": "y5"
        },
        {
         "marker": {
          "color": "#009E73"
         },
         "orientation": "h",
         "x": [
          0.051731904639947875,
          0.05964742895716721,
          0.07311344848261134,
          0.09142973123237237,
          0.11143904345362751
         ],
         "y": [
          "withdrawn  ",
          "even  ",
          "still  ",
          "withdraw  ",
          "consent  "
         ],
         "type": "bar",
         "xaxis": "x6",
         "yaxis": "y6"
        },
        {
         "marker": {
          "color": "#F0E442"
         },
         "orientation": "h",
         "x": [
          0.0291798617085759,
          0.03464385552484864,
          0.03983464851206129,
          0.04882061546797418,
          0.09205684969242814
         ],
         "y": [
          "an  ",
          "terminate  ",
          "reason  ",
          "terminated  ",
          "account  "
         ],
         "type": "bar",
         "xaxis": "x7",
         "yaxis": "y7"
        },
        {
         "marker": {
          "color": "#D55E00"
         },
         "orientation": "h",
         "x": [
          0.029420289078283948,
          0.03258838007759018,
          0.05456345173435039,
          0.08492326045620122,
          0.09281963410860317
         ],
         "y": [
          "should  ",
          "the  ",
          "changes  ",
          "privacy  ",
          "policy  "
         ],
         "type": "bar",
         "xaxis": "x8",
         "yaxis": "y8"
        }
       ],
       "layout": {
        "template": {
         "data": {
          "barpolar": [
           {
            "marker": {
             "line": {
              "color": "white",
              "width": 0.5
             },
             "pattern": {
              "fillmode": "overlay",
              "size": 10,
              "solidity": 0.2
             }
            },
            "type": "barpolar"
           }
          ],
          "bar": [
           {
            "error_x": {
             "color": "#2a3f5f"
            },
            "error_y": {
             "color": "#2a3f5f"
            },
            "marker": {
             "line": {
              "color": "white",
              "width": 0.5
             },
             "pattern": {
              "fillmode": "overlay",
              "size": 10,
              "solidity": 0.2
             }
            },
            "type": "bar"
           }
          ],
          "carpet": [
           {
            "aaxis": {
             "endlinecolor": "#2a3f5f",
             "gridcolor": "#C8D4E3",
             "linecolor": "#C8D4E3",
             "minorgridcolor": "#C8D4E3",
             "startlinecolor": "#2a3f5f"
            },
            "baxis": {
             "endlinecolor": "#2a3f5f",
             "gridcolor": "#C8D4E3",
             "linecolor": "#C8D4E3",
             "minorgridcolor": "#C8D4E3",
             "startlinecolor": "#2a3f5f"
            },
            "type": "carpet"
           }
          ],
          "choropleth": [
           {
            "colorbar": {
             "outlinewidth": 0,
             "ticks": ""
            },
            "type": "choropleth"
           }
          ],
          "contourcarpet": [
           {
            "colorbar": {
             "outlinewidth": 0,
             "ticks": ""
            },
            "type": "contourcarpet"
           }
          ],
          "contour": [
           {
            "colorbar": {
             "outlinewidth": 0,
             "ticks": ""
            },
            "colorscale": [
             [
              0.0,
              "#0d0887"
             ],
             [
              0.1111111111111111,
              "#46039f"
             ],
             [
              0.2222222222222222,
              "#7201a8"
             ],
             [
              0.3333333333333333,
              "#9c179e"
             ],
             [
              0.4444444444444444,
              "#bd3786"
             ],
             [
              0.5555555555555556,
              "#d8576b"
             ],
             [
              0.6666666666666666,
              "#ed7953"
             ],
             [
              0.7777777777777778,
              "#fb9f3a"
             ],
             [
              0.8888888888888888,
              "#fdca26"
             ],
             [
              1.0,
              "#f0f921"
             ]
            ],
            "type": "contour"
           }
          ],
          "heatmapgl": [
           {
            "colorbar": {
             "outlinewidth": 0,
             "ticks": ""
            },
            "colorscale": [
             [
              0.0,
              "#0d0887"
             ],
             [
              0.1111111111111111,
              "#46039f"
             ],
             [
              0.2222222222222222,
              "#7201a8"
             ],
             [
              0.3333333333333333,
              "#9c179e"
             ],
             [
              0.4444444444444444,
              "#bd3786"
             ],
             [
              0.5555555555555556,
              "#d8576b"
             ],
             [
              0.6666666666666666,
              "#ed7953"
             ],
             [
              0.7777777777777778,
              "#fb9f3a"
             ],
             [
              0.8888888888888888,
              "#fdca26"
             ],
             [
              1.0,
              "#f0f921"
             ]
            ],
            "type": "heatmapgl"
           }
          ],
          "heatmap": [
           {
            "colorbar": {
             "outlinewidth": 0,
             "ticks": ""
            },
            "colorscale": [
             [
              0.0,
              "#0d0887"
             ],
             [
              0.1111111111111111,
              "#46039f"
             ],
             [
              0.2222222222222222,
              "#7201a8"
             ],
             [
              0.3333333333333333,
              "#9c179e"
             ],
             [
              0.4444444444444444,
              "#bd3786"
             ],
             [
              0.5555555555555556,
              "#d8576b"
             ],
             [
              0.6666666666666666,
              "#ed7953"
             ],
             [
              0.7777777777777778,
              "#fb9f3a"
             ],
             [
              0.8888888888888888,
              "#fdca26"
             ],
             [
              1.0,
              "#f0f921"
             ]
            ],
            "type": "heatmap"
           }
          ],
          "histogram2dcontour": [
           {
            "colorbar": {
             "outlinewidth": 0,
             "ticks": ""
            },
            "colorscale": [
             [
              0.0,
              "#0d0887"
             ],
             [
              0.1111111111111111,
              "#46039f"
             ],
             [
              0.2222222222222222,
              "#7201a8"
             ],
             [
              0.3333333333333333,
              "#9c179e"
             ],
             [
              0.4444444444444444,
              "#bd3786"
             ],
             [
              0.5555555555555556,
              "#d8576b"
             ],
             [
              0.6666666666666666,
              "#ed7953"
             ],
             [
              0.7777777777777778,
              "#fb9f3a"
             ],
             [
              0.8888888888888888,
              "#fdca26"
             ],
             [
              1.0,
              "#f0f921"
             ]
            ],
            "type": "histogram2dcontour"
           }
          ],
          "histogram2d": [
           {
            "colorbar": {
             "outlinewidth": 0,
             "ticks": ""
            },
            "colorscale": [
             [
              0.0,
              "#0d0887"
             ],
             [
              0.1111111111111111,
              "#46039f"
             ],
             [
              0.2222222222222222,
              "#7201a8"
             ],
             [
              0.3333333333333333,
              "#9c179e"
             ],
             [
              0.4444444444444444,
              "#bd3786"
             ],
             [
              0.5555555555555556,
              "#d8576b"
             ],
             [
              0.6666666666666666,
              "#ed7953"
             ],
             [
              0.7777777777777778,
              "#fb9f3a"
             ],
             [
              0.8888888888888888,
              "#fdca26"
             ],
             [
              1.0,
              "#f0f921"
             ]
            ],
            "type": "histogram2d"
           }
          ],
          "histogram": [
           {
            "marker": {
             "pattern": {
              "fillmode": "overlay",
              "size": 10,
              "solidity": 0.2
             }
            },
            "type": "histogram"
           }
          ],
          "mesh3d": [
           {
            "colorbar": {
             "outlinewidth": 0,
             "ticks": ""
            },
            "type": "mesh3d"
           }
          ],
          "parcoords": [
           {
            "line": {
             "colorbar": {
              "outlinewidth": 0,
              "ticks": ""
             }
            },
            "type": "parcoords"
           }
          ],
          "pie": [
           {
            "automargin": true,
            "type": "pie"
           }
          ],
          "scatter3d": [
           {
            "line": {
             "colorbar": {
              "outlinewidth": 0,
              "ticks": ""
             }
            },
            "marker": {
             "colorbar": {
              "outlinewidth": 0,
              "ticks": ""
             }
            },
            "type": "scatter3d"
           }
          ],
          "scattercarpet": [
           {
            "marker": {
             "colorbar": {
              "outlinewidth": 0,
              "ticks": ""
             }
            },
            "type": "scattercarpet"
           }
          ],
          "scattergeo": [
           {
            "marker": {
             "colorbar": {
              "outlinewidth": 0,
              "ticks": ""
             }
            },
            "type": "scattergeo"
           }
          ],
          "scattergl": [
           {
            "marker": {
             "colorbar": {
              "outlinewidth": 0,
              "ticks": ""
             }
            },
            "type": "scattergl"
           }
          ],
          "scattermapbox": [
           {
            "marker": {
             "colorbar": {
              "outlinewidth": 0,
              "ticks": ""
             }
            },
            "type": "scattermapbox"
           }
          ],
          "scatterpolargl": [
           {
            "marker": {
             "colorbar": {
              "outlinewidth": 0,
              "ticks": ""
             }
            },
            "type": "scatterpolargl"
           }
          ],
          "scatterpolar": [
           {
            "marker": {
             "colorbar": {
              "outlinewidth": 0,
              "ticks": ""
             }
            },
            "type": "scatterpolar"
           }
          ],
          "scatter": [
           {
            "fillpattern": {
             "fillmode": "overlay",
             "size": 10,
             "solidity": 0.2
            },
            "type": "scatter"
           }
          ],
          "scatterternary": [
           {
            "marker": {
             "colorbar": {
              "outlinewidth": 0,
              "ticks": ""
             }
            },
            "type": "scatterternary"
           }
          ],
          "surface": [
           {
            "colorbar": {
             "outlinewidth": 0,
             "ticks": ""
            },
            "colorscale": [
             [
              0.0,
              "#0d0887"
             ],
             [
              0.1111111111111111,
              "#46039f"
             ],
             [
              0.2222222222222222,
              "#7201a8"
             ],
             [
              0.3333333333333333,
              "#9c179e"
             ],
             [
              0.4444444444444444,
              "#bd3786"
             ],
             [
              0.5555555555555556,
              "#d8576b"
             ],
             [
              0.6666666666666666,
              "#ed7953"
             ],
             [
              0.7777777777777778,
              "#fb9f3a"
             ],
             [
              0.8888888888888888,
              "#fdca26"
             ],
             [
              1.0,
              "#f0f921"
             ]
            ],
            "type": "surface"
           }
          ],
          "table": [
           {
            "cells": {
             "fill": {
              "color": "#EBF0F8"
             },
             "line": {
              "color": "white"
             }
            },
            "header": {
             "fill": {
              "color": "#C8D4E3"
             },
             "line": {
              "color": "white"
             }
            },
            "type": "table"
           }
          ]
         },
         "layout": {
          "annotationdefaults": {
           "arrowcolor": "#2a3f5f",
           "arrowhead": 0,
           "arrowwidth": 1
          },
          "autotypenumbers": "strict",
          "coloraxis": {
           "colorbar": {
            "outlinewidth": 0,
            "ticks": ""
           }
          },
          "colorscale": {
           "diverging": [
            [
             0,
             "#8e0152"
            ],
            [
             0.1,
             "#c51b7d"
            ],
            [
             0.2,
             "#de77ae"
            ],
            [
             0.3,
             "#f1b6da"
            ],
            [
             0.4,
             "#fde0ef"
            ],
            [
             0.5,
             "#f7f7f7"
            ],
            [
             0.6,
             "#e6f5d0"
            ],
            [
             0.7,
             "#b8e186"
            ],
            [
             0.8,
             "#7fbc41"
            ],
            [
             0.9,
             "#4d9221"
            ],
            [
             1,
             "#276419"
            ]
           ],
           "sequential": [
            [
             0.0,
             "#0d0887"
            ],
            [
             0.1111111111111111,
             "#46039f"
            ],
            [
             0.2222222222222222,
             "#7201a8"
            ],
            [
             0.3333333333333333,
             "#9c179e"
            ],
            [
             0.4444444444444444,
             "#bd3786"
            ],
            [
             0.5555555555555556,
             "#d8576b"
            ],
            [
             0.6666666666666666,
             "#ed7953"
            ],
            [
             0.7777777777777778,
             "#fb9f3a"
            ],
            [
             0.8888888888888888,
             "#fdca26"
            ],
            [
             1.0,
             "#f0f921"
            ]
           ],
           "sequentialminus": [
            [
             0.0,
             "#0d0887"
            ],
            [
             0.1111111111111111,
             "#46039f"
            ],
            [
             0.2222222222222222,
             "#7201a8"
            ],
            [
             0.3333333333333333,
             "#9c179e"
            ],
            [
             0.4444444444444444,
             "#bd3786"
            ],
            [
             0.5555555555555556,
             "#d8576b"
            ],
            [
             0.6666666666666666,
             "#ed7953"
            ],
            [
             0.7777777777777778,
             "#fb9f3a"
            ],
            [
             0.8888888888888888,
             "#fdca26"
            ],
            [
             1.0,
             "#f0f921"
            ]
           ]
          },
          "colorway": [
           "#636efa",
           "#EF553B",
           "#00cc96",
           "#ab63fa",
           "#FFA15A",
           "#19d3f3",
           "#FF6692",
           "#B6E880",
           "#FF97FF",
           "#FECB52"
          ],
          "font": {
           "color": "#2a3f5f"
          },
          "geo": {
           "bgcolor": "white",
           "lakecolor": "white",
           "landcolor": "white",
           "showlakes": true,
           "showland": true,
           "subunitcolor": "#C8D4E3"
          },
          "hoverlabel": {
           "align": "left"
          },
          "hovermode": "closest",
          "mapbox": {
           "style": "light"
          },
          "paper_bgcolor": "white",
          "plot_bgcolor": "white",
          "polar": {
           "angularaxis": {
            "gridcolor": "#EBF0F8",
            "linecolor": "#EBF0F8",
            "ticks": ""
           },
           "bgcolor": "white",
           "radialaxis": {
            "gridcolor": "#EBF0F8",
            "linecolor": "#EBF0F8",
            "ticks": ""
           }
          },
          "scene": {
           "xaxis": {
            "backgroundcolor": "white",
            "gridcolor": "#DFE8F3",
            "gridwidth": 2,
            "linecolor": "#EBF0F8",
            "showbackground": true,
            "ticks": "",
            "zerolinecolor": "#EBF0F8"
           },
           "yaxis": {
            "backgroundcolor": "white",
            "gridcolor": "#DFE8F3",
            "gridwidth": 2,
            "linecolor": "#EBF0F8",
            "showbackground": true,
            "ticks": "",
            "zerolinecolor": "#EBF0F8"
           },
           "zaxis": {
            "backgroundcolor": "white",
            "gridcolor": "#DFE8F3",
            "gridwidth": 2,
            "linecolor": "#EBF0F8",
            "showbackground": true,
            "ticks": "",
            "zerolinecolor": "#EBF0F8"
           }
          },
          "shapedefaults": {
           "line": {
            "color": "#2a3f5f"
           }
          },
          "ternary": {
           "aaxis": {
            "gridcolor": "#DFE8F3",
            "linecolor": "#A2B1C6",
            "ticks": ""
           },
           "baxis": {
            "gridcolor": "#DFE8F3",
            "linecolor": "#A2B1C6",
            "ticks": ""
           },
           "bgcolor": "white",
           "caxis": {
            "gridcolor": "#DFE8F3",
            "linecolor": "#A2B1C6",
            "ticks": ""
           }
          },
          "title": {
           "x": 0.05
          },
          "xaxis": {
           "automargin": true,
           "gridcolor": "#EBF0F8",
           "linecolor": "#EBF0F8",
           "ticks": "",
           "title": {
            "standoff": 15
           },
           "zerolinecolor": "#EBF0F8",
           "zerolinewidth": 2
          },
          "yaxis": {
           "automargin": true,
           "gridcolor": "#EBF0F8",
           "linecolor": "#EBF0F8",
           "ticks": "",
           "title": {
            "standoff": 15
           },
           "zerolinecolor": "#EBF0F8",
           "zerolinewidth": 2
          }
         }
        },
        "xaxis": {
         "anchor": "y",
         "domain": [
          0.0,
          0.175
         ],
         "showgrid": true
        },
        "yaxis": {
         "anchor": "x",
         "domain": [
          0.6000000000000001,
          1.0
         ],
         "showgrid": true
        },
        "xaxis2": {
         "anchor": "y2",
         "domain": [
          0.275,
          0.45
         ],
         "showgrid": true
        },
        "yaxis2": {
         "anchor": "x2",
         "domain": [
          0.6000000000000001,
          1.0
         ],
         "showgrid": true
        },
        "xaxis3": {
         "anchor": "y3",
         "domain": [
          0.55,
          0.7250000000000001
         ],
         "showgrid": true
        },
        "yaxis3": {
         "anchor": "x3",
         "domain": [
          0.6000000000000001,
          1.0
         ],
         "showgrid": true
        },
        "xaxis4": {
         "anchor": "y4",
         "domain": [
          0.825,
          1.0
         ],
         "showgrid": true
        },
        "yaxis4": {
         "anchor": "x4",
         "domain": [
          0.6000000000000001,
          1.0
         ],
         "showgrid": true
        },
        "xaxis5": {
         "anchor": "y5",
         "domain": [
          0.0,
          0.175
         ],
         "showgrid": true
        },
        "yaxis5": {
         "anchor": "x5",
         "domain": [
          0.0,
          0.4
         ],
         "showgrid": true
        },
        "xaxis6": {
         "anchor": "y6",
         "domain": [
          0.275,
          0.45
         ],
         "showgrid": true
        },
        "yaxis6": {
         "anchor": "x6",
         "domain": [
          0.0,
          0.4
         ],
         "showgrid": true
        },
        "xaxis7": {
         "anchor": "y7",
         "domain": [
          0.55,
          0.7250000000000001
         ],
         "showgrid": true
        },
        "yaxis7": {
         "anchor": "x7",
         "domain": [
          0.0,
          0.4
         ],
         "showgrid": true
        },
        "xaxis8": {
         "anchor": "y8",
         "domain": [
          0.825,
          1.0
         ],
         "showgrid": true
        },
        "yaxis8": {
         "anchor": "x8",
         "domain": [
          0.0,
          0.4
         ],
         "showgrid": true
        },
        "annotations": [
         {
          "font": {
           "size": 16
          },
          "showarrow": false,
          "text": "Topic 0",
          "x": 0.0875,
          "xanchor": "center",
          "xref": "paper",
          "y": 1.0,
          "yanchor": "bottom",
          "yref": "paper"
         },
         {
          "font": {
           "size": 16
          },
          "showarrow": false,
          "text": "Topic 1",
          "x": 0.36250000000000004,
          "xanchor": "center",
          "xref": "paper",
          "y": 1.0,
          "yanchor": "bottom",
          "yref": "paper"
         },
         {
          "font": {
           "size": 16
          },
          "showarrow": false,
          "text": "Topic 2",
          "x": 0.6375000000000001,
          "xanchor": "center",
          "xref": "paper",
          "y": 1.0,
          "yanchor": "bottom",
          "yref": "paper"
         },
         {
          "font": {
           "size": 16
          },
          "showarrow": false,
          "text": "Topic 3",
          "x": 0.9125,
          "xanchor": "center",
          "xref": "paper",
          "y": 1.0,
          "yanchor": "bottom",
          "yref": "paper"
         },
         {
          "font": {
           "size": 16
          },
          "showarrow": false,
          "text": "Topic 4",
          "x": 0.0875,
          "xanchor": "center",
          "xref": "paper",
          "y": 0.4,
          "yanchor": "bottom",
          "yref": "paper"
         },
         {
          "font": {
           "size": 16
          },
          "showarrow": false,
          "text": "Topic 5",
          "x": 0.36250000000000004,
          "xanchor": "center",
          "xref": "paper",
          "y": 0.4,
          "yanchor": "bottom",
          "yref": "paper"
         },
         {
          "font": {
           "size": 16
          },
          "showarrow": false,
          "text": "Topic 6",
          "x": 0.6375000000000001,
          "xanchor": "center",
          "xref": "paper",
          "y": 0.4,
          "yanchor": "bottom",
          "yref": "paper"
         },
         {
          "font": {
           "size": 16
          },
          "showarrow": false,
          "text": "Topic 7",
          "x": 0.9125,
          "xanchor": "center",
          "xref": "paper",
          "y": 0.4,
          "yanchor": "bottom",
          "yref": "paper"
         }
        ],
        "title": {
         "font": {
          "size": 22,
          "color": "Black"
         },
         "text": "<b>Topic Word Scores",
         "x": 0.5,
         "xanchor": "center",
         "yanchor": "top"
        },
        "hoverlabel": {
         "font": {
          "size": 16,
          "family": "Rockwell"
         },
         "bgcolor": "white"
        },
        "showlegend": false,
        "width": 1000,
        "height": 500
       },
       "config": {
        "plotlyServerURL": "https://plot.ly"
       }
      },
      "text/html": "<div>                            <div id=\"1fd8e53c-6d1f-4389-8992-7c0ee025e52f\" class=\"plotly-graph-div\" style=\"height:500px; width:1000px;\"></div>            <script type=\"text/javascript\">                require([\"plotly\"], function(Plotly) {                    window.PLOTLYENV=window.PLOTLYENV || {};                                    if (document.getElementById(\"1fd8e53c-6d1f-4389-8992-7c0ee025e52f\")) {                    Plotly.newPlot(                        \"1fd8e53c-6d1f-4389-8992-7c0ee025e52f\",                        [{\"marker\":{\"color\":\"#D55E00\"},\"orientation\":\"h\",\"x\":[0.01814906199866913,0.018496673088147404,0.02123344341948135,0.023420267528693636,0.03477487459001497],\"y\":[\"to  \",\"they  \",\"personal  \",\"information  \",\"data  \"],\"type\":\"bar\",\"xaxis\":\"x\",\"yaxis\":\"y\"},{\"marker\":{\"color\":\"#0072B2\"},\"orientation\":\"h\",\"x\":[0.027712773505304468,0.02824050856538263,0.031096653945836945,0.03669396553599796,0.08381328566085121],\"y\":[\"and  \",\"changes  \",\"change  \",\"conditions  \",\"terms  \"],\"type\":\"bar\",\"xaxis\":\"x2\",\"yaxis\":\"y2\"},{\"marker\":{\"color\":\"#CC79A7\"},\"orientation\":\"h\",\"x\":[0.02308612343195694,0.028942486268542466,0.029483260733468748,0.03552244330541125,0.051376255102809514],\"y\":[\"this  \",\"it  \",\"data  \",\"is  \",\"unethical  \"],\"type\":\"bar\",\"xaxis\":\"x3\",\"yaxis\":\"y3\"},{\"marker\":{\"color\":\"#E69F00\"},\"orientation\":\"h\",\"x\":[0.018675982803003897,0.019250674313965366,0.025418616277027368,0.0270557361938596,0.0746285837259015],\"y\":[\"to  \",\"of  \",\"third  \",\"the  \",\"app  \"],\"type\":\"bar\",\"xaxis\":\"x4\",\"yaxis\":\"y4\"},{\"marker\":{\"color\":\"#56B4E9\"},\"orientation\":\"h\",\"x\":[0.025026455464321567,0.027951270039321248,0.033050762272103844,0.0338409333318599,0.05760427391856248],\"y\":[\"sole  \",\"discretion  \",\"waive  \",\"unethical  \",\"rights  \"],\"type\":\"bar\",\"xaxis\":\"x5\",\"yaxis\":\"y5\"},{\"marker\":{\"color\":\"#009E73\"},\"orientation\":\"h\",\"x\":[0.051731904639947875,0.05964742895716721,0.07311344848261134,0.09142973123237237,0.11143904345362751],\"y\":[\"withdrawn  \",\"even  \",\"still  \",\"withdraw  \",\"consent  \"],\"type\":\"bar\",\"xaxis\":\"x6\",\"yaxis\":\"y6\"},{\"marker\":{\"color\":\"#F0E442\"},\"orientation\":\"h\",\"x\":[0.0291798617085759,0.03464385552484864,0.03983464851206129,0.04882061546797418,0.09205684969242814],\"y\":[\"an  \",\"terminate  \",\"reason  \",\"terminated  \",\"account  \"],\"type\":\"bar\",\"xaxis\":\"x7\",\"yaxis\":\"y7\"},{\"marker\":{\"color\":\"#D55E00\"},\"orientation\":\"h\",\"x\":[0.029420289078283948,0.03258838007759018,0.05456345173435039,0.08492326045620122,0.09281963410860317],\"y\":[\"should  \",\"the  \",\"changes  \",\"privacy  \",\"policy  \"],\"type\":\"bar\",\"xaxis\":\"x8\",\"yaxis\":\"y8\"}],                        {\"template\":{\"data\":{\"barpolar\":[{\"marker\":{\"line\":{\"color\":\"white\",\"width\":0.5},\"pattern\":{\"fillmode\":\"overlay\",\"size\":10,\"solidity\":0.2}},\"type\":\"barpolar\"}],\"bar\":[{\"error_x\":{\"color\":\"#2a3f5f\"},\"error_y\":{\"color\":\"#2a3f5f\"},\"marker\":{\"line\":{\"color\":\"white\",\"width\":0.5},\"pattern\":{\"fillmode\":\"overlay\",\"size\":10,\"solidity\":0.2}},\"type\":\"bar\"}],\"carpet\":[{\"aaxis\":{\"endlinecolor\":\"#2a3f5f\",\"gridcolor\":\"#C8D4E3\",\"linecolor\":\"#C8D4E3\",\"minorgridcolor\":\"#C8D4E3\",\"startlinecolor\":\"#2a3f5f\"},\"baxis\":{\"endlinecolor\":\"#2a3f5f\",\"gridcolor\":\"#C8D4E3\",\"linecolor\":\"#C8D4E3\",\"minorgridcolor\":\"#C8D4E3\",\"startlinecolor\":\"#2a3f5f\"},\"type\":\"carpet\"}],\"choropleth\":[{\"colorbar\":{\"outlinewidth\":0,\"ticks\":\"\"},\"type\":\"choropleth\"}],\"contourcarpet\":[{\"colorbar\":{\"outlinewidth\":0,\"ticks\":\"\"},\"type\":\"contourcarpet\"}],\"contour\":[{\"colorbar\":{\"outlinewidth\":0,\"ticks\":\"\"},\"colorscale\":[[0.0,\"#0d0887\"],[0.1111111111111111,\"#46039f\"],[0.2222222222222222,\"#7201a8\"],[0.3333333333333333,\"#9c179e\"],[0.4444444444444444,\"#bd3786\"],[0.5555555555555556,\"#d8576b\"],[0.6666666666666666,\"#ed7953\"],[0.7777777777777778,\"#fb9f3a\"],[0.8888888888888888,\"#fdca26\"],[1.0,\"#f0f921\"]],\"type\":\"contour\"}],\"heatmapgl\":[{\"colorbar\":{\"outlinewidth\":0,\"ticks\":\"\"},\"colorscale\":[[0.0,\"#0d0887\"],[0.1111111111111111,\"#46039f\"],[0.2222222222222222,\"#7201a8\"],[0.3333333333333333,\"#9c179e\"],[0.4444444444444444,\"#bd3786\"],[0.5555555555555556,\"#d8576b\"],[0.6666666666666666,\"#ed7953\"],[0.7777777777777778,\"#fb9f3a\"],[0.8888888888888888,\"#fdca26\"],[1.0,\"#f0f921\"]],\"type\":\"heatmapgl\"}],\"heatmap\":[{\"colorbar\":{\"outlinewidth\":0,\"ticks\":\"\"},\"colorscale\":[[0.0,\"#0d0887\"],[0.1111111111111111,\"#46039f\"],[0.2222222222222222,\"#7201a8\"],[0.3333333333333333,\"#9c179e\"],[0.4444444444444444,\"#bd3786\"],[0.5555555555555556,\"#d8576b\"],[0.6666666666666666,\"#ed7953\"],[0.7777777777777778,\"#fb9f3a\"],[0.8888888888888888,\"#fdca26\"],[1.0,\"#f0f921\"]],\"type\":\"heatmap\"}],\"histogram2dcontour\":[{\"colorbar\":{\"outlinewidth\":0,\"ticks\":\"\"},\"colorscale\":[[0.0,\"#0d0887\"],[0.1111111111111111,\"#46039f\"],[0.2222222222222222,\"#7201a8\"],[0.3333333333333333,\"#9c179e\"],[0.4444444444444444,\"#bd3786\"],[0.5555555555555556,\"#d8576b\"],[0.6666666666666666,\"#ed7953\"],[0.7777777777777778,\"#fb9f3a\"],[0.8888888888888888,\"#fdca26\"],[1.0,\"#f0f921\"]],\"type\":\"histogram2dcontour\"}],\"histogram2d\":[{\"colorbar\":{\"outlinewidth\":0,\"ticks\":\"\"},\"colorscale\":[[0.0,\"#0d0887\"],[0.1111111111111111,\"#46039f\"],[0.2222222222222222,\"#7201a8\"],[0.3333333333333333,\"#9c179e\"],[0.4444444444444444,\"#bd3786\"],[0.5555555555555556,\"#d8576b\"],[0.6666666666666666,\"#ed7953\"],[0.7777777777777778,\"#fb9f3a\"],[0.8888888888888888,\"#fdca26\"],[1.0,\"#f0f921\"]],\"type\":\"histogram2d\"}],\"histogram\":[{\"marker\":{\"pattern\":{\"fillmode\":\"overlay\",\"size\":10,\"solidity\":0.2}},\"type\":\"histogram\"}],\"mesh3d\":[{\"colorbar\":{\"outlinewidth\":0,\"ticks\":\"\"},\"type\":\"mesh3d\"}],\"parcoords\":[{\"line\":{\"colorbar\":{\"outlinewidth\":0,\"ticks\":\"\"}},\"type\":\"parcoords\"}],\"pie\":[{\"automargin\":true,\"type\":\"pie\"}],\"scatter3d\":[{\"line\":{\"colorbar\":{\"outlinewidth\":0,\"ticks\":\"\"}},\"marker\":{\"colorbar\":{\"outlinewidth\":0,\"ticks\":\"\"}},\"type\":\"scatter3d\"}],\"scattercarpet\":[{\"marker\":{\"colorbar\":{\"outlinewidth\":0,\"ticks\":\"\"}},\"type\":\"scattercarpet\"}],\"scattergeo\":[{\"marker\":{\"colorbar\":{\"outlinewidth\":0,\"ticks\":\"\"}},\"type\":\"scattergeo\"}],\"scattergl\":[{\"marker\":{\"colorbar\":{\"outlinewidth\":0,\"ticks\":\"\"}},\"type\":\"scattergl\"}],\"scattermapbox\":[{\"marker\":{\"colorbar\":{\"outlinewidth\":0,\"ticks\":\"\"}},\"type\":\"scattermapbox\"}],\"scatterpolargl\":[{\"marker\":{\"colorbar\":{\"outlinewidth\":0,\"ticks\":\"\"}},\"type\":\"scatterpolargl\"}],\"scatterpolar\":[{\"marker\":{\"colorbar\":{\"outlinewidth\":0,\"ticks\":\"\"}},\"type\":\"scatterpolar\"}],\"scatter\":[{\"fillpattern\":{\"fillmode\":\"overlay\",\"size\":10,\"solidity\":0.2},\"type\":\"scatter\"}],\"scatterternary\":[{\"marker\":{\"colorbar\":{\"outlinewidth\":0,\"ticks\":\"\"}},\"type\":\"scatterternary\"}],\"surface\":[{\"colorbar\":{\"outlinewidth\":0,\"ticks\":\"\"},\"colorscale\":[[0.0,\"#0d0887\"],[0.1111111111111111,\"#46039f\"],[0.2222222222222222,\"#7201a8\"],[0.3333333333333333,\"#9c179e\"],[0.4444444444444444,\"#bd3786\"],[0.5555555555555556,\"#d8576b\"],[0.6666666666666666,\"#ed7953\"],[0.7777777777777778,\"#fb9f3a\"],[0.8888888888888888,\"#fdca26\"],[1.0,\"#f0f921\"]],\"type\":\"surface\"}],\"table\":[{\"cells\":{\"fill\":{\"color\":\"#EBF0F8\"},\"line\":{\"color\":\"white\"}},\"header\":{\"fill\":{\"color\":\"#C8D4E3\"},\"line\":{\"color\":\"white\"}},\"type\":\"table\"}]},\"layout\":{\"annotationdefaults\":{\"arrowcolor\":\"#2a3f5f\",\"arrowhead\":0,\"arrowwidth\":1},\"autotypenumbers\":\"strict\",\"coloraxis\":{\"colorbar\":{\"outlinewidth\":0,\"ticks\":\"\"}},\"colorscale\":{\"diverging\":[[0,\"#8e0152\"],[0.1,\"#c51b7d\"],[0.2,\"#de77ae\"],[0.3,\"#f1b6da\"],[0.4,\"#fde0ef\"],[0.5,\"#f7f7f7\"],[0.6,\"#e6f5d0\"],[0.7,\"#b8e186\"],[0.8,\"#7fbc41\"],[0.9,\"#4d9221\"],[1,\"#276419\"]],\"sequential\":[[0.0,\"#0d0887\"],[0.1111111111111111,\"#46039f\"],[0.2222222222222222,\"#7201a8\"],[0.3333333333333333,\"#9c179e\"],[0.4444444444444444,\"#bd3786\"],[0.5555555555555556,\"#d8576b\"],[0.6666666666666666,\"#ed7953\"],[0.7777777777777778,\"#fb9f3a\"],[0.8888888888888888,\"#fdca26\"],[1.0,\"#f0f921\"]],\"sequentialminus\":[[0.0,\"#0d0887\"],[0.1111111111111111,\"#46039f\"],[0.2222222222222222,\"#7201a8\"],[0.3333333333333333,\"#9c179e\"],[0.4444444444444444,\"#bd3786\"],[0.5555555555555556,\"#d8576b\"],[0.6666666666666666,\"#ed7953\"],[0.7777777777777778,\"#fb9f3a\"],[0.8888888888888888,\"#fdca26\"],[1.0,\"#f0f921\"]]},\"colorway\":[\"#636efa\",\"#EF553B\",\"#00cc96\",\"#ab63fa\",\"#FFA15A\",\"#19d3f3\",\"#FF6692\",\"#B6E880\",\"#FF97FF\",\"#FECB52\"],\"font\":{\"color\":\"#2a3f5f\"},\"geo\":{\"bgcolor\":\"white\",\"lakecolor\":\"white\",\"landcolor\":\"white\",\"showlakes\":true,\"showland\":true,\"subunitcolor\":\"#C8D4E3\"},\"hoverlabel\":{\"align\":\"left\"},\"hovermode\":\"closest\",\"mapbox\":{\"style\":\"light\"},\"paper_bgcolor\":\"white\",\"plot_bgcolor\":\"white\",\"polar\":{\"angularaxis\":{\"gridcolor\":\"#EBF0F8\",\"linecolor\":\"#EBF0F8\",\"ticks\":\"\"},\"bgcolor\":\"white\",\"radialaxis\":{\"gridcolor\":\"#EBF0F8\",\"linecolor\":\"#EBF0F8\",\"ticks\":\"\"}},\"scene\":{\"xaxis\":{\"backgroundcolor\":\"white\",\"gridcolor\":\"#DFE8F3\",\"gridwidth\":2,\"linecolor\":\"#EBF0F8\",\"showbackground\":true,\"ticks\":\"\",\"zerolinecolor\":\"#EBF0F8\"},\"yaxis\":{\"backgroundcolor\":\"white\",\"gridcolor\":\"#DFE8F3\",\"gridwidth\":2,\"linecolor\":\"#EBF0F8\",\"showbackground\":true,\"ticks\":\"\",\"zerolinecolor\":\"#EBF0F8\"},\"zaxis\":{\"backgroundcolor\":\"white\",\"gridcolor\":\"#DFE8F3\",\"gridwidth\":2,\"linecolor\":\"#EBF0F8\",\"showbackground\":true,\"ticks\":\"\",\"zerolinecolor\":\"#EBF0F8\"}},\"shapedefaults\":{\"line\":{\"color\":\"#2a3f5f\"}},\"ternary\":{\"aaxis\":{\"gridcolor\":\"#DFE8F3\",\"linecolor\":\"#A2B1C6\",\"ticks\":\"\"},\"baxis\":{\"gridcolor\":\"#DFE8F3\",\"linecolor\":\"#A2B1C6\",\"ticks\":\"\"},\"bgcolor\":\"white\",\"caxis\":{\"gridcolor\":\"#DFE8F3\",\"linecolor\":\"#A2B1C6\",\"ticks\":\"\"}},\"title\":{\"x\":0.05},\"xaxis\":{\"automargin\":true,\"gridcolor\":\"#EBF0F8\",\"linecolor\":\"#EBF0F8\",\"ticks\":\"\",\"title\":{\"standoff\":15},\"zerolinecolor\":\"#EBF0F8\",\"zerolinewidth\":2},\"yaxis\":{\"automargin\":true,\"gridcolor\":\"#EBF0F8\",\"linecolor\":\"#EBF0F8\",\"ticks\":\"\",\"title\":{\"standoff\":15},\"zerolinecolor\":\"#EBF0F8\",\"zerolinewidth\":2}}},\"xaxis\":{\"anchor\":\"y\",\"domain\":[0.0,0.175],\"showgrid\":true},\"yaxis\":{\"anchor\":\"x\",\"domain\":[0.6000000000000001,1.0],\"showgrid\":true},\"xaxis2\":{\"anchor\":\"y2\",\"domain\":[0.275,0.45],\"showgrid\":true},\"yaxis2\":{\"anchor\":\"x2\",\"domain\":[0.6000000000000001,1.0],\"showgrid\":true},\"xaxis3\":{\"anchor\":\"y3\",\"domain\":[0.55,0.7250000000000001],\"showgrid\":true},\"yaxis3\":{\"anchor\":\"x3\",\"domain\":[0.6000000000000001,1.0],\"showgrid\":true},\"xaxis4\":{\"anchor\":\"y4\",\"domain\":[0.825,1.0],\"showgrid\":true},\"yaxis4\":{\"anchor\":\"x4\",\"domain\":[0.6000000000000001,1.0],\"showgrid\":true},\"xaxis5\":{\"anchor\":\"y5\",\"domain\":[0.0,0.175],\"showgrid\":true},\"yaxis5\":{\"anchor\":\"x5\",\"domain\":[0.0,0.4],\"showgrid\":true},\"xaxis6\":{\"anchor\":\"y6\",\"domain\":[0.275,0.45],\"showgrid\":true},\"yaxis6\":{\"anchor\":\"x6\",\"domain\":[0.0,0.4],\"showgrid\":true},\"xaxis7\":{\"anchor\":\"y7\",\"domain\":[0.55,0.7250000000000001],\"showgrid\":true},\"yaxis7\":{\"anchor\":\"x7\",\"domain\":[0.0,0.4],\"showgrid\":true},\"xaxis8\":{\"anchor\":\"y8\",\"domain\":[0.825,1.0],\"showgrid\":true},\"yaxis8\":{\"anchor\":\"x8\",\"domain\":[0.0,0.4],\"showgrid\":true},\"annotations\":[{\"font\":{\"size\":16},\"showarrow\":false,\"text\":\"Topic 0\",\"x\":0.0875,\"xanchor\":\"center\",\"xref\":\"paper\",\"y\":1.0,\"yanchor\":\"bottom\",\"yref\":\"paper\"},{\"font\":{\"size\":16},\"showarrow\":false,\"text\":\"Topic 1\",\"x\":0.36250000000000004,\"xanchor\":\"center\",\"xref\":\"paper\",\"y\":1.0,\"yanchor\":\"bottom\",\"yref\":\"paper\"},{\"font\":{\"size\":16},\"showarrow\":false,\"text\":\"Topic 2\",\"x\":0.6375000000000001,\"xanchor\":\"center\",\"xref\":\"paper\",\"y\":1.0,\"yanchor\":\"bottom\",\"yref\":\"paper\"},{\"font\":{\"size\":16},\"showarrow\":false,\"text\":\"Topic 3\",\"x\":0.9125,\"xanchor\":\"center\",\"xref\":\"paper\",\"y\":1.0,\"yanchor\":\"bottom\",\"yref\":\"paper\"},{\"font\":{\"size\":16},\"showarrow\":false,\"text\":\"Topic 4\",\"x\":0.0875,\"xanchor\":\"center\",\"xref\":\"paper\",\"y\":0.4,\"yanchor\":\"bottom\",\"yref\":\"paper\"},{\"font\":{\"size\":16},\"showarrow\":false,\"text\":\"Topic 5\",\"x\":0.36250000000000004,\"xanchor\":\"center\",\"xref\":\"paper\",\"y\":0.4,\"yanchor\":\"bottom\",\"yref\":\"paper\"},{\"font\":{\"size\":16},\"showarrow\":false,\"text\":\"Topic 6\",\"x\":0.6375000000000001,\"xanchor\":\"center\",\"xref\":\"paper\",\"y\":0.4,\"yanchor\":\"bottom\",\"yref\":\"paper\"},{\"font\":{\"size\":16},\"showarrow\":false,\"text\":\"Topic 7\",\"x\":0.9125,\"xanchor\":\"center\",\"xref\":\"paper\",\"y\":0.4,\"yanchor\":\"bottom\",\"yref\":\"paper\"}],\"title\":{\"font\":{\"size\":22,\"color\":\"Black\"},\"text\":\"<b>Topic Word Scores\",\"x\":0.5,\"xanchor\":\"center\",\"yanchor\":\"top\"},\"hoverlabel\":{\"font\":{\"size\":16,\"family\":\"Rockwell\"},\"bgcolor\":\"white\"},\"showlegend\":false,\"width\":1000,\"height\":500},                        {\"responsive\": true}                    ).then(function(){\n                            \nvar gd = document.getElementById('1fd8e53c-6d1f-4389-8992-7c0ee025e52f');\nvar x = new MutationObserver(function (mutations, observer) {{\n        var display = window.getComputedStyle(gd).display;\n        if (!display || display === 'none') {{\n            console.log([gd, 'removed!']);\n            Plotly.purge(gd);\n            observer.disconnect();\n        }}\n}});\n\n// Listen for the removal of the full notebook cells\nvar notebookContainer = gd.closest('#notebook-container');\nif (notebookContainer) {{\n    x.observe(notebookContainer, {childList: true});\n}}\n\n// Listen for the clearing of the current output cell\nvar outputEl = gd.closest('.output');\nif (outputEl) {{\n    x.observe(outputEl, {childList: true});\n}}\n\n                        })                };                });            </script>        </div>",
      "text/plain": "Figure({\n    'data': [{'marker': {'color': '#D55E00'},\n              'orientation': 'h',\n              'type': 'bar',\n              'x': [0.01814906199866913, 0.018496673088147404,\n                    0.02123344341948135, 0.023420267528693636, 0.03477487459001497],\n              'xaxis': 'x',\n              'y': [to  , they  , personal  , information  , data  ],\n              'yaxis': 'y'},\n             {'marker': {'color': '#0072B2'},\n              'orientation': 'h',\n              'type': 'bar',\n              'x': [0.027712773505304468, 0.02824050856538263,\n                    0.031096653945836945, 0.03669396553599796, 0.08381328566085121],\n              'xaxis': 'x2',\n              'y': [and  , changes  , change  , conditions  , terms  ],\n              'yaxis': 'y2'},\n             {'marker': {'color': '#CC79A7'},\n              'orientation': 'h',\n              'type': 'bar',\n              'x': [0.02308612343195694, 0.028942486268542466,\n                    0.029483260733468748, 0.03552244330541125,\n                    0.051376255102809514],\n              'xaxis': 'x3',\n              'y': [this  , it  , data  , is  , unethical  ],\n              'yaxis': 'y3'},\n             {'marker': {'color': '#E69F00'},\n              'orientation': 'h',\n              'type': 'bar',\n              'x': [0.018675982803003897, 0.019250674313965366,\n                    0.025418616277027368, 0.0270557361938596, 0.0746285837259015],\n              'xaxis': 'x4',\n              'y': [to  , of  , third  , the  , app  ],\n              'yaxis': 'y4'},\n             {'marker': {'color': '#56B4E9'},\n              'orientation': 'h',\n              'type': 'bar',\n              'x': [0.025026455464321567, 0.027951270039321248,\n                    0.033050762272103844, 0.0338409333318599, 0.05760427391856248],\n              'xaxis': 'x5',\n              'y': [sole  , discretion  , waive  , unethical  , rights  ],\n              'yaxis': 'y5'},\n             {'marker': {'color': '#009E73'},\n              'orientation': 'h',\n              'type': 'bar',\n              'x': [0.051731904639947875, 0.05964742895716721,\n                    0.07311344848261134, 0.09142973123237237, 0.11143904345362751],\n              'xaxis': 'x6',\n              'y': [withdrawn  , even  , still  , withdraw  , consent  ],\n              'yaxis': 'y6'},\n             {'marker': {'color': '#F0E442'},\n              'orientation': 'h',\n              'type': 'bar',\n              'x': [0.0291798617085759, 0.03464385552484864, 0.03983464851206129,\n                    0.04882061546797418, 0.09205684969242814],\n              'xaxis': 'x7',\n              'y': [an  , terminate  , reason  , terminated  , account  ],\n              'yaxis': 'y7'},\n             {'marker': {'color': '#D55E00'},\n              'orientation': 'h',\n              'type': 'bar',\n              'x': [0.029420289078283948, 0.03258838007759018,\n                    0.05456345173435039, 0.08492326045620122, 0.09281963410860317],\n              'xaxis': 'x8',\n              'y': [should  , the  , changes  , privacy  , policy  ],\n              'yaxis': 'y8'}],\n    'layout': {'annotations': [{'font': {'size': 16},\n                                'showarrow': False,\n                                'text': 'Topic 0',\n                                'x': 0.0875,\n                                'xanchor': 'center',\n                                'xref': 'paper',\n                                'y': 1.0,\n                                'yanchor': 'bottom',\n                                'yref': 'paper'},\n                               {'font': {'size': 16},\n                                'showarrow': False,\n                                'text': 'Topic 1',\n                                'x': 0.36250000000000004,\n                                'xanchor': 'center',\n                                'xref': 'paper',\n                                'y': 1.0,\n                                'yanchor': 'bottom',\n                                'yref': 'paper'},\n                               {'font': {'size': 16},\n                                'showarrow': False,\n                                'text': 'Topic 2',\n                                'x': 0.6375000000000001,\n                                'xanchor': 'center',\n                                'xref': 'paper',\n                                'y': 1.0,\n                                'yanchor': 'bottom',\n                                'yref': 'paper'},\n                               {'font': {'size': 16},\n                                'showarrow': False,\n                                'text': 'Topic 3',\n                                'x': 0.9125,\n                                'xanchor': 'center',\n                                'xref': 'paper',\n                                'y': 1.0,\n                                'yanchor': 'bottom',\n                                'yref': 'paper'},\n                               {'font': {'size': 16},\n                                'showarrow': False,\n                                'text': 'Topic 4',\n                                'x': 0.0875,\n                                'xanchor': 'center',\n                                'xref': 'paper',\n                                'y': 0.4,\n                                'yanchor': 'bottom',\n                                'yref': 'paper'},\n                               {'font': {'size': 16},\n                                'showarrow': False,\n                                'text': 'Topic 5',\n                                'x': 0.36250000000000004,\n                                'xanchor': 'center',\n                                'xref': 'paper',\n                                'y': 0.4,\n                                'yanchor': 'bottom',\n                                'yref': 'paper'},\n                               {'font': {'size': 16},\n                                'showarrow': False,\n                                'text': 'Topic 6',\n                                'x': 0.6375000000000001,\n                                'xanchor': 'center',\n                                'xref': 'paper',\n                                'y': 0.4,\n                                'yanchor': 'bottom',\n                                'yref': 'paper'},\n                               {'font': {'size': 16},\n                                'showarrow': False,\n                                'text': 'Topic 7',\n                                'x': 0.9125,\n                                'xanchor': 'center',\n                                'xref': 'paper',\n                                'y': 0.4,\n                                'yanchor': 'bottom',\n                                'yref': 'paper'}],\n               'height': 500,\n               'hoverlabel': {'bgcolor': 'white', 'font': {'family': 'Rockwell', 'size': 16}},\n               'showlegend': False,\n               'template': '...',\n               'title': {'font': {'color': 'Black', 'size': 22},\n                         'text': '<b>Topic Word Scores',\n                         'x': 0.5,\n                         'xanchor': 'center',\n                         'yanchor': 'top'},\n               'width': 1000,\n               'xaxis': {'anchor': 'y', 'domain': [0.0, 0.175], 'showgrid': True},\n               'xaxis2': {'anchor': 'y2', 'domain': [0.275, 0.45], 'showgrid': True},\n               'xaxis3': {'anchor': 'y3', 'domain': [0.55, 0.7250000000000001], 'showgrid': True},\n               'xaxis4': {'anchor': 'y4', 'domain': [0.825, 1.0], 'showgrid': True},\n               'xaxis5': {'anchor': 'y5', 'domain': [0.0, 0.175], 'showgrid': True},\n               'xaxis6': {'anchor': 'y6', 'domain': [0.275, 0.45], 'showgrid': True},\n               'xaxis7': {'anchor': 'y7', 'domain': [0.55, 0.7250000000000001], 'showgrid': True},\n               'xaxis8': {'anchor': 'y8', 'domain': [0.825, 1.0], 'showgrid': True},\n               'yaxis': {'anchor': 'x', 'domain': [0.6000000000000001, 1.0], 'showgrid': True},\n               'yaxis2': {'anchor': 'x2', 'domain': [0.6000000000000001, 1.0], 'showgrid': True},\n               'yaxis3': {'anchor': 'x3', 'domain': [0.6000000000000001, 1.0], 'showgrid': True},\n               'yaxis4': {'anchor': 'x4', 'domain': [0.6000000000000001, 1.0], 'showgrid': True},\n               'yaxis5': {'anchor': 'x5', 'domain': [0.0, 0.4], 'showgrid': True},\n               'yaxis6': {'anchor': 'x6', 'domain': [0.0, 0.4], 'showgrid': True},\n               'yaxis7': {'anchor': 'x7', 'domain': [0.0, 0.4], 'showgrid': True},\n               'yaxis8': {'anchor': 'x8', 'domain': [0.0, 0.4], 'showgrid': True}}\n})"
     },
     "execution_count": 39,
     "metadata": {},
     "output_type": "execute_result"
    }
   ],
   "source": [
    "model.visualize_barchart()"
   ],
   "metadata": {
    "collapsed": false,
    "pycharm": {
     "name": "#%%\n"
    }
   }
  },
  {
   "cell_type": "code",
   "execution_count": 43,
   "outputs": [
    {
     "ename": "ValueError",
     "evalue": "Mime type rendering requires nbformat>=4.2.0 but it is not installed",
     "output_type": "error",
     "traceback": [
      "\u001B[0;31m---------------------------------------------------------------------------\u001B[0m",
      "\u001B[0;31mValueError\u001B[0m                                Traceback (most recent call last)",
      "File \u001B[0;32m~/python_envs/nlp_env/lib/python3.8/site-packages/IPython/core/formatters.py:921\u001B[0m, in \u001B[0;36mIPythonDisplayFormatter.__call__\u001B[0;34m(self, obj)\u001B[0m\n\u001B[1;32m    919\u001B[0m method \u001B[38;5;241m=\u001B[39m get_real_method(obj, \u001B[38;5;28mself\u001B[39m\u001B[38;5;241m.\u001B[39mprint_method)\n\u001B[1;32m    920\u001B[0m \u001B[38;5;28;01mif\u001B[39;00m method \u001B[38;5;129;01mis\u001B[39;00m \u001B[38;5;129;01mnot\u001B[39;00m \u001B[38;5;28;01mNone\u001B[39;00m:\n\u001B[0;32m--> 921\u001B[0m     \u001B[43mmethod\u001B[49m\u001B[43m(\u001B[49m\u001B[43m)\u001B[49m\n\u001B[1;32m    922\u001B[0m     \u001B[38;5;28;01mreturn\u001B[39;00m \u001B[38;5;28;01mTrue\u001B[39;00m\n",
      "File \u001B[0;32m~/python_envs/nlp_env/lib/python3.8/site-packages/plotly/basedatatypes.py:842\u001B[0m, in \u001B[0;36mBaseFigure._ipython_display_\u001B[0;34m(self)\u001B[0m\n\u001B[1;32m    839\u001B[0m \u001B[38;5;28;01mimport\u001B[39;00m \u001B[38;5;21;01mplotly\u001B[39;00m\u001B[38;5;21;01m.\u001B[39;00m\u001B[38;5;21;01mio\u001B[39;00m \u001B[38;5;28;01mas\u001B[39;00m \u001B[38;5;21;01mpio\u001B[39;00m\n\u001B[1;32m    841\u001B[0m \u001B[38;5;28;01mif\u001B[39;00m pio\u001B[38;5;241m.\u001B[39mrenderers\u001B[38;5;241m.\u001B[39mrender_on_display \u001B[38;5;129;01mand\u001B[39;00m pio\u001B[38;5;241m.\u001B[39mrenderers\u001B[38;5;241m.\u001B[39mdefault:\n\u001B[0;32m--> 842\u001B[0m     \u001B[43mpio\u001B[49m\u001B[38;5;241;43m.\u001B[39;49m\u001B[43mshow\u001B[49m\u001B[43m(\u001B[49m\u001B[38;5;28;43mself\u001B[39;49m\u001B[43m)\u001B[49m\n\u001B[1;32m    843\u001B[0m \u001B[38;5;28;01melse\u001B[39;00m:\n\u001B[1;32m    844\u001B[0m     \u001B[38;5;28mprint\u001B[39m(\u001B[38;5;28mrepr\u001B[39m(\u001B[38;5;28mself\u001B[39m))\n",
      "File \u001B[0;32m~/python_envs/nlp_env/lib/python3.8/site-packages/plotly/io/_renderers.py:396\u001B[0m, in \u001B[0;36mshow\u001B[0;34m(fig, renderer, validate, **kwargs)\u001B[0m\n\u001B[1;32m    391\u001B[0m         \u001B[38;5;28;01mraise\u001B[39;00m \u001B[38;5;167;01mValueError\u001B[39;00m(\n\u001B[1;32m    392\u001B[0m             \u001B[38;5;124m\"\u001B[39m\u001B[38;5;124mMime type rendering requires ipython but it is not installed\u001B[39m\u001B[38;5;124m\"\u001B[39m\n\u001B[1;32m    393\u001B[0m         )\n\u001B[1;32m    395\u001B[0m     \u001B[38;5;28;01mif\u001B[39;00m \u001B[38;5;129;01mnot\u001B[39;00m nbformat \u001B[38;5;129;01mor\u001B[39;00m LooseVersion(nbformat\u001B[38;5;241m.\u001B[39m__version__) \u001B[38;5;241m<\u001B[39m LooseVersion(\u001B[38;5;124m\"\u001B[39m\u001B[38;5;124m4.2.0\u001B[39m\u001B[38;5;124m\"\u001B[39m):\n\u001B[0;32m--> 396\u001B[0m         \u001B[38;5;28;01mraise\u001B[39;00m \u001B[38;5;167;01mValueError\u001B[39;00m(\n\u001B[1;32m    397\u001B[0m             \u001B[38;5;124m\"\u001B[39m\u001B[38;5;124mMime type rendering requires nbformat>=4.2.0 but it is not installed\u001B[39m\u001B[38;5;124m\"\u001B[39m\n\u001B[1;32m    398\u001B[0m         )\n\u001B[1;32m    400\u001B[0m     ipython_display\u001B[38;5;241m.\u001B[39mdisplay(bundle, raw\u001B[38;5;241m=\u001B[39m\u001B[38;5;28;01mTrue\u001B[39;00m)\n\u001B[1;32m    402\u001B[0m \u001B[38;5;66;03m# external renderers\u001B[39;00m\n",
      "\u001B[0;31mValueError\u001B[0m: Mime type rendering requires nbformat>=4.2.0 but it is not installed"
     ]
    },
    {
     "data": {
      "application/vnd.plotly.v1+json": {
       "data": [
        {
         "hoverinfo": "text",
         "marker": {
          "color": "rgb(61,153,112)"
         },
         "mode": "lines",
         "x": [
          0.0,
          0.30432965672791856,
          0.30432965672791856,
          0.0
         ],
         "xaxis": "x",
         "y": [
          -5.0,
          -5.0,
          -15.0,
          -15.0
         ],
         "yaxis": "y",
         "type": "scatter"
        }
       ],
       "layout": {
        "autosize": false,
        "height": 230,
        "hovermode": "closest",
        "showlegend": false,
        "width": 1000,
        "xaxis": {
         "mirror": "allticks",
         "rangemode": "tozero",
         "showgrid": false,
         "showline": true,
         "showticklabels": true,
         "ticks": "outside",
         "type": "linear",
         "zeroline": false
        },
        "yaxis": {
         "mirror": "allticks",
         "rangemode": "tozero",
         "showgrid": false,
         "showline": true,
         "showticklabels": true,
         "tickmode": "array",
         "ticks": "outside",
         "ticktext": [
          "0_data_information_personal",
          "1_terms_conditions_change"
         ],
         "tickvals": [
          -5.0,
          -15.0
         ],
         "type": "linear",
         "zeroline": false,
         "range": [
          -20.0,
          0.0
         ]
        },
        "template": {
         "data": {
          "barpolar": [
           {
            "marker": {
             "line": {
              "color": "white",
              "width": 0.5
             },
             "pattern": {
              "fillmode": "overlay",
              "size": 10,
              "solidity": 0.2
             }
            },
            "type": "barpolar"
           }
          ],
          "bar": [
           {
            "error_x": {
             "color": "#2a3f5f"
            },
            "error_y": {
             "color": "#2a3f5f"
            },
            "marker": {
             "line": {
              "color": "white",
              "width": 0.5
             },
             "pattern": {
              "fillmode": "overlay",
              "size": 10,
              "solidity": 0.2
             }
            },
            "type": "bar"
           }
          ],
          "carpet": [
           {
            "aaxis": {
             "endlinecolor": "#2a3f5f",
             "gridcolor": "#C8D4E3",
             "linecolor": "#C8D4E3",
             "minorgridcolor": "#C8D4E3",
             "startlinecolor": "#2a3f5f"
            },
            "baxis": {
             "endlinecolor": "#2a3f5f",
             "gridcolor": "#C8D4E3",
             "linecolor": "#C8D4E3",
             "minorgridcolor": "#C8D4E3",
             "startlinecolor": "#2a3f5f"
            },
            "type": "carpet"
           }
          ],
          "choropleth": [
           {
            "colorbar": {
             "outlinewidth": 0,
             "ticks": ""
            },
            "type": "choropleth"
           }
          ],
          "contourcarpet": [
           {
            "colorbar": {
             "outlinewidth": 0,
             "ticks": ""
            },
            "type": "contourcarpet"
           }
          ],
          "contour": [
           {
            "colorbar": {
             "outlinewidth": 0,
             "ticks": ""
            },
            "colorscale": [
             [
              0.0,
              "#0d0887"
             ],
             [
              0.1111111111111111,
              "#46039f"
             ],
             [
              0.2222222222222222,
              "#7201a8"
             ],
             [
              0.3333333333333333,
              "#9c179e"
             ],
             [
              0.4444444444444444,
              "#bd3786"
             ],
             [
              0.5555555555555556,
              "#d8576b"
             ],
             [
              0.6666666666666666,
              "#ed7953"
             ],
             [
              0.7777777777777778,
              "#fb9f3a"
             ],
             [
              0.8888888888888888,
              "#fdca26"
             ],
             [
              1.0,
              "#f0f921"
             ]
            ],
            "type": "contour"
           }
          ],
          "heatmapgl": [
           {
            "colorbar": {
             "outlinewidth": 0,
             "ticks": ""
            },
            "colorscale": [
             [
              0.0,
              "#0d0887"
             ],
             [
              0.1111111111111111,
              "#46039f"
             ],
             [
              0.2222222222222222,
              "#7201a8"
             ],
             [
              0.3333333333333333,
              "#9c179e"
             ],
             [
              0.4444444444444444,
              "#bd3786"
             ],
             [
              0.5555555555555556,
              "#d8576b"
             ],
             [
              0.6666666666666666,
              "#ed7953"
             ],
             [
              0.7777777777777778,
              "#fb9f3a"
             ],
             [
              0.8888888888888888,
              "#fdca26"
             ],
             [
              1.0,
              "#f0f921"
             ]
            ],
            "type": "heatmapgl"
           }
          ],
          "heatmap": [
           {
            "colorbar": {
             "outlinewidth": 0,
             "ticks": ""
            },
            "colorscale": [
             [
              0.0,
              "#0d0887"
             ],
             [
              0.1111111111111111,
              "#46039f"
             ],
             [
              0.2222222222222222,
              "#7201a8"
             ],
             [
              0.3333333333333333,
              "#9c179e"
             ],
             [
              0.4444444444444444,
              "#bd3786"
             ],
             [
              0.5555555555555556,
              "#d8576b"
             ],
             [
              0.6666666666666666,
              "#ed7953"
             ],
             [
              0.7777777777777778,
              "#fb9f3a"
             ],
             [
              0.8888888888888888,
              "#fdca26"
             ],
             [
              1.0,
              "#f0f921"
             ]
            ],
            "type": "heatmap"
           }
          ],
          "histogram2dcontour": [
           {
            "colorbar": {
             "outlinewidth": 0,
             "ticks": ""
            },
            "colorscale": [
             [
              0.0,
              "#0d0887"
             ],
             [
              0.1111111111111111,
              "#46039f"
             ],
             [
              0.2222222222222222,
              "#7201a8"
             ],
             [
              0.3333333333333333,
              "#9c179e"
             ],
             [
              0.4444444444444444,
              "#bd3786"
             ],
             [
              0.5555555555555556,
              "#d8576b"
             ],
             [
              0.6666666666666666,
              "#ed7953"
             ],
             [
              0.7777777777777778,
              "#fb9f3a"
             ],
             [
              0.8888888888888888,
              "#fdca26"
             ],
             [
              1.0,
              "#f0f921"
             ]
            ],
            "type": "histogram2dcontour"
           }
          ],
          "histogram2d": [
           {
            "colorbar": {
             "outlinewidth": 0,
             "ticks": ""
            },
            "colorscale": [
             [
              0.0,
              "#0d0887"
             ],
             [
              0.1111111111111111,
              "#46039f"
             ],
             [
              0.2222222222222222,
              "#7201a8"
             ],
             [
              0.3333333333333333,
              "#9c179e"
             ],
             [
              0.4444444444444444,
              "#bd3786"
             ],
             [
              0.5555555555555556,
              "#d8576b"
             ],
             [
              0.6666666666666666,
              "#ed7953"
             ],
             [
              0.7777777777777778,
              "#fb9f3a"
             ],
             [
              0.8888888888888888,
              "#fdca26"
             ],
             [
              1.0,
              "#f0f921"
             ]
            ],
            "type": "histogram2d"
           }
          ],
          "histogram": [
           {
            "marker": {
             "pattern": {
              "fillmode": "overlay",
              "size": 10,
              "solidity": 0.2
             }
            },
            "type": "histogram"
           }
          ],
          "mesh3d": [
           {
            "colorbar": {
             "outlinewidth": 0,
             "ticks": ""
            },
            "type": "mesh3d"
           }
          ],
          "parcoords": [
           {
            "line": {
             "colorbar": {
              "outlinewidth": 0,
              "ticks": ""
             }
            },
            "type": "parcoords"
           }
          ],
          "pie": [
           {
            "automargin": true,
            "type": "pie"
           }
          ],
          "scatter3d": [
           {
            "line": {
             "colorbar": {
              "outlinewidth": 0,
              "ticks": ""
             }
            },
            "marker": {
             "colorbar": {
              "outlinewidth": 0,
              "ticks": ""
             }
            },
            "type": "scatter3d"
           }
          ],
          "scattercarpet": [
           {
            "marker": {
             "colorbar": {
              "outlinewidth": 0,
              "ticks": ""
             }
            },
            "type": "scattercarpet"
           }
          ],
          "scattergeo": [
           {
            "marker": {
             "colorbar": {
              "outlinewidth": 0,
              "ticks": ""
             }
            },
            "type": "scattergeo"
           }
          ],
          "scattergl": [
           {
            "marker": {
             "colorbar": {
              "outlinewidth": 0,
              "ticks": ""
             }
            },
            "type": "scattergl"
           }
          ],
          "scattermapbox": [
           {
            "marker": {
             "colorbar": {
              "outlinewidth": 0,
              "ticks": ""
             }
            },
            "type": "scattermapbox"
           }
          ],
          "scatterpolargl": [
           {
            "marker": {
             "colorbar": {
              "outlinewidth": 0,
              "ticks": ""
             }
            },
            "type": "scatterpolargl"
           }
          ],
          "scatterpolar": [
           {
            "marker": {
             "colorbar": {
              "outlinewidth": 0,
              "ticks": ""
             }
            },
            "type": "scatterpolar"
           }
          ],
          "scatter": [
           {
            "fillpattern": {
             "fillmode": "overlay",
             "size": 10,
             "solidity": 0.2
            },
            "type": "scatter"
           }
          ],
          "scatterternary": [
           {
            "marker": {
             "colorbar": {
              "outlinewidth": 0,
              "ticks": ""
             }
            },
            "type": "scatterternary"
           }
          ],
          "surface": [
           {
            "colorbar": {
             "outlinewidth": 0,
             "ticks": ""
            },
            "colorscale": [
             [
              0.0,
              "#0d0887"
             ],
             [
              0.1111111111111111,
              "#46039f"
             ],
             [
              0.2222222222222222,
              "#7201a8"
             ],
             [
              0.3333333333333333,
              "#9c179e"
             ],
             [
              0.4444444444444444,
              "#bd3786"
             ],
             [
              0.5555555555555556,
              "#d8576b"
             ],
             [
              0.6666666666666666,
              "#ed7953"
             ],
             [
              0.7777777777777778,
              "#fb9f3a"
             ],
             [
              0.8888888888888888,
              "#fdca26"
             ],
             [
              1.0,
              "#f0f921"
             ]
            ],
            "type": "surface"
           }
          ],
          "table": [
           {
            "cells": {
             "fill": {
              "color": "#EBF0F8"
             },
             "line": {
              "color": "white"
             }
            },
            "header": {
             "fill": {
              "color": "#C8D4E3"
             },
             "line": {
              "color": "white"
             }
            },
            "type": "table"
           }
          ]
         },
         "layout": {
          "annotationdefaults": {
           "arrowcolor": "#2a3f5f",
           "arrowhead": 0,
           "arrowwidth": 1
          },
          "autotypenumbers": "strict",
          "coloraxis": {
           "colorbar": {
            "outlinewidth": 0,
            "ticks": ""
           }
          },
          "colorscale": {
           "diverging": [
            [
             0,
             "#8e0152"
            ],
            [
             0.1,
             "#c51b7d"
            ],
            [
             0.2,
             "#de77ae"
            ],
            [
             0.3,
             "#f1b6da"
            ],
            [
             0.4,
             "#fde0ef"
            ],
            [
             0.5,
             "#f7f7f7"
            ],
            [
             0.6,
             "#e6f5d0"
            ],
            [
             0.7,
             "#b8e186"
            ],
            [
             0.8,
             "#7fbc41"
            ],
            [
             0.9,
             "#4d9221"
            ],
            [
             1,
             "#276419"
            ]
           ],
           "sequential": [
            [
             0.0,
             "#0d0887"
            ],
            [
             0.1111111111111111,
             "#46039f"
            ],
            [
             0.2222222222222222,
             "#7201a8"
            ],
            [
             0.3333333333333333,
             "#9c179e"
            ],
            [
             0.4444444444444444,
             "#bd3786"
            ],
            [
             0.5555555555555556,
             "#d8576b"
            ],
            [
             0.6666666666666666,
             "#ed7953"
            ],
            [
             0.7777777777777778,
             "#fb9f3a"
            ],
            [
             0.8888888888888888,
             "#fdca26"
            ],
            [
             1.0,
             "#f0f921"
            ]
           ],
           "sequentialminus": [
            [
             0.0,
             "#0d0887"
            ],
            [
             0.1111111111111111,
             "#46039f"
            ],
            [
             0.2222222222222222,
             "#7201a8"
            ],
            [
             0.3333333333333333,
             "#9c179e"
            ],
            [
             0.4444444444444444,
             "#bd3786"
            ],
            [
             0.5555555555555556,
             "#d8576b"
            ],
            [
             0.6666666666666666,
             "#ed7953"
            ],
            [
             0.7777777777777778,
             "#fb9f3a"
            ],
            [
             0.8888888888888888,
             "#fdca26"
            ],
            [
             1.0,
             "#f0f921"
            ]
           ]
          },
          "colorway": [
           "#636efa",
           "#EF553B",
           "#00cc96",
           "#ab63fa",
           "#FFA15A",
           "#19d3f3",
           "#FF6692",
           "#B6E880",
           "#FF97FF",
           "#FECB52"
          ],
          "font": {
           "color": "#2a3f5f"
          },
          "geo": {
           "bgcolor": "white",
           "lakecolor": "white",
           "landcolor": "white",
           "showlakes": true,
           "showland": true,
           "subunitcolor": "#C8D4E3"
          },
          "hoverlabel": {
           "align": "left"
          },
          "hovermode": "closest",
          "mapbox": {
           "style": "light"
          },
          "paper_bgcolor": "white",
          "plot_bgcolor": "white",
          "polar": {
           "angularaxis": {
            "gridcolor": "#EBF0F8",
            "linecolor": "#EBF0F8",
            "ticks": ""
           },
           "bgcolor": "white",
           "radialaxis": {
            "gridcolor": "#EBF0F8",
            "linecolor": "#EBF0F8",
            "ticks": ""
           }
          },
          "scene": {
           "xaxis": {
            "backgroundcolor": "white",
            "gridcolor": "#DFE8F3",
            "gridwidth": 2,
            "linecolor": "#EBF0F8",
            "showbackground": true,
            "ticks": "",
            "zerolinecolor": "#EBF0F8"
           },
           "yaxis": {
            "backgroundcolor": "white",
            "gridcolor": "#DFE8F3",
            "gridwidth": 2,
            "linecolor": "#EBF0F8",
            "showbackground": true,
            "ticks": "",
            "zerolinecolor": "#EBF0F8"
           },
           "zaxis": {
            "backgroundcolor": "white",
            "gridcolor": "#DFE8F3",
            "gridwidth": 2,
            "linecolor": "#EBF0F8",
            "showbackground": true,
            "ticks": "",
            "zerolinecolor": "#EBF0F8"
           }
          },
          "shapedefaults": {
           "line": {
            "color": "#2a3f5f"
           }
          },
          "ternary": {
           "aaxis": {
            "gridcolor": "#DFE8F3",
            "linecolor": "#A2B1C6",
            "ticks": ""
           },
           "baxis": {
            "gridcolor": "#DFE8F3",
            "linecolor": "#A2B1C6",
            "ticks": ""
           },
           "bgcolor": "white",
           "caxis": {
            "gridcolor": "#DFE8F3",
            "linecolor": "#A2B1C6",
            "ticks": ""
           }
          },
          "title": {
           "x": 0.05
          },
          "xaxis": {
           "automargin": true,
           "gridcolor": "#EBF0F8",
           "linecolor": "#EBF0F8",
           "ticks": "",
           "title": {
            "standoff": 15
           },
           "zerolinecolor": "#EBF0F8",
           "zerolinewidth": 2
          },
          "yaxis": {
           "automargin": true,
           "gridcolor": "#EBF0F8",
           "linecolor": "#EBF0F8",
           "ticks": "",
           "title": {
            "standoff": 15
           },
           "zerolinecolor": "#EBF0F8",
           "zerolinewidth": 2
          }
         }
        },
        "title": {
         "font": {
          "size": 22,
          "color": "Black"
         },
         "text": "<b>Hierarchical Clustering",
         "x": 0.5,
         "xanchor": "center",
         "yanchor": "top"
        },
        "hoverlabel": {
         "font": {
          "size": 16,
          "family": "Rockwell"
         },
         "bgcolor": "white"
        },
        "plot_bgcolor": "#ECEFF1"
       },
       "config": {
        "plotlyServerURL": "https://plot.ly"
       }
      },
      "text/html": "<div>                            <div id=\"d9b3ddfa-be7d-4093-9a9a-d3ded063acc7\" class=\"plotly-graph-div\" style=\"height:230px; width:1000px;\"></div>            <script type=\"text/javascript\">                require([\"plotly\"], function(Plotly) {                    window.PLOTLYENV=window.PLOTLYENV || {};                                    if (document.getElementById(\"d9b3ddfa-be7d-4093-9a9a-d3ded063acc7\")) {                    Plotly.newPlot(                        \"d9b3ddfa-be7d-4093-9a9a-d3ded063acc7\",                        [{\"hoverinfo\":\"text\",\"marker\":{\"color\":\"rgb(61,153,112)\"},\"mode\":\"lines\",\"x\":[0.0,0.30432965672791856,0.30432965672791856,0.0],\"xaxis\":\"x\",\"y\":[-5.0,-5.0,-15.0,-15.0],\"yaxis\":\"y\",\"type\":\"scatter\"}],                        {\"autosize\":false,\"height\":230,\"hovermode\":\"closest\",\"showlegend\":false,\"width\":1000,\"xaxis\":{\"mirror\":\"allticks\",\"rangemode\":\"tozero\",\"showgrid\":false,\"showline\":true,\"showticklabels\":true,\"ticks\":\"outside\",\"type\":\"linear\",\"zeroline\":false},\"yaxis\":{\"mirror\":\"allticks\",\"rangemode\":\"tozero\",\"showgrid\":false,\"showline\":true,\"showticklabels\":true,\"tickmode\":\"array\",\"ticks\":\"outside\",\"ticktext\":[\"0_data_information_personal\",\"1_terms_conditions_change\"],\"tickvals\":[-5.0,-15.0],\"type\":\"linear\",\"zeroline\":false,\"range\":[-20.0,0.0]},\"template\":{\"data\":{\"barpolar\":[{\"marker\":{\"line\":{\"color\":\"white\",\"width\":0.5},\"pattern\":{\"fillmode\":\"overlay\",\"size\":10,\"solidity\":0.2}},\"type\":\"barpolar\"}],\"bar\":[{\"error_x\":{\"color\":\"#2a3f5f\"},\"error_y\":{\"color\":\"#2a3f5f\"},\"marker\":{\"line\":{\"color\":\"white\",\"width\":0.5},\"pattern\":{\"fillmode\":\"overlay\",\"size\":10,\"solidity\":0.2}},\"type\":\"bar\"}],\"carpet\":[{\"aaxis\":{\"endlinecolor\":\"#2a3f5f\",\"gridcolor\":\"#C8D4E3\",\"linecolor\":\"#C8D4E3\",\"minorgridcolor\":\"#C8D4E3\",\"startlinecolor\":\"#2a3f5f\"},\"baxis\":{\"endlinecolor\":\"#2a3f5f\",\"gridcolor\":\"#C8D4E3\",\"linecolor\":\"#C8D4E3\",\"minorgridcolor\":\"#C8D4E3\",\"startlinecolor\":\"#2a3f5f\"},\"type\":\"carpet\"}],\"choropleth\":[{\"colorbar\":{\"outlinewidth\":0,\"ticks\":\"\"},\"type\":\"choropleth\"}],\"contourcarpet\":[{\"colorbar\":{\"outlinewidth\":0,\"ticks\":\"\"},\"type\":\"contourcarpet\"}],\"contour\":[{\"colorbar\":{\"outlinewidth\":0,\"ticks\":\"\"},\"colorscale\":[[0.0,\"#0d0887\"],[0.1111111111111111,\"#46039f\"],[0.2222222222222222,\"#7201a8\"],[0.3333333333333333,\"#9c179e\"],[0.4444444444444444,\"#bd3786\"],[0.5555555555555556,\"#d8576b\"],[0.6666666666666666,\"#ed7953\"],[0.7777777777777778,\"#fb9f3a\"],[0.8888888888888888,\"#fdca26\"],[1.0,\"#f0f921\"]],\"type\":\"contour\"}],\"heatmapgl\":[{\"colorbar\":{\"outlinewidth\":0,\"ticks\":\"\"},\"colorscale\":[[0.0,\"#0d0887\"],[0.1111111111111111,\"#46039f\"],[0.2222222222222222,\"#7201a8\"],[0.3333333333333333,\"#9c179e\"],[0.4444444444444444,\"#bd3786\"],[0.5555555555555556,\"#d8576b\"],[0.6666666666666666,\"#ed7953\"],[0.7777777777777778,\"#fb9f3a\"],[0.8888888888888888,\"#fdca26\"],[1.0,\"#f0f921\"]],\"type\":\"heatmapgl\"}],\"heatmap\":[{\"colorbar\":{\"outlinewidth\":0,\"ticks\":\"\"},\"colorscale\":[[0.0,\"#0d0887\"],[0.1111111111111111,\"#46039f\"],[0.2222222222222222,\"#7201a8\"],[0.3333333333333333,\"#9c179e\"],[0.4444444444444444,\"#bd3786\"],[0.5555555555555556,\"#d8576b\"],[0.6666666666666666,\"#ed7953\"],[0.7777777777777778,\"#fb9f3a\"],[0.8888888888888888,\"#fdca26\"],[1.0,\"#f0f921\"]],\"type\":\"heatmap\"}],\"histogram2dcontour\":[{\"colorbar\":{\"outlinewidth\":0,\"ticks\":\"\"},\"colorscale\":[[0.0,\"#0d0887\"],[0.1111111111111111,\"#46039f\"],[0.2222222222222222,\"#7201a8\"],[0.3333333333333333,\"#9c179e\"],[0.4444444444444444,\"#bd3786\"],[0.5555555555555556,\"#d8576b\"],[0.6666666666666666,\"#ed7953\"],[0.7777777777777778,\"#fb9f3a\"],[0.8888888888888888,\"#fdca26\"],[1.0,\"#f0f921\"]],\"type\":\"histogram2dcontour\"}],\"histogram2d\":[{\"colorbar\":{\"outlinewidth\":0,\"ticks\":\"\"},\"colorscale\":[[0.0,\"#0d0887\"],[0.1111111111111111,\"#46039f\"],[0.2222222222222222,\"#7201a8\"],[0.3333333333333333,\"#9c179e\"],[0.4444444444444444,\"#bd3786\"],[0.5555555555555556,\"#d8576b\"],[0.6666666666666666,\"#ed7953\"],[0.7777777777777778,\"#fb9f3a\"],[0.8888888888888888,\"#fdca26\"],[1.0,\"#f0f921\"]],\"type\":\"histogram2d\"}],\"histogram\":[{\"marker\":{\"pattern\":{\"fillmode\":\"overlay\",\"size\":10,\"solidity\":0.2}},\"type\":\"histogram\"}],\"mesh3d\":[{\"colorbar\":{\"outlinewidth\":0,\"ticks\":\"\"},\"type\":\"mesh3d\"}],\"parcoords\":[{\"line\":{\"colorbar\":{\"outlinewidth\":0,\"ticks\":\"\"}},\"type\":\"parcoords\"}],\"pie\":[{\"automargin\":true,\"type\":\"pie\"}],\"scatter3d\":[{\"line\":{\"colorbar\":{\"outlinewidth\":0,\"ticks\":\"\"}},\"marker\":{\"colorbar\":{\"outlinewidth\":0,\"ticks\":\"\"}},\"type\":\"scatter3d\"}],\"scattercarpet\":[{\"marker\":{\"colorbar\":{\"outlinewidth\":0,\"ticks\":\"\"}},\"type\":\"scattercarpet\"}],\"scattergeo\":[{\"marker\":{\"colorbar\":{\"outlinewidth\":0,\"ticks\":\"\"}},\"type\":\"scattergeo\"}],\"scattergl\":[{\"marker\":{\"colorbar\":{\"outlinewidth\":0,\"ticks\":\"\"}},\"type\":\"scattergl\"}],\"scattermapbox\":[{\"marker\":{\"colorbar\":{\"outlinewidth\":0,\"ticks\":\"\"}},\"type\":\"scattermapbox\"}],\"scatterpolargl\":[{\"marker\":{\"colorbar\":{\"outlinewidth\":0,\"ticks\":\"\"}},\"type\":\"scatterpolargl\"}],\"scatterpolar\":[{\"marker\":{\"colorbar\":{\"outlinewidth\":0,\"ticks\":\"\"}},\"type\":\"scatterpolar\"}],\"scatter\":[{\"fillpattern\":{\"fillmode\":\"overlay\",\"size\":10,\"solidity\":0.2},\"type\":\"scatter\"}],\"scatterternary\":[{\"marker\":{\"colorbar\":{\"outlinewidth\":0,\"ticks\":\"\"}},\"type\":\"scatterternary\"}],\"surface\":[{\"colorbar\":{\"outlinewidth\":0,\"ticks\":\"\"},\"colorscale\":[[0.0,\"#0d0887\"],[0.1111111111111111,\"#46039f\"],[0.2222222222222222,\"#7201a8\"],[0.3333333333333333,\"#9c179e\"],[0.4444444444444444,\"#bd3786\"],[0.5555555555555556,\"#d8576b\"],[0.6666666666666666,\"#ed7953\"],[0.7777777777777778,\"#fb9f3a\"],[0.8888888888888888,\"#fdca26\"],[1.0,\"#f0f921\"]],\"type\":\"surface\"}],\"table\":[{\"cells\":{\"fill\":{\"color\":\"#EBF0F8\"},\"line\":{\"color\":\"white\"}},\"header\":{\"fill\":{\"color\":\"#C8D4E3\"},\"line\":{\"color\":\"white\"}},\"type\":\"table\"}]},\"layout\":{\"annotationdefaults\":{\"arrowcolor\":\"#2a3f5f\",\"arrowhead\":0,\"arrowwidth\":1},\"autotypenumbers\":\"strict\",\"coloraxis\":{\"colorbar\":{\"outlinewidth\":0,\"ticks\":\"\"}},\"colorscale\":{\"diverging\":[[0,\"#8e0152\"],[0.1,\"#c51b7d\"],[0.2,\"#de77ae\"],[0.3,\"#f1b6da\"],[0.4,\"#fde0ef\"],[0.5,\"#f7f7f7\"],[0.6,\"#e6f5d0\"],[0.7,\"#b8e186\"],[0.8,\"#7fbc41\"],[0.9,\"#4d9221\"],[1,\"#276419\"]],\"sequential\":[[0.0,\"#0d0887\"],[0.1111111111111111,\"#46039f\"],[0.2222222222222222,\"#7201a8\"],[0.3333333333333333,\"#9c179e\"],[0.4444444444444444,\"#bd3786\"],[0.5555555555555556,\"#d8576b\"],[0.6666666666666666,\"#ed7953\"],[0.7777777777777778,\"#fb9f3a\"],[0.8888888888888888,\"#fdca26\"],[1.0,\"#f0f921\"]],\"sequentialminus\":[[0.0,\"#0d0887\"],[0.1111111111111111,\"#46039f\"],[0.2222222222222222,\"#7201a8\"],[0.3333333333333333,\"#9c179e\"],[0.4444444444444444,\"#bd3786\"],[0.5555555555555556,\"#d8576b\"],[0.6666666666666666,\"#ed7953\"],[0.7777777777777778,\"#fb9f3a\"],[0.8888888888888888,\"#fdca26\"],[1.0,\"#f0f921\"]]},\"colorway\":[\"#636efa\",\"#EF553B\",\"#00cc96\",\"#ab63fa\",\"#FFA15A\",\"#19d3f3\",\"#FF6692\",\"#B6E880\",\"#FF97FF\",\"#FECB52\"],\"font\":{\"color\":\"#2a3f5f\"},\"geo\":{\"bgcolor\":\"white\",\"lakecolor\":\"white\",\"landcolor\":\"white\",\"showlakes\":true,\"showland\":true,\"subunitcolor\":\"#C8D4E3\"},\"hoverlabel\":{\"align\":\"left\"},\"hovermode\":\"closest\",\"mapbox\":{\"style\":\"light\"},\"paper_bgcolor\":\"white\",\"plot_bgcolor\":\"white\",\"polar\":{\"angularaxis\":{\"gridcolor\":\"#EBF0F8\",\"linecolor\":\"#EBF0F8\",\"ticks\":\"\"},\"bgcolor\":\"white\",\"radialaxis\":{\"gridcolor\":\"#EBF0F8\",\"linecolor\":\"#EBF0F8\",\"ticks\":\"\"}},\"scene\":{\"xaxis\":{\"backgroundcolor\":\"white\",\"gridcolor\":\"#DFE8F3\",\"gridwidth\":2,\"linecolor\":\"#EBF0F8\",\"showbackground\":true,\"ticks\":\"\",\"zerolinecolor\":\"#EBF0F8\"},\"yaxis\":{\"backgroundcolor\":\"white\",\"gridcolor\":\"#DFE8F3\",\"gridwidth\":2,\"linecolor\":\"#EBF0F8\",\"showbackground\":true,\"ticks\":\"\",\"zerolinecolor\":\"#EBF0F8\"},\"zaxis\":{\"backgroundcolor\":\"white\",\"gridcolor\":\"#DFE8F3\",\"gridwidth\":2,\"linecolor\":\"#EBF0F8\",\"showbackground\":true,\"ticks\":\"\",\"zerolinecolor\":\"#EBF0F8\"}},\"shapedefaults\":{\"line\":{\"color\":\"#2a3f5f\"}},\"ternary\":{\"aaxis\":{\"gridcolor\":\"#DFE8F3\",\"linecolor\":\"#A2B1C6\",\"ticks\":\"\"},\"baxis\":{\"gridcolor\":\"#DFE8F3\",\"linecolor\":\"#A2B1C6\",\"ticks\":\"\"},\"bgcolor\":\"white\",\"caxis\":{\"gridcolor\":\"#DFE8F3\",\"linecolor\":\"#A2B1C6\",\"ticks\":\"\"}},\"title\":{\"x\":0.05},\"xaxis\":{\"automargin\":true,\"gridcolor\":\"#EBF0F8\",\"linecolor\":\"#EBF0F8\",\"ticks\":\"\",\"title\":{\"standoff\":15},\"zerolinecolor\":\"#EBF0F8\",\"zerolinewidth\":2},\"yaxis\":{\"automargin\":true,\"gridcolor\":\"#EBF0F8\",\"linecolor\":\"#EBF0F8\",\"ticks\":\"\",\"title\":{\"standoff\":15},\"zerolinecolor\":\"#EBF0F8\",\"zerolinewidth\":2}}},\"title\":{\"font\":{\"size\":22,\"color\":\"Black\"},\"text\":\"<b>Hierarchical Clustering\",\"x\":0.5,\"xanchor\":\"center\",\"yanchor\":\"top\"},\"hoverlabel\":{\"font\":{\"size\":16,\"family\":\"Rockwell\"},\"bgcolor\":\"white\"},\"plot_bgcolor\":\"#ECEFF1\"},                        {\"responsive\": true}                    ).then(function(){\n                            \nvar gd = document.getElementById('d9b3ddfa-be7d-4093-9a9a-d3ded063acc7');\nvar x = new MutationObserver(function (mutations, observer) {{\n        var display = window.getComputedStyle(gd).display;\n        if (!display || display === 'none') {{\n            console.log([gd, 'removed!']);\n            Plotly.purge(gd);\n            observer.disconnect();\n        }}\n}});\n\n// Listen for the removal of the full notebook cells\nvar notebookContainer = gd.closest('#notebook-container');\nif (notebookContainer) {{\n    x.observe(notebookContainer, {childList: true});\n}}\n\n// Listen for the clearing of the current output cell\nvar outputEl = gd.closest('.output');\nif (outputEl) {{\n    x.observe(outputEl, {childList: true});\n}}\n\n                        })                };                });            </script>        </div>",
      "text/plain": "Figure({\n    'data': [{'hoverinfo': 'text',\n              'marker': {'color': 'rgb(61,153,112)'},\n              'mode': 'lines',\n              'type': 'scatter',\n              'x': array([0.        , 0.30432966, 0.30432966, 0.        ]),\n              'xaxis': 'x',\n              'y': array([ -5.,  -5., -15., -15.]),\n              'yaxis': 'y'}],\n    'layout': {'autosize': False,\n               'height': 230,\n               'hoverlabel': {'bgcolor': 'white', 'font': {'family': 'Rockwell', 'size': 16}},\n               'hovermode': 'closest',\n               'plot_bgcolor': '#ECEFF1',\n               'showlegend': False,\n               'template': '...',\n               'title': {'font': {'color': 'Black', 'size': 22},\n                         'text': '<b>Hierarchical Clustering',\n                         'x': 0.5,\n                         'xanchor': 'center',\n                         'yanchor': 'top'},\n               'width': 1000,\n               'xaxis': {'mirror': 'allticks',\n                         'rangemode': 'tozero',\n                         'showgrid': False,\n                         'showline': True,\n                         'showticklabels': True,\n                         'ticks': 'outside',\n                         'type': 'linear',\n                         'zeroline': False},\n               'yaxis': {'mirror': 'allticks',\n                         'range': [-20.0, 0.0],\n                         'rangemode': 'tozero',\n                         'showgrid': False,\n                         'showline': True,\n                         'showticklabels': True,\n                         'tickmode': 'array',\n                         'ticks': 'outside',\n                         'ticktext': [0_data_information_personal,\n                                      1_terms_conditions_change],\n                         'tickvals': [-5.0, -15.0],\n                         'type': 'linear',\n                         'zeroline': False}}\n})"
     },
     "execution_count": 43,
     "metadata": {},
     "output_type": "execute_result"
    }
   ],
   "source": [
    "model.visualize_hierarchy(top_n_topics=2)"
   ],
   "metadata": {
    "collapsed": false,
    "pycharm": {
     "name": "#%%\n"
    }
   }
  },
  {
   "cell_type": "code",
   "execution_count": 45,
   "outputs": [
    {
     "ename": "ValueError",
     "evalue": "Mime type rendering requires nbformat>=4.2.0 but it is not installed",
     "output_type": "error",
     "traceback": [
      "\u001B[0;31m---------------------------------------------------------------------------\u001B[0m",
      "\u001B[0;31mValueError\u001B[0m                                Traceback (most recent call last)",
      "File \u001B[0;32m~/python_envs/nlp_env/lib/python3.8/site-packages/IPython/core/formatters.py:921\u001B[0m, in \u001B[0;36mIPythonDisplayFormatter.__call__\u001B[0;34m(self, obj)\u001B[0m\n\u001B[1;32m    919\u001B[0m method \u001B[38;5;241m=\u001B[39m get_real_method(obj, \u001B[38;5;28mself\u001B[39m\u001B[38;5;241m.\u001B[39mprint_method)\n\u001B[1;32m    920\u001B[0m \u001B[38;5;28;01mif\u001B[39;00m method \u001B[38;5;129;01mis\u001B[39;00m \u001B[38;5;129;01mnot\u001B[39;00m \u001B[38;5;28;01mNone\u001B[39;00m:\n\u001B[0;32m--> 921\u001B[0m     \u001B[43mmethod\u001B[49m\u001B[43m(\u001B[49m\u001B[43m)\u001B[49m\n\u001B[1;32m    922\u001B[0m     \u001B[38;5;28;01mreturn\u001B[39;00m \u001B[38;5;28;01mTrue\u001B[39;00m\n",
      "File \u001B[0;32m~/python_envs/nlp_env/lib/python3.8/site-packages/plotly/basedatatypes.py:842\u001B[0m, in \u001B[0;36mBaseFigure._ipython_display_\u001B[0;34m(self)\u001B[0m\n\u001B[1;32m    839\u001B[0m \u001B[38;5;28;01mimport\u001B[39;00m \u001B[38;5;21;01mplotly\u001B[39;00m\u001B[38;5;21;01m.\u001B[39;00m\u001B[38;5;21;01mio\u001B[39;00m \u001B[38;5;28;01mas\u001B[39;00m \u001B[38;5;21;01mpio\u001B[39;00m\n\u001B[1;32m    841\u001B[0m \u001B[38;5;28;01mif\u001B[39;00m pio\u001B[38;5;241m.\u001B[39mrenderers\u001B[38;5;241m.\u001B[39mrender_on_display \u001B[38;5;129;01mand\u001B[39;00m pio\u001B[38;5;241m.\u001B[39mrenderers\u001B[38;5;241m.\u001B[39mdefault:\n\u001B[0;32m--> 842\u001B[0m     \u001B[43mpio\u001B[49m\u001B[38;5;241;43m.\u001B[39;49m\u001B[43mshow\u001B[49m\u001B[43m(\u001B[49m\u001B[38;5;28;43mself\u001B[39;49m\u001B[43m)\u001B[49m\n\u001B[1;32m    843\u001B[0m \u001B[38;5;28;01melse\u001B[39;00m:\n\u001B[1;32m    844\u001B[0m     \u001B[38;5;28mprint\u001B[39m(\u001B[38;5;28mrepr\u001B[39m(\u001B[38;5;28mself\u001B[39m))\n",
      "File \u001B[0;32m~/python_envs/nlp_env/lib/python3.8/site-packages/plotly/io/_renderers.py:396\u001B[0m, in \u001B[0;36mshow\u001B[0;34m(fig, renderer, validate, **kwargs)\u001B[0m\n\u001B[1;32m    391\u001B[0m         \u001B[38;5;28;01mraise\u001B[39;00m \u001B[38;5;167;01mValueError\u001B[39;00m(\n\u001B[1;32m    392\u001B[0m             \u001B[38;5;124m\"\u001B[39m\u001B[38;5;124mMime type rendering requires ipython but it is not installed\u001B[39m\u001B[38;5;124m\"\u001B[39m\n\u001B[1;32m    393\u001B[0m         )\n\u001B[1;32m    395\u001B[0m     \u001B[38;5;28;01mif\u001B[39;00m \u001B[38;5;129;01mnot\u001B[39;00m nbformat \u001B[38;5;129;01mor\u001B[39;00m LooseVersion(nbformat\u001B[38;5;241m.\u001B[39m__version__) \u001B[38;5;241m<\u001B[39m LooseVersion(\u001B[38;5;124m\"\u001B[39m\u001B[38;5;124m4.2.0\u001B[39m\u001B[38;5;124m\"\u001B[39m):\n\u001B[0;32m--> 396\u001B[0m         \u001B[38;5;28;01mraise\u001B[39;00m \u001B[38;5;167;01mValueError\u001B[39;00m(\n\u001B[1;32m    397\u001B[0m             \u001B[38;5;124m\"\u001B[39m\u001B[38;5;124mMime type rendering requires nbformat>=4.2.0 but it is not installed\u001B[39m\u001B[38;5;124m\"\u001B[39m\n\u001B[1;32m    398\u001B[0m         )\n\u001B[1;32m    400\u001B[0m     ipython_display\u001B[38;5;241m.\u001B[39mdisplay(bundle, raw\u001B[38;5;241m=\u001B[39m\u001B[38;5;28;01mTrue\u001B[39;00m)\n\u001B[1;32m    402\u001B[0m \u001B[38;5;66;03m# external renderers\u001B[39;00m\n",
      "\u001B[0;31mValueError\u001B[0m: Mime type rendering requires nbformat>=4.2.0 but it is not installed"
     ]
    },
    {
     "data": {
      "application/vnd.plotly.v1+json": {
       "data": [
        {
         "coloraxis": "coloraxis",
         "name": "0",
         "x": [
          "0_data_information_personal",
          "1_terms_conditions_change",
          "2_unethical_is_data",
          "3_app_the_third",
          "4_rights_unethical_waive",
          "7_policy_privacy_changes",
          "11_policy_changes_time",
          "21_changes_notify_notified",
          "25_paragraph_because_unethi...",
          "29_terms_unethical_are",
          "37_service_changes_terms",
          "39_amendments_agreement_users",
          "5_consent_withdraw_still",
          "6_account_terminated_reason",
          "14_game_profile_play",
          "17_game_free_resources",
          "20_delete_deleted_data",
          "28_notice_given_should",
          "30_terminate_unethical_acco...",
          "31_username_name_reclaim",
          "32_consent_ask_asked",
          "33_player_termination_before",
          "34_accounts_same_name",
          "38_keep_longer_long",
          "40_service_discontinue_warn...",
          "41_deleted_fee_account",
          "8_opt_out_optout",
          "9_track_tracked_signals",
          "10_communications_opt_out",
          "12_countries_country_laws",
          "22_microsoft_settings_windows",
          "24_nexters_intraproject_val...",
          "26_age_block_proof",
          "27_content_remove_there",
          "35_moon_active_sole",
          "36_software_updates_upgrade",
          "13_playrix_website_discretion",
          "16_zynga_group_users",
          "18_cookies_accept_cookie",
          "19_plarium_reason_any",
          "23_roblox_robux_group",
          "15_termination_terminate_pr..."
         ],
         "y": [
          "0_data_information_personal",
          "1_terms_conditions_change",
          "2_unethical_is_data",
          "3_app_the_third",
          "4_rights_unethical_waive",
          "7_policy_privacy_changes",
          "11_policy_changes_time",
          "21_changes_notify_notified",
          "25_paragraph_because_unethi...",
          "29_terms_unethical_are",
          "37_service_changes_terms",
          "39_amendments_agreement_users",
          "5_consent_withdraw_still",
          "6_account_terminated_reason",
          "14_game_profile_play",
          "17_game_free_resources",
          "20_delete_deleted_data",
          "28_notice_given_should",
          "30_terminate_unethical_acco...",
          "31_username_name_reclaim",
          "32_consent_ask_asked",
          "33_player_termination_before",
          "34_accounts_same_name",
          "38_keep_longer_long",
          "40_service_discontinue_warn...",
          "41_deleted_fee_account",
          "8_opt_out_optout",
          "9_track_tracked_signals",
          "10_communications_opt_out",
          "12_countries_country_laws",
          "22_microsoft_settings_windows",
          "24_nexters_intraproject_val...",
          "26_age_block_proof",
          "27_content_remove_there",
          "35_moon_active_sole",
          "36_software_updates_upgrade",
          "13_playrix_website_discretion",
          "16_zynga_group_users",
          "18_cookies_accept_cookie",
          "19_plarium_reason_any",
          "23_roblox_robux_group",
          "15_termination_terminate_pr..."
         ],
         "z": [
          [
           0.9999999999999998,
           0.7848064360115143,
           0.8898015304776812,
           0.8320957425737892,
           0.7677598868456795,
           0.7932495296534041,
           0.7804174087434819,
           0.7480149594343805,
           0.8456944484362323,
           0.7641895891536408,
           0.796995836189814,
           0.735053532850767,
           0.7371068990824841,
           0.7655016613462147,
           0.7891504090784536,
           0.7405137085759077,
           0.7865325905785687,
           0.7291420614787291,
           0.6876813951592271,
           0.779073508955793,
           0.7332706443313319,
           0.6993779459292846,
           0.7241479412194209,
           0.7625264554130013,
           0.7187223548843564,
           0.7049556008384634,
           0.7210193520436738,
           0.7201734919914877,
           0.7508199620089275,
           0.7380754214182406,
           0.7173174175997921,
           0.6835601861275313,
           0.6725138366817087,
           0.7443582365983844,
           0.6829927850355666,
           0.6813347657278532,
           0.6313555215737314,
           0.7411731986251132,
           0.6469739905353659,
           0.6968250297778078,
           0.630463837116722,
           0.6170167131908793
          ],
          [
           0.7848064360115143,
           0.9999999999999998,
           0.7485130738057424,
           0.7770357647275212,
           0.7474188555521294,
           0.7934046174232543,
           0.838908548826949,
           0.8149783231670522,
           0.7650456888510402,
           0.9004698569847602,
           0.9144673433384629,
           0.7850037551737327,
           0.6997107142645125,
           0.7472075148280272,
           0.7115213970475026,
           0.7527937541614631,
           0.7039285675312259,
           0.7408404811493174,
           0.7029241405843847,
           0.7705296965307437,
           0.7335231610332007,
           0.7035750875826872,
           0.7230293106998834,
           0.7421400113086285,
           0.7601492685204492,
           0.7147384329853719,
           0.7151891532748337,
           0.6746414934020574,
           0.7640424864848078,
           0.7103299024821415,
           0.6681321610830766,
           0.6890229115534261,
           0.6655175973981804,
           0.7264198085542801,
           0.6990174387904204,
           0.7013622848088417,
           0.6656919487349815,
           0.6436317662286589,
           0.6322582953440823,
           0.7080229698507421,
           0.6245487721726641,
           0.696708022583581
          ],
          [
           0.8898015304776812,
           0.7485130738057424,
           1.0000000000000004,
           0.7895507626726581,
           0.8479527208651064,
           0.7778364288886597,
           0.7499466546020943,
           0.6807234601372629,
           0.8809431535231015,
           0.8311919919181268,
           0.7701045978216573,
           0.722573428126198,
           0.7489115484935216,
           0.7245724772349538,
           0.7244613842441863,
           0.7455064363556075,
           0.7288099426611441,
           0.6922353135970538,
           0.7484513743113779,
           0.7374978757645106,
           0.7561931527443899,
           0.6663075795317718,
           0.669133904146117,
           0.7192879671131303,
           0.7376567110692479,
           0.6995542096839564,
           0.6739886705627638,
           0.698801552901176,
           0.7330569310763368,
           0.6914777329278801,
           0.6935292103891527,
           0.6776386899118991,
           0.689044885380382,
           0.7106545884951116,
           0.6600614412922414,
           0.6481965634504407,
           0.6457101914069034,
           0.7132443451206332,
           0.6214736553278055,
           0.6809086898199739,
           0.6394478151930963,
           0.6551311950395395
          ],
          [
           0.8320957425737892,
           0.7770357647275212,
           0.7895507626726581,
           1.0,
           0.7475032287687156,
           0.7763138178236884,
           0.7845132605873559,
           0.7397490189573188,
           0.7774055833709721,
           0.773638630313618,
           0.8287187232431421,
           0.7435042122503717,
           0.7009297143087818,
           0.754733483258432,
           0.7761005673792425,
           0.8315604334623723,
           0.7362089521436597,
           0.6998336673483936,
           0.6996008580580059,
           0.7344620666029836,
           0.7248286521706956,
           0.7155510546262032,
           0.7213624172197266,
           0.7063300829520155,
           0.7381389065517768,
           0.7384976209144463,
           0.7345178135935864,
           0.7109503579681047,
           0.7684259126373629,
           0.7086240432497748,
           0.7241787095663477,
           0.6533676413489742,
           0.7134061204666279,
           0.733817626046103,
           0.7100969342589478,
           0.7823478911823285,
           0.6996001441337253,
           0.7186998323614828,
           0.6575041039266183,
           0.6865903312476409,
           0.6521171961852124,
           0.5991925702946612
          ],
          [
           0.7677598868456795,
           0.7474188555521294,
           0.8479527208651064,
           0.7475032287687156,
           1.0,
           0.7965025770239436,
           0.7842654301437961,
           0.6681529009187159,
           0.8054359082334722,
           0.8216446528427189,
           0.7702493306908618,
           0.7529254639777982,
           0.7431983233900414,
           0.7412802555468019,
           0.7100338437288707,
           0.7738625573255995,
           0.6765174370998377,
           0.663776018245577,
           0.7607197043581607,
           0.7077633380820698,
           0.7599135989247601,
           0.685644700847231,
           0.63427016015982,
           0.7090942683192039,
           0.7772827557712292,
           0.7037792110858739,
           0.7104495853083364,
           0.6505663089012554,
           0.739075980930699,
           0.7026955817406987,
           0.6557477254243438,
           0.6715135703242535,
           0.7083339096477751,
           0.6710517935399267,
           0.6884537372202699,
           0.6039117225201873,
           0.6405861909445008,
           0.6410959350524594,
           0.6020169358636435,
           0.6357462517349102,
           0.6377565529722455,
           0.6792519834997779
          ],
          [
           0.7932495296534041,
           0.7934046174232543,
           0.7778364288886597,
           0.7763138178236884,
           0.7965025770239436,
           0.9999999999999993,
           0.9232876245068344,
           0.8053595060978456,
           0.7684948824915863,
           0.783271463891549,
           0.815274424234405,
           0.8052517798526668,
           0.7205344415283418,
           0.7144565203586124,
           0.7649314938804659,
           0.7440629773255512,
           0.7327481371193344,
           0.7055070064849678,
           0.6963347006754271,
           0.6925588206225234,
           0.7540191007304631,
           0.6832114970308629,
           0.6857759965440342,
           0.7090504939761311,
           0.7278896702631072,
           0.7280996983933763,
           0.715938967401224,
           0.7073540634840062,
           0.7512093748281801,
           0.7640550011909991,
           0.7362500662394116,
           0.6761719067247399,
           0.6935794252011135,
           0.7284351409402194,
           0.6759152455519312,
           0.7276016784146973,
           0.6331522971917163,
           0.6779893370587963,
           0.6271993448271572,
           0.6296299107721849,
           0.5971202369369221,
           0.5973306545855125
          ],
          [
           0.7804174087434819,
           0.838908548826949,
           0.7499466546020943,
           0.7845132605873559,
           0.7842654301437961,
           0.9232876245068344,
           1.0,
           0.8364201442244735,
           0.7574933590984545,
           0.8067729539100479,
           0.842383154809367,
           0.8054002909189583,
           0.708386630571437,
           0.7546396983385849,
           0.7690903094834851,
           0.7919548476049074,
           0.74023171530531,
           0.722257321990734,
           0.7115916376999535,
           0.7225931621436508,
           0.7373212694001745,
           0.7249520976808252,
           0.6921232751952355,
           0.7636461705590151,
           0.7582583457090515,
           0.7405767241270845,
           0.7312243781790343,
           0.6929002357265537,
           0.74329352945592,
           0.7447427356161765,
           0.7114084280809432,
           0.6863785561268927,
           0.7091648526983421,
           0.7336721807084898,
           0.678770016995795,
           0.7362463193262474,
           0.6297700903840003,
           0.6432895818550647,
           0.6092797391235852,
           0.635532684188465,
           0.6134733690025909,
           0.6297131469296097
          ],
          [
           0.7480149594343805,
           0.8149783231670522,
           0.6807234601372629,
           0.7397490189573188,
           0.6681529009187159,
           0.8053595060978456,
           0.8364201442244735,
           0.9999999999999999,
           0.687165262763221,
           0.7324066209001979,
           0.845434154303546,
           0.797206658906603,
           0.6692861801034444,
           0.7376732575039799,
           0.7331460743536518,
           0.7131036223935006,
           0.751325191830001,
           0.8097260234368265,
           0.6533564335725057,
           0.7400473988471861,
           0.700108291378756,
           0.7371208870708945,
           0.7272059840398832,
           0.7249699562263634,
           0.72306976817825,
           0.731252289647714,
           0.6932321669680621,
           0.6999945686619189,
           0.671546317079367,
           0.6806823336401595,
           0.6270587670899156,
           0.6420578094379338,
           0.6222874681673286,
           0.7253557347238042,
           0.6356340811329562,
           0.7932422656776372,
           0.5819101216128981,
           0.6381807953911687,
           0.6019217695987793,
           0.6310398531363777,
           0.5918957794994836,
           0.5877449729215458
          ],
          [
           0.8456944484362323,
           0.7650456888510402,
           0.8809431535231015,
           0.7774055833709721,
           0.8054359082334722,
           0.7684948824915863,
           0.7574933590984545,
           0.687165262763221,
           1.0,
           0.8069714201641025,
           0.7889566332061635,
           0.7184899710670165,
           0.688823592701201,
           0.720179897457929,
           0.7377630473006875,
           0.7286615901616851,
           0.7038062620182799,
           0.7047816387927579,
           0.7367389855017912,
           0.7298435951906176,
           0.7339301863919445,
           0.7134032765676972,
           0.6495791765827132,
           0.7307666958504192,
           0.7175215573172384,
           0.6779558715158855,
           0.6443620239568917,
           0.6998422780105933,
           0.7167175618901824,
           0.6893604423085602,
           0.688554496506147,
           0.639517555331909,
           0.7014412003458611,
           0.7301510234298185,
           0.6366231196089733,
           0.630044121837056,
           0.6466825938856733,
           0.6697119645980694,
           0.5911781498855824,
           0.6808000800220677,
           0.5851679536213307,
           0.66049582950127
          ],
          [
           0.7641895891536408,
           0.9004698569847602,
           0.8311919919181268,
           0.773638630313618,
           0.8216446528427189,
           0.783271463891549,
           0.8067729539100479,
           0.7324066209001979,
           0.8069714201641025,
           1.0,
           0.883784877298849,
           0.7764297178401327,
           0.704241706250907,
           0.7339421843515892,
           0.704996218751859,
           0.7561060351077878,
           0.6935073053862466,
           0.7314085255461898,
           0.7649424774940459,
           0.7517286104234677,
           0.7601944040729963,
           0.7128708700433477,
           0.6760182988520046,
           0.7098469924259501,
           0.7760048355854632,
           0.7191681706753894,
           0.7017673332095098,
           0.680165289142898,
           0.7592195383829117,
           0.698897109345326,
           0.6661149929569941,
           0.7012830227416802,
           0.6986114092948953,
           0.7080576388603286,
           0.695449243713912,
           0.6588930540722453,
           0.6648010179067592,
           0.6338605587284512,
           0.6229969392743001,
           0.6696229882006238,
           0.637311480674382,
           0.697854832358331
          ],
          [
           0.796995836189814,
           0.9144673433384629,
           0.7701045978216573,
           0.8287187232431421,
           0.7702493306908618,
           0.815274424234405,
           0.842383154809367,
           0.845434154303546,
           0.7889566332061635,
           0.883784877298849,
           1.0000000000000002,
           0.8201176633295464,
           0.6863985710355165,
           0.7606242130412734,
           0.7548961163800647,
           0.787749445692506,
           0.7371184276815259,
           0.7401347451603686,
           0.71681273333761,
           0.7607459572044174,
           0.7405197809944243,
           0.7479199061713644,
           0.7344298359608799,
           0.7518101525459489,
           0.8121812820671992,
           0.7543763577970735,
           0.6999502574596166,
           0.705315245651998,
           0.7897550711464854,
           0.7206932786568536,
           0.7198580122337499,
           0.6911657197295673,
           0.6973422635472311,
           0.7605569695758136,
           0.7374553983421741,
           0.7626695867567463,
           0.687411158278134,
           0.6926605169085094,
           0.6479168096383695,
           0.6804081150403838,
           0.6574433158232549,
           0.681223535607363
          ],
          [
           0.735053532850767,
           0.7850037551737327,
           0.722573428126198,
           0.7435042122503717,
           0.7529254639777982,
           0.8052517798526668,
           0.8054002909189583,
           0.797206658906603,
           0.7184899710670165,
           0.7764297178401327,
           0.8201176633295464,
           0.9999999999999996,
           0.7283193502045269,
           0.7460959170967145,
           0.7062095890107745,
           0.7320040329564614,
           0.7233711024209726,
           0.7548552172369738,
           0.6856123838275816,
           0.7203605610186453,
           0.7755640775146118,
           0.7012974295542176,
           0.6993400757690802,
           0.7208257337952224,
           0.7404223194311363,
           0.7356932746187641,
           0.693210422455905,
           0.6118288747650614,
           0.6806505242469867,
           0.7105587401570925,
           0.6588034439016486,
           0.7023333634332991,
           0.6941583207748776,
           0.7125833570118463,
           0.7012336037122952,
           0.7109931223250696,
           0.613458016717503,
           0.6443722041074347,
           0.6448396557824326,
           0.6404673197210766,
           0.6483505991938079,
           0.6458377778164709
          ],
          [
           0.7371068990824841,
           0.6997107142645125,
           0.7489115484935216,
           0.7009297143087818,
           0.7431983233900414,
           0.7205344415283418,
           0.708386630571437,
           0.6692861801034444,
           0.688823592701201,
           0.704241706250907,
           0.6863985710355165,
           0.7283193502045269,
           0.999999999999999,
           0.7739301278015347,
           0.6821084117629328,
           0.7021880426411218,
           0.7399116871177909,
           0.6803894202640357,
           0.7414005602709588,
           0.7216584953049215,
           0.7197496592282246,
           0.6585676273018202,
           0.7041003200598097,
           0.7274145347808489,
           0.7479116368622319,
           0.7439852551346249,
           0.7316961036687022,
           0.6190353967827582,
           0.655982618761506,
           0.640158990891105,
           0.6059239530617626,
           0.6752413357948435,
           0.6643638239872391,
           0.6707391399435413,
           0.6728348446206113,
           0.6178839996556043,
           0.5681976488633937,
           0.6217641589453659,
           0.625817042662084,
           0.6192783158018145,
           0.601275220055718,
           0.6649323775451781
          ],
          [
           0.7655016613462147,
           0.7472075148280272,
           0.7245724772349538,
           0.754733483258432,
           0.7412802555468019,
           0.7144565203586124,
           0.7546396983385849,
           0.7376732575039799,
           0.720179897457929,
           0.7339421843515892,
           0.7606242130412734,
           0.7460959170967145,
           0.7739301278015347,
           1.0,
           0.7424685079525486,
           0.7820121880450204,
           0.8355469913060509,
           0.7271725580475141,
           0.9015888723177187,
           0.8220017681642888,
           0.726779232131824,
           0.7850365198919926,
           0.8368750557703432,
           0.761089000532002,
           0.8112932004619557,
           0.8572288412813421,
           0.7283870415174215,
           0.6428873912867991,
           0.6689970622118929,
           0.6542193726941538,
           0.6581690864256373,
           0.6603569644064156,
           0.7087299325230556,
           0.692780918139001,
           0.6873513533401397,
           0.6854596926121973,
           0.6204104852841468,
           0.6434678900467525,
           0.6377598436168818,
           0.6545805831222324,
           0.6314021018598528,
           0.783888573487403
          ],
          [
           0.7891504090784536,
           0.7115213970475026,
           0.7244613842441863,
           0.7761005673792425,
           0.7100338437288707,
           0.7649314938804659,
           0.7690903094834851,
           0.7331460743536518,
           0.7377630473006875,
           0.704996218751859,
           0.7548961163800647,
           0.7062095890107745,
           0.6821084117629328,
           0.7424685079525486,
           0.9999999999999998,
           0.8539040318267478,
           0.7599709301811245,
           0.7086221032128819,
           0.6984607148098811,
           0.7624795517821573,
           0.7258040782830467,
           0.8538630147223938,
           0.7240209845911693,
           0.7220071917954916,
           0.7192699920860073,
           0.7351863056041753,
           0.7446433969716152,
           0.6813231961293886,
           0.7254894466246776,
           0.6807993305303233,
           0.6550276338722851,
           0.7032721902516221,
           0.7186053239200207,
           0.7447285649377022,
           0.7019174415713858,
           0.7155150395595764,
           0.7108343489459072,
           0.6538243284196117,
           0.6660865807270766,
           0.6386580995831794,
           0.6180096400486841,
           0.5951741629105591
          ],
          [
           0.7405137085759077,
           0.7527937541614631,
           0.7455064363556075,
           0.8315604334623723,
           0.7738625573255995,
           0.7440629773255512,
           0.7919548476049074,
           0.7131036223935006,
           0.7286615901616851,
           0.7561060351077878,
           0.787749445692506,
           0.7320040329564614,
           0.7021880426411218,
           0.7820121880450204,
           0.8539040318267478,
           1.0,
           0.7405808466632635,
           0.6599869205910341,
           0.7557879319683971,
           0.7374674044694999,
           0.7034353764060178,
           0.7900542075995967,
           0.7024026999620935,
           0.727777146549057,
           0.7697089042396221,
           0.7547779233667803,
           0.7255354109681039,
           0.6732182606688168,
           0.7385466637871326,
           0.6891502548305318,
           0.6895734719987078,
           0.7030325056961857,
           0.6944198656600193,
           0.7291469588090377,
           0.7129798800841063,
           0.745998437833771,
           0.7313274674436412,
           0.6515842233459583,
           0.6302831010216573,
           0.6484286373866219,
           0.6693519441357505,
           0.6797883518098159
          ],
          [
           0.7865325905785687,
           0.7039285675312259,
           0.7288099426611441,
           0.7362089521436597,
           0.6765174370998377,
           0.7327481371193344,
           0.74023171530531,
           0.751325191830001,
           0.7038062620182799,
           0.6935073053862466,
           0.7371184276815259,
           0.7233711024209726,
           0.7399116871177909,
           0.8355469913060509,
           0.7599709301811245,
           0.7405808466632635,
           0.9999999999999998,
           0.7329439872546459,
           0.7645353891477109,
           0.8131185292094434,
           0.7275148784829528,
           0.7237460941539489,
           0.7611654411208573,
           0.7573975409210363,
           0.768083897173111,
           0.9024545260010125,
           0.6944794116100284,
           0.6526003811353074,
           0.6195966183999027,
           0.654472643001668,
           0.6568901727255521,
           0.6235307143579298,
           0.6476562761200297,
           0.7395267233184794,
           0.6623839494291549,
           0.7287738705898876,
           0.5793525505051387,
           0.6516899574890666,
           0.6383710825020381,
           0.6120742819086831,
           0.6135400824645952,
           0.6322822131670417
          ],
          [
           0.7291420614787291,
           0.7408404811493174,
           0.6922353135970538,
           0.6998336673483936,
           0.663776018245577,
           0.7055070064849678,
           0.722257321990734,
           0.8097260234368265,
           0.7047816387927579,
           0.7314085255461898,
           0.7401347451603686,
           0.7548552172369738,
           0.6803894202640357,
           0.7271725580475141,
           0.7086221032128819,
           0.6599869205910341,
           0.7329439872546459,
           1.0000000000000004,
           0.7178098682718266,
           0.7604444505145906,
           0.7613134943370063,
           0.7498932840248955,
           0.6820791026570175,
           0.7247952032727789,
           0.7206362377447108,
           0.7035560873659945,
           0.6912916482827811,
           0.6728606323266073,
           0.6659473659083845,
           0.6091745619630832,
           0.5420345071573808,
           0.6216017232775114,
           0.6518482558264683,
           0.7273234754073179,
           0.6471025832134971,
           0.7013972169026264,
           0.5649734227400445,
           0.6205189121413781,
           0.5760646757217611,
           0.6475634570252857,
           0.5998672141995258,
           0.6667834126572851
          ],
          [
           0.6876813951592271,
           0.7029241405843847,
           0.7484513743113779,
           0.6996008580580059,
           0.7607197043581607,
           0.6963347006754271,
           0.7115916376999535,
           0.6533564335725057,
           0.7367389855017912,
           0.7649424774940459,
           0.71681273333761,
           0.6856123838275816,
           0.7414005602709588,
           0.9015888723177187,
           0.6984607148098811,
           0.7557879319683971,
           0.7645353891477109,
           0.7178098682718266,
           1.0000000000000004,
           0.7493858630722617,
           0.677907652215785,
           0.7660742666167152,
           0.7688460118165271,
           0.7190582724309715,
           0.8142239701918041,
           0.827498284011754,
           0.6900013614072797,
           0.62824861568752,
           0.6598441532063786,
           0.6238676147600346,
           0.6408320848230336,
           0.6435044436245738,
           0.7049582058957762,
           0.6711511833775754,
           0.6530512097108109,
           0.6428711045909385,
           0.5949546967946849,
           0.6021669066342246,
           0.6127802075525368,
           0.614668833069757,
           0.6178407521010393,
           0.8158657437588965
          ],
          [
           0.779073508955793,
           0.7705296965307437,
           0.7374978757645106,
           0.7344620666029836,
           0.7077633380820698,
           0.6925588206225234,
           0.7225931621436508,
           0.7400473988471861,
           0.7298435951906176,
           0.7517286104234677,
           0.7607459572044174,
           0.7203605610186453,
           0.7216584953049215,
           0.8220017681642888,
           0.7624795517821573,
           0.7374674044694999,
           0.8131185292094434,
           0.7604444505145906,
           0.7493858630722617,
           0.9999999999999998,
           0.7295809175159762,
           0.7381212195074568,
           0.7997918453433882,
           0.7401806868818346,
           0.7646549630874384,
           0.7747262441061114,
           0.6800769481400456,
           0.6310871686612008,
           0.6572540796333334,
           0.6575645372626864,
           0.6214292558354245,
           0.6442948875629395,
           0.6945464814202278,
           0.7075215446716685,
           0.6614161433859411,
           0.6651410866033327,
           0.6487772008891601,
           0.6674119230324375,
           0.623111105446898,
           0.6854916225822216,
           0.6369821336763231,
           0.663069917109937
          ],
          [
           0.7332706443313319,
           0.7335231610332007,
           0.7561931527443899,
           0.7248286521706956,
           0.7599135989247601,
           0.7540191007304631,
           0.7373212694001745,
           0.700108291378756,
           0.7339301863919445,
           0.7601944040729963,
           0.7405197809944243,
           0.7755640775146118,
           0.7197496592282246,
           0.726779232131824,
           0.7258040782830467,
           0.7034353764060178,
           0.7275148784829528,
           0.7613134943370063,
           0.677907652215785,
           0.7295809175159762,
           1.0000000000000004,
           0.6912866760532248,
           0.65224414537863,
           0.6981264377893308,
           0.7080190086380788,
           0.726660869279135,
           0.6761323533112141,
           0.6366449872816154,
           0.6799863786233915,
           0.6940903611090679,
           0.5976362956526211,
           0.6384371660623744,
           0.7287676983826081,
           0.6826300082877326,
           0.6665978099773211,
           0.6534278385321233,
           0.6171723862528655,
           0.5995712476961601,
           0.6090351973972292,
           0.6646464439224113,
           0.5972002810355836,
           0.6217908388019524
          ],
          [
           0.6993779459292846,
           0.7035750875826872,
           0.6663075795317718,
           0.7155510546262032,
           0.685644700847231,
           0.6832114970308629,
           0.7249520976808252,
           0.7371208870708945,
           0.7134032765676972,
           0.7128708700433477,
           0.7479199061713644,
           0.7012974295542176,
           0.6585676273018202,
           0.7850365198919926,
           0.8538630147223938,
           0.7900542075995967,
           0.7237460941539489,
           0.7498932840248955,
           0.7660742666167152,
           0.7381212195074568,
           0.6912866760532248,
           0.9999999999999999,
           0.6839329423035911,
           0.7157984050557646,
           0.7699192520116219,
           0.7138978999319079,
           0.6904882415293478,
           0.642306712197511,
           0.6872594671347085,
           0.6151787453625992,
           0.5792928123555541,
           0.6782852802759969,
           0.6962719507925821,
           0.6980172073877318,
           0.6543186945549755,
           0.6809835221278713,
           0.6563681895287268,
           0.5958100076713011,
           0.5818278082302919,
           0.6259641545341825,
           0.6218470628967644,
           0.7552555395566848
          ],
          [
           0.7241479412194209,
           0.7230293106998834,
           0.669133904146117,
           0.7213624172197266,
           0.63427016015982,
           0.6857759965440342,
           0.6921232751952355,
           0.7272059840398832,
           0.6495791765827132,
           0.6760182988520046,
           0.7344298359608799,
           0.6993400757690802,
           0.7041003200598097,
           0.8368750557703432,
           0.7240209845911693,
           0.7024026999620935,
           0.7611654411208573,
           0.6820791026570175,
           0.7688460118165271,
           0.7997918453433882,
           0.65224414537863,
           0.6839329423035911,
           0.9999999999999998,
           0.6930246113851328,
           0.7135388739050357,
           0.8190060304043965,
           0.667863729346357,
           0.617988026152271,
           0.6410035416048163,
           0.6569521723508653,
           0.65155232684846,
           0.65808181221419,
           0.66869925978976,
           0.664540822091761,
           0.6918141582589084,
           0.6931752678571621,
           0.6137692473612681,
           0.6409369688156199,
           0.657224747921624,
           0.6378542760080557,
           0.6376295453677674,
           0.5643271015551397
          ],
          [
           0.7625264554130013,
           0.7421400113086285,
           0.7192879671131303,
           0.7063300829520155,
           0.7090942683192039,
           0.7090504939761311,
           0.7636461705590151,
           0.7249699562263634,
           0.7307666958504192,
           0.7098469924259501,
           0.7518101525459489,
           0.7208257337952224,
           0.7274145347808489,
           0.761089000532002,
           0.7220071917954916,
           0.727777146549057,
           0.7573975409210363,
           0.7247952032727789,
           0.7190582724309715,
           0.7401806868818346,
           0.6981264377893308,
           0.7157984050557646,
           0.6930246113851328,
           1.0000000000000004,
           0.71292616632685,
           0.7317784953615912,
           0.6666405073468518,
           0.6743300492181978,
           0.6480796522829446,
           0.6470041642460356,
           0.5607193883631478,
           0.6285610559418071,
           0.6681856135060726,
           0.7068282728066513,
           0.640338653714315,
           0.6660505532514824,
           0.5703860897096168,
           0.5899754906036474,
           0.6197780565295518,
           0.6402217796677825,
           0.5497688524343405,
           0.6867199359920744
          ],
          [
           0.7187223548843564,
           0.7601492685204492,
           0.7376567110692479,
           0.7381389065517768,
           0.7772827557712292,
           0.7278896702631072,
           0.7582583457090515,
           0.72306976817825,
           0.7175215573172384,
           0.7760048355854632,
           0.8121812820671992,
           0.7404223194311363,
           0.7479116368622319,
           0.8112932004619557,
           0.7192699920860073,
           0.7697089042396221,
           0.768083897173111,
           0.7206362377447108,
           0.8142239701918041,
           0.7646549630874384,
           0.7080190086380788,
           0.7699192520116219,
           0.7135388739050357,
           0.71292616632685,
           1.0,
           0.7664458143881964,
           0.7060690498663272,
           0.6524818123119278,
           0.7299255486059477,
           0.6659041966394487,
           0.6613008225493884,
           0.6969644860913164,
           0.6935026725276288,
           0.7214697463245328,
           0.6999612690943472,
           0.698321203257315,
           0.6166941423065652,
           0.6528704887286392,
           0.6230504040960861,
           0.6569100042635225,
           0.633088584325904,
           0.7645234195306998
          ],
          [
           0.7049556008384634,
           0.7147384329853719,
           0.6995542096839564,
           0.7384976209144463,
           0.7037792110858739,
           0.7280996983933763,
           0.7405767241270845,
           0.731252289647714,
           0.6779558715158855,
           0.7191681706753894,
           0.7543763577970735,
           0.7356932746187641,
           0.7439852551346249,
           0.8572288412813421,
           0.7351863056041753,
           0.7547779233667803,
           0.9024545260010125,
           0.7035560873659945,
           0.827498284011754,
           0.7747262441061114,
           0.726660869279135,
           0.7138978999319079,
           0.8190060304043965,
           0.7317784953615912,
           0.7664458143881964,
           1.0000000000000002,
           0.6950556516529758,
           0.6452452844599399,
           0.65421546518326,
           0.6493952671439733,
           0.6497669483305724,
           0.6406484713753934,
           0.6884278517704843,
           0.7162118851775351,
           0.6990640551329408,
           0.721575048196712,
           0.6018058553335821,
           0.6146653143060121,
           0.6579973308187633,
           0.5984185087843165,
           0.6290127818551885,
           0.6264292049712695
          ],
          [
           0.7210193520436738,
           0.7151891532748337,
           0.6739886705627638,
           0.7345178135935864,
           0.7104495853083364,
           0.715938967401224,
           0.7312243781790343,
           0.6932321669680621,
           0.6443620239568917,
           0.7017673332095098,
           0.6999502574596166,
           0.693210422455905,
           0.7316961036687022,
           0.7283870415174215,
           0.7446433969716152,
           0.7255354109681039,
           0.6944794116100284,
           0.6912916482827811,
           0.6900013614072797,
           0.6800769481400456,
           0.6761323533112141,
           0.6904882415293478,
           0.667863729346357,
           0.6666405073468518,
           0.7060690498663272,
           0.6950556516529758,
           0.9999999999999999,
           0.6565649824799922,
           0.8405093818470593,
           0.6129207278437772,
           0.6568974458001218,
           0.6818280487382737,
           0.6236854860539044,
           0.6808338680400572,
           0.6767115850753279,
           0.6878652302405717,
           0.5943057436459092,
           0.6333271375606676,
           0.6359709851353932,
           0.6410130495379871,
           0.6087418561002551,
           0.6279419793747701
          ],
          [
           0.7201734919914877,
           0.6746414934020574,
           0.698801552901176,
           0.7109503579681047,
           0.6505663089012554,
           0.7073540634840062,
           0.6929002357265537,
           0.6999945686619189,
           0.6998422780105933,
           0.680165289142898,
           0.705315245651998,
           0.6118288747650614,
           0.6190353967827582,
           0.6428873912867991,
           0.6813231961293886,
           0.6732182606688168,
           0.6526003811353074,
           0.6728606323266073,
           0.62824861568752,
           0.6310871686612008,
           0.6366449872816154,
           0.642306712197511,
           0.617988026152271,
           0.6743300492181978,
           0.6524818123119278,
           0.6452452844599399,
           0.6565649824799922,
           1.0000000000000002,
           0.6895996819964547,
           0.60956436150421,
           0.6103664920437559,
           0.5843324589070187,
           0.6132142576920334,
           0.6673208858268993,
           0.6204905187521229,
           0.6745184640789492,
           0.5771316587161592,
           0.5894265682167149,
           0.5805848704069989,
           0.5769256856827576,
           0.5701780697935288,
           0.5581577048575392
          ],
          [
           0.7508199620089275,
           0.7640424864848078,
           0.7330569310763368,
           0.7684259126373629,
           0.739075980930699,
           0.7512093748281801,
           0.74329352945592,
           0.671546317079367,
           0.7167175618901824,
           0.7592195383829117,
           0.7897550711464854,
           0.6806505242469867,
           0.655982618761506,
           0.6689970622118929,
           0.7254894466246776,
           0.7385466637871326,
           0.6195966183999027,
           0.6659473659083845,
           0.6598441532063786,
           0.6572540796333334,
           0.6799863786233915,
           0.6872594671347085,
           0.6410035416048163,
           0.6480796522829446,
           0.7299255486059477,
           0.65421546518326,
           0.8405093818470593,
           0.6895996819964547,
           0.9999999999999996,
           0.6626419770961305,
           0.712135960061618,
           0.692977489900291,
           0.6336244241743977,
           0.7121354896595999,
           0.6897457734787975,
           0.6625292353723091,
           0.6191702505794014,
           0.6430037420791967,
           0.5973396585966428,
           0.6490532135757814,
           0.5970917449114633,
           0.6412470790791287
          ],
          [
           0.7380754214182406,
           0.7103299024821415,
           0.6914777329278801,
           0.7086240432497748,
           0.7026955817406987,
           0.7640550011909991,
           0.7447427356161765,
           0.6806823336401595,
           0.6893604423085602,
           0.698897109345326,
           0.7206932786568536,
           0.7105587401570925,
           0.640158990891105,
           0.6542193726941538,
           0.6807993305303233,
           0.6891502548305318,
           0.654472643001668,
           0.6091745619630832,
           0.6238676147600346,
           0.6575645372626864,
           0.6940903611090679,
           0.6151787453625992,
           0.6569521723508653,
           0.6470041642460356,
           0.6659041966394487,
           0.6493952671439733,
           0.6129207278437772,
           0.60956436150421,
           0.6626419770961305,
           0.9999999999999997,
           0.699941753516484,
           0.6014079533477455,
           0.6432380895591414,
           0.6554804120587123,
           0.6735425596877687,
           0.6213316078591242,
           0.5901856588868324,
           0.6386669229843474,
           0.5680017678080118,
           0.6218983258886099,
           0.5879826645411959,
           0.5427542934073464
          ],
          [
           0.7173174175997921,
           0.6681321610830766,
           0.6935292103891527,
           0.7241787095663477,
           0.6557477254243438,
           0.7362500662394116,
           0.7114084280809432,
           0.6270587670899156,
           0.688554496506147,
           0.6661149929569941,
           0.7198580122337499,
           0.6588034439016486,
           0.6059239530617626,
           0.6581690864256373,
           0.6550276338722851,
           0.6895734719987078,
           0.6568901727255521,
           0.5420345071573808,
           0.6408320848230336,
           0.6214292558354245,
           0.5976362956526211,
           0.5792928123555541,
           0.65155232684846,
           0.5607193883631478,
           0.6613008225493884,
           0.6497669483305724,
           0.6568974458001218,
           0.6103664920437559,
           0.712135960061618,
           0.699941753516484,
           1.0,
           0.5964864774006262,
           0.5742275447706927,
           0.66493758193121,
           0.6769999958432857,
           0.7118948198678761,
           0.6252174030512438,
           0.6373027131643119,
           0.5546738742289115,
           0.5735864503709842,
           0.6251779338107437,
           0.5360859729507574
          ],
          [
           0.6835601861275313,
           0.6890229115534261,
           0.6776386899118991,
           0.6533676413489742,
           0.6715135703242535,
           0.6761719067247399,
           0.6863785561268927,
           0.6420578094379338,
           0.639517555331909,
           0.7012830227416802,
           0.6911657197295673,
           0.7023333634332991,
           0.6752413357948435,
           0.6603569644064156,
           0.7032721902516221,
           0.7030325056961857,
           0.6235307143579298,
           0.6216017232775114,
           0.6435044436245738,
           0.6442948875629395,
           0.6384371660623744,
           0.6782852802759969,
           0.65808181221419,
           0.6285610559418071,
           0.6969644860913164,
           0.6406484713753934,
           0.6818280487382737,
           0.5843324589070187,
           0.692977489900291,
           0.6014079533477455,
           0.5964864774006262,
           0.9999999999999988,
           0.6173907812660012,
           0.6557856125811432,
           0.6512103165443834,
           0.6244789940341672,
           0.5841203466303255,
           0.5831911539078709,
           0.5905022855427972,
           0.5998516445675421,
           0.6149382101455791,
           0.6051620531099344
          ],
          [
           0.6725138366817087,
           0.6655175973981804,
           0.689044885380382,
           0.7134061204666279,
           0.7083339096477751,
           0.6935794252011135,
           0.7091648526983421,
           0.6222874681673286,
           0.7014412003458611,
           0.6986114092948953,
           0.6973422635472311,
           0.6941583207748776,
           0.6643638239872391,
           0.7087299325230556,
           0.7186053239200207,
           0.6944198656600193,
           0.6476562761200297,
           0.6518482558264683,
           0.7049582058957762,
           0.6945464814202278,
           0.7287676983826081,
           0.6962719507925821,
           0.66869925978976,
           0.6681856135060726,
           0.6935026725276288,
           0.6884278517704843,
           0.6236854860539044,
           0.6132142576920334,
           0.6336244241743977,
           0.6432380895591414,
           0.5742275447706927,
           0.6173907812660012,
           0.9999999999999997,
           0.6508847523387141,
           0.659315680078842,
           0.6241838125768818,
           0.6211161404852309,
           0.6072080871277619,
           0.5859392448735412,
           0.5980110597139991,
           0.5676004045450808,
           0.5991580611009893
          ],
          [
           0.7443582365983844,
           0.7264198085542801,
           0.7106545884951116,
           0.733817626046103,
           0.6710517935399267,
           0.7284351409402194,
           0.7336721807084898,
           0.7253557347238042,
           0.7301510234298185,
           0.7080576388603286,
           0.7605569695758136,
           0.7125833570118463,
           0.6707391399435413,
           0.692780918139001,
           0.7447285649377022,
           0.7291469588090377,
           0.7395267233184794,
           0.7273234754073179,
           0.6711511833775754,
           0.7075215446716685,
           0.6826300082877326,
           0.6980172073877318,
           0.664540822091761,
           0.7068282728066513,
           0.7214697463245328,
           0.7162118851775351,
           0.6808338680400572,
           0.6673208858268993,
           0.7121354896595999,
           0.6554804120587123,
           0.66493758193121,
           0.6557856125811432,
           0.6508847523387141,
           1.0,
           0.6767860320841406,
           0.6985525863902737,
           0.6199741609021512,
           0.6452552576354307,
           0.6372588619615067,
           0.6060575623720625,
           0.5710922254486104,
           0.6106557267772825
          ],
          [
           0.6829927850355666,
           0.6990174387904204,
           0.6600614412922414,
           0.7100969342589478,
           0.6884537372202699,
           0.6759152455519312,
           0.678770016995795,
           0.6356340811329562,
           0.6366231196089733,
           0.695449243713912,
           0.7374553983421741,
           0.7012336037122952,
           0.6728348446206113,
           0.6873513533401397,
           0.7019174415713858,
           0.7129798800841063,
           0.6623839494291549,
           0.6471025832134971,
           0.6530512097108109,
           0.6614161433859411,
           0.6665978099773211,
           0.6543186945549755,
           0.6918141582589084,
           0.640338653714315,
           0.6999612690943472,
           0.6990640551329408,
           0.6767115850753279,
           0.6204905187521229,
           0.6897457734787975,
           0.6735425596877687,
           0.6769999958432857,
           0.6512103165443834,
           0.659315680078842,
           0.6767860320841406,
           1.0,
           0.6491979051809555,
           0.6398891256852068,
           0.6227990521004546,
           0.6385580427267308,
           0.6022057224322683,
           0.6479903111651655,
           0.5713746841085321
          ],
          [
           0.6813347657278532,
           0.7013622848088417,
           0.6481965634504407,
           0.7823478911823285,
           0.6039117225201873,
           0.7276016784146973,
           0.7362463193262474,
           0.7932422656776372,
           0.630044121837056,
           0.6588930540722453,
           0.7626695867567463,
           0.7109931223250696,
           0.6178839996556043,
           0.6854596926121973,
           0.7155150395595764,
           0.745998437833771,
           0.7287738705898876,
           0.7013972169026264,
           0.6428711045909385,
           0.6651410866033327,
           0.6534278385321233,
           0.6809835221278713,
           0.6931752678571621,
           0.6660505532514824,
           0.698321203257315,
           0.721575048196712,
           0.6878652302405717,
           0.6745184640789492,
           0.6625292353723091,
           0.6213316078591242,
           0.7118948198678761,
           0.6244789940341672,
           0.6241838125768818,
           0.6985525863902737,
           0.6491979051809555,
           0.9999999999999992,
           0.593240021272097,
           0.6073327613361341,
           0.5963485204207236,
           0.594714217411666,
           0.6367413575039678,
           0.5694654829000341
          ],
          [
           0.6313555215737314,
           0.6656919487349815,
           0.6457101914069034,
           0.6996001441337253,
           0.6405861909445008,
           0.6331522971917163,
           0.6297700903840003,
           0.5819101216128981,
           0.6466825938856733,
           0.6648010179067592,
           0.687411158278134,
           0.613458016717503,
           0.5681976488633937,
           0.6204104852841468,
           0.7108343489459072,
           0.7313274674436412,
           0.5793525505051387,
           0.5649734227400445,
           0.5949546967946849,
           0.6487772008891601,
           0.6171723862528655,
           0.6563681895287268,
           0.6137692473612681,
           0.5703860897096168,
           0.6166941423065652,
           0.6018058553335821,
           0.5943057436459092,
           0.5771316587161592,
           0.6191702505794014,
           0.5901856588868324,
           0.6252174030512438,
           0.5841203466303255,
           0.6211161404852309,
           0.6199741609021512,
           0.6398891256852068,
           0.593240021272097,
           0.9999999999999991,
           0.6287301173282274,
           0.572801503121088,
           0.6122967339343673,
           0.6486257982983714,
           0.5320629231090864
          ],
          [
           0.7411731986251132,
           0.6436317662286589,
           0.7132443451206332,
           0.7186998323614828,
           0.6410959350524594,
           0.6779893370587963,
           0.6432895818550647,
           0.6381807953911687,
           0.6697119645980694,
           0.6338605587284512,
           0.6926605169085094,
           0.6443722041074347,
           0.6217641589453659,
           0.6434678900467525,
           0.6538243284196117,
           0.6515842233459583,
           0.6516899574890666,
           0.6205189121413781,
           0.6021669066342246,
           0.6674119230324375,
           0.5995712476961601,
           0.5958100076713011,
           0.6409369688156199,
           0.5899754906036474,
           0.6528704887286392,
           0.6146653143060121,
           0.6333271375606676,
           0.5894265682167149,
           0.6430037420791967,
           0.6386669229843474,
           0.6373027131643119,
           0.5831911539078709,
           0.6072080871277619,
           0.6452552576354307,
           0.6227990521004546,
           0.6073327613361341,
           0.6287301173282274,
           0.9999999999999998,
           0.555651258932155,
           0.6257631107327708,
           0.6337379729292318,
           0.508780564034105
          ],
          [
           0.6469739905353659,
           0.6322582953440823,
           0.6214736553278055,
           0.6575041039266183,
           0.6020169358636435,
           0.6271993448271572,
           0.6092797391235852,
           0.6019217695987793,
           0.5911781498855824,
           0.6229969392743001,
           0.6479168096383695,
           0.6448396557824326,
           0.625817042662084,
           0.6377598436168818,
           0.6660865807270766,
           0.6302831010216573,
           0.6383710825020381,
           0.5760646757217611,
           0.6127802075525368,
           0.623111105446898,
           0.6090351973972292,
           0.5818278082302919,
           0.657224747921624,
           0.6197780565295518,
           0.6230504040960861,
           0.6579973308187633,
           0.6359709851353932,
           0.5805848704069989,
           0.5973396585966428,
           0.5680017678080118,
           0.5546738742289115,
           0.5905022855427972,
           0.5859392448735412,
           0.6372588619615067,
           0.6385580427267308,
           0.5963485204207236,
           0.572801503121088,
           0.555651258932155,
           1.0000000000000009,
           0.5427861116770278,
           0.5487407109633932,
           0.47504177900140876
          ],
          [
           0.6968250297778078,
           0.7080229698507421,
           0.6809086898199739,
           0.6865903312476409,
           0.6357462517349102,
           0.6296299107721849,
           0.635532684188465,
           0.6310398531363777,
           0.6808000800220677,
           0.6696229882006238,
           0.6804081150403838,
           0.6404673197210766,
           0.6192783158018145,
           0.6545805831222324,
           0.6386580995831794,
           0.6484286373866219,
           0.6120742819086831,
           0.6475634570252857,
           0.614668833069757,
           0.6854916225822216,
           0.6646464439224113,
           0.6259641545341825,
           0.6378542760080557,
           0.6402217796677825,
           0.6569100042635225,
           0.5984185087843165,
           0.6410130495379871,
           0.5769256856827576,
           0.6490532135757814,
           0.6218983258886099,
           0.5735864503709842,
           0.5998516445675421,
           0.5980110597139991,
           0.6060575623720625,
           0.6022057224322683,
           0.594714217411666,
           0.6122967339343673,
           0.6257631107327708,
           0.5427861116770278,
           0.9999999999999996,
           0.594462317968366,
           0.5936267035822274
          ],
          [
           0.630463837116722,
           0.6245487721726641,
           0.6394478151930963,
           0.6521171961852124,
           0.6377565529722455,
           0.5971202369369221,
           0.6134733690025909,
           0.5918957794994836,
           0.5851679536213307,
           0.637311480674382,
           0.6574433158232549,
           0.6483505991938079,
           0.601275220055718,
           0.6314021018598528,
           0.6180096400486841,
           0.6693519441357505,
           0.6135400824645952,
           0.5998672141995258,
           0.6178407521010393,
           0.6369821336763231,
           0.5972002810355836,
           0.6218470628967644,
           0.6376295453677674,
           0.5497688524343405,
           0.633088584325904,
           0.6290127818551885,
           0.6087418561002551,
           0.5701780697935288,
           0.5970917449114633,
           0.5879826645411959,
           0.6251779338107437,
           0.6149382101455791,
           0.5676004045450808,
           0.5710922254486104,
           0.6479903111651655,
           0.6367413575039678,
           0.6486257982983714,
           0.6337379729292318,
           0.5487407109633932,
           0.594462317968366,
           0.9999999999999999,
           0.5405725097077572
          ],
          [
           0.6170167131908793,
           0.696708022583581,
           0.6551311950395395,
           0.5991925702946612,
           0.6792519834997779,
           0.5973306545855125,
           0.6297131469296097,
           0.5877449729215458,
           0.66049582950127,
           0.697854832358331,
           0.681223535607363,
           0.6458377778164709,
           0.6649323775451781,
           0.783888573487403,
           0.5951741629105591,
           0.6797883518098159,
           0.6322822131670417,
           0.6667834126572851,
           0.8158657437588965,
           0.663069917109937,
           0.6217908388019524,
           0.7552555395566848,
           0.5643271015551397,
           0.6867199359920744,
           0.7645234195306998,
           0.6264292049712695,
           0.6279419793747701,
           0.5581577048575392,
           0.6412470790791287,
           0.5427542934073464,
           0.5360859729507574,
           0.6051620531099344,
           0.5991580611009893,
           0.6106557267772825,
           0.5713746841085321,
           0.5694654829000341,
           0.5320629231090864,
           0.508780564034105,
           0.47504177900140876,
           0.5936267035822274,
           0.5405725097077572,
           1.0000000000000004
          ]
         ],
         "type": "heatmap",
         "xaxis": "x",
         "yaxis": "y",
         "hovertemplate": "x: %{x}<br>y: %{y}<br>Similarity Score: %{z}<extra></extra>"
        }
       ],
       "layout": {
        "template": {
         "data": {
          "histogram2dcontour": [
           {
            "type": "histogram2dcontour",
            "colorbar": {
             "outlinewidth": 0,
             "ticks": ""
            },
            "colorscale": [
             [
              0.0,
              "#0d0887"
             ],
             [
              0.1111111111111111,
              "#46039f"
             ],
             [
              0.2222222222222222,
              "#7201a8"
             ],
             [
              0.3333333333333333,
              "#9c179e"
             ],
             [
              0.4444444444444444,
              "#bd3786"
             ],
             [
              0.5555555555555556,
              "#d8576b"
             ],
             [
              0.6666666666666666,
              "#ed7953"
             ],
             [
              0.7777777777777778,
              "#fb9f3a"
             ],
             [
              0.8888888888888888,
              "#fdca26"
             ],
             [
              1.0,
              "#f0f921"
             ]
            ]
           }
          ],
          "choropleth": [
           {
            "type": "choropleth",
            "colorbar": {
             "outlinewidth": 0,
             "ticks": ""
            }
           }
          ],
          "histogram2d": [
           {
            "type": "histogram2d",
            "colorbar": {
             "outlinewidth": 0,
             "ticks": ""
            },
            "colorscale": [
             [
              0.0,
              "#0d0887"
             ],
             [
              0.1111111111111111,
              "#46039f"
             ],
             [
              0.2222222222222222,
              "#7201a8"
             ],
             [
              0.3333333333333333,
              "#9c179e"
             ],
             [
              0.4444444444444444,
              "#bd3786"
             ],
             [
              0.5555555555555556,
              "#d8576b"
             ],
             [
              0.6666666666666666,
              "#ed7953"
             ],
             [
              0.7777777777777778,
              "#fb9f3a"
             ],
             [
              0.8888888888888888,
              "#fdca26"
             ],
             [
              1.0,
              "#f0f921"
             ]
            ]
           }
          ],
          "heatmap": [
           {
            "type": "heatmap",
            "colorbar": {
             "outlinewidth": 0,
             "ticks": ""
            },
            "colorscale": [
             [
              0.0,
              "#0d0887"
             ],
             [
              0.1111111111111111,
              "#46039f"
             ],
             [
              0.2222222222222222,
              "#7201a8"
             ],
             [
              0.3333333333333333,
              "#9c179e"
             ],
             [
              0.4444444444444444,
              "#bd3786"
             ],
             [
              0.5555555555555556,
              "#d8576b"
             ],
             [
              0.6666666666666666,
              "#ed7953"
             ],
             [
              0.7777777777777778,
              "#fb9f3a"
             ],
             [
              0.8888888888888888,
              "#fdca26"
             ],
             [
              1.0,
              "#f0f921"
             ]
            ]
           }
          ],
          "heatmapgl": [
           {
            "type": "heatmapgl",
            "colorbar": {
             "outlinewidth": 0,
             "ticks": ""
            },
            "colorscale": [
             [
              0.0,
              "#0d0887"
             ],
             [
              0.1111111111111111,
              "#46039f"
             ],
             [
              0.2222222222222222,
              "#7201a8"
             ],
             [
              0.3333333333333333,
              "#9c179e"
             ],
             [
              0.4444444444444444,
              "#bd3786"
             ],
             [
              0.5555555555555556,
              "#d8576b"
             ],
             [
              0.6666666666666666,
              "#ed7953"
             ],
             [
              0.7777777777777778,
              "#fb9f3a"
             ],
             [
              0.8888888888888888,
              "#fdca26"
             ],
             [
              1.0,
              "#f0f921"
             ]
            ]
           }
          ],
          "contourcarpet": [
           {
            "type": "contourcarpet",
            "colorbar": {
             "outlinewidth": 0,
             "ticks": ""
            }
           }
          ],
          "contour": [
           {
            "type": "contour",
            "colorbar": {
             "outlinewidth": 0,
             "ticks": ""
            },
            "colorscale": [
             [
              0.0,
              "#0d0887"
             ],
             [
              0.1111111111111111,
              "#46039f"
             ],
             [
              0.2222222222222222,
              "#7201a8"
             ],
             [
              0.3333333333333333,
              "#9c179e"
             ],
             [
              0.4444444444444444,
              "#bd3786"
             ],
             [
              0.5555555555555556,
              "#d8576b"
             ],
             [
              0.6666666666666666,
              "#ed7953"
             ],
             [
              0.7777777777777778,
              "#fb9f3a"
             ],
             [
              0.8888888888888888,
              "#fdca26"
             ],
             [
              1.0,
              "#f0f921"
             ]
            ]
           }
          ],
          "surface": [
           {
            "type": "surface",
            "colorbar": {
             "outlinewidth": 0,
             "ticks": ""
            },
            "colorscale": [
             [
              0.0,
              "#0d0887"
             ],
             [
              0.1111111111111111,
              "#46039f"
             ],
             [
              0.2222222222222222,
              "#7201a8"
             ],
             [
              0.3333333333333333,
              "#9c179e"
             ],
             [
              0.4444444444444444,
              "#bd3786"
             ],
             [
              0.5555555555555556,
              "#d8576b"
             ],
             [
              0.6666666666666666,
              "#ed7953"
             ],
             [
              0.7777777777777778,
              "#fb9f3a"
             ],
             [
              0.8888888888888888,
              "#fdca26"
             ],
             [
              1.0,
              "#f0f921"
             ]
            ]
           }
          ],
          "mesh3d": [
           {
            "type": "mesh3d",
            "colorbar": {
             "outlinewidth": 0,
             "ticks": ""
            }
           }
          ],
          "scatter": [
           {
            "fillpattern": {
             "fillmode": "overlay",
             "size": 10,
             "solidity": 0.2
            },
            "type": "scatter"
           }
          ],
          "parcoords": [
           {
            "type": "parcoords",
            "line": {
             "colorbar": {
              "outlinewidth": 0,
              "ticks": ""
             }
            }
           }
          ],
          "scatterpolargl": [
           {
            "type": "scatterpolargl",
            "marker": {
             "colorbar": {
              "outlinewidth": 0,
              "ticks": ""
             }
            }
           }
          ],
          "bar": [
           {
            "error_x": {
             "color": "#2a3f5f"
            },
            "error_y": {
             "color": "#2a3f5f"
            },
            "marker": {
             "line": {
              "color": "#E5ECF6",
              "width": 0.5
             },
             "pattern": {
              "fillmode": "overlay",
              "size": 10,
              "solidity": 0.2
             }
            },
            "type": "bar"
           }
          ],
          "scattergeo": [
           {
            "type": "scattergeo",
            "marker": {
             "colorbar": {
              "outlinewidth": 0,
              "ticks": ""
             }
            }
           }
          ],
          "scatterpolar": [
           {
            "type": "scatterpolar",
            "marker": {
             "colorbar": {
              "outlinewidth": 0,
              "ticks": ""
             }
            }
           }
          ],
          "histogram": [
           {
            "marker": {
             "pattern": {
              "fillmode": "overlay",
              "size": 10,
              "solidity": 0.2
             }
            },
            "type": "histogram"
           }
          ],
          "scattergl": [
           {
            "type": "scattergl",
            "marker": {
             "colorbar": {
              "outlinewidth": 0,
              "ticks": ""
             }
            }
           }
          ],
          "scatter3d": [
           {
            "type": "scatter3d",
            "line": {
             "colorbar": {
              "outlinewidth": 0,
              "ticks": ""
             }
            },
            "marker": {
             "colorbar": {
              "outlinewidth": 0,
              "ticks": ""
             }
            }
           }
          ],
          "scattermapbox": [
           {
            "type": "scattermapbox",
            "marker": {
             "colorbar": {
              "outlinewidth": 0,
              "ticks": ""
             }
            }
           }
          ],
          "scatterternary": [
           {
            "type": "scatterternary",
            "marker": {
             "colorbar": {
              "outlinewidth": 0,
              "ticks": ""
             }
            }
           }
          ],
          "scattercarpet": [
           {
            "type": "scattercarpet",
            "marker": {
             "colorbar": {
              "outlinewidth": 0,
              "ticks": ""
             }
            }
           }
          ],
          "carpet": [
           {
            "aaxis": {
             "endlinecolor": "#2a3f5f",
             "gridcolor": "white",
             "linecolor": "white",
             "minorgridcolor": "white",
             "startlinecolor": "#2a3f5f"
            },
            "baxis": {
             "endlinecolor": "#2a3f5f",
             "gridcolor": "white",
             "linecolor": "white",
             "minorgridcolor": "white",
             "startlinecolor": "#2a3f5f"
            },
            "type": "carpet"
           }
          ],
          "table": [
           {
            "cells": {
             "fill": {
              "color": "#EBF0F8"
             },
             "line": {
              "color": "white"
             }
            },
            "header": {
             "fill": {
              "color": "#C8D4E3"
             },
             "line": {
              "color": "white"
             }
            },
            "type": "table"
           }
          ],
          "barpolar": [
           {
            "marker": {
             "line": {
              "color": "#E5ECF6",
              "width": 0.5
             },
             "pattern": {
              "fillmode": "overlay",
              "size": 10,
              "solidity": 0.2
             }
            },
            "type": "barpolar"
           }
          ],
          "pie": [
           {
            "automargin": true,
            "type": "pie"
           }
          ]
         },
         "layout": {
          "autotypenumbers": "strict",
          "colorway": [
           "#636efa",
           "#EF553B",
           "#00cc96",
           "#ab63fa",
           "#FFA15A",
           "#19d3f3",
           "#FF6692",
           "#B6E880",
           "#FF97FF",
           "#FECB52"
          ],
          "font": {
           "color": "#2a3f5f"
          },
          "hovermode": "closest",
          "hoverlabel": {
           "align": "left"
          },
          "paper_bgcolor": "white",
          "plot_bgcolor": "#E5ECF6",
          "polar": {
           "bgcolor": "#E5ECF6",
           "angularaxis": {
            "gridcolor": "white",
            "linecolor": "white",
            "ticks": ""
           },
           "radialaxis": {
            "gridcolor": "white",
            "linecolor": "white",
            "ticks": ""
           }
          },
          "ternary": {
           "bgcolor": "#E5ECF6",
           "aaxis": {
            "gridcolor": "white",
            "linecolor": "white",
            "ticks": ""
           },
           "baxis": {
            "gridcolor": "white",
            "linecolor": "white",
            "ticks": ""
           },
           "caxis": {
            "gridcolor": "white",
            "linecolor": "white",
            "ticks": ""
           }
          },
          "coloraxis": {
           "colorbar": {
            "outlinewidth": 0,
            "ticks": ""
           }
          },
          "colorscale": {
           "sequential": [
            [
             0.0,
             "#0d0887"
            ],
            [
             0.1111111111111111,
             "#46039f"
            ],
            [
             0.2222222222222222,
             "#7201a8"
            ],
            [
             0.3333333333333333,
             "#9c179e"
            ],
            [
             0.4444444444444444,
             "#bd3786"
            ],
            [
             0.5555555555555556,
             "#d8576b"
            ],
            [
             0.6666666666666666,
             "#ed7953"
            ],
            [
             0.7777777777777778,
             "#fb9f3a"
            ],
            [
             0.8888888888888888,
             "#fdca26"
            ],
            [
             1.0,
             "#f0f921"
            ]
           ],
           "sequentialminus": [
            [
             0.0,
             "#0d0887"
            ],
            [
             0.1111111111111111,
             "#46039f"
            ],
            [
             0.2222222222222222,
             "#7201a8"
            ],
            [
             0.3333333333333333,
             "#9c179e"
            ],
            [
             0.4444444444444444,
             "#bd3786"
            ],
            [
             0.5555555555555556,
             "#d8576b"
            ],
            [
             0.6666666666666666,
             "#ed7953"
            ],
            [
             0.7777777777777778,
             "#fb9f3a"
            ],
            [
             0.8888888888888888,
             "#fdca26"
            ],
            [
             1.0,
             "#f0f921"
            ]
           ],
           "diverging": [
            [
             0,
             "#8e0152"
            ],
            [
             0.1,
             "#c51b7d"
            ],
            [
             0.2,
             "#de77ae"
            ],
            [
             0.3,
             "#f1b6da"
            ],
            [
             0.4,
             "#fde0ef"
            ],
            [
             0.5,
             "#f7f7f7"
            ],
            [
             0.6,
             "#e6f5d0"
            ],
            [
             0.7,
             "#b8e186"
            ],
            [
             0.8,
             "#7fbc41"
            ],
            [
             0.9,
             "#4d9221"
            ],
            [
             1,
             "#276419"
            ]
           ]
          },
          "xaxis": {
           "gridcolor": "white",
           "linecolor": "white",
           "ticks": "",
           "title": {
            "standoff": 15
           },
           "zerolinecolor": "white",
           "automargin": true,
           "zerolinewidth": 2
          },
          "yaxis": {
           "gridcolor": "white",
           "linecolor": "white",
           "ticks": "",
           "title": {
            "standoff": 15
           },
           "zerolinecolor": "white",
           "automargin": true,
           "zerolinewidth": 2
          },
          "scene": {
           "xaxis": {
            "backgroundcolor": "#E5ECF6",
            "gridcolor": "white",
            "linecolor": "white",
            "showbackground": true,
            "ticks": "",
            "zerolinecolor": "white",
            "gridwidth": 2
           },
           "yaxis": {
            "backgroundcolor": "#E5ECF6",
            "gridcolor": "white",
            "linecolor": "white",
            "showbackground": true,
            "ticks": "",
            "zerolinecolor": "white",
            "gridwidth": 2
           },
           "zaxis": {
            "backgroundcolor": "#E5ECF6",
            "gridcolor": "white",
            "linecolor": "white",
            "showbackground": true,
            "ticks": "",
            "zerolinecolor": "white",
            "gridwidth": 2
           }
          },
          "shapedefaults": {
           "line": {
            "color": "#2a3f5f"
           }
          },
          "annotationdefaults": {
           "arrowcolor": "#2a3f5f",
           "arrowhead": 0,
           "arrowwidth": 1
          },
          "geo": {
           "bgcolor": "white",
           "landcolor": "#E5ECF6",
           "subunitcolor": "white",
           "showland": true,
           "showlakes": true,
           "lakecolor": "white"
          },
          "title": {
           "x": 0.05
          },
          "mapbox": {
           "style": "light"
          }
         }
        },
        "xaxis": {
         "anchor": "y",
         "domain": [
          0.0,
          1.0
         ],
         "scaleanchor": "y",
         "constrain": "domain"
        },
        "yaxis": {
         "anchor": "x",
         "domain": [
          0.0,
          1.0
         ],
         "autorange": "reversed",
         "constrain": "domain"
        },
        "coloraxis": {
         "colorbar": {
          "title": {
           "text": "Similarity Score"
          }
         },
         "colorscale": [
          [
           0.0,
           "rgb(247,252,240)"
          ],
          [
           0.125,
           "rgb(224,243,219)"
          ],
          [
           0.25,
           "rgb(204,235,197)"
          ],
          [
           0.375,
           "rgb(168,221,181)"
          ],
          [
           0.5,
           "rgb(123,204,196)"
          ],
          [
           0.625,
           "rgb(78,179,211)"
          ],
          [
           0.75,
           "rgb(43,140,190)"
          ],
          [
           0.875,
           "rgb(8,104,172)"
          ],
          [
           1.0,
           "rgb(8,64,129)"
          ]
         ]
        },
        "margin": {
         "t": 60
        },
        "title": {
         "font": {
          "size": 22,
          "color": "Black"
         },
         "text": "<b>Similarity Matrix",
         "y": 0.95,
         "x": 0.55,
         "xanchor": "center",
         "yanchor": "top"
        },
        "hoverlabel": {
         "font": {
          "size": 16,
          "family": "Rockwell"
         },
         "bgcolor": "white"
        },
        "width": 1000,
        "height": 1000,
        "showlegend": true,
        "legend": {
         "title": {
          "text": "Trend"
         }
        }
       },
       "config": {
        "plotlyServerURL": "https://plot.ly"
       }
      },
      "text/html": "<div>                            <div id=\"d4ef2106-72d1-4cc7-b665-2d81f3131a9a\" class=\"plotly-graph-div\" style=\"height:1000px; width:1000px;\"></div>            <script type=\"text/javascript\">                require([\"plotly\"], function(Plotly) {                    window.PLOTLYENV=window.PLOTLYENV || {};                                    if (document.getElementById(\"d4ef2106-72d1-4cc7-b665-2d81f3131a9a\")) {                    Plotly.newPlot(                        \"d4ef2106-72d1-4cc7-b665-2d81f3131a9a\",                        [{\"coloraxis\":\"coloraxis\",\"name\":\"0\",\"x\":[\"0_data_information_personal\",\"1_terms_conditions_change\",\"2_unethical_is_data\",\"3_app_the_third\",\"4_rights_unethical_waive\",\"7_policy_privacy_changes\",\"11_policy_changes_time\",\"21_changes_notify_notified\",\"25_paragraph_because_unethi...\",\"29_terms_unethical_are\",\"37_service_changes_terms\",\"39_amendments_agreement_users\",\"5_consent_withdraw_still\",\"6_account_terminated_reason\",\"14_game_profile_play\",\"17_game_free_resources\",\"20_delete_deleted_data\",\"28_notice_given_should\",\"30_terminate_unethical_acco...\",\"31_username_name_reclaim\",\"32_consent_ask_asked\",\"33_player_termination_before\",\"34_accounts_same_name\",\"38_keep_longer_long\",\"40_service_discontinue_warn...\",\"41_deleted_fee_account\",\"8_opt_out_optout\",\"9_track_tracked_signals\",\"10_communications_opt_out\",\"12_countries_country_laws\",\"22_microsoft_settings_windows\",\"24_nexters_intraproject_val...\",\"26_age_block_proof\",\"27_content_remove_there\",\"35_moon_active_sole\",\"36_software_updates_upgrade\",\"13_playrix_website_discretion\",\"16_zynga_group_users\",\"18_cookies_accept_cookie\",\"19_plarium_reason_any\",\"23_roblox_robux_group\",\"15_termination_terminate_pr...\"],\"y\":[\"0_data_information_personal\",\"1_terms_conditions_change\",\"2_unethical_is_data\",\"3_app_the_third\",\"4_rights_unethical_waive\",\"7_policy_privacy_changes\",\"11_policy_changes_time\",\"21_changes_notify_notified\",\"25_paragraph_because_unethi...\",\"29_terms_unethical_are\",\"37_service_changes_terms\",\"39_amendments_agreement_users\",\"5_consent_withdraw_still\",\"6_account_terminated_reason\",\"14_game_profile_play\",\"17_game_free_resources\",\"20_delete_deleted_data\",\"28_notice_given_should\",\"30_terminate_unethical_acco...\",\"31_username_name_reclaim\",\"32_consent_ask_asked\",\"33_player_termination_before\",\"34_accounts_same_name\",\"38_keep_longer_long\",\"40_service_discontinue_warn...\",\"41_deleted_fee_account\",\"8_opt_out_optout\",\"9_track_tracked_signals\",\"10_communications_opt_out\",\"12_countries_country_laws\",\"22_microsoft_settings_windows\",\"24_nexters_intraproject_val...\",\"26_age_block_proof\",\"27_content_remove_there\",\"35_moon_active_sole\",\"36_software_updates_upgrade\",\"13_playrix_website_discretion\",\"16_zynga_group_users\",\"18_cookies_accept_cookie\",\"19_plarium_reason_any\",\"23_roblox_robux_group\",\"15_termination_terminate_pr...\"],\"z\":[[0.9999999999999998,0.7848064360115143,0.8898015304776812,0.8320957425737892,0.7677598868456795,0.7932495296534041,0.7804174087434819,0.7480149594343805,0.8456944484362323,0.7641895891536408,0.796995836189814,0.735053532850767,0.7371068990824841,0.7655016613462147,0.7891504090784536,0.7405137085759077,0.7865325905785687,0.7291420614787291,0.6876813951592271,0.779073508955793,0.7332706443313319,0.6993779459292846,0.7241479412194209,0.7625264554130013,0.7187223548843564,0.7049556008384634,0.7210193520436738,0.7201734919914877,0.7508199620089275,0.7380754214182406,0.7173174175997921,0.6835601861275313,0.6725138366817087,0.7443582365983844,0.6829927850355666,0.6813347657278532,0.6313555215737314,0.7411731986251132,0.6469739905353659,0.6968250297778078,0.630463837116722,0.6170167131908793],[0.7848064360115143,0.9999999999999998,0.7485130738057424,0.7770357647275212,0.7474188555521294,0.7934046174232543,0.838908548826949,0.8149783231670522,0.7650456888510402,0.9004698569847602,0.9144673433384629,0.7850037551737327,0.6997107142645125,0.7472075148280272,0.7115213970475026,0.7527937541614631,0.7039285675312259,0.7408404811493174,0.7029241405843847,0.7705296965307437,0.7335231610332007,0.7035750875826872,0.7230293106998834,0.7421400113086285,0.7601492685204492,0.7147384329853719,0.7151891532748337,0.6746414934020574,0.7640424864848078,0.7103299024821415,0.6681321610830766,0.6890229115534261,0.6655175973981804,0.7264198085542801,0.6990174387904204,0.7013622848088417,0.6656919487349815,0.6436317662286589,0.6322582953440823,0.7080229698507421,0.6245487721726641,0.696708022583581],[0.8898015304776812,0.7485130738057424,1.0000000000000004,0.7895507626726581,0.8479527208651064,0.7778364288886597,0.7499466546020943,0.6807234601372629,0.8809431535231015,0.8311919919181268,0.7701045978216573,0.722573428126198,0.7489115484935216,0.7245724772349538,0.7244613842441863,0.7455064363556075,0.7288099426611441,0.6922353135970538,0.7484513743113779,0.7374978757645106,0.7561931527443899,0.6663075795317718,0.669133904146117,0.7192879671131303,0.7376567110692479,0.6995542096839564,0.6739886705627638,0.698801552901176,0.7330569310763368,0.6914777329278801,0.6935292103891527,0.6776386899118991,0.689044885380382,0.7106545884951116,0.6600614412922414,0.6481965634504407,0.6457101914069034,0.7132443451206332,0.6214736553278055,0.6809086898199739,0.6394478151930963,0.6551311950395395],[0.8320957425737892,0.7770357647275212,0.7895507626726581,1.0,0.7475032287687156,0.7763138178236884,0.7845132605873559,0.7397490189573188,0.7774055833709721,0.773638630313618,0.8287187232431421,0.7435042122503717,0.7009297143087818,0.754733483258432,0.7761005673792425,0.8315604334623723,0.7362089521436597,0.6998336673483936,0.6996008580580059,0.7344620666029836,0.7248286521706956,0.7155510546262032,0.7213624172197266,0.7063300829520155,0.7381389065517768,0.7384976209144463,0.7345178135935864,0.7109503579681047,0.7684259126373629,0.7086240432497748,0.7241787095663477,0.6533676413489742,0.7134061204666279,0.733817626046103,0.7100969342589478,0.7823478911823285,0.6996001441337253,0.7186998323614828,0.6575041039266183,0.6865903312476409,0.6521171961852124,0.5991925702946612],[0.7677598868456795,0.7474188555521294,0.8479527208651064,0.7475032287687156,1.0,0.7965025770239436,0.7842654301437961,0.6681529009187159,0.8054359082334722,0.8216446528427189,0.7702493306908618,0.7529254639777982,0.7431983233900414,0.7412802555468019,0.7100338437288707,0.7738625573255995,0.6765174370998377,0.663776018245577,0.7607197043581607,0.7077633380820698,0.7599135989247601,0.685644700847231,0.63427016015982,0.7090942683192039,0.7772827557712292,0.7037792110858739,0.7104495853083364,0.6505663089012554,0.739075980930699,0.7026955817406987,0.6557477254243438,0.6715135703242535,0.7083339096477751,0.6710517935399267,0.6884537372202699,0.6039117225201873,0.6405861909445008,0.6410959350524594,0.6020169358636435,0.6357462517349102,0.6377565529722455,0.6792519834997779],[0.7932495296534041,0.7934046174232543,0.7778364288886597,0.7763138178236884,0.7965025770239436,0.9999999999999993,0.9232876245068344,0.8053595060978456,0.7684948824915863,0.783271463891549,0.815274424234405,0.8052517798526668,0.7205344415283418,0.7144565203586124,0.7649314938804659,0.7440629773255512,0.7327481371193344,0.7055070064849678,0.6963347006754271,0.6925588206225234,0.7540191007304631,0.6832114970308629,0.6857759965440342,0.7090504939761311,0.7278896702631072,0.7280996983933763,0.715938967401224,0.7073540634840062,0.7512093748281801,0.7640550011909991,0.7362500662394116,0.6761719067247399,0.6935794252011135,0.7284351409402194,0.6759152455519312,0.7276016784146973,0.6331522971917163,0.6779893370587963,0.6271993448271572,0.6296299107721849,0.5971202369369221,0.5973306545855125],[0.7804174087434819,0.838908548826949,0.7499466546020943,0.7845132605873559,0.7842654301437961,0.9232876245068344,1.0,0.8364201442244735,0.7574933590984545,0.8067729539100479,0.842383154809367,0.8054002909189583,0.708386630571437,0.7546396983385849,0.7690903094834851,0.7919548476049074,0.74023171530531,0.722257321990734,0.7115916376999535,0.7225931621436508,0.7373212694001745,0.7249520976808252,0.6921232751952355,0.7636461705590151,0.7582583457090515,0.7405767241270845,0.7312243781790343,0.6929002357265537,0.74329352945592,0.7447427356161765,0.7114084280809432,0.6863785561268927,0.7091648526983421,0.7336721807084898,0.678770016995795,0.7362463193262474,0.6297700903840003,0.6432895818550647,0.6092797391235852,0.635532684188465,0.6134733690025909,0.6297131469296097],[0.7480149594343805,0.8149783231670522,0.6807234601372629,0.7397490189573188,0.6681529009187159,0.8053595060978456,0.8364201442244735,0.9999999999999999,0.687165262763221,0.7324066209001979,0.845434154303546,0.797206658906603,0.6692861801034444,0.7376732575039799,0.7331460743536518,0.7131036223935006,0.751325191830001,0.8097260234368265,0.6533564335725057,0.7400473988471861,0.700108291378756,0.7371208870708945,0.7272059840398832,0.7249699562263634,0.72306976817825,0.731252289647714,0.6932321669680621,0.6999945686619189,0.671546317079367,0.6806823336401595,0.6270587670899156,0.6420578094379338,0.6222874681673286,0.7253557347238042,0.6356340811329562,0.7932422656776372,0.5819101216128981,0.6381807953911687,0.6019217695987793,0.6310398531363777,0.5918957794994836,0.5877449729215458],[0.8456944484362323,0.7650456888510402,0.8809431535231015,0.7774055833709721,0.8054359082334722,0.7684948824915863,0.7574933590984545,0.687165262763221,1.0,0.8069714201641025,0.7889566332061635,0.7184899710670165,0.688823592701201,0.720179897457929,0.7377630473006875,0.7286615901616851,0.7038062620182799,0.7047816387927579,0.7367389855017912,0.7298435951906176,0.7339301863919445,0.7134032765676972,0.6495791765827132,0.7307666958504192,0.7175215573172384,0.6779558715158855,0.6443620239568917,0.6998422780105933,0.7167175618901824,0.6893604423085602,0.688554496506147,0.639517555331909,0.7014412003458611,0.7301510234298185,0.6366231196089733,0.630044121837056,0.6466825938856733,0.6697119645980694,0.5911781498855824,0.6808000800220677,0.5851679536213307,0.66049582950127],[0.7641895891536408,0.9004698569847602,0.8311919919181268,0.773638630313618,0.8216446528427189,0.783271463891549,0.8067729539100479,0.7324066209001979,0.8069714201641025,1.0,0.883784877298849,0.7764297178401327,0.704241706250907,0.7339421843515892,0.704996218751859,0.7561060351077878,0.6935073053862466,0.7314085255461898,0.7649424774940459,0.7517286104234677,0.7601944040729963,0.7128708700433477,0.6760182988520046,0.7098469924259501,0.7760048355854632,0.7191681706753894,0.7017673332095098,0.680165289142898,0.7592195383829117,0.698897109345326,0.6661149929569941,0.7012830227416802,0.6986114092948953,0.7080576388603286,0.695449243713912,0.6588930540722453,0.6648010179067592,0.6338605587284512,0.6229969392743001,0.6696229882006238,0.637311480674382,0.697854832358331],[0.796995836189814,0.9144673433384629,0.7701045978216573,0.8287187232431421,0.7702493306908618,0.815274424234405,0.842383154809367,0.845434154303546,0.7889566332061635,0.883784877298849,1.0000000000000002,0.8201176633295464,0.6863985710355165,0.7606242130412734,0.7548961163800647,0.787749445692506,0.7371184276815259,0.7401347451603686,0.71681273333761,0.7607459572044174,0.7405197809944243,0.7479199061713644,0.7344298359608799,0.7518101525459489,0.8121812820671992,0.7543763577970735,0.6999502574596166,0.705315245651998,0.7897550711464854,0.7206932786568536,0.7198580122337499,0.6911657197295673,0.6973422635472311,0.7605569695758136,0.7374553983421741,0.7626695867567463,0.687411158278134,0.6926605169085094,0.6479168096383695,0.6804081150403838,0.6574433158232549,0.681223535607363],[0.735053532850767,0.7850037551737327,0.722573428126198,0.7435042122503717,0.7529254639777982,0.8052517798526668,0.8054002909189583,0.797206658906603,0.7184899710670165,0.7764297178401327,0.8201176633295464,0.9999999999999996,0.7283193502045269,0.7460959170967145,0.7062095890107745,0.7320040329564614,0.7233711024209726,0.7548552172369738,0.6856123838275816,0.7203605610186453,0.7755640775146118,0.7012974295542176,0.6993400757690802,0.7208257337952224,0.7404223194311363,0.7356932746187641,0.693210422455905,0.6118288747650614,0.6806505242469867,0.7105587401570925,0.6588034439016486,0.7023333634332991,0.6941583207748776,0.7125833570118463,0.7012336037122952,0.7109931223250696,0.613458016717503,0.6443722041074347,0.6448396557824326,0.6404673197210766,0.6483505991938079,0.6458377778164709],[0.7371068990824841,0.6997107142645125,0.7489115484935216,0.7009297143087818,0.7431983233900414,0.7205344415283418,0.708386630571437,0.6692861801034444,0.688823592701201,0.704241706250907,0.6863985710355165,0.7283193502045269,0.999999999999999,0.7739301278015347,0.6821084117629328,0.7021880426411218,0.7399116871177909,0.6803894202640357,0.7414005602709588,0.7216584953049215,0.7197496592282246,0.6585676273018202,0.7041003200598097,0.7274145347808489,0.7479116368622319,0.7439852551346249,0.7316961036687022,0.6190353967827582,0.655982618761506,0.640158990891105,0.6059239530617626,0.6752413357948435,0.6643638239872391,0.6707391399435413,0.6728348446206113,0.6178839996556043,0.5681976488633937,0.6217641589453659,0.625817042662084,0.6192783158018145,0.601275220055718,0.6649323775451781],[0.7655016613462147,0.7472075148280272,0.7245724772349538,0.754733483258432,0.7412802555468019,0.7144565203586124,0.7546396983385849,0.7376732575039799,0.720179897457929,0.7339421843515892,0.7606242130412734,0.7460959170967145,0.7739301278015347,1.0,0.7424685079525486,0.7820121880450204,0.8355469913060509,0.7271725580475141,0.9015888723177187,0.8220017681642888,0.726779232131824,0.7850365198919926,0.8368750557703432,0.761089000532002,0.8112932004619557,0.8572288412813421,0.7283870415174215,0.6428873912867991,0.6689970622118929,0.6542193726941538,0.6581690864256373,0.6603569644064156,0.7087299325230556,0.692780918139001,0.6873513533401397,0.6854596926121973,0.6204104852841468,0.6434678900467525,0.6377598436168818,0.6545805831222324,0.6314021018598528,0.783888573487403],[0.7891504090784536,0.7115213970475026,0.7244613842441863,0.7761005673792425,0.7100338437288707,0.7649314938804659,0.7690903094834851,0.7331460743536518,0.7377630473006875,0.704996218751859,0.7548961163800647,0.7062095890107745,0.6821084117629328,0.7424685079525486,0.9999999999999998,0.8539040318267478,0.7599709301811245,0.7086221032128819,0.6984607148098811,0.7624795517821573,0.7258040782830467,0.8538630147223938,0.7240209845911693,0.7220071917954916,0.7192699920860073,0.7351863056041753,0.7446433969716152,0.6813231961293886,0.7254894466246776,0.6807993305303233,0.6550276338722851,0.7032721902516221,0.7186053239200207,0.7447285649377022,0.7019174415713858,0.7155150395595764,0.7108343489459072,0.6538243284196117,0.6660865807270766,0.6386580995831794,0.6180096400486841,0.5951741629105591],[0.7405137085759077,0.7527937541614631,0.7455064363556075,0.8315604334623723,0.7738625573255995,0.7440629773255512,0.7919548476049074,0.7131036223935006,0.7286615901616851,0.7561060351077878,0.787749445692506,0.7320040329564614,0.7021880426411218,0.7820121880450204,0.8539040318267478,1.0,0.7405808466632635,0.6599869205910341,0.7557879319683971,0.7374674044694999,0.7034353764060178,0.7900542075995967,0.7024026999620935,0.727777146549057,0.7697089042396221,0.7547779233667803,0.7255354109681039,0.6732182606688168,0.7385466637871326,0.6891502548305318,0.6895734719987078,0.7030325056961857,0.6944198656600193,0.7291469588090377,0.7129798800841063,0.745998437833771,0.7313274674436412,0.6515842233459583,0.6302831010216573,0.6484286373866219,0.6693519441357505,0.6797883518098159],[0.7865325905785687,0.7039285675312259,0.7288099426611441,0.7362089521436597,0.6765174370998377,0.7327481371193344,0.74023171530531,0.751325191830001,0.7038062620182799,0.6935073053862466,0.7371184276815259,0.7233711024209726,0.7399116871177909,0.8355469913060509,0.7599709301811245,0.7405808466632635,0.9999999999999998,0.7329439872546459,0.7645353891477109,0.8131185292094434,0.7275148784829528,0.7237460941539489,0.7611654411208573,0.7573975409210363,0.768083897173111,0.9024545260010125,0.6944794116100284,0.6526003811353074,0.6195966183999027,0.654472643001668,0.6568901727255521,0.6235307143579298,0.6476562761200297,0.7395267233184794,0.6623839494291549,0.7287738705898876,0.5793525505051387,0.6516899574890666,0.6383710825020381,0.6120742819086831,0.6135400824645952,0.6322822131670417],[0.7291420614787291,0.7408404811493174,0.6922353135970538,0.6998336673483936,0.663776018245577,0.7055070064849678,0.722257321990734,0.8097260234368265,0.7047816387927579,0.7314085255461898,0.7401347451603686,0.7548552172369738,0.6803894202640357,0.7271725580475141,0.7086221032128819,0.6599869205910341,0.7329439872546459,1.0000000000000004,0.7178098682718266,0.7604444505145906,0.7613134943370063,0.7498932840248955,0.6820791026570175,0.7247952032727789,0.7206362377447108,0.7035560873659945,0.6912916482827811,0.6728606323266073,0.6659473659083845,0.6091745619630832,0.5420345071573808,0.6216017232775114,0.6518482558264683,0.7273234754073179,0.6471025832134971,0.7013972169026264,0.5649734227400445,0.6205189121413781,0.5760646757217611,0.6475634570252857,0.5998672141995258,0.6667834126572851],[0.6876813951592271,0.7029241405843847,0.7484513743113779,0.6996008580580059,0.7607197043581607,0.6963347006754271,0.7115916376999535,0.6533564335725057,0.7367389855017912,0.7649424774940459,0.71681273333761,0.6856123838275816,0.7414005602709588,0.9015888723177187,0.6984607148098811,0.7557879319683971,0.7645353891477109,0.7178098682718266,1.0000000000000004,0.7493858630722617,0.677907652215785,0.7660742666167152,0.7688460118165271,0.7190582724309715,0.8142239701918041,0.827498284011754,0.6900013614072797,0.62824861568752,0.6598441532063786,0.6238676147600346,0.6408320848230336,0.6435044436245738,0.7049582058957762,0.6711511833775754,0.6530512097108109,0.6428711045909385,0.5949546967946849,0.6021669066342246,0.6127802075525368,0.614668833069757,0.6178407521010393,0.8158657437588965],[0.779073508955793,0.7705296965307437,0.7374978757645106,0.7344620666029836,0.7077633380820698,0.6925588206225234,0.7225931621436508,0.7400473988471861,0.7298435951906176,0.7517286104234677,0.7607459572044174,0.7203605610186453,0.7216584953049215,0.8220017681642888,0.7624795517821573,0.7374674044694999,0.8131185292094434,0.7604444505145906,0.7493858630722617,0.9999999999999998,0.7295809175159762,0.7381212195074568,0.7997918453433882,0.7401806868818346,0.7646549630874384,0.7747262441061114,0.6800769481400456,0.6310871686612008,0.6572540796333334,0.6575645372626864,0.6214292558354245,0.6442948875629395,0.6945464814202278,0.7075215446716685,0.6614161433859411,0.6651410866033327,0.6487772008891601,0.6674119230324375,0.623111105446898,0.6854916225822216,0.6369821336763231,0.663069917109937],[0.7332706443313319,0.7335231610332007,0.7561931527443899,0.7248286521706956,0.7599135989247601,0.7540191007304631,0.7373212694001745,0.700108291378756,0.7339301863919445,0.7601944040729963,0.7405197809944243,0.7755640775146118,0.7197496592282246,0.726779232131824,0.7258040782830467,0.7034353764060178,0.7275148784829528,0.7613134943370063,0.677907652215785,0.7295809175159762,1.0000000000000004,0.6912866760532248,0.65224414537863,0.6981264377893308,0.7080190086380788,0.726660869279135,0.6761323533112141,0.6366449872816154,0.6799863786233915,0.6940903611090679,0.5976362956526211,0.6384371660623744,0.7287676983826081,0.6826300082877326,0.6665978099773211,0.6534278385321233,0.6171723862528655,0.5995712476961601,0.6090351973972292,0.6646464439224113,0.5972002810355836,0.6217908388019524],[0.6993779459292846,0.7035750875826872,0.6663075795317718,0.7155510546262032,0.685644700847231,0.6832114970308629,0.7249520976808252,0.7371208870708945,0.7134032765676972,0.7128708700433477,0.7479199061713644,0.7012974295542176,0.6585676273018202,0.7850365198919926,0.8538630147223938,0.7900542075995967,0.7237460941539489,0.7498932840248955,0.7660742666167152,0.7381212195074568,0.6912866760532248,0.9999999999999999,0.6839329423035911,0.7157984050557646,0.7699192520116219,0.7138978999319079,0.6904882415293478,0.642306712197511,0.6872594671347085,0.6151787453625992,0.5792928123555541,0.6782852802759969,0.6962719507925821,0.6980172073877318,0.6543186945549755,0.6809835221278713,0.6563681895287268,0.5958100076713011,0.5818278082302919,0.6259641545341825,0.6218470628967644,0.7552555395566848],[0.7241479412194209,0.7230293106998834,0.669133904146117,0.7213624172197266,0.63427016015982,0.6857759965440342,0.6921232751952355,0.7272059840398832,0.6495791765827132,0.6760182988520046,0.7344298359608799,0.6993400757690802,0.7041003200598097,0.8368750557703432,0.7240209845911693,0.7024026999620935,0.7611654411208573,0.6820791026570175,0.7688460118165271,0.7997918453433882,0.65224414537863,0.6839329423035911,0.9999999999999998,0.6930246113851328,0.7135388739050357,0.8190060304043965,0.667863729346357,0.617988026152271,0.6410035416048163,0.6569521723508653,0.65155232684846,0.65808181221419,0.66869925978976,0.664540822091761,0.6918141582589084,0.6931752678571621,0.6137692473612681,0.6409369688156199,0.657224747921624,0.6378542760080557,0.6376295453677674,0.5643271015551397],[0.7625264554130013,0.7421400113086285,0.7192879671131303,0.7063300829520155,0.7090942683192039,0.7090504939761311,0.7636461705590151,0.7249699562263634,0.7307666958504192,0.7098469924259501,0.7518101525459489,0.7208257337952224,0.7274145347808489,0.761089000532002,0.7220071917954916,0.727777146549057,0.7573975409210363,0.7247952032727789,0.7190582724309715,0.7401806868818346,0.6981264377893308,0.7157984050557646,0.6930246113851328,1.0000000000000004,0.71292616632685,0.7317784953615912,0.6666405073468518,0.6743300492181978,0.6480796522829446,0.6470041642460356,0.5607193883631478,0.6285610559418071,0.6681856135060726,0.7068282728066513,0.640338653714315,0.6660505532514824,0.5703860897096168,0.5899754906036474,0.6197780565295518,0.6402217796677825,0.5497688524343405,0.6867199359920744],[0.7187223548843564,0.7601492685204492,0.7376567110692479,0.7381389065517768,0.7772827557712292,0.7278896702631072,0.7582583457090515,0.72306976817825,0.7175215573172384,0.7760048355854632,0.8121812820671992,0.7404223194311363,0.7479116368622319,0.8112932004619557,0.7192699920860073,0.7697089042396221,0.768083897173111,0.7206362377447108,0.8142239701918041,0.7646549630874384,0.7080190086380788,0.7699192520116219,0.7135388739050357,0.71292616632685,1.0,0.7664458143881964,0.7060690498663272,0.6524818123119278,0.7299255486059477,0.6659041966394487,0.6613008225493884,0.6969644860913164,0.6935026725276288,0.7214697463245328,0.6999612690943472,0.698321203257315,0.6166941423065652,0.6528704887286392,0.6230504040960861,0.6569100042635225,0.633088584325904,0.7645234195306998],[0.7049556008384634,0.7147384329853719,0.6995542096839564,0.7384976209144463,0.7037792110858739,0.7280996983933763,0.7405767241270845,0.731252289647714,0.6779558715158855,0.7191681706753894,0.7543763577970735,0.7356932746187641,0.7439852551346249,0.8572288412813421,0.7351863056041753,0.7547779233667803,0.9024545260010125,0.7035560873659945,0.827498284011754,0.7747262441061114,0.726660869279135,0.7138978999319079,0.8190060304043965,0.7317784953615912,0.7664458143881964,1.0000000000000002,0.6950556516529758,0.6452452844599399,0.65421546518326,0.6493952671439733,0.6497669483305724,0.6406484713753934,0.6884278517704843,0.7162118851775351,0.6990640551329408,0.721575048196712,0.6018058553335821,0.6146653143060121,0.6579973308187633,0.5984185087843165,0.6290127818551885,0.6264292049712695],[0.7210193520436738,0.7151891532748337,0.6739886705627638,0.7345178135935864,0.7104495853083364,0.715938967401224,0.7312243781790343,0.6932321669680621,0.6443620239568917,0.7017673332095098,0.6999502574596166,0.693210422455905,0.7316961036687022,0.7283870415174215,0.7446433969716152,0.7255354109681039,0.6944794116100284,0.6912916482827811,0.6900013614072797,0.6800769481400456,0.6761323533112141,0.6904882415293478,0.667863729346357,0.6666405073468518,0.7060690498663272,0.6950556516529758,0.9999999999999999,0.6565649824799922,0.8405093818470593,0.6129207278437772,0.6568974458001218,0.6818280487382737,0.6236854860539044,0.6808338680400572,0.6767115850753279,0.6878652302405717,0.5943057436459092,0.6333271375606676,0.6359709851353932,0.6410130495379871,0.6087418561002551,0.6279419793747701],[0.7201734919914877,0.6746414934020574,0.698801552901176,0.7109503579681047,0.6505663089012554,0.7073540634840062,0.6929002357265537,0.6999945686619189,0.6998422780105933,0.680165289142898,0.705315245651998,0.6118288747650614,0.6190353967827582,0.6428873912867991,0.6813231961293886,0.6732182606688168,0.6526003811353074,0.6728606323266073,0.62824861568752,0.6310871686612008,0.6366449872816154,0.642306712197511,0.617988026152271,0.6743300492181978,0.6524818123119278,0.6452452844599399,0.6565649824799922,1.0000000000000002,0.6895996819964547,0.60956436150421,0.6103664920437559,0.5843324589070187,0.6132142576920334,0.6673208858268993,0.6204905187521229,0.6745184640789492,0.5771316587161592,0.5894265682167149,0.5805848704069989,0.5769256856827576,0.5701780697935288,0.5581577048575392],[0.7508199620089275,0.7640424864848078,0.7330569310763368,0.7684259126373629,0.739075980930699,0.7512093748281801,0.74329352945592,0.671546317079367,0.7167175618901824,0.7592195383829117,0.7897550711464854,0.6806505242469867,0.655982618761506,0.6689970622118929,0.7254894466246776,0.7385466637871326,0.6195966183999027,0.6659473659083845,0.6598441532063786,0.6572540796333334,0.6799863786233915,0.6872594671347085,0.6410035416048163,0.6480796522829446,0.7299255486059477,0.65421546518326,0.8405093818470593,0.6895996819964547,0.9999999999999996,0.6626419770961305,0.712135960061618,0.692977489900291,0.6336244241743977,0.7121354896595999,0.6897457734787975,0.6625292353723091,0.6191702505794014,0.6430037420791967,0.5973396585966428,0.6490532135757814,0.5970917449114633,0.6412470790791287],[0.7380754214182406,0.7103299024821415,0.6914777329278801,0.7086240432497748,0.7026955817406987,0.7640550011909991,0.7447427356161765,0.6806823336401595,0.6893604423085602,0.698897109345326,0.7206932786568536,0.7105587401570925,0.640158990891105,0.6542193726941538,0.6807993305303233,0.6891502548305318,0.654472643001668,0.6091745619630832,0.6238676147600346,0.6575645372626864,0.6940903611090679,0.6151787453625992,0.6569521723508653,0.6470041642460356,0.6659041966394487,0.6493952671439733,0.6129207278437772,0.60956436150421,0.6626419770961305,0.9999999999999997,0.699941753516484,0.6014079533477455,0.6432380895591414,0.6554804120587123,0.6735425596877687,0.6213316078591242,0.5901856588868324,0.6386669229843474,0.5680017678080118,0.6218983258886099,0.5879826645411959,0.5427542934073464],[0.7173174175997921,0.6681321610830766,0.6935292103891527,0.7241787095663477,0.6557477254243438,0.7362500662394116,0.7114084280809432,0.6270587670899156,0.688554496506147,0.6661149929569941,0.7198580122337499,0.6588034439016486,0.6059239530617626,0.6581690864256373,0.6550276338722851,0.6895734719987078,0.6568901727255521,0.5420345071573808,0.6408320848230336,0.6214292558354245,0.5976362956526211,0.5792928123555541,0.65155232684846,0.5607193883631478,0.6613008225493884,0.6497669483305724,0.6568974458001218,0.6103664920437559,0.712135960061618,0.699941753516484,1.0,0.5964864774006262,0.5742275447706927,0.66493758193121,0.6769999958432857,0.7118948198678761,0.6252174030512438,0.6373027131643119,0.5546738742289115,0.5735864503709842,0.6251779338107437,0.5360859729507574],[0.6835601861275313,0.6890229115534261,0.6776386899118991,0.6533676413489742,0.6715135703242535,0.6761719067247399,0.6863785561268927,0.6420578094379338,0.639517555331909,0.7012830227416802,0.6911657197295673,0.7023333634332991,0.6752413357948435,0.6603569644064156,0.7032721902516221,0.7030325056961857,0.6235307143579298,0.6216017232775114,0.6435044436245738,0.6442948875629395,0.6384371660623744,0.6782852802759969,0.65808181221419,0.6285610559418071,0.6969644860913164,0.6406484713753934,0.6818280487382737,0.5843324589070187,0.692977489900291,0.6014079533477455,0.5964864774006262,0.9999999999999988,0.6173907812660012,0.6557856125811432,0.6512103165443834,0.6244789940341672,0.5841203466303255,0.5831911539078709,0.5905022855427972,0.5998516445675421,0.6149382101455791,0.6051620531099344],[0.6725138366817087,0.6655175973981804,0.689044885380382,0.7134061204666279,0.7083339096477751,0.6935794252011135,0.7091648526983421,0.6222874681673286,0.7014412003458611,0.6986114092948953,0.6973422635472311,0.6941583207748776,0.6643638239872391,0.7087299325230556,0.7186053239200207,0.6944198656600193,0.6476562761200297,0.6518482558264683,0.7049582058957762,0.6945464814202278,0.7287676983826081,0.6962719507925821,0.66869925978976,0.6681856135060726,0.6935026725276288,0.6884278517704843,0.6236854860539044,0.6132142576920334,0.6336244241743977,0.6432380895591414,0.5742275447706927,0.6173907812660012,0.9999999999999997,0.6508847523387141,0.659315680078842,0.6241838125768818,0.6211161404852309,0.6072080871277619,0.5859392448735412,0.5980110597139991,0.5676004045450808,0.5991580611009893],[0.7443582365983844,0.7264198085542801,0.7106545884951116,0.733817626046103,0.6710517935399267,0.7284351409402194,0.7336721807084898,0.7253557347238042,0.7301510234298185,0.7080576388603286,0.7605569695758136,0.7125833570118463,0.6707391399435413,0.692780918139001,0.7447285649377022,0.7291469588090377,0.7395267233184794,0.7273234754073179,0.6711511833775754,0.7075215446716685,0.6826300082877326,0.6980172073877318,0.664540822091761,0.7068282728066513,0.7214697463245328,0.7162118851775351,0.6808338680400572,0.6673208858268993,0.7121354896595999,0.6554804120587123,0.66493758193121,0.6557856125811432,0.6508847523387141,1.0,0.6767860320841406,0.6985525863902737,0.6199741609021512,0.6452552576354307,0.6372588619615067,0.6060575623720625,0.5710922254486104,0.6106557267772825],[0.6829927850355666,0.6990174387904204,0.6600614412922414,0.7100969342589478,0.6884537372202699,0.6759152455519312,0.678770016995795,0.6356340811329562,0.6366231196089733,0.695449243713912,0.7374553983421741,0.7012336037122952,0.6728348446206113,0.6873513533401397,0.7019174415713858,0.7129798800841063,0.6623839494291549,0.6471025832134971,0.6530512097108109,0.6614161433859411,0.6665978099773211,0.6543186945549755,0.6918141582589084,0.640338653714315,0.6999612690943472,0.6990640551329408,0.6767115850753279,0.6204905187521229,0.6897457734787975,0.6735425596877687,0.6769999958432857,0.6512103165443834,0.659315680078842,0.6767860320841406,1.0,0.6491979051809555,0.6398891256852068,0.6227990521004546,0.6385580427267308,0.6022057224322683,0.6479903111651655,0.5713746841085321],[0.6813347657278532,0.7013622848088417,0.6481965634504407,0.7823478911823285,0.6039117225201873,0.7276016784146973,0.7362463193262474,0.7932422656776372,0.630044121837056,0.6588930540722453,0.7626695867567463,0.7109931223250696,0.6178839996556043,0.6854596926121973,0.7155150395595764,0.745998437833771,0.7287738705898876,0.7013972169026264,0.6428711045909385,0.6651410866033327,0.6534278385321233,0.6809835221278713,0.6931752678571621,0.6660505532514824,0.698321203257315,0.721575048196712,0.6878652302405717,0.6745184640789492,0.6625292353723091,0.6213316078591242,0.7118948198678761,0.6244789940341672,0.6241838125768818,0.6985525863902737,0.6491979051809555,0.9999999999999992,0.593240021272097,0.6073327613361341,0.5963485204207236,0.594714217411666,0.6367413575039678,0.5694654829000341],[0.6313555215737314,0.6656919487349815,0.6457101914069034,0.6996001441337253,0.6405861909445008,0.6331522971917163,0.6297700903840003,0.5819101216128981,0.6466825938856733,0.6648010179067592,0.687411158278134,0.613458016717503,0.5681976488633937,0.6204104852841468,0.7108343489459072,0.7313274674436412,0.5793525505051387,0.5649734227400445,0.5949546967946849,0.6487772008891601,0.6171723862528655,0.6563681895287268,0.6137692473612681,0.5703860897096168,0.6166941423065652,0.6018058553335821,0.5943057436459092,0.5771316587161592,0.6191702505794014,0.5901856588868324,0.6252174030512438,0.5841203466303255,0.6211161404852309,0.6199741609021512,0.6398891256852068,0.593240021272097,0.9999999999999991,0.6287301173282274,0.572801503121088,0.6122967339343673,0.6486257982983714,0.5320629231090864],[0.7411731986251132,0.6436317662286589,0.7132443451206332,0.7186998323614828,0.6410959350524594,0.6779893370587963,0.6432895818550647,0.6381807953911687,0.6697119645980694,0.6338605587284512,0.6926605169085094,0.6443722041074347,0.6217641589453659,0.6434678900467525,0.6538243284196117,0.6515842233459583,0.6516899574890666,0.6205189121413781,0.6021669066342246,0.6674119230324375,0.5995712476961601,0.5958100076713011,0.6409369688156199,0.5899754906036474,0.6528704887286392,0.6146653143060121,0.6333271375606676,0.5894265682167149,0.6430037420791967,0.6386669229843474,0.6373027131643119,0.5831911539078709,0.6072080871277619,0.6452552576354307,0.6227990521004546,0.6073327613361341,0.6287301173282274,0.9999999999999998,0.555651258932155,0.6257631107327708,0.6337379729292318,0.508780564034105],[0.6469739905353659,0.6322582953440823,0.6214736553278055,0.6575041039266183,0.6020169358636435,0.6271993448271572,0.6092797391235852,0.6019217695987793,0.5911781498855824,0.6229969392743001,0.6479168096383695,0.6448396557824326,0.625817042662084,0.6377598436168818,0.6660865807270766,0.6302831010216573,0.6383710825020381,0.5760646757217611,0.6127802075525368,0.623111105446898,0.6090351973972292,0.5818278082302919,0.657224747921624,0.6197780565295518,0.6230504040960861,0.6579973308187633,0.6359709851353932,0.5805848704069989,0.5973396585966428,0.5680017678080118,0.5546738742289115,0.5905022855427972,0.5859392448735412,0.6372588619615067,0.6385580427267308,0.5963485204207236,0.572801503121088,0.555651258932155,1.0000000000000009,0.5427861116770278,0.5487407109633932,0.47504177900140876],[0.6968250297778078,0.7080229698507421,0.6809086898199739,0.6865903312476409,0.6357462517349102,0.6296299107721849,0.635532684188465,0.6310398531363777,0.6808000800220677,0.6696229882006238,0.6804081150403838,0.6404673197210766,0.6192783158018145,0.6545805831222324,0.6386580995831794,0.6484286373866219,0.6120742819086831,0.6475634570252857,0.614668833069757,0.6854916225822216,0.6646464439224113,0.6259641545341825,0.6378542760080557,0.6402217796677825,0.6569100042635225,0.5984185087843165,0.6410130495379871,0.5769256856827576,0.6490532135757814,0.6218983258886099,0.5735864503709842,0.5998516445675421,0.5980110597139991,0.6060575623720625,0.6022057224322683,0.594714217411666,0.6122967339343673,0.6257631107327708,0.5427861116770278,0.9999999999999996,0.594462317968366,0.5936267035822274],[0.630463837116722,0.6245487721726641,0.6394478151930963,0.6521171961852124,0.6377565529722455,0.5971202369369221,0.6134733690025909,0.5918957794994836,0.5851679536213307,0.637311480674382,0.6574433158232549,0.6483505991938079,0.601275220055718,0.6314021018598528,0.6180096400486841,0.6693519441357505,0.6135400824645952,0.5998672141995258,0.6178407521010393,0.6369821336763231,0.5972002810355836,0.6218470628967644,0.6376295453677674,0.5497688524343405,0.633088584325904,0.6290127818551885,0.6087418561002551,0.5701780697935288,0.5970917449114633,0.5879826645411959,0.6251779338107437,0.6149382101455791,0.5676004045450808,0.5710922254486104,0.6479903111651655,0.6367413575039678,0.6486257982983714,0.6337379729292318,0.5487407109633932,0.594462317968366,0.9999999999999999,0.5405725097077572],[0.6170167131908793,0.696708022583581,0.6551311950395395,0.5991925702946612,0.6792519834997779,0.5973306545855125,0.6297131469296097,0.5877449729215458,0.66049582950127,0.697854832358331,0.681223535607363,0.6458377778164709,0.6649323775451781,0.783888573487403,0.5951741629105591,0.6797883518098159,0.6322822131670417,0.6667834126572851,0.8158657437588965,0.663069917109937,0.6217908388019524,0.7552555395566848,0.5643271015551397,0.6867199359920744,0.7645234195306998,0.6264292049712695,0.6279419793747701,0.5581577048575392,0.6412470790791287,0.5427542934073464,0.5360859729507574,0.6051620531099344,0.5991580611009893,0.6106557267772825,0.5713746841085321,0.5694654829000341,0.5320629231090864,0.508780564034105,0.47504177900140876,0.5936267035822274,0.5405725097077572,1.0000000000000004]],\"type\":\"heatmap\",\"xaxis\":\"x\",\"yaxis\":\"y\",\"hovertemplate\":\"x: %{x}<br>y: %{y}<br>Similarity Score: %{z}<extra></extra>\"}],                        {\"template\":{\"data\":{\"histogram2dcontour\":[{\"type\":\"histogram2dcontour\",\"colorbar\":{\"outlinewidth\":0,\"ticks\":\"\"},\"colorscale\":[[0.0,\"#0d0887\"],[0.1111111111111111,\"#46039f\"],[0.2222222222222222,\"#7201a8\"],[0.3333333333333333,\"#9c179e\"],[0.4444444444444444,\"#bd3786\"],[0.5555555555555556,\"#d8576b\"],[0.6666666666666666,\"#ed7953\"],[0.7777777777777778,\"#fb9f3a\"],[0.8888888888888888,\"#fdca26\"],[1.0,\"#f0f921\"]]}],\"choropleth\":[{\"type\":\"choropleth\",\"colorbar\":{\"outlinewidth\":0,\"ticks\":\"\"}}],\"histogram2d\":[{\"type\":\"histogram2d\",\"colorbar\":{\"outlinewidth\":0,\"ticks\":\"\"},\"colorscale\":[[0.0,\"#0d0887\"],[0.1111111111111111,\"#46039f\"],[0.2222222222222222,\"#7201a8\"],[0.3333333333333333,\"#9c179e\"],[0.4444444444444444,\"#bd3786\"],[0.5555555555555556,\"#d8576b\"],[0.6666666666666666,\"#ed7953\"],[0.7777777777777778,\"#fb9f3a\"],[0.8888888888888888,\"#fdca26\"],[1.0,\"#f0f921\"]]}],\"heatmap\":[{\"type\":\"heatmap\",\"colorbar\":{\"outlinewidth\":0,\"ticks\":\"\"},\"colorscale\":[[0.0,\"#0d0887\"],[0.1111111111111111,\"#46039f\"],[0.2222222222222222,\"#7201a8\"],[0.3333333333333333,\"#9c179e\"],[0.4444444444444444,\"#bd3786\"],[0.5555555555555556,\"#d8576b\"],[0.6666666666666666,\"#ed7953\"],[0.7777777777777778,\"#fb9f3a\"],[0.8888888888888888,\"#fdca26\"],[1.0,\"#f0f921\"]]}],\"heatmapgl\":[{\"type\":\"heatmapgl\",\"colorbar\":{\"outlinewidth\":0,\"ticks\":\"\"},\"colorscale\":[[0.0,\"#0d0887\"],[0.1111111111111111,\"#46039f\"],[0.2222222222222222,\"#7201a8\"],[0.3333333333333333,\"#9c179e\"],[0.4444444444444444,\"#bd3786\"],[0.5555555555555556,\"#d8576b\"],[0.6666666666666666,\"#ed7953\"],[0.7777777777777778,\"#fb9f3a\"],[0.8888888888888888,\"#fdca26\"],[1.0,\"#f0f921\"]]}],\"contourcarpet\":[{\"type\":\"contourcarpet\",\"colorbar\":{\"outlinewidth\":0,\"ticks\":\"\"}}],\"contour\":[{\"type\":\"contour\",\"colorbar\":{\"outlinewidth\":0,\"ticks\":\"\"},\"colorscale\":[[0.0,\"#0d0887\"],[0.1111111111111111,\"#46039f\"],[0.2222222222222222,\"#7201a8\"],[0.3333333333333333,\"#9c179e\"],[0.4444444444444444,\"#bd3786\"],[0.5555555555555556,\"#d8576b\"],[0.6666666666666666,\"#ed7953\"],[0.7777777777777778,\"#fb9f3a\"],[0.8888888888888888,\"#fdca26\"],[1.0,\"#f0f921\"]]}],\"surface\":[{\"type\":\"surface\",\"colorbar\":{\"outlinewidth\":0,\"ticks\":\"\"},\"colorscale\":[[0.0,\"#0d0887\"],[0.1111111111111111,\"#46039f\"],[0.2222222222222222,\"#7201a8\"],[0.3333333333333333,\"#9c179e\"],[0.4444444444444444,\"#bd3786\"],[0.5555555555555556,\"#d8576b\"],[0.6666666666666666,\"#ed7953\"],[0.7777777777777778,\"#fb9f3a\"],[0.8888888888888888,\"#fdca26\"],[1.0,\"#f0f921\"]]}],\"mesh3d\":[{\"type\":\"mesh3d\",\"colorbar\":{\"outlinewidth\":0,\"ticks\":\"\"}}],\"scatter\":[{\"fillpattern\":{\"fillmode\":\"overlay\",\"size\":10,\"solidity\":0.2},\"type\":\"scatter\"}],\"parcoords\":[{\"type\":\"parcoords\",\"line\":{\"colorbar\":{\"outlinewidth\":0,\"ticks\":\"\"}}}],\"scatterpolargl\":[{\"type\":\"scatterpolargl\",\"marker\":{\"colorbar\":{\"outlinewidth\":0,\"ticks\":\"\"}}}],\"bar\":[{\"error_x\":{\"color\":\"#2a3f5f\"},\"error_y\":{\"color\":\"#2a3f5f\"},\"marker\":{\"line\":{\"color\":\"#E5ECF6\",\"width\":0.5},\"pattern\":{\"fillmode\":\"overlay\",\"size\":10,\"solidity\":0.2}},\"type\":\"bar\"}],\"scattergeo\":[{\"type\":\"scattergeo\",\"marker\":{\"colorbar\":{\"outlinewidth\":0,\"ticks\":\"\"}}}],\"scatterpolar\":[{\"type\":\"scatterpolar\",\"marker\":{\"colorbar\":{\"outlinewidth\":0,\"ticks\":\"\"}}}],\"histogram\":[{\"marker\":{\"pattern\":{\"fillmode\":\"overlay\",\"size\":10,\"solidity\":0.2}},\"type\":\"histogram\"}],\"scattergl\":[{\"type\":\"scattergl\",\"marker\":{\"colorbar\":{\"outlinewidth\":0,\"ticks\":\"\"}}}],\"scatter3d\":[{\"type\":\"scatter3d\",\"line\":{\"colorbar\":{\"outlinewidth\":0,\"ticks\":\"\"}},\"marker\":{\"colorbar\":{\"outlinewidth\":0,\"ticks\":\"\"}}}],\"scattermapbox\":[{\"type\":\"scattermapbox\",\"marker\":{\"colorbar\":{\"outlinewidth\":0,\"ticks\":\"\"}}}],\"scatterternary\":[{\"type\":\"scatterternary\",\"marker\":{\"colorbar\":{\"outlinewidth\":0,\"ticks\":\"\"}}}],\"scattercarpet\":[{\"type\":\"scattercarpet\",\"marker\":{\"colorbar\":{\"outlinewidth\":0,\"ticks\":\"\"}}}],\"carpet\":[{\"aaxis\":{\"endlinecolor\":\"#2a3f5f\",\"gridcolor\":\"white\",\"linecolor\":\"white\",\"minorgridcolor\":\"white\",\"startlinecolor\":\"#2a3f5f\"},\"baxis\":{\"endlinecolor\":\"#2a3f5f\",\"gridcolor\":\"white\",\"linecolor\":\"white\",\"minorgridcolor\":\"white\",\"startlinecolor\":\"#2a3f5f\"},\"type\":\"carpet\"}],\"table\":[{\"cells\":{\"fill\":{\"color\":\"#EBF0F8\"},\"line\":{\"color\":\"white\"}},\"header\":{\"fill\":{\"color\":\"#C8D4E3\"},\"line\":{\"color\":\"white\"}},\"type\":\"table\"}],\"barpolar\":[{\"marker\":{\"line\":{\"color\":\"#E5ECF6\",\"width\":0.5},\"pattern\":{\"fillmode\":\"overlay\",\"size\":10,\"solidity\":0.2}},\"type\":\"barpolar\"}],\"pie\":[{\"automargin\":true,\"type\":\"pie\"}]},\"layout\":{\"autotypenumbers\":\"strict\",\"colorway\":[\"#636efa\",\"#EF553B\",\"#00cc96\",\"#ab63fa\",\"#FFA15A\",\"#19d3f3\",\"#FF6692\",\"#B6E880\",\"#FF97FF\",\"#FECB52\"],\"font\":{\"color\":\"#2a3f5f\"},\"hovermode\":\"closest\",\"hoverlabel\":{\"align\":\"left\"},\"paper_bgcolor\":\"white\",\"plot_bgcolor\":\"#E5ECF6\",\"polar\":{\"bgcolor\":\"#E5ECF6\",\"angularaxis\":{\"gridcolor\":\"white\",\"linecolor\":\"white\",\"ticks\":\"\"},\"radialaxis\":{\"gridcolor\":\"white\",\"linecolor\":\"white\",\"ticks\":\"\"}},\"ternary\":{\"bgcolor\":\"#E5ECF6\",\"aaxis\":{\"gridcolor\":\"white\",\"linecolor\":\"white\",\"ticks\":\"\"},\"baxis\":{\"gridcolor\":\"white\",\"linecolor\":\"white\",\"ticks\":\"\"},\"caxis\":{\"gridcolor\":\"white\",\"linecolor\":\"white\",\"ticks\":\"\"}},\"coloraxis\":{\"colorbar\":{\"outlinewidth\":0,\"ticks\":\"\"}},\"colorscale\":{\"sequential\":[[0.0,\"#0d0887\"],[0.1111111111111111,\"#46039f\"],[0.2222222222222222,\"#7201a8\"],[0.3333333333333333,\"#9c179e\"],[0.4444444444444444,\"#bd3786\"],[0.5555555555555556,\"#d8576b\"],[0.6666666666666666,\"#ed7953\"],[0.7777777777777778,\"#fb9f3a\"],[0.8888888888888888,\"#fdca26\"],[1.0,\"#f0f921\"]],\"sequentialminus\":[[0.0,\"#0d0887\"],[0.1111111111111111,\"#46039f\"],[0.2222222222222222,\"#7201a8\"],[0.3333333333333333,\"#9c179e\"],[0.4444444444444444,\"#bd3786\"],[0.5555555555555556,\"#d8576b\"],[0.6666666666666666,\"#ed7953\"],[0.7777777777777778,\"#fb9f3a\"],[0.8888888888888888,\"#fdca26\"],[1.0,\"#f0f921\"]],\"diverging\":[[0,\"#8e0152\"],[0.1,\"#c51b7d\"],[0.2,\"#de77ae\"],[0.3,\"#f1b6da\"],[0.4,\"#fde0ef\"],[0.5,\"#f7f7f7\"],[0.6,\"#e6f5d0\"],[0.7,\"#b8e186\"],[0.8,\"#7fbc41\"],[0.9,\"#4d9221\"],[1,\"#276419\"]]},\"xaxis\":{\"gridcolor\":\"white\",\"linecolor\":\"white\",\"ticks\":\"\",\"title\":{\"standoff\":15},\"zerolinecolor\":\"white\",\"automargin\":true,\"zerolinewidth\":2},\"yaxis\":{\"gridcolor\":\"white\",\"linecolor\":\"white\",\"ticks\":\"\",\"title\":{\"standoff\":15},\"zerolinecolor\":\"white\",\"automargin\":true,\"zerolinewidth\":2},\"scene\":{\"xaxis\":{\"backgroundcolor\":\"#E5ECF6\",\"gridcolor\":\"white\",\"linecolor\":\"white\",\"showbackground\":true,\"ticks\":\"\",\"zerolinecolor\":\"white\",\"gridwidth\":2},\"yaxis\":{\"backgroundcolor\":\"#E5ECF6\",\"gridcolor\":\"white\",\"linecolor\":\"white\",\"showbackground\":true,\"ticks\":\"\",\"zerolinecolor\":\"white\",\"gridwidth\":2},\"zaxis\":{\"backgroundcolor\":\"#E5ECF6\",\"gridcolor\":\"white\",\"linecolor\":\"white\",\"showbackground\":true,\"ticks\":\"\",\"zerolinecolor\":\"white\",\"gridwidth\":2}},\"shapedefaults\":{\"line\":{\"color\":\"#2a3f5f\"}},\"annotationdefaults\":{\"arrowcolor\":\"#2a3f5f\",\"arrowhead\":0,\"arrowwidth\":1},\"geo\":{\"bgcolor\":\"white\",\"landcolor\":\"#E5ECF6\",\"subunitcolor\":\"white\",\"showland\":true,\"showlakes\":true,\"lakecolor\":\"white\"},\"title\":{\"x\":0.05},\"mapbox\":{\"style\":\"light\"}}},\"xaxis\":{\"anchor\":\"y\",\"domain\":[0.0,1.0],\"scaleanchor\":\"y\",\"constrain\":\"domain\"},\"yaxis\":{\"anchor\":\"x\",\"domain\":[0.0,1.0],\"autorange\":\"reversed\",\"constrain\":\"domain\"},\"coloraxis\":{\"colorbar\":{\"title\":{\"text\":\"Similarity Score\"}},\"colorscale\":[[0.0,\"rgb(247,252,240)\"],[0.125,\"rgb(224,243,219)\"],[0.25,\"rgb(204,235,197)\"],[0.375,\"rgb(168,221,181)\"],[0.5,\"rgb(123,204,196)\"],[0.625,\"rgb(78,179,211)\"],[0.75,\"rgb(43,140,190)\"],[0.875,\"rgb(8,104,172)\"],[1.0,\"rgb(8,64,129)\"]]},\"margin\":{\"t\":60},\"title\":{\"font\":{\"size\":22,\"color\":\"Black\"},\"text\":\"<b>Similarity Matrix\",\"y\":0.95,\"x\":0.55,\"xanchor\":\"center\",\"yanchor\":\"top\"},\"hoverlabel\":{\"font\":{\"size\":16,\"family\":\"Rockwell\"},\"bgcolor\":\"white\"},\"width\":1000,\"height\":1000,\"showlegend\":true,\"legend\":{\"title\":{\"text\":\"Trend\"}}},                        {\"responsive\": true}                    ).then(function(){\n                            \nvar gd = document.getElementById('d4ef2106-72d1-4cc7-b665-2d81f3131a9a');\nvar x = new MutationObserver(function (mutations, observer) {{\n        var display = window.getComputedStyle(gd).display;\n        if (!display || display === 'none') {{\n            console.log([gd, 'removed!']);\n            Plotly.purge(gd);\n            observer.disconnect();\n        }}\n}});\n\n// Listen for the removal of the full notebook cells\nvar notebookContainer = gd.closest('#notebook-container');\nif (notebookContainer) {{\n    x.observe(notebookContainer, {childList: true});\n}}\n\n// Listen for the clearing of the current output cell\nvar outputEl = gd.closest('.output');\nif (outputEl) {{\n    x.observe(outputEl, {childList: true});\n}}\n\n                        })                };                });            </script>        </div>",
      "text/plain": "Figure({\n    'data': [{'coloraxis': 'coloraxis',\n              'hovertemplate': 'x: %{x}<br>y: %{y}<br>Similarity Score: %{z}<extra></extra>',\n              'name': '0',\n              'type': 'heatmap',\n              'x': [0_data_information_personal, 1_terms_conditions_change,\n                    2_unethical_is_data, 3_app_the_third, 4_rights_unethical_waive,\n                    7_policy_privacy_changes, 11_policy_changes_time,\n                    21_changes_notify_notified, 25_paragraph_because_unethi...,\n                    29_terms_unethical_are, 37_service_changes_terms,\n                    39_amendments_agreement_users, 5_consent_withdraw_still,\n                    6_account_terminated_reason, 14_game_profile_play,\n                    17_game_free_resources, 20_delete_deleted_data,\n                    28_notice_given_should, 30_terminate_unethical_acco...,\n                    31_username_name_reclaim, 32_consent_ask_asked,\n                    33_player_termination_before, 34_accounts_same_name,\n                    38_keep_longer_long, 40_service_discontinue_warn...,\n                    41_deleted_fee_account, 8_opt_out_optout,\n                    9_track_tracked_signals, 10_communications_opt_out,\n                    12_countries_country_laws, 22_microsoft_settings_windows,\n                    24_nexters_intraproject_val..., 26_age_block_proof,\n                    27_content_remove_there, 35_moon_active_sole,\n                    36_software_updates_upgrade, 13_playrix_website_discretion,\n                    16_zynga_group_users, 18_cookies_accept_cookie,\n                    19_plarium_reason_any, 23_roblox_robux_group,\n                    15_termination_terminate_pr...],\n              'xaxis': 'x',\n              'y': [0_data_information_personal, 1_terms_conditions_change,\n                    2_unethical_is_data, 3_app_the_third, 4_rights_unethical_waive,\n                    7_policy_privacy_changes, 11_policy_changes_time,\n                    21_changes_notify_notified, 25_paragraph_because_unethi...,\n                    29_terms_unethical_are, 37_service_changes_terms,\n                    39_amendments_agreement_users, 5_consent_withdraw_still,\n                    6_account_terminated_reason, 14_game_profile_play,\n                    17_game_free_resources, 20_delete_deleted_data,\n                    28_notice_given_should, 30_terminate_unethical_acco...,\n                    31_username_name_reclaim, 32_consent_ask_asked,\n                    33_player_termination_before, 34_accounts_same_name,\n                    38_keep_longer_long, 40_service_discontinue_warn...,\n                    41_deleted_fee_account, 8_opt_out_optout,\n                    9_track_tracked_signals, 10_communications_opt_out,\n                    12_countries_country_laws, 22_microsoft_settings_windows,\n                    24_nexters_intraproject_val..., 26_age_block_proof,\n                    27_content_remove_there, 35_moon_active_sole,\n                    36_software_updates_upgrade, 13_playrix_website_discretion,\n                    16_zynga_group_users, 18_cookies_accept_cookie,\n                    19_plarium_reason_any, 23_roblox_robux_group,\n                    15_termination_terminate_pr...],\n              'yaxis': 'y',\n              'z': array([[1.        , 0.78480644, 0.88980153, ..., 0.69682503, 0.63046384,\n                           0.61701671],\n                          [0.78480644, 1.        , 0.74851307, ..., 0.70802297, 0.62454877,\n                           0.69670802],\n                          [0.88980153, 0.74851307, 1.        , ..., 0.68090869, 0.63944782,\n                           0.6551312 ],\n                          ...,\n                          [0.69682503, 0.70802297, 0.68090869, ..., 1.        , 0.59446232,\n                           0.5936267 ],\n                          [0.63046384, 0.62454877, 0.63944782, ..., 0.59446232, 1.        ,\n                           0.54057251],\n                          [0.61701671, 0.69670802, 0.6551312 , ..., 0.5936267 , 0.54057251,\n                           1.        ]])}],\n    'layout': {'coloraxis': {'colorbar': {'title': {'text': 'Similarity Score'}},\n                             'colorscale': [[0.0, 'rgb(247,252,240)'], [0.125,\n                                            'rgb(224,243,219)'], [0.25,\n                                            'rgb(204,235,197)'], [0.375,\n                                            'rgb(168,221,181)'], [0.5,\n                                            'rgb(123,204,196)'], [0.625,\n                                            'rgb(78,179,211)'], [0.75,\n                                            'rgb(43,140,190)'], [0.875,\n                                            'rgb(8,104,172)'], [1.0,\n                                            'rgb(8,64,129)']]},\n               'height': 1000,\n               'hoverlabel': {'bgcolor': 'white', 'font': {'family': 'Rockwell', 'size': 16}},\n               'legend': {'title': {'text': 'Trend'}},\n               'margin': {'t': 60},\n               'showlegend': True,\n               'template': '...',\n               'title': {'font': {'color': 'Black', 'size': 22},\n                         'text': '<b>Similarity Matrix',\n                         'x': 0.55,\n                         'xanchor': 'center',\n                         'y': 0.95,\n                         'yanchor': 'top'},\n               'width': 1000,\n               'xaxis': {'anchor': 'y', 'constrain': 'domain', 'domain': [0.0, 1.0], 'scaleanchor': 'y'},\n               'yaxis': {'anchor': 'x', 'autorange': 'reversed', 'constrain': 'domain', 'domain': [0.0, 1.0]}}\n})"
     },
     "execution_count": 45,
     "metadata": {},
     "output_type": "execute_result"
    }
   ],
   "source": [
    "model.visualize_heatmap(n_clusters=5, width=1000, height=1000)"
   ],
   "metadata": {
    "collapsed": false,
    "pycharm": {
     "name": "#%%\n"
    }
   }
  },
  {
   "cell_type": "code",
   "execution_count": 46,
   "outputs": [
    {
     "data": {
      "text/plain": "    Topic  Count                                         Name\n0       0    515             0_data_information_personal_they\n1      -1    490                            -1_the_to_be_they\n2       1    117            1_terms_conditions_change_changes\n3       2    116                       2_unethical_is_data_it\n4       3     95                           3_app_the_third_of\n5       4     91          4_rights_unethical_waive_discretion\n6       5     63                5_consent_withdraw_still_even\n7       6     60        6_account_terminated_reason_terminate\n8       7     51                 7_policy_privacy_changes_the\n9       8     51                      8_opt_out_optout_option\n10      9     46             9_track_tracked_signals_tracking\n11     10     45        10_communications_opt_out_promotional\n12     11     39                   11_policy_changes_time_the\n13     12     36                 12_countries_country_laws_in\n14     13     34        13_playrix_website_discretion_conduct\n15     14     33                 14_game_profile_play_players\n16     15     32        15_termination_terminate_prior_notice\n17     16     32             16_zynga_group_users_information\n18     17     31                   17_game_free_resources_the\n19     18     30                 18_cookies_accept_cookie_not\n20     19     30                   19_plarium_reason_any_that\n21     20     29                  20_delete_deleted_data_your\n22     21     25                21_changes_notify_notified_of\n23     22     23  22_microsoft_settings_windows_organizations\n24     23     23                 23_roblox_robux_group_paying\n25     24     22       24_nexters_intraproject_values_enforce\n26     25     22            25_paragraph_because_unethical_is\n27     26     21                     26_age_block_proof_under\n28     27     21                   27_content_remove_there_be\n29     28     21                    28_notice_given_should_be\n30     29     20              29_terms_unethical_are_enforced\n32     30     17      30_terminate_unethical_account_accounts\n31     31     17              31_username_name_reclaim_remove\n33     32     16                   32_consent_ask_asked_doing\n34     33     16         33_player_termination_before_players\n35     34     16               34_accounts_same_name_multiple\n36     35     15                    35_moon_active_sole_terms\n37     36     15             36_software_updates_upgrade_want\n38     37     15                37_service_changes_terms_made\n39     38     12                    38_keep_longer_long_exact\n40     39     11          39_amendments_agreement_users_check\n41     40     11       40_service_discontinue_warning_revoked\n42     41     11              41_deleted_fee_account_accounts",
      "text/html": "<div>\n<style scoped>\n    .dataframe tbody tr th:only-of-type {\n        vertical-align: middle;\n    }\n\n    .dataframe tbody tr th {\n        vertical-align: top;\n    }\n\n    .dataframe thead th {\n        text-align: right;\n    }\n</style>\n<table border=\"1\" class=\"dataframe\">\n  <thead>\n    <tr style=\"text-align: right;\">\n      <th></th>\n      <th>Topic</th>\n      <th>Count</th>\n      <th>Name</th>\n    </tr>\n  </thead>\n  <tbody>\n    <tr>\n      <th>0</th>\n      <td>0</td>\n      <td>515</td>\n      <td>0_data_information_personal_they</td>\n    </tr>\n    <tr>\n      <th>1</th>\n      <td>-1</td>\n      <td>490</td>\n      <td>-1_the_to_be_they</td>\n    </tr>\n    <tr>\n      <th>2</th>\n      <td>1</td>\n      <td>117</td>\n      <td>1_terms_conditions_change_changes</td>\n    </tr>\n    <tr>\n      <th>3</th>\n      <td>2</td>\n      <td>116</td>\n      <td>2_unethical_is_data_it</td>\n    </tr>\n    <tr>\n      <th>4</th>\n      <td>3</td>\n      <td>95</td>\n      <td>3_app_the_third_of</td>\n    </tr>\n    <tr>\n      <th>5</th>\n      <td>4</td>\n      <td>91</td>\n      <td>4_rights_unethical_waive_discretion</td>\n    </tr>\n    <tr>\n      <th>6</th>\n      <td>5</td>\n      <td>63</td>\n      <td>5_consent_withdraw_still_even</td>\n    </tr>\n    <tr>\n      <th>7</th>\n      <td>6</td>\n      <td>60</td>\n      <td>6_account_terminated_reason_terminate</td>\n    </tr>\n    <tr>\n      <th>8</th>\n      <td>7</td>\n      <td>51</td>\n      <td>7_policy_privacy_changes_the</td>\n    </tr>\n    <tr>\n      <th>9</th>\n      <td>8</td>\n      <td>51</td>\n      <td>8_opt_out_optout_option</td>\n    </tr>\n    <tr>\n      <th>10</th>\n      <td>9</td>\n      <td>46</td>\n      <td>9_track_tracked_signals_tracking</td>\n    </tr>\n    <tr>\n      <th>11</th>\n      <td>10</td>\n      <td>45</td>\n      <td>10_communications_opt_out_promotional</td>\n    </tr>\n    <tr>\n      <th>12</th>\n      <td>11</td>\n      <td>39</td>\n      <td>11_policy_changes_time_the</td>\n    </tr>\n    <tr>\n      <th>13</th>\n      <td>12</td>\n      <td>36</td>\n      <td>12_countries_country_laws_in</td>\n    </tr>\n    <tr>\n      <th>14</th>\n      <td>13</td>\n      <td>34</td>\n      <td>13_playrix_website_discretion_conduct</td>\n    </tr>\n    <tr>\n      <th>15</th>\n      <td>14</td>\n      <td>33</td>\n      <td>14_game_profile_play_players</td>\n    </tr>\n    <tr>\n      <th>16</th>\n      <td>15</td>\n      <td>32</td>\n      <td>15_termination_terminate_prior_notice</td>\n    </tr>\n    <tr>\n      <th>17</th>\n      <td>16</td>\n      <td>32</td>\n      <td>16_zynga_group_users_information</td>\n    </tr>\n    <tr>\n      <th>18</th>\n      <td>17</td>\n      <td>31</td>\n      <td>17_game_free_resources_the</td>\n    </tr>\n    <tr>\n      <th>19</th>\n      <td>18</td>\n      <td>30</td>\n      <td>18_cookies_accept_cookie_not</td>\n    </tr>\n    <tr>\n      <th>20</th>\n      <td>19</td>\n      <td>30</td>\n      <td>19_plarium_reason_any_that</td>\n    </tr>\n    <tr>\n      <th>21</th>\n      <td>20</td>\n      <td>29</td>\n      <td>20_delete_deleted_data_your</td>\n    </tr>\n    <tr>\n      <th>22</th>\n      <td>21</td>\n      <td>25</td>\n      <td>21_changes_notify_notified_of</td>\n    </tr>\n    <tr>\n      <th>23</th>\n      <td>22</td>\n      <td>23</td>\n      <td>22_microsoft_settings_windows_organizations</td>\n    </tr>\n    <tr>\n      <th>24</th>\n      <td>23</td>\n      <td>23</td>\n      <td>23_roblox_robux_group_paying</td>\n    </tr>\n    <tr>\n      <th>25</th>\n      <td>24</td>\n      <td>22</td>\n      <td>24_nexters_intraproject_values_enforce</td>\n    </tr>\n    <tr>\n      <th>26</th>\n      <td>25</td>\n      <td>22</td>\n      <td>25_paragraph_because_unethical_is</td>\n    </tr>\n    <tr>\n      <th>27</th>\n      <td>26</td>\n      <td>21</td>\n      <td>26_age_block_proof_under</td>\n    </tr>\n    <tr>\n      <th>28</th>\n      <td>27</td>\n      <td>21</td>\n      <td>27_content_remove_there_be</td>\n    </tr>\n    <tr>\n      <th>29</th>\n      <td>28</td>\n      <td>21</td>\n      <td>28_notice_given_should_be</td>\n    </tr>\n    <tr>\n      <th>30</th>\n      <td>29</td>\n      <td>20</td>\n      <td>29_terms_unethical_are_enforced</td>\n    </tr>\n    <tr>\n      <th>32</th>\n      <td>30</td>\n      <td>17</td>\n      <td>30_terminate_unethical_account_accounts</td>\n    </tr>\n    <tr>\n      <th>31</th>\n      <td>31</td>\n      <td>17</td>\n      <td>31_username_name_reclaim_remove</td>\n    </tr>\n    <tr>\n      <th>33</th>\n      <td>32</td>\n      <td>16</td>\n      <td>32_consent_ask_asked_doing</td>\n    </tr>\n    <tr>\n      <th>34</th>\n      <td>33</td>\n      <td>16</td>\n      <td>33_player_termination_before_players</td>\n    </tr>\n    <tr>\n      <th>35</th>\n      <td>34</td>\n      <td>16</td>\n      <td>34_accounts_same_name_multiple</td>\n    </tr>\n    <tr>\n      <th>36</th>\n      <td>35</td>\n      <td>15</td>\n      <td>35_moon_active_sole_terms</td>\n    </tr>\n    <tr>\n      <th>37</th>\n      <td>36</td>\n      <td>15</td>\n      <td>36_software_updates_upgrade_want</td>\n    </tr>\n    <tr>\n      <th>38</th>\n      <td>37</td>\n      <td>15</td>\n      <td>37_service_changes_terms_made</td>\n    </tr>\n    <tr>\n      <th>39</th>\n      <td>38</td>\n      <td>12</td>\n      <td>38_keep_longer_long_exact</td>\n    </tr>\n    <tr>\n      <th>40</th>\n      <td>39</td>\n      <td>11</td>\n      <td>39_amendments_agreement_users_check</td>\n    </tr>\n    <tr>\n      <th>41</th>\n      <td>40</td>\n      <td>11</td>\n      <td>40_service_discontinue_warning_revoked</td>\n    </tr>\n    <tr>\n      <th>42</th>\n      <td>41</td>\n      <td>11</td>\n      <td>41_deleted_fee_account_accounts</td>\n    </tr>\n  </tbody>\n</table>\n</div>"
     },
     "execution_count": 46,
     "metadata": {},
     "output_type": "execute_result"
    }
   ],
   "source": [
    "model.get_topic_info()"
   ],
   "metadata": {
    "collapsed": false,
    "pycharm": {
     "name": "#%%\n"
    }
   }
  },
  {
   "cell_type": "code",
   "execution_count": 47,
   "outputs": [
    {
     "data": {
      "text/plain": "[('data', 0.03477487459001497),\n ('information', 0.023420267528693636),\n ('personal', 0.02123344341948135),\n ('they', 0.018496673088147404),\n ('to', 0.01814906199866913),\n ('third', 0.018031922110124072),\n ('and', 0.017147913328007986),\n ('it', 0.0169835515650802),\n ('is', 0.016804295606467217),\n ('your', 0.016595368947614805)]"
     },
     "execution_count": 47,
     "metadata": {},
     "output_type": "execute_result"
    }
   ],
   "source": [
    "model.get_topic(0)"
   ],
   "metadata": {
    "collapsed": false,
    "pycharm": {
     "name": "#%%\n"
    }
   }
  },
  {
   "cell_type": "code",
   "execution_count": 48,
   "outputs": [
    {
     "data": {
      "text/plain": "[('terms', 0.08381328566085121),\n ('conditions', 0.03669396553599796),\n ('change', 0.031096653945836945),\n ('changes', 0.02824050856538263),\n ('and', 0.027712773505304468),\n ('the', 0.0266284422901492),\n ('to', 0.024607239298443138),\n ('them', 0.023930452307466286),\n ('new', 0.023086051046159708),\n ('any', 0.022330305952817344)]"
     },
     "execution_count": 48,
     "metadata": {},
     "output_type": "execute_result"
    }
   ],
   "source": [
    "model.get_topic(1)"
   ],
   "metadata": {
    "collapsed": false,
    "pycharm": {
     "name": "#%%\n"
    }
   }
  },
  {
   "cell_type": "code",
   "execution_count": 49,
   "outputs": [
    {
     "data": {
      "text/plain": "    Topic  Count\n0       0    515\n1      -1    490\n2       1    117\n3       2    116\n4       3     95\n5       4     91\n6       5     63\n7       6     60\n8       7     51\n9       8     51\n10      9     46\n11     10     45\n12     11     39\n13     12     36\n14     13     34\n15     14     33\n16     15     32\n17     16     32\n18     17     31\n19     18     30\n20     19     30\n21     20     29\n22     21     25\n23     22     23\n24     23     23\n25     24     22\n26     25     22\n27     26     21\n28     27     21\n29     28     21\n30     29     20\n32     30     17\n31     31     17\n33     32     16\n34     33     16\n35     34     16\n36     35     15\n37     36     15\n38     37     15\n39     38     12\n40     39     11\n41     40     11\n42     41     11",
      "text/html": "<div>\n<style scoped>\n    .dataframe tbody tr th:only-of-type {\n        vertical-align: middle;\n    }\n\n    .dataframe tbody tr th {\n        vertical-align: top;\n    }\n\n    .dataframe thead th {\n        text-align: right;\n    }\n</style>\n<table border=\"1\" class=\"dataframe\">\n  <thead>\n    <tr style=\"text-align: right;\">\n      <th></th>\n      <th>Topic</th>\n      <th>Count</th>\n    </tr>\n  </thead>\n  <tbody>\n    <tr>\n      <th>0</th>\n      <td>0</td>\n      <td>515</td>\n    </tr>\n    <tr>\n      <th>1</th>\n      <td>-1</td>\n      <td>490</td>\n    </tr>\n    <tr>\n      <th>2</th>\n      <td>1</td>\n      <td>117</td>\n    </tr>\n    <tr>\n      <th>3</th>\n      <td>2</td>\n      <td>116</td>\n    </tr>\n    <tr>\n      <th>4</th>\n      <td>3</td>\n      <td>95</td>\n    </tr>\n    <tr>\n      <th>5</th>\n      <td>4</td>\n      <td>91</td>\n    </tr>\n    <tr>\n      <th>6</th>\n      <td>5</td>\n      <td>63</td>\n    </tr>\n    <tr>\n      <th>7</th>\n      <td>6</td>\n      <td>60</td>\n    </tr>\n    <tr>\n      <th>8</th>\n      <td>7</td>\n      <td>51</td>\n    </tr>\n    <tr>\n      <th>9</th>\n      <td>8</td>\n      <td>51</td>\n    </tr>\n    <tr>\n      <th>10</th>\n      <td>9</td>\n      <td>46</td>\n    </tr>\n    <tr>\n      <th>11</th>\n      <td>10</td>\n      <td>45</td>\n    </tr>\n    <tr>\n      <th>12</th>\n      <td>11</td>\n      <td>39</td>\n    </tr>\n    <tr>\n      <th>13</th>\n      <td>12</td>\n      <td>36</td>\n    </tr>\n    <tr>\n      <th>14</th>\n      <td>13</td>\n      <td>34</td>\n    </tr>\n    <tr>\n      <th>15</th>\n      <td>14</td>\n      <td>33</td>\n    </tr>\n    <tr>\n      <th>16</th>\n      <td>15</td>\n      <td>32</td>\n    </tr>\n    <tr>\n      <th>17</th>\n      <td>16</td>\n      <td>32</td>\n    </tr>\n    <tr>\n      <th>18</th>\n      <td>17</td>\n      <td>31</td>\n    </tr>\n    <tr>\n      <th>19</th>\n      <td>18</td>\n      <td>30</td>\n    </tr>\n    <tr>\n      <th>20</th>\n      <td>19</td>\n      <td>30</td>\n    </tr>\n    <tr>\n      <th>21</th>\n      <td>20</td>\n      <td>29</td>\n    </tr>\n    <tr>\n      <th>22</th>\n      <td>21</td>\n      <td>25</td>\n    </tr>\n    <tr>\n      <th>23</th>\n      <td>22</td>\n      <td>23</td>\n    </tr>\n    <tr>\n      <th>24</th>\n      <td>23</td>\n      <td>23</td>\n    </tr>\n    <tr>\n      <th>25</th>\n      <td>24</td>\n      <td>22</td>\n    </tr>\n    <tr>\n      <th>26</th>\n      <td>25</td>\n      <td>22</td>\n    </tr>\n    <tr>\n      <th>27</th>\n      <td>26</td>\n      <td>21</td>\n    </tr>\n    <tr>\n      <th>28</th>\n      <td>27</td>\n      <td>21</td>\n    </tr>\n    <tr>\n      <th>29</th>\n      <td>28</td>\n      <td>21</td>\n    </tr>\n    <tr>\n      <th>30</th>\n      <td>29</td>\n      <td>20</td>\n    </tr>\n    <tr>\n      <th>32</th>\n      <td>30</td>\n      <td>17</td>\n    </tr>\n    <tr>\n      <th>31</th>\n      <td>31</td>\n      <td>17</td>\n    </tr>\n    <tr>\n      <th>33</th>\n      <td>32</td>\n      <td>16</td>\n    </tr>\n    <tr>\n      <th>34</th>\n      <td>33</td>\n      <td>16</td>\n    </tr>\n    <tr>\n      <th>35</th>\n      <td>34</td>\n      <td>16</td>\n    </tr>\n    <tr>\n      <th>36</th>\n      <td>35</td>\n      <td>15</td>\n    </tr>\n    <tr>\n      <th>37</th>\n      <td>36</td>\n      <td>15</td>\n    </tr>\n    <tr>\n      <th>38</th>\n      <td>37</td>\n      <td>15</td>\n    </tr>\n    <tr>\n      <th>39</th>\n      <td>38</td>\n      <td>12</td>\n    </tr>\n    <tr>\n      <th>40</th>\n      <td>39</td>\n      <td>11</td>\n    </tr>\n    <tr>\n      <th>41</th>\n      <td>40</td>\n      <td>11</td>\n    </tr>\n    <tr>\n      <th>42</th>\n      <td>41</td>\n      <td>11</td>\n    </tr>\n  </tbody>\n</table>\n</div>"
     },
     "execution_count": 49,
     "metadata": {},
     "output_type": "execute_result"
    }
   ],
   "source": [
    "model.get_topic_freq()"
   ],
   "metadata": {
    "collapsed": false,
    "pycharm": {
     "name": "#%%\n"
    }
   }
  },
  {
   "cell_type": "code",
   "execution_count": 50,
   "outputs": [
    {
     "ename": "ValueError",
     "evalue": "Mime type rendering requires nbformat>=4.2.0 but it is not installed",
     "output_type": "error",
     "traceback": [
      "\u001B[0;31m---------------------------------------------------------------------------\u001B[0m",
      "\u001B[0;31mValueError\u001B[0m                                Traceback (most recent call last)",
      "File \u001B[0;32m~/python_envs/nlp_env/lib/python3.8/site-packages/IPython/core/formatters.py:921\u001B[0m, in \u001B[0;36mIPythonDisplayFormatter.__call__\u001B[0;34m(self, obj)\u001B[0m\n\u001B[1;32m    919\u001B[0m method \u001B[38;5;241m=\u001B[39m get_real_method(obj, \u001B[38;5;28mself\u001B[39m\u001B[38;5;241m.\u001B[39mprint_method)\n\u001B[1;32m    920\u001B[0m \u001B[38;5;28;01mif\u001B[39;00m method \u001B[38;5;129;01mis\u001B[39;00m \u001B[38;5;129;01mnot\u001B[39;00m \u001B[38;5;28;01mNone\u001B[39;00m:\n\u001B[0;32m--> 921\u001B[0m     \u001B[43mmethod\u001B[49m\u001B[43m(\u001B[49m\u001B[43m)\u001B[49m\n\u001B[1;32m    922\u001B[0m     \u001B[38;5;28;01mreturn\u001B[39;00m \u001B[38;5;28;01mTrue\u001B[39;00m\n",
      "File \u001B[0;32m~/python_envs/nlp_env/lib/python3.8/site-packages/plotly/basedatatypes.py:842\u001B[0m, in \u001B[0;36mBaseFigure._ipython_display_\u001B[0;34m(self)\u001B[0m\n\u001B[1;32m    839\u001B[0m \u001B[38;5;28;01mimport\u001B[39;00m \u001B[38;5;21;01mplotly\u001B[39;00m\u001B[38;5;21;01m.\u001B[39;00m\u001B[38;5;21;01mio\u001B[39;00m \u001B[38;5;28;01mas\u001B[39;00m \u001B[38;5;21;01mpio\u001B[39;00m\n\u001B[1;32m    841\u001B[0m \u001B[38;5;28;01mif\u001B[39;00m pio\u001B[38;5;241m.\u001B[39mrenderers\u001B[38;5;241m.\u001B[39mrender_on_display \u001B[38;5;129;01mand\u001B[39;00m pio\u001B[38;5;241m.\u001B[39mrenderers\u001B[38;5;241m.\u001B[39mdefault:\n\u001B[0;32m--> 842\u001B[0m     \u001B[43mpio\u001B[49m\u001B[38;5;241;43m.\u001B[39;49m\u001B[43mshow\u001B[49m\u001B[43m(\u001B[49m\u001B[38;5;28;43mself\u001B[39;49m\u001B[43m)\u001B[49m\n\u001B[1;32m    843\u001B[0m \u001B[38;5;28;01melse\u001B[39;00m:\n\u001B[1;32m    844\u001B[0m     \u001B[38;5;28mprint\u001B[39m(\u001B[38;5;28mrepr\u001B[39m(\u001B[38;5;28mself\u001B[39m))\n",
      "File \u001B[0;32m~/python_envs/nlp_env/lib/python3.8/site-packages/plotly/io/_renderers.py:396\u001B[0m, in \u001B[0;36mshow\u001B[0;34m(fig, renderer, validate, **kwargs)\u001B[0m\n\u001B[1;32m    391\u001B[0m         \u001B[38;5;28;01mraise\u001B[39;00m \u001B[38;5;167;01mValueError\u001B[39;00m(\n\u001B[1;32m    392\u001B[0m             \u001B[38;5;124m\"\u001B[39m\u001B[38;5;124mMime type rendering requires ipython but it is not installed\u001B[39m\u001B[38;5;124m\"\u001B[39m\n\u001B[1;32m    393\u001B[0m         )\n\u001B[1;32m    395\u001B[0m     \u001B[38;5;28;01mif\u001B[39;00m \u001B[38;5;129;01mnot\u001B[39;00m nbformat \u001B[38;5;129;01mor\u001B[39;00m LooseVersion(nbformat\u001B[38;5;241m.\u001B[39m__version__) \u001B[38;5;241m<\u001B[39m LooseVersion(\u001B[38;5;124m\"\u001B[39m\u001B[38;5;124m4.2.0\u001B[39m\u001B[38;5;124m\"\u001B[39m):\n\u001B[0;32m--> 396\u001B[0m         \u001B[38;5;28;01mraise\u001B[39;00m \u001B[38;5;167;01mValueError\u001B[39;00m(\n\u001B[1;32m    397\u001B[0m             \u001B[38;5;124m\"\u001B[39m\u001B[38;5;124mMime type rendering requires nbformat>=4.2.0 but it is not installed\u001B[39m\u001B[38;5;124m\"\u001B[39m\n\u001B[1;32m    398\u001B[0m         )\n\u001B[1;32m    400\u001B[0m     ipython_display\u001B[38;5;241m.\u001B[39mdisplay(bundle, raw\u001B[38;5;241m=\u001B[39m\u001B[38;5;28;01mTrue\u001B[39;00m)\n\u001B[1;32m    402\u001B[0m \u001B[38;5;66;03m# external renderers\u001B[39;00m\n",
      "\u001B[0;31mValueError\u001B[0m: Mime type rendering requires nbformat>=4.2.0 but it is not installed"
     ]
    },
    {
     "data": {
      "application/vnd.plotly.v1+json": {
       "data": [
        {
         "customdata": [
          [
           1,
           "terms | conditions | change | changes | and",
           117
          ],
          [
           2,
           "unethical | is | data | it | this",
           116
          ],
          [
           3,
           "app | the | third | of | to",
           95
          ],
          [
           4,
           "rights | unethical | waive | discretion | sole",
           91
          ],
          [
           5,
           "consent | withdraw | still | even | withdrawn",
           63
          ],
          [
           6,
           "account | terminated | reason | terminate | an",
           60
          ],
          [
           7,
           "policy | privacy | changes | the | should",
           51
          ],
          [
           8,
           "opt | out | optout | option | you",
           51
          ],
          [
           9,
           "track | tracked | signals | tracking | do",
           46
          ],
          [
           10,
           "communications | opt | out | promotional | advertising",
           45
          ],
          [
           11,
           "policy | changes | time | the | change",
           39
          ],
          [
           12,
           "countries | country | laws | in | eu",
           36
          ],
          [
           13,
           "playrix | website | discretion | conduct | virtual",
           34
          ],
          [
           14,
           "game | profile | play | players | should",
           33
          ],
          [
           15,
           "termination | terminate | prior | notice | company",
           32
          ],
          [
           16,
           "zynga | group | users | information | is",
           32
          ],
          [
           17,
           "game | free | resources | the | refund",
           31
          ],
          [
           18,
           "cookies | accept | cookie | not | it",
           30
          ],
          [
           19,
           "plarium | reason | any | that | currency",
           30
          ],
          [
           20,
           "delete | deleted | data | your | account",
           29
          ],
          [
           21,
           "changes | notify | notified | of | should",
           25
          ],
          [
           22,
           "microsoft | settings | windows | organizations | data",
           23
          ],
          [
           23,
           "roblox | robux | group | paying | right",
           23
          ],
          [
           24,
           "nexters | intraproject | values | enforce | value",
           22
          ],
          [
           25,
           "paragraph | because | unethical | is | this",
           22
          ],
          [
           26,
           "age | block | proof | under | suspect",
           21
          ],
          [
           27,
           "content | remove | there | be | at",
           21
          ],
          [
           28,
           "notice | given | should | be | notified",
           21
          ],
          [
           29,
           "terms | unethical | are | enforced | the",
           20
          ],
          [
           30,
           "terminate | unethical | account | accounts | suspend",
           17
          ],
          [
           31,
           "username | name | reclaim | remove | any",
           17
          ],
          [
           32,
           "consent | ask | asked | doing | before",
           16
          ],
          [
           33,
           "player | termination | before | players | notified",
           16
          ],
          [
           34,
           "accounts | same | name | multiple | suspend",
           16
          ],
          [
           35,
           "moon | active | sole | terms | share",
           15
          ],
          [
           36,
           "software | updates | upgrade | want | notify",
           15
          ],
          [
           37,
           "service | changes | terms | made | of",
           15
          ],
          [
           38,
           "keep | longer | long | exact | kept",
           12
          ],
          [
           39,
           "amendments | agreement | users | check | accepted",
           11
          ],
          [
           40,
           "service | discontinue | warning | revoked | stop",
           11
          ],
          [
           41,
           "deleted | fee | account | accounts | deleting",
           11
          ]
         ],
         "hovertemplate": "<b>Topic %{customdata[0]}</b><br>Words: %{customdata[1]}<br>Size: %{customdata[2]}",
         "legendgroup": "",
         "marker": {
          "color": "#B0BEC5",
          "size": [
           117,
           116,
           95,
           91,
           63,
           60,
           51,
           51,
           46,
           45,
           39,
           36,
           34,
           33,
           32,
           32,
           31,
           30,
           30,
           29,
           25,
           23,
           23,
           22,
           22,
           21,
           21,
           21,
           20,
           17,
           17,
           16,
           16,
           16,
           15,
           15,
           15,
           12,
           11,
           11,
           11
          ],
          "sizemode": "area",
          "sizeref": 0.073125,
          "symbol": "circle",
          "line": {
           "color": "DarkSlateGrey",
           "width": 2
          }
         },
         "mode": "markers",
         "name": "",
         "orientation": "v",
         "showlegend": false,
         "x": [
          -0.80446744,
          -17.069897,
          -17.035913,
          -0.9676876,
          -3.4940329,
          8.963423,
          -1.275231,
          -11.528547,
          -3.7238119,
          -11.453448,
          -0.71718496,
          -17.961863,
          1.0184448,
          -17.683958,
          8.947756,
          -16.881634,
          0.50822973,
          -3.7238274,
          0.9522406,
          -3.5593102,
          11.310526,
          -17.739054,
          0.06987321,
          0.41259238,
          21.951214,
          9.06642,
          21.423822,
          19.984161,
          0.68900037,
          9.135542,
          21.61045,
          19.938322,
          8.806628,
          21.551067,
          0.38019,
          -1.3933293,
          10.979128,
          21.802626,
          11.06775,
          9.205824,
          19.896204
         ],
         "xaxis": "x",
         "y": [
          -5.1840453,
          7.519682,
          7.3432403,
          -5.400413,
          10.639568,
          5.655383,
          -4.8734164,
          6.880807,
          3.5215664,
          6.8055787,
          -4.9346776,
          7.4236107,
          -4.921881,
          7.2402987,
          6.163925,
          7.5212545,
          -4.5643506,
          3.5216124,
          -4.8071866,
          10.707689,
          17.436972,
          7.503669,
          -4.5256386,
          -4.4571543,
          12.350715,
          6.1825852,
          11.497909,
          9.672484,
          -4.440812,
          5.4674582,
          11.61399,
          9.626986,
          6.403341,
          11.609344,
          -4.984295,
          -4.8061166,
          17.122574,
          12.148381,
          17.238338,
          5.3291926,
          9.586766
         ],
         "yaxis": "y",
         "type": "scatter"
        }
       ],
       "layout": {
        "template": {
         "data": {
          "barpolar": [
           {
            "marker": {
             "line": {
              "color": "white",
              "width": 0.5
             },
             "pattern": {
              "fillmode": "overlay",
              "size": 10,
              "solidity": 0.2
             }
            },
            "type": "barpolar"
           }
          ],
          "bar": [
           {
            "error_x": {
             "color": "rgb(36,36,36)"
            },
            "error_y": {
             "color": "rgb(36,36,36)"
            },
            "marker": {
             "line": {
              "color": "white",
              "width": 0.5
             },
             "pattern": {
              "fillmode": "overlay",
              "size": 10,
              "solidity": 0.2
             }
            },
            "type": "bar"
           }
          ],
          "carpet": [
           {
            "aaxis": {
             "endlinecolor": "rgb(36,36,36)",
             "gridcolor": "white",
             "linecolor": "white",
             "minorgridcolor": "white",
             "startlinecolor": "rgb(36,36,36)"
            },
            "baxis": {
             "endlinecolor": "rgb(36,36,36)",
             "gridcolor": "white",
             "linecolor": "white",
             "minorgridcolor": "white",
             "startlinecolor": "rgb(36,36,36)"
            },
            "type": "carpet"
           }
          ],
          "choropleth": [
           {
            "colorbar": {
             "outlinewidth": 1,
             "tickcolor": "rgb(36,36,36)",
             "ticks": "outside"
            },
            "type": "choropleth"
           }
          ],
          "contourcarpet": [
           {
            "colorbar": {
             "outlinewidth": 1,
             "tickcolor": "rgb(36,36,36)",
             "ticks": "outside"
            },
            "type": "contourcarpet"
           }
          ],
          "contour": [
           {
            "colorbar": {
             "outlinewidth": 1,
             "tickcolor": "rgb(36,36,36)",
             "ticks": "outside"
            },
            "colorscale": [
             [
              0.0,
              "#440154"
             ],
             [
              0.1111111111111111,
              "#482878"
             ],
             [
              0.2222222222222222,
              "#3e4989"
             ],
             [
              0.3333333333333333,
              "#31688e"
             ],
             [
              0.4444444444444444,
              "#26828e"
             ],
             [
              0.5555555555555556,
              "#1f9e89"
             ],
             [
              0.6666666666666666,
              "#35b779"
             ],
             [
              0.7777777777777778,
              "#6ece58"
             ],
             [
              0.8888888888888888,
              "#b5de2b"
             ],
             [
              1.0,
              "#fde725"
             ]
            ],
            "type": "contour"
           }
          ],
          "heatmapgl": [
           {
            "colorbar": {
             "outlinewidth": 1,
             "tickcolor": "rgb(36,36,36)",
             "ticks": "outside"
            },
            "colorscale": [
             [
              0.0,
              "#440154"
             ],
             [
              0.1111111111111111,
              "#482878"
             ],
             [
              0.2222222222222222,
              "#3e4989"
             ],
             [
              0.3333333333333333,
              "#31688e"
             ],
             [
              0.4444444444444444,
              "#26828e"
             ],
             [
              0.5555555555555556,
              "#1f9e89"
             ],
             [
              0.6666666666666666,
              "#35b779"
             ],
             [
              0.7777777777777778,
              "#6ece58"
             ],
             [
              0.8888888888888888,
              "#b5de2b"
             ],
             [
              1.0,
              "#fde725"
             ]
            ],
            "type": "heatmapgl"
           }
          ],
          "heatmap": [
           {
            "colorbar": {
             "outlinewidth": 1,
             "tickcolor": "rgb(36,36,36)",
             "ticks": "outside"
            },
            "colorscale": [
             [
              0.0,
              "#440154"
             ],
             [
              0.1111111111111111,
              "#482878"
             ],
             [
              0.2222222222222222,
              "#3e4989"
             ],
             [
              0.3333333333333333,
              "#31688e"
             ],
             [
              0.4444444444444444,
              "#26828e"
             ],
             [
              0.5555555555555556,
              "#1f9e89"
             ],
             [
              0.6666666666666666,
              "#35b779"
             ],
             [
              0.7777777777777778,
              "#6ece58"
             ],
             [
              0.8888888888888888,
              "#b5de2b"
             ],
             [
              1.0,
              "#fde725"
             ]
            ],
            "type": "heatmap"
           }
          ],
          "histogram2dcontour": [
           {
            "colorbar": {
             "outlinewidth": 1,
             "tickcolor": "rgb(36,36,36)",
             "ticks": "outside"
            },
            "colorscale": [
             [
              0.0,
              "#440154"
             ],
             [
              0.1111111111111111,
              "#482878"
             ],
             [
              0.2222222222222222,
              "#3e4989"
             ],
             [
              0.3333333333333333,
              "#31688e"
             ],
             [
              0.4444444444444444,
              "#26828e"
             ],
             [
              0.5555555555555556,
              "#1f9e89"
             ],
             [
              0.6666666666666666,
              "#35b779"
             ],
             [
              0.7777777777777778,
              "#6ece58"
             ],
             [
              0.8888888888888888,
              "#b5de2b"
             ],
             [
              1.0,
              "#fde725"
             ]
            ],
            "type": "histogram2dcontour"
           }
          ],
          "histogram2d": [
           {
            "colorbar": {
             "outlinewidth": 1,
             "tickcolor": "rgb(36,36,36)",
             "ticks": "outside"
            },
            "colorscale": [
             [
              0.0,
              "#440154"
             ],
             [
              0.1111111111111111,
              "#482878"
             ],
             [
              0.2222222222222222,
              "#3e4989"
             ],
             [
              0.3333333333333333,
              "#31688e"
             ],
             [
              0.4444444444444444,
              "#26828e"
             ],
             [
              0.5555555555555556,
              "#1f9e89"
             ],
             [
              0.6666666666666666,
              "#35b779"
             ],
             [
              0.7777777777777778,
              "#6ece58"
             ],
             [
              0.8888888888888888,
              "#b5de2b"
             ],
             [
              1.0,
              "#fde725"
             ]
            ],
            "type": "histogram2d"
           }
          ],
          "histogram": [
           {
            "marker": {
             "line": {
              "color": "white",
              "width": 0.6
             }
            },
            "type": "histogram"
           }
          ],
          "mesh3d": [
           {
            "colorbar": {
             "outlinewidth": 1,
             "tickcolor": "rgb(36,36,36)",
             "ticks": "outside"
            },
            "type": "mesh3d"
           }
          ],
          "parcoords": [
           {
            "line": {
             "colorbar": {
              "outlinewidth": 1,
              "tickcolor": "rgb(36,36,36)",
              "ticks": "outside"
             }
            },
            "type": "parcoords"
           }
          ],
          "pie": [
           {
            "automargin": true,
            "type": "pie"
           }
          ],
          "scatter3d": [
           {
            "line": {
             "colorbar": {
              "outlinewidth": 1,
              "tickcolor": "rgb(36,36,36)",
              "ticks": "outside"
             }
            },
            "marker": {
             "colorbar": {
              "outlinewidth": 1,
              "tickcolor": "rgb(36,36,36)",
              "ticks": "outside"
             }
            },
            "type": "scatter3d"
           }
          ],
          "scattercarpet": [
           {
            "marker": {
             "colorbar": {
              "outlinewidth": 1,
              "tickcolor": "rgb(36,36,36)",
              "ticks": "outside"
             }
            },
            "type": "scattercarpet"
           }
          ],
          "scattergeo": [
           {
            "marker": {
             "colorbar": {
              "outlinewidth": 1,
              "tickcolor": "rgb(36,36,36)",
              "ticks": "outside"
             }
            },
            "type": "scattergeo"
           }
          ],
          "scattergl": [
           {
            "marker": {
             "colorbar": {
              "outlinewidth": 1,
              "tickcolor": "rgb(36,36,36)",
              "ticks": "outside"
             }
            },
            "type": "scattergl"
           }
          ],
          "scattermapbox": [
           {
            "marker": {
             "colorbar": {
              "outlinewidth": 1,
              "tickcolor": "rgb(36,36,36)",
              "ticks": "outside"
             }
            },
            "type": "scattermapbox"
           }
          ],
          "scatterpolargl": [
           {
            "marker": {
             "colorbar": {
              "outlinewidth": 1,
              "tickcolor": "rgb(36,36,36)",
              "ticks": "outside"
             }
            },
            "type": "scatterpolargl"
           }
          ],
          "scatterpolar": [
           {
            "marker": {
             "colorbar": {
              "outlinewidth": 1,
              "tickcolor": "rgb(36,36,36)",
              "ticks": "outside"
             }
            },
            "type": "scatterpolar"
           }
          ],
          "scatter": [
           {
            "fillpattern": {
             "fillmode": "overlay",
             "size": 10,
             "solidity": 0.2
            },
            "type": "scatter"
           }
          ],
          "scatterternary": [
           {
            "marker": {
             "colorbar": {
              "outlinewidth": 1,
              "tickcolor": "rgb(36,36,36)",
              "ticks": "outside"
             }
            },
            "type": "scatterternary"
           }
          ],
          "surface": [
           {
            "colorbar": {
             "outlinewidth": 1,
             "tickcolor": "rgb(36,36,36)",
             "ticks": "outside"
            },
            "colorscale": [
             [
              0.0,
              "#440154"
             ],
             [
              0.1111111111111111,
              "#482878"
             ],
             [
              0.2222222222222222,
              "#3e4989"
             ],
             [
              0.3333333333333333,
              "#31688e"
             ],
             [
              0.4444444444444444,
              "#26828e"
             ],
             [
              0.5555555555555556,
              "#1f9e89"
             ],
             [
              0.6666666666666666,
              "#35b779"
             ],
             [
              0.7777777777777778,
              "#6ece58"
             ],
             [
              0.8888888888888888,
              "#b5de2b"
             ],
             [
              1.0,
              "#fde725"
             ]
            ],
            "type": "surface"
           }
          ],
          "table": [
           {
            "cells": {
             "fill": {
              "color": "rgb(237,237,237)"
             },
             "line": {
              "color": "white"
             }
            },
            "header": {
             "fill": {
              "color": "rgb(217,217,217)"
             },
             "line": {
              "color": "white"
             }
            },
            "type": "table"
           }
          ]
         },
         "layout": {
          "annotationdefaults": {
           "arrowhead": 0,
           "arrowwidth": 1
          },
          "autotypenumbers": "strict",
          "coloraxis": {
           "colorbar": {
            "outlinewidth": 1,
            "tickcolor": "rgb(36,36,36)",
            "ticks": "outside"
           }
          },
          "colorscale": {
           "diverging": [
            [
             0.0,
             "rgb(103,0,31)"
            ],
            [
             0.1,
             "rgb(178,24,43)"
            ],
            [
             0.2,
             "rgb(214,96,77)"
            ],
            [
             0.3,
             "rgb(244,165,130)"
            ],
            [
             0.4,
             "rgb(253,219,199)"
            ],
            [
             0.5,
             "rgb(247,247,247)"
            ],
            [
             0.6,
             "rgb(209,229,240)"
            ],
            [
             0.7,
             "rgb(146,197,222)"
            ],
            [
             0.8,
             "rgb(67,147,195)"
            ],
            [
             0.9,
             "rgb(33,102,172)"
            ],
            [
             1.0,
             "rgb(5,48,97)"
            ]
           ],
           "sequential": [
            [
             0.0,
             "#440154"
            ],
            [
             0.1111111111111111,
             "#482878"
            ],
            [
             0.2222222222222222,
             "#3e4989"
            ],
            [
             0.3333333333333333,
             "#31688e"
            ],
            [
             0.4444444444444444,
             "#26828e"
            ],
            [
             0.5555555555555556,
             "#1f9e89"
            ],
            [
             0.6666666666666666,
             "#35b779"
            ],
            [
             0.7777777777777778,
             "#6ece58"
            ],
            [
             0.8888888888888888,
             "#b5de2b"
            ],
            [
             1.0,
             "#fde725"
            ]
           ],
           "sequentialminus": [
            [
             0.0,
             "#440154"
            ],
            [
             0.1111111111111111,
             "#482878"
            ],
            [
             0.2222222222222222,
             "#3e4989"
            ],
            [
             0.3333333333333333,
             "#31688e"
            ],
            [
             0.4444444444444444,
             "#26828e"
            ],
            [
             0.5555555555555556,
             "#1f9e89"
            ],
            [
             0.6666666666666666,
             "#35b779"
            ],
            [
             0.7777777777777778,
             "#6ece58"
            ],
            [
             0.8888888888888888,
             "#b5de2b"
            ],
            [
             1.0,
             "#fde725"
            ]
           ]
          },
          "colorway": [
           "#1F77B4",
           "#FF7F0E",
           "#2CA02C",
           "#D62728",
           "#9467BD",
           "#8C564B",
           "#E377C2",
           "#7F7F7F",
           "#BCBD22",
           "#17BECF"
          ],
          "font": {
           "color": "rgb(36,36,36)"
          },
          "geo": {
           "bgcolor": "white",
           "lakecolor": "white",
           "landcolor": "white",
           "showlakes": true,
           "showland": true,
           "subunitcolor": "white"
          },
          "hoverlabel": {
           "align": "left"
          },
          "hovermode": "closest",
          "mapbox": {
           "style": "light"
          },
          "paper_bgcolor": "white",
          "plot_bgcolor": "white",
          "polar": {
           "angularaxis": {
            "gridcolor": "rgb(232,232,232)",
            "linecolor": "rgb(36,36,36)",
            "showgrid": false,
            "showline": true,
            "ticks": "outside"
           },
           "bgcolor": "white",
           "radialaxis": {
            "gridcolor": "rgb(232,232,232)",
            "linecolor": "rgb(36,36,36)",
            "showgrid": false,
            "showline": true,
            "ticks": "outside"
           }
          },
          "scene": {
           "xaxis": {
            "backgroundcolor": "white",
            "gridcolor": "rgb(232,232,232)",
            "gridwidth": 2,
            "linecolor": "rgb(36,36,36)",
            "showbackground": true,
            "showgrid": false,
            "showline": true,
            "ticks": "outside",
            "zeroline": false,
            "zerolinecolor": "rgb(36,36,36)"
           },
           "yaxis": {
            "backgroundcolor": "white",
            "gridcolor": "rgb(232,232,232)",
            "gridwidth": 2,
            "linecolor": "rgb(36,36,36)",
            "showbackground": true,
            "showgrid": false,
            "showline": true,
            "ticks": "outside",
            "zeroline": false,
            "zerolinecolor": "rgb(36,36,36)"
           },
           "zaxis": {
            "backgroundcolor": "white",
            "gridcolor": "rgb(232,232,232)",
            "gridwidth": 2,
            "linecolor": "rgb(36,36,36)",
            "showbackground": true,
            "showgrid": false,
            "showline": true,
            "ticks": "outside",
            "zeroline": false,
            "zerolinecolor": "rgb(36,36,36)"
           }
          },
          "shapedefaults": {
           "fillcolor": "black",
           "line": {
            "width": 0
           },
           "opacity": 0.3
          },
          "ternary": {
           "aaxis": {
            "gridcolor": "rgb(232,232,232)",
            "linecolor": "rgb(36,36,36)",
            "showgrid": false,
            "showline": true,
            "ticks": "outside"
           },
           "baxis": {
            "gridcolor": "rgb(232,232,232)",
            "linecolor": "rgb(36,36,36)",
            "showgrid": false,
            "showline": true,
            "ticks": "outside"
           },
           "bgcolor": "white",
           "caxis": {
            "gridcolor": "rgb(232,232,232)",
            "linecolor": "rgb(36,36,36)",
            "showgrid": false,
            "showline": true,
            "ticks": "outside"
           }
          },
          "title": {
           "x": 0.05
          },
          "xaxis": {
           "automargin": true,
           "gridcolor": "rgb(232,232,232)",
           "linecolor": "rgb(36,36,36)",
           "showgrid": false,
           "showline": true,
           "ticks": "outside",
           "title": {
            "standoff": 15
           },
           "zeroline": false,
           "zerolinecolor": "rgb(36,36,36)"
          },
          "yaxis": {
           "automargin": true,
           "gridcolor": "rgb(232,232,232)",
           "linecolor": "rgb(36,36,36)",
           "showgrid": false,
           "showline": true,
           "ticks": "outside",
           "title": {
            "standoff": 15
           },
           "zeroline": false,
           "zerolinecolor": "rgb(36,36,36)"
          }
         }
        },
        "xaxis": {
         "anchor": "y",
         "domain": [
          0.0,
          1.0
         ],
         "title": {
          "text": ""
         },
         "visible": false,
         "range": [
          -20.65614194869995,
          25.24389591217041
         ]
        },
        "yaxis": {
         "anchor": "x",
         "domain": [
          0.0,
          1.0
         ],
         "title": {
          "text": ""
         },
         "visible": false,
         "range": [
          -6.210474991798401,
          20.052517414093018
         ]
        },
        "legend": {
         "tracegroupgap": 0,
         "itemsizing": "constant"
        },
        "margin": {
         "t": 60
        },
        "title": {
         "font": {
          "size": 22,
          "color": "Black"
         },
         "text": "<b>Intertopic Distance Map",
         "y": 0.95,
         "x": 0.5,
         "xanchor": "center",
         "yanchor": "top"
        },
        "hoverlabel": {
         "font": {
          "size": 16,
          "family": "Rockwell"
         },
         "bgcolor": "white"
        },
        "width": 650,
        "height": 650,
        "sliders": [
         {
          "active": 0,
          "pad": {
           "t": 50
          },
          "steps": [
           {
            "args": [
             {
              "marker.color": [
               [
                "red",
                "#B0BEC5",
                "#B0BEC5",
                "#B0BEC5",
                "#B0BEC5",
                "#B0BEC5",
                "#B0BEC5",
                "#B0BEC5",
                "#B0BEC5",
                "#B0BEC5",
                "#B0BEC5",
                "#B0BEC5",
                "#B0BEC5",
                "#B0BEC5",
                "#B0BEC5",
                "#B0BEC5",
                "#B0BEC5",
                "#B0BEC5",
                "#B0BEC5",
                "#B0BEC5",
                "#B0BEC5",
                "#B0BEC5",
                "#B0BEC5",
                "#B0BEC5",
                "#B0BEC5",
                "#B0BEC5",
                "#B0BEC5",
                "#B0BEC5",
                "#B0BEC5",
                "#B0BEC5",
                "#B0BEC5",
                "#B0BEC5",
                "#B0BEC5",
                "#B0BEC5",
                "#B0BEC5",
                "#B0BEC5",
                "#B0BEC5",
                "#B0BEC5",
                "#B0BEC5",
                "#B0BEC5",
                "#B0BEC5"
               ]
              ]
             }
            ],
            "label": "Topic 1",
            "method": "update"
           },
           {
            "args": [
             {
              "marker.color": [
               [
                "#B0BEC5",
                "red",
                "#B0BEC5",
                "#B0BEC5",
                "#B0BEC5",
                "#B0BEC5",
                "#B0BEC5",
                "#B0BEC5",
                "#B0BEC5",
                "#B0BEC5",
                "#B0BEC5",
                "#B0BEC5",
                "#B0BEC5",
                "#B0BEC5",
                "#B0BEC5",
                "#B0BEC5",
                "#B0BEC5",
                "#B0BEC5",
                "#B0BEC5",
                "#B0BEC5",
                "#B0BEC5",
                "#B0BEC5",
                "#B0BEC5",
                "#B0BEC5",
                "#B0BEC5",
                "#B0BEC5",
                "#B0BEC5",
                "#B0BEC5",
                "#B0BEC5",
                "#B0BEC5",
                "#B0BEC5",
                "#B0BEC5",
                "#B0BEC5",
                "#B0BEC5",
                "#B0BEC5",
                "#B0BEC5",
                "#B0BEC5",
                "#B0BEC5",
                "#B0BEC5",
                "#B0BEC5",
                "#B0BEC5"
               ]
              ]
             }
            ],
            "label": "Topic 2",
            "method": "update"
           },
           {
            "args": [
             {
              "marker.color": [
               [
                "#B0BEC5",
                "#B0BEC5",
                "red",
                "#B0BEC5",
                "#B0BEC5",
                "#B0BEC5",
                "#B0BEC5",
                "#B0BEC5",
                "#B0BEC5",
                "#B0BEC5",
                "#B0BEC5",
                "#B0BEC5",
                "#B0BEC5",
                "#B0BEC5",
                "#B0BEC5",
                "#B0BEC5",
                "#B0BEC5",
                "#B0BEC5",
                "#B0BEC5",
                "#B0BEC5",
                "#B0BEC5",
                "#B0BEC5",
                "#B0BEC5",
                "#B0BEC5",
                "#B0BEC5",
                "#B0BEC5",
                "#B0BEC5",
                "#B0BEC5",
                "#B0BEC5",
                "#B0BEC5",
                "#B0BEC5",
                "#B0BEC5",
                "#B0BEC5",
                "#B0BEC5",
                "#B0BEC5",
                "#B0BEC5",
                "#B0BEC5",
                "#B0BEC5",
                "#B0BEC5",
                "#B0BEC5",
                "#B0BEC5"
               ]
              ]
             }
            ],
            "label": "Topic 3",
            "method": "update"
           },
           {
            "args": [
             {
              "marker.color": [
               [
                "#B0BEC5",
                "#B0BEC5",
                "#B0BEC5",
                "red",
                "#B0BEC5",
                "#B0BEC5",
                "#B0BEC5",
                "#B0BEC5",
                "#B0BEC5",
                "#B0BEC5",
                "#B0BEC5",
                "#B0BEC5",
                "#B0BEC5",
                "#B0BEC5",
                "#B0BEC5",
                "#B0BEC5",
                "#B0BEC5",
                "#B0BEC5",
                "#B0BEC5",
                "#B0BEC5",
                "#B0BEC5",
                "#B0BEC5",
                "#B0BEC5",
                "#B0BEC5",
                "#B0BEC5",
                "#B0BEC5",
                "#B0BEC5",
                "#B0BEC5",
                "#B0BEC5",
                "#B0BEC5",
                "#B0BEC5",
                "#B0BEC5",
                "#B0BEC5",
                "#B0BEC5",
                "#B0BEC5",
                "#B0BEC5",
                "#B0BEC5",
                "#B0BEC5",
                "#B0BEC5",
                "#B0BEC5",
                "#B0BEC5"
               ]
              ]
             }
            ],
            "label": "Topic 4",
            "method": "update"
           },
           {
            "args": [
             {
              "marker.color": [
               [
                "#B0BEC5",
                "#B0BEC5",
                "#B0BEC5",
                "#B0BEC5",
                "red",
                "#B0BEC5",
                "#B0BEC5",
                "#B0BEC5",
                "#B0BEC5",
                "#B0BEC5",
                "#B0BEC5",
                "#B0BEC5",
                "#B0BEC5",
                "#B0BEC5",
                "#B0BEC5",
                "#B0BEC5",
                "#B0BEC5",
                "#B0BEC5",
                "#B0BEC5",
                "#B0BEC5",
                "#B0BEC5",
                "#B0BEC5",
                "#B0BEC5",
                "#B0BEC5",
                "#B0BEC5",
                "#B0BEC5",
                "#B0BEC5",
                "#B0BEC5",
                "#B0BEC5",
                "#B0BEC5",
                "#B0BEC5",
                "#B0BEC5",
                "#B0BEC5",
                "#B0BEC5",
                "#B0BEC5",
                "#B0BEC5",
                "#B0BEC5",
                "#B0BEC5",
                "#B0BEC5",
                "#B0BEC5",
                "#B0BEC5"
               ]
              ]
             }
            ],
            "label": "Topic 5",
            "method": "update"
           },
           {
            "args": [
             {
              "marker.color": [
               [
                "#B0BEC5",
                "#B0BEC5",
                "#B0BEC5",
                "#B0BEC5",
                "#B0BEC5",
                "red",
                "#B0BEC5",
                "#B0BEC5",
                "#B0BEC5",
                "#B0BEC5",
                "#B0BEC5",
                "#B0BEC5",
                "#B0BEC5",
                "#B0BEC5",
                "#B0BEC5",
                "#B0BEC5",
                "#B0BEC5",
                "#B0BEC5",
                "#B0BEC5",
                "#B0BEC5",
                "#B0BEC5",
                "#B0BEC5",
                "#B0BEC5",
                "#B0BEC5",
                "#B0BEC5",
                "#B0BEC5",
                "#B0BEC5",
                "#B0BEC5",
                "#B0BEC5",
                "#B0BEC5",
                "#B0BEC5",
                "#B0BEC5",
                "#B0BEC5",
                "#B0BEC5",
                "#B0BEC5",
                "#B0BEC5",
                "#B0BEC5",
                "#B0BEC5",
                "#B0BEC5",
                "#B0BEC5",
                "#B0BEC5"
               ]
              ]
             }
            ],
            "label": "Topic 6",
            "method": "update"
           },
           {
            "args": [
             {
              "marker.color": [
               [
                "#B0BEC5",
                "#B0BEC5",
                "#B0BEC5",
                "#B0BEC5",
                "#B0BEC5",
                "#B0BEC5",
                "red",
                "#B0BEC5",
                "#B0BEC5",
                "#B0BEC5",
                "#B0BEC5",
                "#B0BEC5",
                "#B0BEC5",
                "#B0BEC5",
                "#B0BEC5",
                "#B0BEC5",
                "#B0BEC5",
                "#B0BEC5",
                "#B0BEC5",
                "#B0BEC5",
                "#B0BEC5",
                "#B0BEC5",
                "#B0BEC5",
                "#B0BEC5",
                "#B0BEC5",
                "#B0BEC5",
                "#B0BEC5",
                "#B0BEC5",
                "#B0BEC5",
                "#B0BEC5",
                "#B0BEC5",
                "#B0BEC5",
                "#B0BEC5",
                "#B0BEC5",
                "#B0BEC5",
                "#B0BEC5",
                "#B0BEC5",
                "#B0BEC5",
                "#B0BEC5",
                "#B0BEC5",
                "#B0BEC5"
               ]
              ]
             }
            ],
            "label": "Topic 7",
            "method": "update"
           },
           {
            "args": [
             {
              "marker.color": [
               [
                "#B0BEC5",
                "#B0BEC5",
                "#B0BEC5",
                "#B0BEC5",
                "#B0BEC5",
                "#B0BEC5",
                "#B0BEC5",
                "red",
                "#B0BEC5",
                "#B0BEC5",
                "#B0BEC5",
                "#B0BEC5",
                "#B0BEC5",
                "#B0BEC5",
                "#B0BEC5",
                "#B0BEC5",
                "#B0BEC5",
                "#B0BEC5",
                "#B0BEC5",
                "#B0BEC5",
                "#B0BEC5",
                "#B0BEC5",
                "#B0BEC5",
                "#B0BEC5",
                "#B0BEC5",
                "#B0BEC5",
                "#B0BEC5",
                "#B0BEC5",
                "#B0BEC5",
                "#B0BEC5",
                "#B0BEC5",
                "#B0BEC5",
                "#B0BEC5",
                "#B0BEC5",
                "#B0BEC5",
                "#B0BEC5",
                "#B0BEC5",
                "#B0BEC5",
                "#B0BEC5",
                "#B0BEC5",
                "#B0BEC5"
               ]
              ]
             }
            ],
            "label": "Topic 8",
            "method": "update"
           },
           {
            "args": [
             {
              "marker.color": [
               [
                "#B0BEC5",
                "#B0BEC5",
                "#B0BEC5",
                "#B0BEC5",
                "#B0BEC5",
                "#B0BEC5",
                "#B0BEC5",
                "#B0BEC5",
                "red",
                "#B0BEC5",
                "#B0BEC5",
                "#B0BEC5",
                "#B0BEC5",
                "#B0BEC5",
                "#B0BEC5",
                "#B0BEC5",
                "#B0BEC5",
                "#B0BEC5",
                "#B0BEC5",
                "#B0BEC5",
                "#B0BEC5",
                "#B0BEC5",
                "#B0BEC5",
                "#B0BEC5",
                "#B0BEC5",
                "#B0BEC5",
                "#B0BEC5",
                "#B0BEC5",
                "#B0BEC5",
                "#B0BEC5",
                "#B0BEC5",
                "#B0BEC5",
                "#B0BEC5",
                "#B0BEC5",
                "#B0BEC5",
                "#B0BEC5",
                "#B0BEC5",
                "#B0BEC5",
                "#B0BEC5",
                "#B0BEC5",
                "#B0BEC5"
               ]
              ]
             }
            ],
            "label": "Topic 9",
            "method": "update"
           },
           {
            "args": [
             {
              "marker.color": [
               [
                "#B0BEC5",
                "#B0BEC5",
                "#B0BEC5",
                "#B0BEC5",
                "#B0BEC5",
                "#B0BEC5",
                "#B0BEC5",
                "#B0BEC5",
                "#B0BEC5",
                "red",
                "#B0BEC5",
                "#B0BEC5",
                "#B0BEC5",
                "#B0BEC5",
                "#B0BEC5",
                "#B0BEC5",
                "#B0BEC5",
                "#B0BEC5",
                "#B0BEC5",
                "#B0BEC5",
                "#B0BEC5",
                "#B0BEC5",
                "#B0BEC5",
                "#B0BEC5",
                "#B0BEC5",
                "#B0BEC5",
                "#B0BEC5",
                "#B0BEC5",
                "#B0BEC5",
                "#B0BEC5",
                "#B0BEC5",
                "#B0BEC5",
                "#B0BEC5",
                "#B0BEC5",
                "#B0BEC5",
                "#B0BEC5",
                "#B0BEC5",
                "#B0BEC5",
                "#B0BEC5",
                "#B0BEC5",
                "#B0BEC5"
               ]
              ]
             }
            ],
            "label": "Topic 10",
            "method": "update"
           },
           {
            "args": [
             {
              "marker.color": [
               [
                "#B0BEC5",
                "#B0BEC5",
                "#B0BEC5",
                "#B0BEC5",
                "#B0BEC5",
                "#B0BEC5",
                "#B0BEC5",
                "#B0BEC5",
                "#B0BEC5",
                "#B0BEC5",
                "red",
                "#B0BEC5",
                "#B0BEC5",
                "#B0BEC5",
                "#B0BEC5",
                "#B0BEC5",
                "#B0BEC5",
                "#B0BEC5",
                "#B0BEC5",
                "#B0BEC5",
                "#B0BEC5",
                "#B0BEC5",
                "#B0BEC5",
                "#B0BEC5",
                "#B0BEC5",
                "#B0BEC5",
                "#B0BEC5",
                "#B0BEC5",
                "#B0BEC5",
                "#B0BEC5",
                "#B0BEC5",
                "#B0BEC5",
                "#B0BEC5",
                "#B0BEC5",
                "#B0BEC5",
                "#B0BEC5",
                "#B0BEC5",
                "#B0BEC5",
                "#B0BEC5",
                "#B0BEC5",
                "#B0BEC5"
               ]
              ]
             }
            ],
            "label": "Topic 11",
            "method": "update"
           },
           {
            "args": [
             {
              "marker.color": [
               [
                "#B0BEC5",
                "#B0BEC5",
                "#B0BEC5",
                "#B0BEC5",
                "#B0BEC5",
                "#B0BEC5",
                "#B0BEC5",
                "#B0BEC5",
                "#B0BEC5",
                "#B0BEC5",
                "#B0BEC5",
                "red",
                "#B0BEC5",
                "#B0BEC5",
                "#B0BEC5",
                "#B0BEC5",
                "#B0BEC5",
                "#B0BEC5",
                "#B0BEC5",
                "#B0BEC5",
                "#B0BEC5",
                "#B0BEC5",
                "#B0BEC5",
                "#B0BEC5",
                "#B0BEC5",
                "#B0BEC5",
                "#B0BEC5",
                "#B0BEC5",
                "#B0BEC5",
                "#B0BEC5",
                "#B0BEC5",
                "#B0BEC5",
                "#B0BEC5",
                "#B0BEC5",
                "#B0BEC5",
                "#B0BEC5",
                "#B0BEC5",
                "#B0BEC5",
                "#B0BEC5",
                "#B0BEC5",
                "#B0BEC5"
               ]
              ]
             }
            ],
            "label": "Topic 12",
            "method": "update"
           },
           {
            "args": [
             {
              "marker.color": [
               [
                "#B0BEC5",
                "#B0BEC5",
                "#B0BEC5",
                "#B0BEC5",
                "#B0BEC5",
                "#B0BEC5",
                "#B0BEC5",
                "#B0BEC5",
                "#B0BEC5",
                "#B0BEC5",
                "#B0BEC5",
                "#B0BEC5",
                "red",
                "#B0BEC5",
                "#B0BEC5",
                "#B0BEC5",
                "#B0BEC5",
                "#B0BEC5",
                "#B0BEC5",
                "#B0BEC5",
                "#B0BEC5",
                "#B0BEC5",
                "#B0BEC5",
                "#B0BEC5",
                "#B0BEC5",
                "#B0BEC5",
                "#B0BEC5",
                "#B0BEC5",
                "#B0BEC5",
                "#B0BEC5",
                "#B0BEC5",
                "#B0BEC5",
                "#B0BEC5",
                "#B0BEC5",
                "#B0BEC5",
                "#B0BEC5",
                "#B0BEC5",
                "#B0BEC5",
                "#B0BEC5",
                "#B0BEC5",
                "#B0BEC5"
               ]
              ]
             }
            ],
            "label": "Topic 13",
            "method": "update"
           },
           {
            "args": [
             {
              "marker.color": [
               [
                "#B0BEC5",
                "#B0BEC5",
                "#B0BEC5",
                "#B0BEC5",
                "#B0BEC5",
                "#B0BEC5",
                "#B0BEC5",
                "#B0BEC5",
                "#B0BEC5",
                "#B0BEC5",
                "#B0BEC5",
                "#B0BEC5",
                "#B0BEC5",
                "red",
                "#B0BEC5",
                "#B0BEC5",
                "#B0BEC5",
                "#B0BEC5",
                "#B0BEC5",
                "#B0BEC5",
                "#B0BEC5",
                "#B0BEC5",
                "#B0BEC5",
                "#B0BEC5",
                "#B0BEC5",
                "#B0BEC5",
                "#B0BEC5",
                "#B0BEC5",
                "#B0BEC5",
                "#B0BEC5",
                "#B0BEC5",
                "#B0BEC5",
                "#B0BEC5",
                "#B0BEC5",
                "#B0BEC5",
                "#B0BEC5",
                "#B0BEC5",
                "#B0BEC5",
                "#B0BEC5",
                "#B0BEC5",
                "#B0BEC5"
               ]
              ]
             }
            ],
            "label": "Topic 14",
            "method": "update"
           },
           {
            "args": [
             {
              "marker.color": [
               [
                "#B0BEC5",
                "#B0BEC5",
                "#B0BEC5",
                "#B0BEC5",
                "#B0BEC5",
                "#B0BEC5",
                "#B0BEC5",
                "#B0BEC5",
                "#B0BEC5",
                "#B0BEC5",
                "#B0BEC5",
                "#B0BEC5",
                "#B0BEC5",
                "#B0BEC5",
                "red",
                "#B0BEC5",
                "#B0BEC5",
                "#B0BEC5",
                "#B0BEC5",
                "#B0BEC5",
                "#B0BEC5",
                "#B0BEC5",
                "#B0BEC5",
                "#B0BEC5",
                "#B0BEC5",
                "#B0BEC5",
                "#B0BEC5",
                "#B0BEC5",
                "#B0BEC5",
                "#B0BEC5",
                "#B0BEC5",
                "#B0BEC5",
                "#B0BEC5",
                "#B0BEC5",
                "#B0BEC5",
                "#B0BEC5",
                "#B0BEC5",
                "#B0BEC5",
                "#B0BEC5",
                "#B0BEC5",
                "#B0BEC5"
               ]
              ]
             }
            ],
            "label": "Topic 15",
            "method": "update"
           },
           {
            "args": [
             {
              "marker.color": [
               [
                "#B0BEC5",
                "#B0BEC5",
                "#B0BEC5",
                "#B0BEC5",
                "#B0BEC5",
                "#B0BEC5",
                "#B0BEC5",
                "#B0BEC5",
                "#B0BEC5",
                "#B0BEC5",
                "#B0BEC5",
                "#B0BEC5",
                "#B0BEC5",
                "#B0BEC5",
                "#B0BEC5",
                "red",
                "#B0BEC5",
                "#B0BEC5",
                "#B0BEC5",
                "#B0BEC5",
                "#B0BEC5",
                "#B0BEC5",
                "#B0BEC5",
                "#B0BEC5",
                "#B0BEC5",
                "#B0BEC5",
                "#B0BEC5",
                "#B0BEC5",
                "#B0BEC5",
                "#B0BEC5",
                "#B0BEC5",
                "#B0BEC5",
                "#B0BEC5",
                "#B0BEC5",
                "#B0BEC5",
                "#B0BEC5",
                "#B0BEC5",
                "#B0BEC5",
                "#B0BEC5",
                "#B0BEC5",
                "#B0BEC5"
               ]
              ]
             }
            ],
            "label": "Topic 16",
            "method": "update"
           },
           {
            "args": [
             {
              "marker.color": [
               [
                "#B0BEC5",
                "#B0BEC5",
                "#B0BEC5",
                "#B0BEC5",
                "#B0BEC5",
                "#B0BEC5",
                "#B0BEC5",
                "#B0BEC5",
                "#B0BEC5",
                "#B0BEC5",
                "#B0BEC5",
                "#B0BEC5",
                "#B0BEC5",
                "#B0BEC5",
                "#B0BEC5",
                "#B0BEC5",
                "red",
                "#B0BEC5",
                "#B0BEC5",
                "#B0BEC5",
                "#B0BEC5",
                "#B0BEC5",
                "#B0BEC5",
                "#B0BEC5",
                "#B0BEC5",
                "#B0BEC5",
                "#B0BEC5",
                "#B0BEC5",
                "#B0BEC5",
                "#B0BEC5",
                "#B0BEC5",
                "#B0BEC5",
                "#B0BEC5",
                "#B0BEC5",
                "#B0BEC5",
                "#B0BEC5",
                "#B0BEC5",
                "#B0BEC5",
                "#B0BEC5",
                "#B0BEC5",
                "#B0BEC5"
               ]
              ]
             }
            ],
            "label": "Topic 17",
            "method": "update"
           },
           {
            "args": [
             {
              "marker.color": [
               [
                "#B0BEC5",
                "#B0BEC5",
                "#B0BEC5",
                "#B0BEC5",
                "#B0BEC5",
                "#B0BEC5",
                "#B0BEC5",
                "#B0BEC5",
                "#B0BEC5",
                "#B0BEC5",
                "#B0BEC5",
                "#B0BEC5",
                "#B0BEC5",
                "#B0BEC5",
                "#B0BEC5",
                "#B0BEC5",
                "#B0BEC5",
                "red",
                "#B0BEC5",
                "#B0BEC5",
                "#B0BEC5",
                "#B0BEC5",
                "#B0BEC5",
                "#B0BEC5",
                "#B0BEC5",
                "#B0BEC5",
                "#B0BEC5",
                "#B0BEC5",
                "#B0BEC5",
                "#B0BEC5",
                "#B0BEC5",
                "#B0BEC5",
                "#B0BEC5",
                "#B0BEC5",
                "#B0BEC5",
                "#B0BEC5",
                "#B0BEC5",
                "#B0BEC5",
                "#B0BEC5",
                "#B0BEC5",
                "#B0BEC5"
               ]
              ]
             }
            ],
            "label": "Topic 18",
            "method": "update"
           },
           {
            "args": [
             {
              "marker.color": [
               [
                "#B0BEC5",
                "#B0BEC5",
                "#B0BEC5",
                "#B0BEC5",
                "#B0BEC5",
                "#B0BEC5",
                "#B0BEC5",
                "#B0BEC5",
                "#B0BEC5",
                "#B0BEC5",
                "#B0BEC5",
                "#B0BEC5",
                "#B0BEC5",
                "#B0BEC5",
                "#B0BEC5",
                "#B0BEC5",
                "#B0BEC5",
                "#B0BEC5",
                "red",
                "#B0BEC5",
                "#B0BEC5",
                "#B0BEC5",
                "#B0BEC5",
                "#B0BEC5",
                "#B0BEC5",
                "#B0BEC5",
                "#B0BEC5",
                "#B0BEC5",
                "#B0BEC5",
                "#B0BEC5",
                "#B0BEC5",
                "#B0BEC5",
                "#B0BEC5",
                "#B0BEC5",
                "#B0BEC5",
                "#B0BEC5",
                "#B0BEC5",
                "#B0BEC5",
                "#B0BEC5",
                "#B0BEC5",
                "#B0BEC5"
               ]
              ]
             }
            ],
            "label": "Topic 19",
            "method": "update"
           },
           {
            "args": [
             {
              "marker.color": [
               [
                "#B0BEC5",
                "#B0BEC5",
                "#B0BEC5",
                "#B0BEC5",
                "#B0BEC5",
                "#B0BEC5",
                "#B0BEC5",
                "#B0BEC5",
                "#B0BEC5",
                "#B0BEC5",
                "#B0BEC5",
                "#B0BEC5",
                "#B0BEC5",
                "#B0BEC5",
                "#B0BEC5",
                "#B0BEC5",
                "#B0BEC5",
                "#B0BEC5",
                "#B0BEC5",
                "red",
                "#B0BEC5",
                "#B0BEC5",
                "#B0BEC5",
                "#B0BEC5",
                "#B0BEC5",
                "#B0BEC5",
                "#B0BEC5",
                "#B0BEC5",
                "#B0BEC5",
                "#B0BEC5",
                "#B0BEC5",
                "#B0BEC5",
                "#B0BEC5",
                "#B0BEC5",
                "#B0BEC5",
                "#B0BEC5",
                "#B0BEC5",
                "#B0BEC5",
                "#B0BEC5",
                "#B0BEC5",
                "#B0BEC5"
               ]
              ]
             }
            ],
            "label": "Topic 20",
            "method": "update"
           },
           {
            "args": [
             {
              "marker.color": [
               [
                "#B0BEC5",
                "#B0BEC5",
                "#B0BEC5",
                "#B0BEC5",
                "#B0BEC5",
                "#B0BEC5",
                "#B0BEC5",
                "#B0BEC5",
                "#B0BEC5",
                "#B0BEC5",
                "#B0BEC5",
                "#B0BEC5",
                "#B0BEC5",
                "#B0BEC5",
                "#B0BEC5",
                "#B0BEC5",
                "#B0BEC5",
                "#B0BEC5",
                "#B0BEC5",
                "#B0BEC5",
                "red",
                "#B0BEC5",
                "#B0BEC5",
                "#B0BEC5",
                "#B0BEC5",
                "#B0BEC5",
                "#B0BEC5",
                "#B0BEC5",
                "#B0BEC5",
                "#B0BEC5",
                "#B0BEC5",
                "#B0BEC5",
                "#B0BEC5",
                "#B0BEC5",
                "#B0BEC5",
                "#B0BEC5",
                "#B0BEC5",
                "#B0BEC5",
                "#B0BEC5",
                "#B0BEC5",
                "#B0BEC5"
               ]
              ]
             }
            ],
            "label": "Topic 21",
            "method": "update"
           },
           {
            "args": [
             {
              "marker.color": [
               [
                "#B0BEC5",
                "#B0BEC5",
                "#B0BEC5",
                "#B0BEC5",
                "#B0BEC5",
                "#B0BEC5",
                "#B0BEC5",
                "#B0BEC5",
                "#B0BEC5",
                "#B0BEC5",
                "#B0BEC5",
                "#B0BEC5",
                "#B0BEC5",
                "#B0BEC5",
                "#B0BEC5",
                "#B0BEC5",
                "#B0BEC5",
                "#B0BEC5",
                "#B0BEC5",
                "#B0BEC5",
                "#B0BEC5",
                "red",
                "#B0BEC5",
                "#B0BEC5",
                "#B0BEC5",
                "#B0BEC5",
                "#B0BEC5",
                "#B0BEC5",
                "#B0BEC5",
                "#B0BEC5",
                "#B0BEC5",
                "#B0BEC5",
                "#B0BEC5",
                "#B0BEC5",
                "#B0BEC5",
                "#B0BEC5",
                "#B0BEC5",
                "#B0BEC5",
                "#B0BEC5",
                "#B0BEC5",
                "#B0BEC5"
               ]
              ]
             }
            ],
            "label": "Topic 22",
            "method": "update"
           },
           {
            "args": [
             {
              "marker.color": [
               [
                "#B0BEC5",
                "#B0BEC5",
                "#B0BEC5",
                "#B0BEC5",
                "#B0BEC5",
                "#B0BEC5",
                "#B0BEC5",
                "#B0BEC5",
                "#B0BEC5",
                "#B0BEC5",
                "#B0BEC5",
                "#B0BEC5",
                "#B0BEC5",
                "#B0BEC5",
                "#B0BEC5",
                "#B0BEC5",
                "#B0BEC5",
                "#B0BEC5",
                "#B0BEC5",
                "#B0BEC5",
                "#B0BEC5",
                "#B0BEC5",
                "red",
                "#B0BEC5",
                "#B0BEC5",
                "#B0BEC5",
                "#B0BEC5",
                "#B0BEC5",
                "#B0BEC5",
                "#B0BEC5",
                "#B0BEC5",
                "#B0BEC5",
                "#B0BEC5",
                "#B0BEC5",
                "#B0BEC5",
                "#B0BEC5",
                "#B0BEC5",
                "#B0BEC5",
                "#B0BEC5",
                "#B0BEC5",
                "#B0BEC5"
               ]
              ]
             }
            ],
            "label": "Topic 23",
            "method": "update"
           },
           {
            "args": [
             {
              "marker.color": [
               [
                "#B0BEC5",
                "#B0BEC5",
                "#B0BEC5",
                "#B0BEC5",
                "#B0BEC5",
                "#B0BEC5",
                "#B0BEC5",
                "#B0BEC5",
                "#B0BEC5",
                "#B0BEC5",
                "#B0BEC5",
                "#B0BEC5",
                "#B0BEC5",
                "#B0BEC5",
                "#B0BEC5",
                "#B0BEC5",
                "#B0BEC5",
                "#B0BEC5",
                "#B0BEC5",
                "#B0BEC5",
                "#B0BEC5",
                "#B0BEC5",
                "#B0BEC5",
                "red",
                "#B0BEC5",
                "#B0BEC5",
                "#B0BEC5",
                "#B0BEC5",
                "#B0BEC5",
                "#B0BEC5",
                "#B0BEC5",
                "#B0BEC5",
                "#B0BEC5",
                "#B0BEC5",
                "#B0BEC5",
                "#B0BEC5",
                "#B0BEC5",
                "#B0BEC5",
                "#B0BEC5",
                "#B0BEC5",
                "#B0BEC5"
               ]
              ]
             }
            ],
            "label": "Topic 24",
            "method": "update"
           },
           {
            "args": [
             {
              "marker.color": [
               [
                "#B0BEC5",
                "#B0BEC5",
                "#B0BEC5",
                "#B0BEC5",
                "#B0BEC5",
                "#B0BEC5",
                "#B0BEC5",
                "#B0BEC5",
                "#B0BEC5",
                "#B0BEC5",
                "#B0BEC5",
                "#B0BEC5",
                "#B0BEC5",
                "#B0BEC5",
                "#B0BEC5",
                "#B0BEC5",
                "#B0BEC5",
                "#B0BEC5",
                "#B0BEC5",
                "#B0BEC5",
                "#B0BEC5",
                "#B0BEC5",
                "#B0BEC5",
                "#B0BEC5",
                "red",
                "#B0BEC5",
                "#B0BEC5",
                "#B0BEC5",
                "#B0BEC5",
                "#B0BEC5",
                "#B0BEC5",
                "#B0BEC5",
                "#B0BEC5",
                "#B0BEC5",
                "#B0BEC5",
                "#B0BEC5",
                "#B0BEC5",
                "#B0BEC5",
                "#B0BEC5",
                "#B0BEC5",
                "#B0BEC5"
               ]
              ]
             }
            ],
            "label": "Topic 25",
            "method": "update"
           },
           {
            "args": [
             {
              "marker.color": [
               [
                "#B0BEC5",
                "#B0BEC5",
                "#B0BEC5",
                "#B0BEC5",
                "#B0BEC5",
                "#B0BEC5",
                "#B0BEC5",
                "#B0BEC5",
                "#B0BEC5",
                "#B0BEC5",
                "#B0BEC5",
                "#B0BEC5",
                "#B0BEC5",
                "#B0BEC5",
                "#B0BEC5",
                "#B0BEC5",
                "#B0BEC5",
                "#B0BEC5",
                "#B0BEC5",
                "#B0BEC5",
                "#B0BEC5",
                "#B0BEC5",
                "#B0BEC5",
                "#B0BEC5",
                "#B0BEC5",
                "red",
                "#B0BEC5",
                "#B0BEC5",
                "#B0BEC5",
                "#B0BEC5",
                "#B0BEC5",
                "#B0BEC5",
                "#B0BEC5",
                "#B0BEC5",
                "#B0BEC5",
                "#B0BEC5",
                "#B0BEC5",
                "#B0BEC5",
                "#B0BEC5",
                "#B0BEC5",
                "#B0BEC5"
               ]
              ]
             }
            ],
            "label": "Topic 26",
            "method": "update"
           },
           {
            "args": [
             {
              "marker.color": [
               [
                "#B0BEC5",
                "#B0BEC5",
                "#B0BEC5",
                "#B0BEC5",
                "#B0BEC5",
                "#B0BEC5",
                "#B0BEC5",
                "#B0BEC5",
                "#B0BEC5",
                "#B0BEC5",
                "#B0BEC5",
                "#B0BEC5",
                "#B0BEC5",
                "#B0BEC5",
                "#B0BEC5",
                "#B0BEC5",
                "#B0BEC5",
                "#B0BEC5",
                "#B0BEC5",
                "#B0BEC5",
                "#B0BEC5",
                "#B0BEC5",
                "#B0BEC5",
                "#B0BEC5",
                "#B0BEC5",
                "#B0BEC5",
                "red",
                "#B0BEC5",
                "#B0BEC5",
                "#B0BEC5",
                "#B0BEC5",
                "#B0BEC5",
                "#B0BEC5",
                "#B0BEC5",
                "#B0BEC5",
                "#B0BEC5",
                "#B0BEC5",
                "#B0BEC5",
                "#B0BEC5",
                "#B0BEC5",
                "#B0BEC5"
               ]
              ]
             }
            ],
            "label": "Topic 27",
            "method": "update"
           },
           {
            "args": [
             {
              "marker.color": [
               [
                "#B0BEC5",
                "#B0BEC5",
                "#B0BEC5",
                "#B0BEC5",
                "#B0BEC5",
                "#B0BEC5",
                "#B0BEC5",
                "#B0BEC5",
                "#B0BEC5",
                "#B0BEC5",
                "#B0BEC5",
                "#B0BEC5",
                "#B0BEC5",
                "#B0BEC5",
                "#B0BEC5",
                "#B0BEC5",
                "#B0BEC5",
                "#B0BEC5",
                "#B0BEC5",
                "#B0BEC5",
                "#B0BEC5",
                "#B0BEC5",
                "#B0BEC5",
                "#B0BEC5",
                "#B0BEC5",
                "#B0BEC5",
                "#B0BEC5",
                "red",
                "#B0BEC5",
                "#B0BEC5",
                "#B0BEC5",
                "#B0BEC5",
                "#B0BEC5",
                "#B0BEC5",
                "#B0BEC5",
                "#B0BEC5",
                "#B0BEC5",
                "#B0BEC5",
                "#B0BEC5",
                "#B0BEC5",
                "#B0BEC5"
               ]
              ]
             }
            ],
            "label": "Topic 28",
            "method": "update"
           },
           {
            "args": [
             {
              "marker.color": [
               [
                "#B0BEC5",
                "#B0BEC5",
                "#B0BEC5",
                "#B0BEC5",
                "#B0BEC5",
                "#B0BEC5",
                "#B0BEC5",
                "#B0BEC5",
                "#B0BEC5",
                "#B0BEC5",
                "#B0BEC5",
                "#B0BEC5",
                "#B0BEC5",
                "#B0BEC5",
                "#B0BEC5",
                "#B0BEC5",
                "#B0BEC5",
                "#B0BEC5",
                "#B0BEC5",
                "#B0BEC5",
                "#B0BEC5",
                "#B0BEC5",
                "#B0BEC5",
                "#B0BEC5",
                "#B0BEC5",
                "#B0BEC5",
                "#B0BEC5",
                "#B0BEC5",
                "red",
                "#B0BEC5",
                "#B0BEC5",
                "#B0BEC5",
                "#B0BEC5",
                "#B0BEC5",
                "#B0BEC5",
                "#B0BEC5",
                "#B0BEC5",
                "#B0BEC5",
                "#B0BEC5",
                "#B0BEC5",
                "#B0BEC5"
               ]
              ]
             }
            ],
            "label": "Topic 29",
            "method": "update"
           },
           {
            "args": [
             {
              "marker.color": [
               [
                "#B0BEC5",
                "#B0BEC5",
                "#B0BEC5",
                "#B0BEC5",
                "#B0BEC5",
                "#B0BEC5",
                "#B0BEC5",
                "#B0BEC5",
                "#B0BEC5",
                "#B0BEC5",
                "#B0BEC5",
                "#B0BEC5",
                "#B0BEC5",
                "#B0BEC5",
                "#B0BEC5",
                "#B0BEC5",
                "#B0BEC5",
                "#B0BEC5",
                "#B0BEC5",
                "#B0BEC5",
                "#B0BEC5",
                "#B0BEC5",
                "#B0BEC5",
                "#B0BEC5",
                "#B0BEC5",
                "#B0BEC5",
                "#B0BEC5",
                "#B0BEC5",
                "#B0BEC5",
                "red",
                "#B0BEC5",
                "#B0BEC5",
                "#B0BEC5",
                "#B0BEC5",
                "#B0BEC5",
                "#B0BEC5",
                "#B0BEC5",
                "#B0BEC5",
                "#B0BEC5",
                "#B0BEC5",
                "#B0BEC5"
               ]
              ]
             }
            ],
            "label": "Topic 30",
            "method": "update"
           },
           {
            "args": [
             {
              "marker.color": [
               [
                "#B0BEC5",
                "#B0BEC5",
                "#B0BEC5",
                "#B0BEC5",
                "#B0BEC5",
                "#B0BEC5",
                "#B0BEC5",
                "#B0BEC5",
                "#B0BEC5",
                "#B0BEC5",
                "#B0BEC5",
                "#B0BEC5",
                "#B0BEC5",
                "#B0BEC5",
                "#B0BEC5",
                "#B0BEC5",
                "#B0BEC5",
                "#B0BEC5",
                "#B0BEC5",
                "#B0BEC5",
                "#B0BEC5",
                "#B0BEC5",
                "#B0BEC5",
                "#B0BEC5",
                "#B0BEC5",
                "#B0BEC5",
                "#B0BEC5",
                "#B0BEC5",
                "#B0BEC5",
                "#B0BEC5",
                "red",
                "#B0BEC5",
                "#B0BEC5",
                "#B0BEC5",
                "#B0BEC5",
                "#B0BEC5",
                "#B0BEC5",
                "#B0BEC5",
                "#B0BEC5",
                "#B0BEC5",
                "#B0BEC5"
               ]
              ]
             }
            ],
            "label": "Topic 31",
            "method": "update"
           },
           {
            "args": [
             {
              "marker.color": [
               [
                "#B0BEC5",
                "#B0BEC5",
                "#B0BEC5",
                "#B0BEC5",
                "#B0BEC5",
                "#B0BEC5",
                "#B0BEC5",
                "#B0BEC5",
                "#B0BEC5",
                "#B0BEC5",
                "#B0BEC5",
                "#B0BEC5",
                "#B0BEC5",
                "#B0BEC5",
                "#B0BEC5",
                "#B0BEC5",
                "#B0BEC5",
                "#B0BEC5",
                "#B0BEC5",
                "#B0BEC5",
                "#B0BEC5",
                "#B0BEC5",
                "#B0BEC5",
                "#B0BEC5",
                "#B0BEC5",
                "#B0BEC5",
                "#B0BEC5",
                "#B0BEC5",
                "#B0BEC5",
                "#B0BEC5",
                "#B0BEC5",
                "red",
                "#B0BEC5",
                "#B0BEC5",
                "#B0BEC5",
                "#B0BEC5",
                "#B0BEC5",
                "#B0BEC5",
                "#B0BEC5",
                "#B0BEC5",
                "#B0BEC5"
               ]
              ]
             }
            ],
            "label": "Topic 32",
            "method": "update"
           },
           {
            "args": [
             {
              "marker.color": [
               [
                "#B0BEC5",
                "#B0BEC5",
                "#B0BEC5",
                "#B0BEC5",
                "#B0BEC5",
                "#B0BEC5",
                "#B0BEC5",
                "#B0BEC5",
                "#B0BEC5",
                "#B0BEC5",
                "#B0BEC5",
                "#B0BEC5",
                "#B0BEC5",
                "#B0BEC5",
                "#B0BEC5",
                "#B0BEC5",
                "#B0BEC5",
                "#B0BEC5",
                "#B0BEC5",
                "#B0BEC5",
                "#B0BEC5",
                "#B0BEC5",
                "#B0BEC5",
                "#B0BEC5",
                "#B0BEC5",
                "#B0BEC5",
                "#B0BEC5",
                "#B0BEC5",
                "#B0BEC5",
                "#B0BEC5",
                "#B0BEC5",
                "#B0BEC5",
                "red",
                "#B0BEC5",
                "#B0BEC5",
                "#B0BEC5",
                "#B0BEC5",
                "#B0BEC5",
                "#B0BEC5",
                "#B0BEC5",
                "#B0BEC5"
               ]
              ]
             }
            ],
            "label": "Topic 33",
            "method": "update"
           },
           {
            "args": [
             {
              "marker.color": [
               [
                "#B0BEC5",
                "#B0BEC5",
                "#B0BEC5",
                "#B0BEC5",
                "#B0BEC5",
                "#B0BEC5",
                "#B0BEC5",
                "#B0BEC5",
                "#B0BEC5",
                "#B0BEC5",
                "#B0BEC5",
                "#B0BEC5",
                "#B0BEC5",
                "#B0BEC5",
                "#B0BEC5",
                "#B0BEC5",
                "#B0BEC5",
                "#B0BEC5",
                "#B0BEC5",
                "#B0BEC5",
                "#B0BEC5",
                "#B0BEC5",
                "#B0BEC5",
                "#B0BEC5",
                "#B0BEC5",
                "#B0BEC5",
                "#B0BEC5",
                "#B0BEC5",
                "#B0BEC5",
                "#B0BEC5",
                "#B0BEC5",
                "#B0BEC5",
                "#B0BEC5",
                "red",
                "#B0BEC5",
                "#B0BEC5",
                "#B0BEC5",
                "#B0BEC5",
                "#B0BEC5",
                "#B0BEC5",
                "#B0BEC5"
               ]
              ]
             }
            ],
            "label": "Topic 34",
            "method": "update"
           },
           {
            "args": [
             {
              "marker.color": [
               [
                "#B0BEC5",
                "#B0BEC5",
                "#B0BEC5",
                "#B0BEC5",
                "#B0BEC5",
                "#B0BEC5",
                "#B0BEC5",
                "#B0BEC5",
                "#B0BEC5",
                "#B0BEC5",
                "#B0BEC5",
                "#B0BEC5",
                "#B0BEC5",
                "#B0BEC5",
                "#B0BEC5",
                "#B0BEC5",
                "#B0BEC5",
                "#B0BEC5",
                "#B0BEC5",
                "#B0BEC5",
                "#B0BEC5",
                "#B0BEC5",
                "#B0BEC5",
                "#B0BEC5",
                "#B0BEC5",
                "#B0BEC5",
                "#B0BEC5",
                "#B0BEC5",
                "#B0BEC5",
                "#B0BEC5",
                "#B0BEC5",
                "#B0BEC5",
                "#B0BEC5",
                "#B0BEC5",
                "red",
                "#B0BEC5",
                "#B0BEC5",
                "#B0BEC5",
                "#B0BEC5",
                "#B0BEC5",
                "#B0BEC5"
               ]
              ]
             }
            ],
            "label": "Topic 35",
            "method": "update"
           },
           {
            "args": [
             {
              "marker.color": [
               [
                "#B0BEC5",
                "#B0BEC5",
                "#B0BEC5",
                "#B0BEC5",
                "#B0BEC5",
                "#B0BEC5",
                "#B0BEC5",
                "#B0BEC5",
                "#B0BEC5",
                "#B0BEC5",
                "#B0BEC5",
                "#B0BEC5",
                "#B0BEC5",
                "#B0BEC5",
                "#B0BEC5",
                "#B0BEC5",
                "#B0BEC5",
                "#B0BEC5",
                "#B0BEC5",
                "#B0BEC5",
                "#B0BEC5",
                "#B0BEC5",
                "#B0BEC5",
                "#B0BEC5",
                "#B0BEC5",
                "#B0BEC5",
                "#B0BEC5",
                "#B0BEC5",
                "#B0BEC5",
                "#B0BEC5",
                "#B0BEC5",
                "#B0BEC5",
                "#B0BEC5",
                "#B0BEC5",
                "#B0BEC5",
                "red",
                "#B0BEC5",
                "#B0BEC5",
                "#B0BEC5",
                "#B0BEC5",
                "#B0BEC5"
               ]
              ]
             }
            ],
            "label": "Topic 36",
            "method": "update"
           },
           {
            "args": [
             {
              "marker.color": [
               [
                "#B0BEC5",
                "#B0BEC5",
                "#B0BEC5",
                "#B0BEC5",
                "#B0BEC5",
                "#B0BEC5",
                "#B0BEC5",
                "#B0BEC5",
                "#B0BEC5",
                "#B0BEC5",
                "#B0BEC5",
                "#B0BEC5",
                "#B0BEC5",
                "#B0BEC5",
                "#B0BEC5",
                "#B0BEC5",
                "#B0BEC5",
                "#B0BEC5",
                "#B0BEC5",
                "#B0BEC5",
                "#B0BEC5",
                "#B0BEC5",
                "#B0BEC5",
                "#B0BEC5",
                "#B0BEC5",
                "#B0BEC5",
                "#B0BEC5",
                "#B0BEC5",
                "#B0BEC5",
                "#B0BEC5",
                "#B0BEC5",
                "#B0BEC5",
                "#B0BEC5",
                "#B0BEC5",
                "#B0BEC5",
                "#B0BEC5",
                "red",
                "#B0BEC5",
                "#B0BEC5",
                "#B0BEC5",
                "#B0BEC5"
               ]
              ]
             }
            ],
            "label": "Topic 37",
            "method": "update"
           },
           {
            "args": [
             {
              "marker.color": [
               [
                "#B0BEC5",
                "#B0BEC5",
                "#B0BEC5",
                "#B0BEC5",
                "#B0BEC5",
                "#B0BEC5",
                "#B0BEC5",
                "#B0BEC5",
                "#B0BEC5",
                "#B0BEC5",
                "#B0BEC5",
                "#B0BEC5",
                "#B0BEC5",
                "#B0BEC5",
                "#B0BEC5",
                "#B0BEC5",
                "#B0BEC5",
                "#B0BEC5",
                "#B0BEC5",
                "#B0BEC5",
                "#B0BEC5",
                "#B0BEC5",
                "#B0BEC5",
                "#B0BEC5",
                "#B0BEC5",
                "#B0BEC5",
                "#B0BEC5",
                "#B0BEC5",
                "#B0BEC5",
                "#B0BEC5",
                "#B0BEC5",
                "#B0BEC5",
                "#B0BEC5",
                "#B0BEC5",
                "#B0BEC5",
                "#B0BEC5",
                "#B0BEC5",
                "red",
                "#B0BEC5",
                "#B0BEC5",
                "#B0BEC5"
               ]
              ]
             }
            ],
            "label": "Topic 38",
            "method": "update"
           },
           {
            "args": [
             {
              "marker.color": [
               [
                "#B0BEC5",
                "#B0BEC5",
                "#B0BEC5",
                "#B0BEC5",
                "#B0BEC5",
                "#B0BEC5",
                "#B0BEC5",
                "#B0BEC5",
                "#B0BEC5",
                "#B0BEC5",
                "#B0BEC5",
                "#B0BEC5",
                "#B0BEC5",
                "#B0BEC5",
                "#B0BEC5",
                "#B0BEC5",
                "#B0BEC5",
                "#B0BEC5",
                "#B0BEC5",
                "#B0BEC5",
                "#B0BEC5",
                "#B0BEC5",
                "#B0BEC5",
                "#B0BEC5",
                "#B0BEC5",
                "#B0BEC5",
                "#B0BEC5",
                "#B0BEC5",
                "#B0BEC5",
                "#B0BEC5",
                "#B0BEC5",
                "#B0BEC5",
                "#B0BEC5",
                "#B0BEC5",
                "#B0BEC5",
                "#B0BEC5",
                "#B0BEC5",
                "#B0BEC5",
                "red",
                "#B0BEC5",
                "#B0BEC5"
               ]
              ]
             }
            ],
            "label": "Topic 39",
            "method": "update"
           },
           {
            "args": [
             {
              "marker.color": [
               [
                "#B0BEC5",
                "#B0BEC5",
                "#B0BEC5",
                "#B0BEC5",
                "#B0BEC5",
                "#B0BEC5",
                "#B0BEC5",
                "#B0BEC5",
                "#B0BEC5",
                "#B0BEC5",
                "#B0BEC5",
                "#B0BEC5",
                "#B0BEC5",
                "#B0BEC5",
                "#B0BEC5",
                "#B0BEC5",
                "#B0BEC5",
                "#B0BEC5",
                "#B0BEC5",
                "#B0BEC5",
                "#B0BEC5",
                "#B0BEC5",
                "#B0BEC5",
                "#B0BEC5",
                "#B0BEC5",
                "#B0BEC5",
                "#B0BEC5",
                "#B0BEC5",
                "#B0BEC5",
                "#B0BEC5",
                "#B0BEC5",
                "#B0BEC5",
                "#B0BEC5",
                "#B0BEC5",
                "#B0BEC5",
                "#B0BEC5",
                "#B0BEC5",
                "#B0BEC5",
                "#B0BEC5",
                "red",
                "#B0BEC5"
               ]
              ]
             }
            ],
            "label": "Topic 40",
            "method": "update"
           },
           {
            "args": [
             {
              "marker.color": [
               [
                "#B0BEC5",
                "#B0BEC5",
                "#B0BEC5",
                "#B0BEC5",
                "#B0BEC5",
                "#B0BEC5",
                "#B0BEC5",
                "#B0BEC5",
                "#B0BEC5",
                "#B0BEC5",
                "#B0BEC5",
                "#B0BEC5",
                "#B0BEC5",
                "#B0BEC5",
                "#B0BEC5",
                "#B0BEC5",
                "#B0BEC5",
                "#B0BEC5",
                "#B0BEC5",
                "#B0BEC5",
                "#B0BEC5",
                "#B0BEC5",
                "#B0BEC5",
                "#B0BEC5",
                "#B0BEC5",
                "#B0BEC5",
                "#B0BEC5",
                "#B0BEC5",
                "#B0BEC5",
                "#B0BEC5",
                "#B0BEC5",
                "#B0BEC5",
                "#B0BEC5",
                "#B0BEC5",
                "#B0BEC5",
                "#B0BEC5",
                "#B0BEC5",
                "#B0BEC5",
                "#B0BEC5",
                "#B0BEC5",
                "red"
               ]
              ]
             }
            ],
            "label": "Topic 41",
            "method": "update"
           }
          ]
         }
        ],
        "shapes": [
         {
          "line": {
           "color": "#CFD8DC",
           "width": 2
          },
          "type": "line",
          "x0": 2.293876981735229,
          "x1": 2.293876981735229,
          "y0": -6.210474991798401,
          "y1": 20.052517414093018
         },
         {
          "line": {
           "color": "#9E9E9E",
           "width": 2
          },
          "type": "line",
          "x0": -20.65614194869995,
          "x1": 25.24389591217041,
          "y0": 6.921021211147308,
          "y1": 6.921021211147308
         }
        ],
        "annotations": [
         {
          "showarrow": false,
          "text": "D1",
          "x": -20.65614194869995,
          "y": 6.921021211147308,
          "yshift": 10
         },
         {
          "showarrow": false,
          "text": "D2",
          "x": 2.293876981735229,
          "xshift": 10,
          "y": 20.052517414093018
         }
        ]
       },
       "config": {
        "plotlyServerURL": "https://plot.ly"
       }
      },
      "text/html": "<div>                            <div id=\"48a9d5c2-8319-444a-981d-f337d5a727ce\" class=\"plotly-graph-div\" style=\"height:650px; width:650px;\"></div>            <script type=\"text/javascript\">                require([\"plotly\"], function(Plotly) {                    window.PLOTLYENV=window.PLOTLYENV || {};                                    if (document.getElementById(\"48a9d5c2-8319-444a-981d-f337d5a727ce\")) {                    Plotly.newPlot(                        \"48a9d5c2-8319-444a-981d-f337d5a727ce\",                        [{\"customdata\":[[1,\"terms | conditions | change | changes | and\",117],[2,\"unethical | is | data | it | this\",116],[3,\"app | the | third | of | to\",95],[4,\"rights | unethical | waive | discretion | sole\",91],[5,\"consent | withdraw | still | even | withdrawn\",63],[6,\"account | terminated | reason | terminate | an\",60],[7,\"policy | privacy | changes | the | should\",51],[8,\"opt | out | optout | option | you\",51],[9,\"track | tracked | signals | tracking | do\",46],[10,\"communications | opt | out | promotional | advertising\",45],[11,\"policy | changes | time | the | change\",39],[12,\"countries | country | laws | in | eu\",36],[13,\"playrix | website | discretion | conduct | virtual\",34],[14,\"game | profile | play | players | should\",33],[15,\"termination | terminate | prior | notice | company\",32],[16,\"zynga | group | users | information | is\",32],[17,\"game | free | resources | the | refund\",31],[18,\"cookies | accept | cookie | not | it\",30],[19,\"plarium | reason | any | that | currency\",30],[20,\"delete | deleted | data | your | account\",29],[21,\"changes | notify | notified | of | should\",25],[22,\"microsoft | settings | windows | organizations | data\",23],[23,\"roblox | robux | group | paying | right\",23],[24,\"nexters | intraproject | values | enforce | value\",22],[25,\"paragraph | because | unethical | is | this\",22],[26,\"age | block | proof | under | suspect\",21],[27,\"content | remove | there | be | at\",21],[28,\"notice | given | should | be | notified\",21],[29,\"terms | unethical | are | enforced | the\",20],[30,\"terminate | unethical | account | accounts | suspend\",17],[31,\"username | name | reclaim | remove | any\",17],[32,\"consent | ask | asked | doing | before\",16],[33,\"player | termination | before | players | notified\",16],[34,\"accounts | same | name | multiple | suspend\",16],[35,\"moon | active | sole | terms | share\",15],[36,\"software | updates | upgrade | want | notify\",15],[37,\"service | changes | terms | made | of\",15],[38,\"keep | longer | long | exact | kept\",12],[39,\"amendments | agreement | users | check | accepted\",11],[40,\"service | discontinue | warning | revoked | stop\",11],[41,\"deleted | fee | account | accounts | deleting\",11]],\"hovertemplate\":\"<b>Topic %{customdata[0]}</b><br>Words: %{customdata[1]}<br>Size: %{customdata[2]}\",\"legendgroup\":\"\",\"marker\":{\"color\":\"#B0BEC5\",\"size\":[117,116,95,91,63,60,51,51,46,45,39,36,34,33,32,32,31,30,30,29,25,23,23,22,22,21,21,21,20,17,17,16,16,16,15,15,15,12,11,11,11],\"sizemode\":\"area\",\"sizeref\":0.073125,\"symbol\":\"circle\",\"line\":{\"color\":\"DarkSlateGrey\",\"width\":2}},\"mode\":\"markers\",\"name\":\"\",\"orientation\":\"v\",\"showlegend\":false,\"x\":[-0.80446744,-17.069897,-17.035913,-0.9676876,-3.4940329,8.963423,-1.275231,-11.528547,-3.7238119,-11.453448,-0.71718496,-17.961863,1.0184448,-17.683958,8.947756,-16.881634,0.50822973,-3.7238274,0.9522406,-3.5593102,11.310526,-17.739054,0.06987321,0.41259238,21.951214,9.06642,21.423822,19.984161,0.68900037,9.135542,21.61045,19.938322,8.806628,21.551067,0.38019,-1.3933293,10.979128,21.802626,11.06775,9.205824,19.896204],\"xaxis\":\"x\",\"y\":[-5.1840453,7.519682,7.3432403,-5.400413,10.639568,5.655383,-4.8734164,6.880807,3.5215664,6.8055787,-4.9346776,7.4236107,-4.921881,7.2402987,6.163925,7.5212545,-4.5643506,3.5216124,-4.8071866,10.707689,17.436972,7.503669,-4.5256386,-4.4571543,12.350715,6.1825852,11.497909,9.672484,-4.440812,5.4674582,11.61399,9.626986,6.403341,11.609344,-4.984295,-4.8061166,17.122574,12.148381,17.238338,5.3291926,9.586766],\"yaxis\":\"y\",\"type\":\"scatter\"}],                        {\"template\":{\"data\":{\"barpolar\":[{\"marker\":{\"line\":{\"color\":\"white\",\"width\":0.5},\"pattern\":{\"fillmode\":\"overlay\",\"size\":10,\"solidity\":0.2}},\"type\":\"barpolar\"}],\"bar\":[{\"error_x\":{\"color\":\"rgb(36,36,36)\"},\"error_y\":{\"color\":\"rgb(36,36,36)\"},\"marker\":{\"line\":{\"color\":\"white\",\"width\":0.5},\"pattern\":{\"fillmode\":\"overlay\",\"size\":10,\"solidity\":0.2}},\"type\":\"bar\"}],\"carpet\":[{\"aaxis\":{\"endlinecolor\":\"rgb(36,36,36)\",\"gridcolor\":\"white\",\"linecolor\":\"white\",\"minorgridcolor\":\"white\",\"startlinecolor\":\"rgb(36,36,36)\"},\"baxis\":{\"endlinecolor\":\"rgb(36,36,36)\",\"gridcolor\":\"white\",\"linecolor\":\"white\",\"minorgridcolor\":\"white\",\"startlinecolor\":\"rgb(36,36,36)\"},\"type\":\"carpet\"}],\"choropleth\":[{\"colorbar\":{\"outlinewidth\":1,\"tickcolor\":\"rgb(36,36,36)\",\"ticks\":\"outside\"},\"type\":\"choropleth\"}],\"contourcarpet\":[{\"colorbar\":{\"outlinewidth\":1,\"tickcolor\":\"rgb(36,36,36)\",\"ticks\":\"outside\"},\"type\":\"contourcarpet\"}],\"contour\":[{\"colorbar\":{\"outlinewidth\":1,\"tickcolor\":\"rgb(36,36,36)\",\"ticks\":\"outside\"},\"colorscale\":[[0.0,\"#440154\"],[0.1111111111111111,\"#482878\"],[0.2222222222222222,\"#3e4989\"],[0.3333333333333333,\"#31688e\"],[0.4444444444444444,\"#26828e\"],[0.5555555555555556,\"#1f9e89\"],[0.6666666666666666,\"#35b779\"],[0.7777777777777778,\"#6ece58\"],[0.8888888888888888,\"#b5de2b\"],[1.0,\"#fde725\"]],\"type\":\"contour\"}],\"heatmapgl\":[{\"colorbar\":{\"outlinewidth\":1,\"tickcolor\":\"rgb(36,36,36)\",\"ticks\":\"outside\"},\"colorscale\":[[0.0,\"#440154\"],[0.1111111111111111,\"#482878\"],[0.2222222222222222,\"#3e4989\"],[0.3333333333333333,\"#31688e\"],[0.4444444444444444,\"#26828e\"],[0.5555555555555556,\"#1f9e89\"],[0.6666666666666666,\"#35b779\"],[0.7777777777777778,\"#6ece58\"],[0.8888888888888888,\"#b5de2b\"],[1.0,\"#fde725\"]],\"type\":\"heatmapgl\"}],\"heatmap\":[{\"colorbar\":{\"outlinewidth\":1,\"tickcolor\":\"rgb(36,36,36)\",\"ticks\":\"outside\"},\"colorscale\":[[0.0,\"#440154\"],[0.1111111111111111,\"#482878\"],[0.2222222222222222,\"#3e4989\"],[0.3333333333333333,\"#31688e\"],[0.4444444444444444,\"#26828e\"],[0.5555555555555556,\"#1f9e89\"],[0.6666666666666666,\"#35b779\"],[0.7777777777777778,\"#6ece58\"],[0.8888888888888888,\"#b5de2b\"],[1.0,\"#fde725\"]],\"type\":\"heatmap\"}],\"histogram2dcontour\":[{\"colorbar\":{\"outlinewidth\":1,\"tickcolor\":\"rgb(36,36,36)\",\"ticks\":\"outside\"},\"colorscale\":[[0.0,\"#440154\"],[0.1111111111111111,\"#482878\"],[0.2222222222222222,\"#3e4989\"],[0.3333333333333333,\"#31688e\"],[0.4444444444444444,\"#26828e\"],[0.5555555555555556,\"#1f9e89\"],[0.6666666666666666,\"#35b779\"],[0.7777777777777778,\"#6ece58\"],[0.8888888888888888,\"#b5de2b\"],[1.0,\"#fde725\"]],\"type\":\"histogram2dcontour\"}],\"histogram2d\":[{\"colorbar\":{\"outlinewidth\":1,\"tickcolor\":\"rgb(36,36,36)\",\"ticks\":\"outside\"},\"colorscale\":[[0.0,\"#440154\"],[0.1111111111111111,\"#482878\"],[0.2222222222222222,\"#3e4989\"],[0.3333333333333333,\"#31688e\"],[0.4444444444444444,\"#26828e\"],[0.5555555555555556,\"#1f9e89\"],[0.6666666666666666,\"#35b779\"],[0.7777777777777778,\"#6ece58\"],[0.8888888888888888,\"#b5de2b\"],[1.0,\"#fde725\"]],\"type\":\"histogram2d\"}],\"histogram\":[{\"marker\":{\"line\":{\"color\":\"white\",\"width\":0.6}},\"type\":\"histogram\"}],\"mesh3d\":[{\"colorbar\":{\"outlinewidth\":1,\"tickcolor\":\"rgb(36,36,36)\",\"ticks\":\"outside\"},\"type\":\"mesh3d\"}],\"parcoords\":[{\"line\":{\"colorbar\":{\"outlinewidth\":1,\"tickcolor\":\"rgb(36,36,36)\",\"ticks\":\"outside\"}},\"type\":\"parcoords\"}],\"pie\":[{\"automargin\":true,\"type\":\"pie\"}],\"scatter3d\":[{\"line\":{\"colorbar\":{\"outlinewidth\":1,\"tickcolor\":\"rgb(36,36,36)\",\"ticks\":\"outside\"}},\"marker\":{\"colorbar\":{\"outlinewidth\":1,\"tickcolor\":\"rgb(36,36,36)\",\"ticks\":\"outside\"}},\"type\":\"scatter3d\"}],\"scattercarpet\":[{\"marker\":{\"colorbar\":{\"outlinewidth\":1,\"tickcolor\":\"rgb(36,36,36)\",\"ticks\":\"outside\"}},\"type\":\"scattercarpet\"}],\"scattergeo\":[{\"marker\":{\"colorbar\":{\"outlinewidth\":1,\"tickcolor\":\"rgb(36,36,36)\",\"ticks\":\"outside\"}},\"type\":\"scattergeo\"}],\"scattergl\":[{\"marker\":{\"colorbar\":{\"outlinewidth\":1,\"tickcolor\":\"rgb(36,36,36)\",\"ticks\":\"outside\"}},\"type\":\"scattergl\"}],\"scattermapbox\":[{\"marker\":{\"colorbar\":{\"outlinewidth\":1,\"tickcolor\":\"rgb(36,36,36)\",\"ticks\":\"outside\"}},\"type\":\"scattermapbox\"}],\"scatterpolargl\":[{\"marker\":{\"colorbar\":{\"outlinewidth\":1,\"tickcolor\":\"rgb(36,36,36)\",\"ticks\":\"outside\"}},\"type\":\"scatterpolargl\"}],\"scatterpolar\":[{\"marker\":{\"colorbar\":{\"outlinewidth\":1,\"tickcolor\":\"rgb(36,36,36)\",\"ticks\":\"outside\"}},\"type\":\"scatterpolar\"}],\"scatter\":[{\"fillpattern\":{\"fillmode\":\"overlay\",\"size\":10,\"solidity\":0.2},\"type\":\"scatter\"}],\"scatterternary\":[{\"marker\":{\"colorbar\":{\"outlinewidth\":1,\"tickcolor\":\"rgb(36,36,36)\",\"ticks\":\"outside\"}},\"type\":\"scatterternary\"}],\"surface\":[{\"colorbar\":{\"outlinewidth\":1,\"tickcolor\":\"rgb(36,36,36)\",\"ticks\":\"outside\"},\"colorscale\":[[0.0,\"#440154\"],[0.1111111111111111,\"#482878\"],[0.2222222222222222,\"#3e4989\"],[0.3333333333333333,\"#31688e\"],[0.4444444444444444,\"#26828e\"],[0.5555555555555556,\"#1f9e89\"],[0.6666666666666666,\"#35b779\"],[0.7777777777777778,\"#6ece58\"],[0.8888888888888888,\"#b5de2b\"],[1.0,\"#fde725\"]],\"type\":\"surface\"}],\"table\":[{\"cells\":{\"fill\":{\"color\":\"rgb(237,237,237)\"},\"line\":{\"color\":\"white\"}},\"header\":{\"fill\":{\"color\":\"rgb(217,217,217)\"},\"line\":{\"color\":\"white\"}},\"type\":\"table\"}]},\"layout\":{\"annotationdefaults\":{\"arrowhead\":0,\"arrowwidth\":1},\"autotypenumbers\":\"strict\",\"coloraxis\":{\"colorbar\":{\"outlinewidth\":1,\"tickcolor\":\"rgb(36,36,36)\",\"ticks\":\"outside\"}},\"colorscale\":{\"diverging\":[[0.0,\"rgb(103,0,31)\"],[0.1,\"rgb(178,24,43)\"],[0.2,\"rgb(214,96,77)\"],[0.3,\"rgb(244,165,130)\"],[0.4,\"rgb(253,219,199)\"],[0.5,\"rgb(247,247,247)\"],[0.6,\"rgb(209,229,240)\"],[0.7,\"rgb(146,197,222)\"],[0.8,\"rgb(67,147,195)\"],[0.9,\"rgb(33,102,172)\"],[1.0,\"rgb(5,48,97)\"]],\"sequential\":[[0.0,\"#440154\"],[0.1111111111111111,\"#482878\"],[0.2222222222222222,\"#3e4989\"],[0.3333333333333333,\"#31688e\"],[0.4444444444444444,\"#26828e\"],[0.5555555555555556,\"#1f9e89\"],[0.6666666666666666,\"#35b779\"],[0.7777777777777778,\"#6ece58\"],[0.8888888888888888,\"#b5de2b\"],[1.0,\"#fde725\"]],\"sequentialminus\":[[0.0,\"#440154\"],[0.1111111111111111,\"#482878\"],[0.2222222222222222,\"#3e4989\"],[0.3333333333333333,\"#31688e\"],[0.4444444444444444,\"#26828e\"],[0.5555555555555556,\"#1f9e89\"],[0.6666666666666666,\"#35b779\"],[0.7777777777777778,\"#6ece58\"],[0.8888888888888888,\"#b5de2b\"],[1.0,\"#fde725\"]]},\"colorway\":[\"#1F77B4\",\"#FF7F0E\",\"#2CA02C\",\"#D62728\",\"#9467BD\",\"#8C564B\",\"#E377C2\",\"#7F7F7F\",\"#BCBD22\",\"#17BECF\"],\"font\":{\"color\":\"rgb(36,36,36)\"},\"geo\":{\"bgcolor\":\"white\",\"lakecolor\":\"white\",\"landcolor\":\"white\",\"showlakes\":true,\"showland\":true,\"subunitcolor\":\"white\"},\"hoverlabel\":{\"align\":\"left\"},\"hovermode\":\"closest\",\"mapbox\":{\"style\":\"light\"},\"paper_bgcolor\":\"white\",\"plot_bgcolor\":\"white\",\"polar\":{\"angularaxis\":{\"gridcolor\":\"rgb(232,232,232)\",\"linecolor\":\"rgb(36,36,36)\",\"showgrid\":false,\"showline\":true,\"ticks\":\"outside\"},\"bgcolor\":\"white\",\"radialaxis\":{\"gridcolor\":\"rgb(232,232,232)\",\"linecolor\":\"rgb(36,36,36)\",\"showgrid\":false,\"showline\":true,\"ticks\":\"outside\"}},\"scene\":{\"xaxis\":{\"backgroundcolor\":\"white\",\"gridcolor\":\"rgb(232,232,232)\",\"gridwidth\":2,\"linecolor\":\"rgb(36,36,36)\",\"showbackground\":true,\"showgrid\":false,\"showline\":true,\"ticks\":\"outside\",\"zeroline\":false,\"zerolinecolor\":\"rgb(36,36,36)\"},\"yaxis\":{\"backgroundcolor\":\"white\",\"gridcolor\":\"rgb(232,232,232)\",\"gridwidth\":2,\"linecolor\":\"rgb(36,36,36)\",\"showbackground\":true,\"showgrid\":false,\"showline\":true,\"ticks\":\"outside\",\"zeroline\":false,\"zerolinecolor\":\"rgb(36,36,36)\"},\"zaxis\":{\"backgroundcolor\":\"white\",\"gridcolor\":\"rgb(232,232,232)\",\"gridwidth\":2,\"linecolor\":\"rgb(36,36,36)\",\"showbackground\":true,\"showgrid\":false,\"showline\":true,\"ticks\":\"outside\",\"zeroline\":false,\"zerolinecolor\":\"rgb(36,36,36)\"}},\"shapedefaults\":{\"fillcolor\":\"black\",\"line\":{\"width\":0},\"opacity\":0.3},\"ternary\":{\"aaxis\":{\"gridcolor\":\"rgb(232,232,232)\",\"linecolor\":\"rgb(36,36,36)\",\"showgrid\":false,\"showline\":true,\"ticks\":\"outside\"},\"baxis\":{\"gridcolor\":\"rgb(232,232,232)\",\"linecolor\":\"rgb(36,36,36)\",\"showgrid\":false,\"showline\":true,\"ticks\":\"outside\"},\"bgcolor\":\"white\",\"caxis\":{\"gridcolor\":\"rgb(232,232,232)\",\"linecolor\":\"rgb(36,36,36)\",\"showgrid\":false,\"showline\":true,\"ticks\":\"outside\"}},\"title\":{\"x\":0.05},\"xaxis\":{\"automargin\":true,\"gridcolor\":\"rgb(232,232,232)\",\"linecolor\":\"rgb(36,36,36)\",\"showgrid\":false,\"showline\":true,\"ticks\":\"outside\",\"title\":{\"standoff\":15},\"zeroline\":false,\"zerolinecolor\":\"rgb(36,36,36)\"},\"yaxis\":{\"automargin\":true,\"gridcolor\":\"rgb(232,232,232)\",\"linecolor\":\"rgb(36,36,36)\",\"showgrid\":false,\"showline\":true,\"ticks\":\"outside\",\"title\":{\"standoff\":15},\"zeroline\":false,\"zerolinecolor\":\"rgb(36,36,36)\"}}},\"xaxis\":{\"anchor\":\"y\",\"domain\":[0.0,1.0],\"title\":{\"text\":\"\"},\"visible\":false,\"range\":[-20.65614194869995,25.24389591217041]},\"yaxis\":{\"anchor\":\"x\",\"domain\":[0.0,1.0],\"title\":{\"text\":\"\"},\"visible\":false,\"range\":[-6.210474991798401,20.052517414093018]},\"legend\":{\"tracegroupgap\":0,\"itemsizing\":\"constant\"},\"margin\":{\"t\":60},\"title\":{\"font\":{\"size\":22,\"color\":\"Black\"},\"text\":\"<b>Intertopic Distance Map\",\"y\":0.95,\"x\":0.5,\"xanchor\":\"center\",\"yanchor\":\"top\"},\"hoverlabel\":{\"font\":{\"size\":16,\"family\":\"Rockwell\"},\"bgcolor\":\"white\"},\"width\":650,\"height\":650,\"sliders\":[{\"active\":0,\"pad\":{\"t\":50},\"steps\":[{\"args\":[{\"marker.color\":[[\"red\",\"#B0BEC5\",\"#B0BEC5\",\"#B0BEC5\",\"#B0BEC5\",\"#B0BEC5\",\"#B0BEC5\",\"#B0BEC5\",\"#B0BEC5\",\"#B0BEC5\",\"#B0BEC5\",\"#B0BEC5\",\"#B0BEC5\",\"#B0BEC5\",\"#B0BEC5\",\"#B0BEC5\",\"#B0BEC5\",\"#B0BEC5\",\"#B0BEC5\",\"#B0BEC5\",\"#B0BEC5\",\"#B0BEC5\",\"#B0BEC5\",\"#B0BEC5\",\"#B0BEC5\",\"#B0BEC5\",\"#B0BEC5\",\"#B0BEC5\",\"#B0BEC5\",\"#B0BEC5\",\"#B0BEC5\",\"#B0BEC5\",\"#B0BEC5\",\"#B0BEC5\",\"#B0BEC5\",\"#B0BEC5\",\"#B0BEC5\",\"#B0BEC5\",\"#B0BEC5\",\"#B0BEC5\",\"#B0BEC5\"]]}],\"label\":\"Topic 1\",\"method\":\"update\"},{\"args\":[{\"marker.color\":[[\"#B0BEC5\",\"red\",\"#B0BEC5\",\"#B0BEC5\",\"#B0BEC5\",\"#B0BEC5\",\"#B0BEC5\",\"#B0BEC5\",\"#B0BEC5\",\"#B0BEC5\",\"#B0BEC5\",\"#B0BEC5\",\"#B0BEC5\",\"#B0BEC5\",\"#B0BEC5\",\"#B0BEC5\",\"#B0BEC5\",\"#B0BEC5\",\"#B0BEC5\",\"#B0BEC5\",\"#B0BEC5\",\"#B0BEC5\",\"#B0BEC5\",\"#B0BEC5\",\"#B0BEC5\",\"#B0BEC5\",\"#B0BEC5\",\"#B0BEC5\",\"#B0BEC5\",\"#B0BEC5\",\"#B0BEC5\",\"#B0BEC5\",\"#B0BEC5\",\"#B0BEC5\",\"#B0BEC5\",\"#B0BEC5\",\"#B0BEC5\",\"#B0BEC5\",\"#B0BEC5\",\"#B0BEC5\",\"#B0BEC5\"]]}],\"label\":\"Topic 2\",\"method\":\"update\"},{\"args\":[{\"marker.color\":[[\"#B0BEC5\",\"#B0BEC5\",\"red\",\"#B0BEC5\",\"#B0BEC5\",\"#B0BEC5\",\"#B0BEC5\",\"#B0BEC5\",\"#B0BEC5\",\"#B0BEC5\",\"#B0BEC5\",\"#B0BEC5\",\"#B0BEC5\",\"#B0BEC5\",\"#B0BEC5\",\"#B0BEC5\",\"#B0BEC5\",\"#B0BEC5\",\"#B0BEC5\",\"#B0BEC5\",\"#B0BEC5\",\"#B0BEC5\",\"#B0BEC5\",\"#B0BEC5\",\"#B0BEC5\",\"#B0BEC5\",\"#B0BEC5\",\"#B0BEC5\",\"#B0BEC5\",\"#B0BEC5\",\"#B0BEC5\",\"#B0BEC5\",\"#B0BEC5\",\"#B0BEC5\",\"#B0BEC5\",\"#B0BEC5\",\"#B0BEC5\",\"#B0BEC5\",\"#B0BEC5\",\"#B0BEC5\",\"#B0BEC5\"]]}],\"label\":\"Topic 3\",\"method\":\"update\"},{\"args\":[{\"marker.color\":[[\"#B0BEC5\",\"#B0BEC5\",\"#B0BEC5\",\"red\",\"#B0BEC5\",\"#B0BEC5\",\"#B0BEC5\",\"#B0BEC5\",\"#B0BEC5\",\"#B0BEC5\",\"#B0BEC5\",\"#B0BEC5\",\"#B0BEC5\",\"#B0BEC5\",\"#B0BEC5\",\"#B0BEC5\",\"#B0BEC5\",\"#B0BEC5\",\"#B0BEC5\",\"#B0BEC5\",\"#B0BEC5\",\"#B0BEC5\",\"#B0BEC5\",\"#B0BEC5\",\"#B0BEC5\",\"#B0BEC5\",\"#B0BEC5\",\"#B0BEC5\",\"#B0BEC5\",\"#B0BEC5\",\"#B0BEC5\",\"#B0BEC5\",\"#B0BEC5\",\"#B0BEC5\",\"#B0BEC5\",\"#B0BEC5\",\"#B0BEC5\",\"#B0BEC5\",\"#B0BEC5\",\"#B0BEC5\",\"#B0BEC5\"]]}],\"label\":\"Topic 4\",\"method\":\"update\"},{\"args\":[{\"marker.color\":[[\"#B0BEC5\",\"#B0BEC5\",\"#B0BEC5\",\"#B0BEC5\",\"red\",\"#B0BEC5\",\"#B0BEC5\",\"#B0BEC5\",\"#B0BEC5\",\"#B0BEC5\",\"#B0BEC5\",\"#B0BEC5\",\"#B0BEC5\",\"#B0BEC5\",\"#B0BEC5\",\"#B0BEC5\",\"#B0BEC5\",\"#B0BEC5\",\"#B0BEC5\",\"#B0BEC5\",\"#B0BEC5\",\"#B0BEC5\",\"#B0BEC5\",\"#B0BEC5\",\"#B0BEC5\",\"#B0BEC5\",\"#B0BEC5\",\"#B0BEC5\",\"#B0BEC5\",\"#B0BEC5\",\"#B0BEC5\",\"#B0BEC5\",\"#B0BEC5\",\"#B0BEC5\",\"#B0BEC5\",\"#B0BEC5\",\"#B0BEC5\",\"#B0BEC5\",\"#B0BEC5\",\"#B0BEC5\",\"#B0BEC5\"]]}],\"label\":\"Topic 5\",\"method\":\"update\"},{\"args\":[{\"marker.color\":[[\"#B0BEC5\",\"#B0BEC5\",\"#B0BEC5\",\"#B0BEC5\",\"#B0BEC5\",\"red\",\"#B0BEC5\",\"#B0BEC5\",\"#B0BEC5\",\"#B0BEC5\",\"#B0BEC5\",\"#B0BEC5\",\"#B0BEC5\",\"#B0BEC5\",\"#B0BEC5\",\"#B0BEC5\",\"#B0BEC5\",\"#B0BEC5\",\"#B0BEC5\",\"#B0BEC5\",\"#B0BEC5\",\"#B0BEC5\",\"#B0BEC5\",\"#B0BEC5\",\"#B0BEC5\",\"#B0BEC5\",\"#B0BEC5\",\"#B0BEC5\",\"#B0BEC5\",\"#B0BEC5\",\"#B0BEC5\",\"#B0BEC5\",\"#B0BEC5\",\"#B0BEC5\",\"#B0BEC5\",\"#B0BEC5\",\"#B0BEC5\",\"#B0BEC5\",\"#B0BEC5\",\"#B0BEC5\",\"#B0BEC5\"]]}],\"label\":\"Topic 6\",\"method\":\"update\"},{\"args\":[{\"marker.color\":[[\"#B0BEC5\",\"#B0BEC5\",\"#B0BEC5\",\"#B0BEC5\",\"#B0BEC5\",\"#B0BEC5\",\"red\",\"#B0BEC5\",\"#B0BEC5\",\"#B0BEC5\",\"#B0BEC5\",\"#B0BEC5\",\"#B0BEC5\",\"#B0BEC5\",\"#B0BEC5\",\"#B0BEC5\",\"#B0BEC5\",\"#B0BEC5\",\"#B0BEC5\",\"#B0BEC5\",\"#B0BEC5\",\"#B0BEC5\",\"#B0BEC5\",\"#B0BEC5\",\"#B0BEC5\",\"#B0BEC5\",\"#B0BEC5\",\"#B0BEC5\",\"#B0BEC5\",\"#B0BEC5\",\"#B0BEC5\",\"#B0BEC5\",\"#B0BEC5\",\"#B0BEC5\",\"#B0BEC5\",\"#B0BEC5\",\"#B0BEC5\",\"#B0BEC5\",\"#B0BEC5\",\"#B0BEC5\",\"#B0BEC5\"]]}],\"label\":\"Topic 7\",\"method\":\"update\"},{\"args\":[{\"marker.color\":[[\"#B0BEC5\",\"#B0BEC5\",\"#B0BEC5\",\"#B0BEC5\",\"#B0BEC5\",\"#B0BEC5\",\"#B0BEC5\",\"red\",\"#B0BEC5\",\"#B0BEC5\",\"#B0BEC5\",\"#B0BEC5\",\"#B0BEC5\",\"#B0BEC5\",\"#B0BEC5\",\"#B0BEC5\",\"#B0BEC5\",\"#B0BEC5\",\"#B0BEC5\",\"#B0BEC5\",\"#B0BEC5\",\"#B0BEC5\",\"#B0BEC5\",\"#B0BEC5\",\"#B0BEC5\",\"#B0BEC5\",\"#B0BEC5\",\"#B0BEC5\",\"#B0BEC5\",\"#B0BEC5\",\"#B0BEC5\",\"#B0BEC5\",\"#B0BEC5\",\"#B0BEC5\",\"#B0BEC5\",\"#B0BEC5\",\"#B0BEC5\",\"#B0BEC5\",\"#B0BEC5\",\"#B0BEC5\",\"#B0BEC5\"]]}],\"label\":\"Topic 8\",\"method\":\"update\"},{\"args\":[{\"marker.color\":[[\"#B0BEC5\",\"#B0BEC5\",\"#B0BEC5\",\"#B0BEC5\",\"#B0BEC5\",\"#B0BEC5\",\"#B0BEC5\",\"#B0BEC5\",\"red\",\"#B0BEC5\",\"#B0BEC5\",\"#B0BEC5\",\"#B0BEC5\",\"#B0BEC5\",\"#B0BEC5\",\"#B0BEC5\",\"#B0BEC5\",\"#B0BEC5\",\"#B0BEC5\",\"#B0BEC5\",\"#B0BEC5\",\"#B0BEC5\",\"#B0BEC5\",\"#B0BEC5\",\"#B0BEC5\",\"#B0BEC5\",\"#B0BEC5\",\"#B0BEC5\",\"#B0BEC5\",\"#B0BEC5\",\"#B0BEC5\",\"#B0BEC5\",\"#B0BEC5\",\"#B0BEC5\",\"#B0BEC5\",\"#B0BEC5\",\"#B0BEC5\",\"#B0BEC5\",\"#B0BEC5\",\"#B0BEC5\",\"#B0BEC5\"]]}],\"label\":\"Topic 9\",\"method\":\"update\"},{\"args\":[{\"marker.color\":[[\"#B0BEC5\",\"#B0BEC5\",\"#B0BEC5\",\"#B0BEC5\",\"#B0BEC5\",\"#B0BEC5\",\"#B0BEC5\",\"#B0BEC5\",\"#B0BEC5\",\"red\",\"#B0BEC5\",\"#B0BEC5\",\"#B0BEC5\",\"#B0BEC5\",\"#B0BEC5\",\"#B0BEC5\",\"#B0BEC5\",\"#B0BEC5\",\"#B0BEC5\",\"#B0BEC5\",\"#B0BEC5\",\"#B0BEC5\",\"#B0BEC5\",\"#B0BEC5\",\"#B0BEC5\",\"#B0BEC5\",\"#B0BEC5\",\"#B0BEC5\",\"#B0BEC5\",\"#B0BEC5\",\"#B0BEC5\",\"#B0BEC5\",\"#B0BEC5\",\"#B0BEC5\",\"#B0BEC5\",\"#B0BEC5\",\"#B0BEC5\",\"#B0BEC5\",\"#B0BEC5\",\"#B0BEC5\",\"#B0BEC5\"]]}],\"label\":\"Topic 10\",\"method\":\"update\"},{\"args\":[{\"marker.color\":[[\"#B0BEC5\",\"#B0BEC5\",\"#B0BEC5\",\"#B0BEC5\",\"#B0BEC5\",\"#B0BEC5\",\"#B0BEC5\",\"#B0BEC5\",\"#B0BEC5\",\"#B0BEC5\",\"red\",\"#B0BEC5\",\"#B0BEC5\",\"#B0BEC5\",\"#B0BEC5\",\"#B0BEC5\",\"#B0BEC5\",\"#B0BEC5\",\"#B0BEC5\",\"#B0BEC5\",\"#B0BEC5\",\"#B0BEC5\",\"#B0BEC5\",\"#B0BEC5\",\"#B0BEC5\",\"#B0BEC5\",\"#B0BEC5\",\"#B0BEC5\",\"#B0BEC5\",\"#B0BEC5\",\"#B0BEC5\",\"#B0BEC5\",\"#B0BEC5\",\"#B0BEC5\",\"#B0BEC5\",\"#B0BEC5\",\"#B0BEC5\",\"#B0BEC5\",\"#B0BEC5\",\"#B0BEC5\",\"#B0BEC5\"]]}],\"label\":\"Topic 11\",\"method\":\"update\"},{\"args\":[{\"marker.color\":[[\"#B0BEC5\",\"#B0BEC5\",\"#B0BEC5\",\"#B0BEC5\",\"#B0BEC5\",\"#B0BEC5\",\"#B0BEC5\",\"#B0BEC5\",\"#B0BEC5\",\"#B0BEC5\",\"#B0BEC5\",\"red\",\"#B0BEC5\",\"#B0BEC5\",\"#B0BEC5\",\"#B0BEC5\",\"#B0BEC5\",\"#B0BEC5\",\"#B0BEC5\",\"#B0BEC5\",\"#B0BEC5\",\"#B0BEC5\",\"#B0BEC5\",\"#B0BEC5\",\"#B0BEC5\",\"#B0BEC5\",\"#B0BEC5\",\"#B0BEC5\",\"#B0BEC5\",\"#B0BEC5\",\"#B0BEC5\",\"#B0BEC5\",\"#B0BEC5\",\"#B0BEC5\",\"#B0BEC5\",\"#B0BEC5\",\"#B0BEC5\",\"#B0BEC5\",\"#B0BEC5\",\"#B0BEC5\",\"#B0BEC5\"]]}],\"label\":\"Topic 12\",\"method\":\"update\"},{\"args\":[{\"marker.color\":[[\"#B0BEC5\",\"#B0BEC5\",\"#B0BEC5\",\"#B0BEC5\",\"#B0BEC5\",\"#B0BEC5\",\"#B0BEC5\",\"#B0BEC5\",\"#B0BEC5\",\"#B0BEC5\",\"#B0BEC5\",\"#B0BEC5\",\"red\",\"#B0BEC5\",\"#B0BEC5\",\"#B0BEC5\",\"#B0BEC5\",\"#B0BEC5\",\"#B0BEC5\",\"#B0BEC5\",\"#B0BEC5\",\"#B0BEC5\",\"#B0BEC5\",\"#B0BEC5\",\"#B0BEC5\",\"#B0BEC5\",\"#B0BEC5\",\"#B0BEC5\",\"#B0BEC5\",\"#B0BEC5\",\"#B0BEC5\",\"#B0BEC5\",\"#B0BEC5\",\"#B0BEC5\",\"#B0BEC5\",\"#B0BEC5\",\"#B0BEC5\",\"#B0BEC5\",\"#B0BEC5\",\"#B0BEC5\",\"#B0BEC5\"]]}],\"label\":\"Topic 13\",\"method\":\"update\"},{\"args\":[{\"marker.color\":[[\"#B0BEC5\",\"#B0BEC5\",\"#B0BEC5\",\"#B0BEC5\",\"#B0BEC5\",\"#B0BEC5\",\"#B0BEC5\",\"#B0BEC5\",\"#B0BEC5\",\"#B0BEC5\",\"#B0BEC5\",\"#B0BEC5\",\"#B0BEC5\",\"red\",\"#B0BEC5\",\"#B0BEC5\",\"#B0BEC5\",\"#B0BEC5\",\"#B0BEC5\",\"#B0BEC5\",\"#B0BEC5\",\"#B0BEC5\",\"#B0BEC5\",\"#B0BEC5\",\"#B0BEC5\",\"#B0BEC5\",\"#B0BEC5\",\"#B0BEC5\",\"#B0BEC5\",\"#B0BEC5\",\"#B0BEC5\",\"#B0BEC5\",\"#B0BEC5\",\"#B0BEC5\",\"#B0BEC5\",\"#B0BEC5\",\"#B0BEC5\",\"#B0BEC5\",\"#B0BEC5\",\"#B0BEC5\",\"#B0BEC5\"]]}],\"label\":\"Topic 14\",\"method\":\"update\"},{\"args\":[{\"marker.color\":[[\"#B0BEC5\",\"#B0BEC5\",\"#B0BEC5\",\"#B0BEC5\",\"#B0BEC5\",\"#B0BEC5\",\"#B0BEC5\",\"#B0BEC5\",\"#B0BEC5\",\"#B0BEC5\",\"#B0BEC5\",\"#B0BEC5\",\"#B0BEC5\",\"#B0BEC5\",\"red\",\"#B0BEC5\",\"#B0BEC5\",\"#B0BEC5\",\"#B0BEC5\",\"#B0BEC5\",\"#B0BEC5\",\"#B0BEC5\",\"#B0BEC5\",\"#B0BEC5\",\"#B0BEC5\",\"#B0BEC5\",\"#B0BEC5\",\"#B0BEC5\",\"#B0BEC5\",\"#B0BEC5\",\"#B0BEC5\",\"#B0BEC5\",\"#B0BEC5\",\"#B0BEC5\",\"#B0BEC5\",\"#B0BEC5\",\"#B0BEC5\",\"#B0BEC5\",\"#B0BEC5\",\"#B0BEC5\",\"#B0BEC5\"]]}],\"label\":\"Topic 15\",\"method\":\"update\"},{\"args\":[{\"marker.color\":[[\"#B0BEC5\",\"#B0BEC5\",\"#B0BEC5\",\"#B0BEC5\",\"#B0BEC5\",\"#B0BEC5\",\"#B0BEC5\",\"#B0BEC5\",\"#B0BEC5\",\"#B0BEC5\",\"#B0BEC5\",\"#B0BEC5\",\"#B0BEC5\",\"#B0BEC5\",\"#B0BEC5\",\"red\",\"#B0BEC5\",\"#B0BEC5\",\"#B0BEC5\",\"#B0BEC5\",\"#B0BEC5\",\"#B0BEC5\",\"#B0BEC5\",\"#B0BEC5\",\"#B0BEC5\",\"#B0BEC5\",\"#B0BEC5\",\"#B0BEC5\",\"#B0BEC5\",\"#B0BEC5\",\"#B0BEC5\",\"#B0BEC5\",\"#B0BEC5\",\"#B0BEC5\",\"#B0BEC5\",\"#B0BEC5\",\"#B0BEC5\",\"#B0BEC5\",\"#B0BEC5\",\"#B0BEC5\",\"#B0BEC5\"]]}],\"label\":\"Topic 16\",\"method\":\"update\"},{\"args\":[{\"marker.color\":[[\"#B0BEC5\",\"#B0BEC5\",\"#B0BEC5\",\"#B0BEC5\",\"#B0BEC5\",\"#B0BEC5\",\"#B0BEC5\",\"#B0BEC5\",\"#B0BEC5\",\"#B0BEC5\",\"#B0BEC5\",\"#B0BEC5\",\"#B0BEC5\",\"#B0BEC5\",\"#B0BEC5\",\"#B0BEC5\",\"red\",\"#B0BEC5\",\"#B0BEC5\",\"#B0BEC5\",\"#B0BEC5\",\"#B0BEC5\",\"#B0BEC5\",\"#B0BEC5\",\"#B0BEC5\",\"#B0BEC5\",\"#B0BEC5\",\"#B0BEC5\",\"#B0BEC5\",\"#B0BEC5\",\"#B0BEC5\",\"#B0BEC5\",\"#B0BEC5\",\"#B0BEC5\",\"#B0BEC5\",\"#B0BEC5\",\"#B0BEC5\",\"#B0BEC5\",\"#B0BEC5\",\"#B0BEC5\",\"#B0BEC5\"]]}],\"label\":\"Topic 17\",\"method\":\"update\"},{\"args\":[{\"marker.color\":[[\"#B0BEC5\",\"#B0BEC5\",\"#B0BEC5\",\"#B0BEC5\",\"#B0BEC5\",\"#B0BEC5\",\"#B0BEC5\",\"#B0BEC5\",\"#B0BEC5\",\"#B0BEC5\",\"#B0BEC5\",\"#B0BEC5\",\"#B0BEC5\",\"#B0BEC5\",\"#B0BEC5\",\"#B0BEC5\",\"#B0BEC5\",\"red\",\"#B0BEC5\",\"#B0BEC5\",\"#B0BEC5\",\"#B0BEC5\",\"#B0BEC5\",\"#B0BEC5\",\"#B0BEC5\",\"#B0BEC5\",\"#B0BEC5\",\"#B0BEC5\",\"#B0BEC5\",\"#B0BEC5\",\"#B0BEC5\",\"#B0BEC5\",\"#B0BEC5\",\"#B0BEC5\",\"#B0BEC5\",\"#B0BEC5\",\"#B0BEC5\",\"#B0BEC5\",\"#B0BEC5\",\"#B0BEC5\",\"#B0BEC5\"]]}],\"label\":\"Topic 18\",\"method\":\"update\"},{\"args\":[{\"marker.color\":[[\"#B0BEC5\",\"#B0BEC5\",\"#B0BEC5\",\"#B0BEC5\",\"#B0BEC5\",\"#B0BEC5\",\"#B0BEC5\",\"#B0BEC5\",\"#B0BEC5\",\"#B0BEC5\",\"#B0BEC5\",\"#B0BEC5\",\"#B0BEC5\",\"#B0BEC5\",\"#B0BEC5\",\"#B0BEC5\",\"#B0BEC5\",\"#B0BEC5\",\"red\",\"#B0BEC5\",\"#B0BEC5\",\"#B0BEC5\",\"#B0BEC5\",\"#B0BEC5\",\"#B0BEC5\",\"#B0BEC5\",\"#B0BEC5\",\"#B0BEC5\",\"#B0BEC5\",\"#B0BEC5\",\"#B0BEC5\",\"#B0BEC5\",\"#B0BEC5\",\"#B0BEC5\",\"#B0BEC5\",\"#B0BEC5\",\"#B0BEC5\",\"#B0BEC5\",\"#B0BEC5\",\"#B0BEC5\",\"#B0BEC5\"]]}],\"label\":\"Topic 19\",\"method\":\"update\"},{\"args\":[{\"marker.color\":[[\"#B0BEC5\",\"#B0BEC5\",\"#B0BEC5\",\"#B0BEC5\",\"#B0BEC5\",\"#B0BEC5\",\"#B0BEC5\",\"#B0BEC5\",\"#B0BEC5\",\"#B0BEC5\",\"#B0BEC5\",\"#B0BEC5\",\"#B0BEC5\",\"#B0BEC5\",\"#B0BEC5\",\"#B0BEC5\",\"#B0BEC5\",\"#B0BEC5\",\"#B0BEC5\",\"red\",\"#B0BEC5\",\"#B0BEC5\",\"#B0BEC5\",\"#B0BEC5\",\"#B0BEC5\",\"#B0BEC5\",\"#B0BEC5\",\"#B0BEC5\",\"#B0BEC5\",\"#B0BEC5\",\"#B0BEC5\",\"#B0BEC5\",\"#B0BEC5\",\"#B0BEC5\",\"#B0BEC5\",\"#B0BEC5\",\"#B0BEC5\",\"#B0BEC5\",\"#B0BEC5\",\"#B0BEC5\",\"#B0BEC5\"]]}],\"label\":\"Topic 20\",\"method\":\"update\"},{\"args\":[{\"marker.color\":[[\"#B0BEC5\",\"#B0BEC5\",\"#B0BEC5\",\"#B0BEC5\",\"#B0BEC5\",\"#B0BEC5\",\"#B0BEC5\",\"#B0BEC5\",\"#B0BEC5\",\"#B0BEC5\",\"#B0BEC5\",\"#B0BEC5\",\"#B0BEC5\",\"#B0BEC5\",\"#B0BEC5\",\"#B0BEC5\",\"#B0BEC5\",\"#B0BEC5\",\"#B0BEC5\",\"#B0BEC5\",\"red\",\"#B0BEC5\",\"#B0BEC5\",\"#B0BEC5\",\"#B0BEC5\",\"#B0BEC5\",\"#B0BEC5\",\"#B0BEC5\",\"#B0BEC5\",\"#B0BEC5\",\"#B0BEC5\",\"#B0BEC5\",\"#B0BEC5\",\"#B0BEC5\",\"#B0BEC5\",\"#B0BEC5\",\"#B0BEC5\",\"#B0BEC5\",\"#B0BEC5\",\"#B0BEC5\",\"#B0BEC5\"]]}],\"label\":\"Topic 21\",\"method\":\"update\"},{\"args\":[{\"marker.color\":[[\"#B0BEC5\",\"#B0BEC5\",\"#B0BEC5\",\"#B0BEC5\",\"#B0BEC5\",\"#B0BEC5\",\"#B0BEC5\",\"#B0BEC5\",\"#B0BEC5\",\"#B0BEC5\",\"#B0BEC5\",\"#B0BEC5\",\"#B0BEC5\",\"#B0BEC5\",\"#B0BEC5\",\"#B0BEC5\",\"#B0BEC5\",\"#B0BEC5\",\"#B0BEC5\",\"#B0BEC5\",\"#B0BEC5\",\"red\",\"#B0BEC5\",\"#B0BEC5\",\"#B0BEC5\",\"#B0BEC5\",\"#B0BEC5\",\"#B0BEC5\",\"#B0BEC5\",\"#B0BEC5\",\"#B0BEC5\",\"#B0BEC5\",\"#B0BEC5\",\"#B0BEC5\",\"#B0BEC5\",\"#B0BEC5\",\"#B0BEC5\",\"#B0BEC5\",\"#B0BEC5\",\"#B0BEC5\",\"#B0BEC5\"]]}],\"label\":\"Topic 22\",\"method\":\"update\"},{\"args\":[{\"marker.color\":[[\"#B0BEC5\",\"#B0BEC5\",\"#B0BEC5\",\"#B0BEC5\",\"#B0BEC5\",\"#B0BEC5\",\"#B0BEC5\",\"#B0BEC5\",\"#B0BEC5\",\"#B0BEC5\",\"#B0BEC5\",\"#B0BEC5\",\"#B0BEC5\",\"#B0BEC5\",\"#B0BEC5\",\"#B0BEC5\",\"#B0BEC5\",\"#B0BEC5\",\"#B0BEC5\",\"#B0BEC5\",\"#B0BEC5\",\"#B0BEC5\",\"red\",\"#B0BEC5\",\"#B0BEC5\",\"#B0BEC5\",\"#B0BEC5\",\"#B0BEC5\",\"#B0BEC5\",\"#B0BEC5\",\"#B0BEC5\",\"#B0BEC5\",\"#B0BEC5\",\"#B0BEC5\",\"#B0BEC5\",\"#B0BEC5\",\"#B0BEC5\",\"#B0BEC5\",\"#B0BEC5\",\"#B0BEC5\",\"#B0BEC5\"]]}],\"label\":\"Topic 23\",\"method\":\"update\"},{\"args\":[{\"marker.color\":[[\"#B0BEC5\",\"#B0BEC5\",\"#B0BEC5\",\"#B0BEC5\",\"#B0BEC5\",\"#B0BEC5\",\"#B0BEC5\",\"#B0BEC5\",\"#B0BEC5\",\"#B0BEC5\",\"#B0BEC5\",\"#B0BEC5\",\"#B0BEC5\",\"#B0BEC5\",\"#B0BEC5\",\"#B0BEC5\",\"#B0BEC5\",\"#B0BEC5\",\"#B0BEC5\",\"#B0BEC5\",\"#B0BEC5\",\"#B0BEC5\",\"#B0BEC5\",\"red\",\"#B0BEC5\",\"#B0BEC5\",\"#B0BEC5\",\"#B0BEC5\",\"#B0BEC5\",\"#B0BEC5\",\"#B0BEC5\",\"#B0BEC5\",\"#B0BEC5\",\"#B0BEC5\",\"#B0BEC5\",\"#B0BEC5\",\"#B0BEC5\",\"#B0BEC5\",\"#B0BEC5\",\"#B0BEC5\",\"#B0BEC5\"]]}],\"label\":\"Topic 24\",\"method\":\"update\"},{\"args\":[{\"marker.color\":[[\"#B0BEC5\",\"#B0BEC5\",\"#B0BEC5\",\"#B0BEC5\",\"#B0BEC5\",\"#B0BEC5\",\"#B0BEC5\",\"#B0BEC5\",\"#B0BEC5\",\"#B0BEC5\",\"#B0BEC5\",\"#B0BEC5\",\"#B0BEC5\",\"#B0BEC5\",\"#B0BEC5\",\"#B0BEC5\",\"#B0BEC5\",\"#B0BEC5\",\"#B0BEC5\",\"#B0BEC5\",\"#B0BEC5\",\"#B0BEC5\",\"#B0BEC5\",\"#B0BEC5\",\"red\",\"#B0BEC5\",\"#B0BEC5\",\"#B0BEC5\",\"#B0BEC5\",\"#B0BEC5\",\"#B0BEC5\",\"#B0BEC5\",\"#B0BEC5\",\"#B0BEC5\",\"#B0BEC5\",\"#B0BEC5\",\"#B0BEC5\",\"#B0BEC5\",\"#B0BEC5\",\"#B0BEC5\",\"#B0BEC5\"]]}],\"label\":\"Topic 25\",\"method\":\"update\"},{\"args\":[{\"marker.color\":[[\"#B0BEC5\",\"#B0BEC5\",\"#B0BEC5\",\"#B0BEC5\",\"#B0BEC5\",\"#B0BEC5\",\"#B0BEC5\",\"#B0BEC5\",\"#B0BEC5\",\"#B0BEC5\",\"#B0BEC5\",\"#B0BEC5\",\"#B0BEC5\",\"#B0BEC5\",\"#B0BEC5\",\"#B0BEC5\",\"#B0BEC5\",\"#B0BEC5\",\"#B0BEC5\",\"#B0BEC5\",\"#B0BEC5\",\"#B0BEC5\",\"#B0BEC5\",\"#B0BEC5\",\"#B0BEC5\",\"red\",\"#B0BEC5\",\"#B0BEC5\",\"#B0BEC5\",\"#B0BEC5\",\"#B0BEC5\",\"#B0BEC5\",\"#B0BEC5\",\"#B0BEC5\",\"#B0BEC5\",\"#B0BEC5\",\"#B0BEC5\",\"#B0BEC5\",\"#B0BEC5\",\"#B0BEC5\",\"#B0BEC5\"]]}],\"label\":\"Topic 26\",\"method\":\"update\"},{\"args\":[{\"marker.color\":[[\"#B0BEC5\",\"#B0BEC5\",\"#B0BEC5\",\"#B0BEC5\",\"#B0BEC5\",\"#B0BEC5\",\"#B0BEC5\",\"#B0BEC5\",\"#B0BEC5\",\"#B0BEC5\",\"#B0BEC5\",\"#B0BEC5\",\"#B0BEC5\",\"#B0BEC5\",\"#B0BEC5\",\"#B0BEC5\",\"#B0BEC5\",\"#B0BEC5\",\"#B0BEC5\",\"#B0BEC5\",\"#B0BEC5\",\"#B0BEC5\",\"#B0BEC5\",\"#B0BEC5\",\"#B0BEC5\",\"#B0BEC5\",\"red\",\"#B0BEC5\",\"#B0BEC5\",\"#B0BEC5\",\"#B0BEC5\",\"#B0BEC5\",\"#B0BEC5\",\"#B0BEC5\",\"#B0BEC5\",\"#B0BEC5\",\"#B0BEC5\",\"#B0BEC5\",\"#B0BEC5\",\"#B0BEC5\",\"#B0BEC5\"]]}],\"label\":\"Topic 27\",\"method\":\"update\"},{\"args\":[{\"marker.color\":[[\"#B0BEC5\",\"#B0BEC5\",\"#B0BEC5\",\"#B0BEC5\",\"#B0BEC5\",\"#B0BEC5\",\"#B0BEC5\",\"#B0BEC5\",\"#B0BEC5\",\"#B0BEC5\",\"#B0BEC5\",\"#B0BEC5\",\"#B0BEC5\",\"#B0BEC5\",\"#B0BEC5\",\"#B0BEC5\",\"#B0BEC5\",\"#B0BEC5\",\"#B0BEC5\",\"#B0BEC5\",\"#B0BEC5\",\"#B0BEC5\",\"#B0BEC5\",\"#B0BEC5\",\"#B0BEC5\",\"#B0BEC5\",\"#B0BEC5\",\"red\",\"#B0BEC5\",\"#B0BEC5\",\"#B0BEC5\",\"#B0BEC5\",\"#B0BEC5\",\"#B0BEC5\",\"#B0BEC5\",\"#B0BEC5\",\"#B0BEC5\",\"#B0BEC5\",\"#B0BEC5\",\"#B0BEC5\",\"#B0BEC5\"]]}],\"label\":\"Topic 28\",\"method\":\"update\"},{\"args\":[{\"marker.color\":[[\"#B0BEC5\",\"#B0BEC5\",\"#B0BEC5\",\"#B0BEC5\",\"#B0BEC5\",\"#B0BEC5\",\"#B0BEC5\",\"#B0BEC5\",\"#B0BEC5\",\"#B0BEC5\",\"#B0BEC5\",\"#B0BEC5\",\"#B0BEC5\",\"#B0BEC5\",\"#B0BEC5\",\"#B0BEC5\",\"#B0BEC5\",\"#B0BEC5\",\"#B0BEC5\",\"#B0BEC5\",\"#B0BEC5\",\"#B0BEC5\",\"#B0BEC5\",\"#B0BEC5\",\"#B0BEC5\",\"#B0BEC5\",\"#B0BEC5\",\"#B0BEC5\",\"red\",\"#B0BEC5\",\"#B0BEC5\",\"#B0BEC5\",\"#B0BEC5\",\"#B0BEC5\",\"#B0BEC5\",\"#B0BEC5\",\"#B0BEC5\",\"#B0BEC5\",\"#B0BEC5\",\"#B0BEC5\",\"#B0BEC5\"]]}],\"label\":\"Topic 29\",\"method\":\"update\"},{\"args\":[{\"marker.color\":[[\"#B0BEC5\",\"#B0BEC5\",\"#B0BEC5\",\"#B0BEC5\",\"#B0BEC5\",\"#B0BEC5\",\"#B0BEC5\",\"#B0BEC5\",\"#B0BEC5\",\"#B0BEC5\",\"#B0BEC5\",\"#B0BEC5\",\"#B0BEC5\",\"#B0BEC5\",\"#B0BEC5\",\"#B0BEC5\",\"#B0BEC5\",\"#B0BEC5\",\"#B0BEC5\",\"#B0BEC5\",\"#B0BEC5\",\"#B0BEC5\",\"#B0BEC5\",\"#B0BEC5\",\"#B0BEC5\",\"#B0BEC5\",\"#B0BEC5\",\"#B0BEC5\",\"#B0BEC5\",\"red\",\"#B0BEC5\",\"#B0BEC5\",\"#B0BEC5\",\"#B0BEC5\",\"#B0BEC5\",\"#B0BEC5\",\"#B0BEC5\",\"#B0BEC5\",\"#B0BEC5\",\"#B0BEC5\",\"#B0BEC5\"]]}],\"label\":\"Topic 30\",\"method\":\"update\"},{\"args\":[{\"marker.color\":[[\"#B0BEC5\",\"#B0BEC5\",\"#B0BEC5\",\"#B0BEC5\",\"#B0BEC5\",\"#B0BEC5\",\"#B0BEC5\",\"#B0BEC5\",\"#B0BEC5\",\"#B0BEC5\",\"#B0BEC5\",\"#B0BEC5\",\"#B0BEC5\",\"#B0BEC5\",\"#B0BEC5\",\"#B0BEC5\",\"#B0BEC5\",\"#B0BEC5\",\"#B0BEC5\",\"#B0BEC5\",\"#B0BEC5\",\"#B0BEC5\",\"#B0BEC5\",\"#B0BEC5\",\"#B0BEC5\",\"#B0BEC5\",\"#B0BEC5\",\"#B0BEC5\",\"#B0BEC5\",\"#B0BEC5\",\"red\",\"#B0BEC5\",\"#B0BEC5\",\"#B0BEC5\",\"#B0BEC5\",\"#B0BEC5\",\"#B0BEC5\",\"#B0BEC5\",\"#B0BEC5\",\"#B0BEC5\",\"#B0BEC5\"]]}],\"label\":\"Topic 31\",\"method\":\"update\"},{\"args\":[{\"marker.color\":[[\"#B0BEC5\",\"#B0BEC5\",\"#B0BEC5\",\"#B0BEC5\",\"#B0BEC5\",\"#B0BEC5\",\"#B0BEC5\",\"#B0BEC5\",\"#B0BEC5\",\"#B0BEC5\",\"#B0BEC5\",\"#B0BEC5\",\"#B0BEC5\",\"#B0BEC5\",\"#B0BEC5\",\"#B0BEC5\",\"#B0BEC5\",\"#B0BEC5\",\"#B0BEC5\",\"#B0BEC5\",\"#B0BEC5\",\"#B0BEC5\",\"#B0BEC5\",\"#B0BEC5\",\"#B0BEC5\",\"#B0BEC5\",\"#B0BEC5\",\"#B0BEC5\",\"#B0BEC5\",\"#B0BEC5\",\"#B0BEC5\",\"red\",\"#B0BEC5\",\"#B0BEC5\",\"#B0BEC5\",\"#B0BEC5\",\"#B0BEC5\",\"#B0BEC5\",\"#B0BEC5\",\"#B0BEC5\",\"#B0BEC5\"]]}],\"label\":\"Topic 32\",\"method\":\"update\"},{\"args\":[{\"marker.color\":[[\"#B0BEC5\",\"#B0BEC5\",\"#B0BEC5\",\"#B0BEC5\",\"#B0BEC5\",\"#B0BEC5\",\"#B0BEC5\",\"#B0BEC5\",\"#B0BEC5\",\"#B0BEC5\",\"#B0BEC5\",\"#B0BEC5\",\"#B0BEC5\",\"#B0BEC5\",\"#B0BEC5\",\"#B0BEC5\",\"#B0BEC5\",\"#B0BEC5\",\"#B0BEC5\",\"#B0BEC5\",\"#B0BEC5\",\"#B0BEC5\",\"#B0BEC5\",\"#B0BEC5\",\"#B0BEC5\",\"#B0BEC5\",\"#B0BEC5\",\"#B0BEC5\",\"#B0BEC5\",\"#B0BEC5\",\"#B0BEC5\",\"#B0BEC5\",\"red\",\"#B0BEC5\",\"#B0BEC5\",\"#B0BEC5\",\"#B0BEC5\",\"#B0BEC5\",\"#B0BEC5\",\"#B0BEC5\",\"#B0BEC5\"]]}],\"label\":\"Topic 33\",\"method\":\"update\"},{\"args\":[{\"marker.color\":[[\"#B0BEC5\",\"#B0BEC5\",\"#B0BEC5\",\"#B0BEC5\",\"#B0BEC5\",\"#B0BEC5\",\"#B0BEC5\",\"#B0BEC5\",\"#B0BEC5\",\"#B0BEC5\",\"#B0BEC5\",\"#B0BEC5\",\"#B0BEC5\",\"#B0BEC5\",\"#B0BEC5\",\"#B0BEC5\",\"#B0BEC5\",\"#B0BEC5\",\"#B0BEC5\",\"#B0BEC5\",\"#B0BEC5\",\"#B0BEC5\",\"#B0BEC5\",\"#B0BEC5\",\"#B0BEC5\",\"#B0BEC5\",\"#B0BEC5\",\"#B0BEC5\",\"#B0BEC5\",\"#B0BEC5\",\"#B0BEC5\",\"#B0BEC5\",\"#B0BEC5\",\"red\",\"#B0BEC5\",\"#B0BEC5\",\"#B0BEC5\",\"#B0BEC5\",\"#B0BEC5\",\"#B0BEC5\",\"#B0BEC5\"]]}],\"label\":\"Topic 34\",\"method\":\"update\"},{\"args\":[{\"marker.color\":[[\"#B0BEC5\",\"#B0BEC5\",\"#B0BEC5\",\"#B0BEC5\",\"#B0BEC5\",\"#B0BEC5\",\"#B0BEC5\",\"#B0BEC5\",\"#B0BEC5\",\"#B0BEC5\",\"#B0BEC5\",\"#B0BEC5\",\"#B0BEC5\",\"#B0BEC5\",\"#B0BEC5\",\"#B0BEC5\",\"#B0BEC5\",\"#B0BEC5\",\"#B0BEC5\",\"#B0BEC5\",\"#B0BEC5\",\"#B0BEC5\",\"#B0BEC5\",\"#B0BEC5\",\"#B0BEC5\",\"#B0BEC5\",\"#B0BEC5\",\"#B0BEC5\",\"#B0BEC5\",\"#B0BEC5\",\"#B0BEC5\",\"#B0BEC5\",\"#B0BEC5\",\"#B0BEC5\",\"red\",\"#B0BEC5\",\"#B0BEC5\",\"#B0BEC5\",\"#B0BEC5\",\"#B0BEC5\",\"#B0BEC5\"]]}],\"label\":\"Topic 35\",\"method\":\"update\"},{\"args\":[{\"marker.color\":[[\"#B0BEC5\",\"#B0BEC5\",\"#B0BEC5\",\"#B0BEC5\",\"#B0BEC5\",\"#B0BEC5\",\"#B0BEC5\",\"#B0BEC5\",\"#B0BEC5\",\"#B0BEC5\",\"#B0BEC5\",\"#B0BEC5\",\"#B0BEC5\",\"#B0BEC5\",\"#B0BEC5\",\"#B0BEC5\",\"#B0BEC5\",\"#B0BEC5\",\"#B0BEC5\",\"#B0BEC5\",\"#B0BEC5\",\"#B0BEC5\",\"#B0BEC5\",\"#B0BEC5\",\"#B0BEC5\",\"#B0BEC5\",\"#B0BEC5\",\"#B0BEC5\",\"#B0BEC5\",\"#B0BEC5\",\"#B0BEC5\",\"#B0BEC5\",\"#B0BEC5\",\"#B0BEC5\",\"#B0BEC5\",\"red\",\"#B0BEC5\",\"#B0BEC5\",\"#B0BEC5\",\"#B0BEC5\",\"#B0BEC5\"]]}],\"label\":\"Topic 36\",\"method\":\"update\"},{\"args\":[{\"marker.color\":[[\"#B0BEC5\",\"#B0BEC5\",\"#B0BEC5\",\"#B0BEC5\",\"#B0BEC5\",\"#B0BEC5\",\"#B0BEC5\",\"#B0BEC5\",\"#B0BEC5\",\"#B0BEC5\",\"#B0BEC5\",\"#B0BEC5\",\"#B0BEC5\",\"#B0BEC5\",\"#B0BEC5\",\"#B0BEC5\",\"#B0BEC5\",\"#B0BEC5\",\"#B0BEC5\",\"#B0BEC5\",\"#B0BEC5\",\"#B0BEC5\",\"#B0BEC5\",\"#B0BEC5\",\"#B0BEC5\",\"#B0BEC5\",\"#B0BEC5\",\"#B0BEC5\",\"#B0BEC5\",\"#B0BEC5\",\"#B0BEC5\",\"#B0BEC5\",\"#B0BEC5\",\"#B0BEC5\",\"#B0BEC5\",\"#B0BEC5\",\"red\",\"#B0BEC5\",\"#B0BEC5\",\"#B0BEC5\",\"#B0BEC5\"]]}],\"label\":\"Topic 37\",\"method\":\"update\"},{\"args\":[{\"marker.color\":[[\"#B0BEC5\",\"#B0BEC5\",\"#B0BEC5\",\"#B0BEC5\",\"#B0BEC5\",\"#B0BEC5\",\"#B0BEC5\",\"#B0BEC5\",\"#B0BEC5\",\"#B0BEC5\",\"#B0BEC5\",\"#B0BEC5\",\"#B0BEC5\",\"#B0BEC5\",\"#B0BEC5\",\"#B0BEC5\",\"#B0BEC5\",\"#B0BEC5\",\"#B0BEC5\",\"#B0BEC5\",\"#B0BEC5\",\"#B0BEC5\",\"#B0BEC5\",\"#B0BEC5\",\"#B0BEC5\",\"#B0BEC5\",\"#B0BEC5\",\"#B0BEC5\",\"#B0BEC5\",\"#B0BEC5\",\"#B0BEC5\",\"#B0BEC5\",\"#B0BEC5\",\"#B0BEC5\",\"#B0BEC5\",\"#B0BEC5\",\"#B0BEC5\",\"red\",\"#B0BEC5\",\"#B0BEC5\",\"#B0BEC5\"]]}],\"label\":\"Topic 38\",\"method\":\"update\"},{\"args\":[{\"marker.color\":[[\"#B0BEC5\",\"#B0BEC5\",\"#B0BEC5\",\"#B0BEC5\",\"#B0BEC5\",\"#B0BEC5\",\"#B0BEC5\",\"#B0BEC5\",\"#B0BEC5\",\"#B0BEC5\",\"#B0BEC5\",\"#B0BEC5\",\"#B0BEC5\",\"#B0BEC5\",\"#B0BEC5\",\"#B0BEC5\",\"#B0BEC5\",\"#B0BEC5\",\"#B0BEC5\",\"#B0BEC5\",\"#B0BEC5\",\"#B0BEC5\",\"#B0BEC5\",\"#B0BEC5\",\"#B0BEC5\",\"#B0BEC5\",\"#B0BEC5\",\"#B0BEC5\",\"#B0BEC5\",\"#B0BEC5\",\"#B0BEC5\",\"#B0BEC5\",\"#B0BEC5\",\"#B0BEC5\",\"#B0BEC5\",\"#B0BEC5\",\"#B0BEC5\",\"#B0BEC5\",\"red\",\"#B0BEC5\",\"#B0BEC5\"]]}],\"label\":\"Topic 39\",\"method\":\"update\"},{\"args\":[{\"marker.color\":[[\"#B0BEC5\",\"#B0BEC5\",\"#B0BEC5\",\"#B0BEC5\",\"#B0BEC5\",\"#B0BEC5\",\"#B0BEC5\",\"#B0BEC5\",\"#B0BEC5\",\"#B0BEC5\",\"#B0BEC5\",\"#B0BEC5\",\"#B0BEC5\",\"#B0BEC5\",\"#B0BEC5\",\"#B0BEC5\",\"#B0BEC5\",\"#B0BEC5\",\"#B0BEC5\",\"#B0BEC5\",\"#B0BEC5\",\"#B0BEC5\",\"#B0BEC5\",\"#B0BEC5\",\"#B0BEC5\",\"#B0BEC5\",\"#B0BEC5\",\"#B0BEC5\",\"#B0BEC5\",\"#B0BEC5\",\"#B0BEC5\",\"#B0BEC5\",\"#B0BEC5\",\"#B0BEC5\",\"#B0BEC5\",\"#B0BEC5\",\"#B0BEC5\",\"#B0BEC5\",\"#B0BEC5\",\"red\",\"#B0BEC5\"]]}],\"label\":\"Topic 40\",\"method\":\"update\"},{\"args\":[{\"marker.color\":[[\"#B0BEC5\",\"#B0BEC5\",\"#B0BEC5\",\"#B0BEC5\",\"#B0BEC5\",\"#B0BEC5\",\"#B0BEC5\",\"#B0BEC5\",\"#B0BEC5\",\"#B0BEC5\",\"#B0BEC5\",\"#B0BEC5\",\"#B0BEC5\",\"#B0BEC5\",\"#B0BEC5\",\"#B0BEC5\",\"#B0BEC5\",\"#B0BEC5\",\"#B0BEC5\",\"#B0BEC5\",\"#B0BEC5\",\"#B0BEC5\",\"#B0BEC5\",\"#B0BEC5\",\"#B0BEC5\",\"#B0BEC5\",\"#B0BEC5\",\"#B0BEC5\",\"#B0BEC5\",\"#B0BEC5\",\"#B0BEC5\",\"#B0BEC5\",\"#B0BEC5\",\"#B0BEC5\",\"#B0BEC5\",\"#B0BEC5\",\"#B0BEC5\",\"#B0BEC5\",\"#B0BEC5\",\"#B0BEC5\",\"red\"]]}],\"label\":\"Topic 41\",\"method\":\"update\"}]}],\"shapes\":[{\"line\":{\"color\":\"#CFD8DC\",\"width\":2},\"type\":\"line\",\"x0\":2.293876981735229,\"x1\":2.293876981735229,\"y0\":-6.210474991798401,\"y1\":20.052517414093018},{\"line\":{\"color\":\"#9E9E9E\",\"width\":2},\"type\":\"line\",\"x0\":-20.65614194869995,\"x1\":25.24389591217041,\"y0\":6.921021211147308,\"y1\":6.921021211147308}],\"annotations\":[{\"showarrow\":false,\"text\":\"D1\",\"x\":-20.65614194869995,\"y\":6.921021211147308,\"yshift\":10},{\"showarrow\":false,\"text\":\"D2\",\"x\":2.293876981735229,\"xshift\":10,\"y\":20.052517414093018}]},                        {\"responsive\": true}                    ).then(function(){\n                            \nvar gd = document.getElementById('48a9d5c2-8319-444a-981d-f337d5a727ce');\nvar x = new MutationObserver(function (mutations, observer) {{\n        var display = window.getComputedStyle(gd).display;\n        if (!display || display === 'none') {{\n            console.log([gd, 'removed!']);\n            Plotly.purge(gd);\n            observer.disconnect();\n        }}\n}});\n\n// Listen for the removal of the full notebook cells\nvar notebookContainer = gd.closest('#notebook-container');\nif (notebookContainer) {{\n    x.observe(notebookContainer, {childList: true});\n}}\n\n// Listen for the clearing of the current output cell\nvar outputEl = gd.closest('.output');\nif (outputEl) {{\n    x.observe(outputEl, {childList: true});\n}}\n\n                        })                };                });            </script>        </div>",
      "text/plain": "Figure({\n    'data': [{'customdata': array([[1, 'terms | conditions | change | changes | and', 117],\n                                   [2, 'unethical | is | data | it | this', 116],\n                                   [3, 'app | the | third | of | to', 95],\n                                   [4, 'rights | unethical | waive | discretion | sole', 91],\n                                   [5, 'consent | withdraw | still | even | withdrawn', 63],\n                                   [6, 'account | terminated | reason | terminate | an', 60],\n                                   [7, 'policy | privacy | changes | the | should', 51],\n                                   [8, 'opt | out | optout | option | you', 51],\n                                   [9, 'track | tracked | signals | tracking | do', 46],\n                                   [10, 'communications | opt | out | promotional | advertising', 45],\n                                   [11, 'policy | changes | time | the | change', 39],\n                                   [12, 'countries | country | laws | in | eu', 36],\n                                   [13, 'playrix | website | discretion | conduct | virtual', 34],\n                                   [14, 'game | profile | play | players | should', 33],\n                                   [15, 'termination | terminate | prior | notice | company', 32],\n                                   [16, 'zynga | group | users | information | is', 32],\n                                   [17, 'game | free | resources | the | refund', 31],\n                                   [18, 'cookies | accept | cookie | not | it', 30],\n                                   [19, 'plarium | reason | any | that | currency', 30],\n                                   [20, 'delete | deleted | data | your | account', 29],\n                                   [21, 'changes | notify | notified | of | should', 25],\n                                   [22, 'microsoft | settings | windows | organizations | data', 23],\n                                   [23, 'roblox | robux | group | paying | right', 23],\n                                   [24, 'nexters | intraproject | values | enforce | value', 22],\n                                   [25, 'paragraph | because | unethical | is | this', 22],\n                                   [26, 'age | block | proof | under | suspect', 21],\n                                   [27, 'content | remove | there | be | at', 21],\n                                   [28, 'notice | given | should | be | notified', 21],\n                                   [29, 'terms | unethical | are | enforced | the', 20],\n                                   [30, 'terminate | unethical | account | accounts | suspend', 17],\n                                   [31, 'username | name | reclaim | remove | any', 17],\n                                   [32, 'consent | ask | asked | doing | before', 16],\n                                   [33, 'player | termination | before | players | notified', 16],\n                                   [34, 'accounts | same | name | multiple | suspend', 16],\n                                   [35, 'moon | active | sole | terms | share', 15],\n                                   [36, 'software | updates | upgrade | want | notify', 15],\n                                   [37, 'service | changes | terms | made | of', 15],\n                                   [38, 'keep | longer | long | exact | kept', 12],\n                                   [39, 'amendments | agreement | users | check | accepted', 11],\n                                   [40, 'service | discontinue | warning | revoked | stop', 11],\n                                   [41, 'deleted | fee | account | accounts | deleting', 11]], dtype=object),\n              'hovertemplate': ('<b>Topic %{customdata[0]}</b><' ... '[1]}<br>Size: %{customdata[2]}'),\n              'legendgroup': '',\n              'marker': {'color': '#B0BEC5',\n                         'line': {'color': 'DarkSlateGrey', 'width': 2},\n                         'size': array([117, 116,  95,  91,  63,  60,  51,  51,  46,  45,  39,  36,  34,  33,\n                                         32,  32,  31,  30,  30,  29,  25,  23,  23,  22,  22,  21,  21,  21,\n                                         20,  17,  17,  16,  16,  16,  15,  15,  15,  12,  11,  11,  11]),\n                         'sizemode': 'area',\n                         'sizeref': 0.073125,\n                         'symbol': 'circle'},\n              'mode': 'markers',\n              'name': '',\n              'orientation': 'v',\n              'showlegend': False,\n              'type': 'scatter',\n              'x': array([ -0.80446744, -17.069897  , -17.035913  ,  -0.9676876 ,  -3.4940329 ,\n                            8.963423  ,  -1.275231  , -11.528547  ,  -3.7238119 , -11.453448  ,\n                           -0.71718496, -17.961863  ,   1.0184448 , -17.683958  ,   8.947756  ,\n                          -16.881634  ,   0.50822973,  -3.7238274 ,   0.9522406 ,  -3.5593102 ,\n                           11.310526  , -17.739054  ,   0.06987321,   0.41259238,  21.951214  ,\n                            9.06642   ,  21.423822  ,  19.984161  ,   0.68900037,   9.135542  ,\n                           21.61045   ,  19.938322  ,   8.806628  ,  21.551067  ,   0.38019   ,\n                           -1.3933293 ,  10.979128  ,  21.802626  ,  11.06775   ,   9.205824  ,\n                           19.896204  ], dtype=float32),\n              'xaxis': 'x',\n              'y': array([-5.1840453,  7.519682 ,  7.3432403, -5.400413 , 10.639568 ,  5.655383 ,\n                          -4.8734164,  6.880807 ,  3.5215664,  6.8055787, -4.9346776,  7.4236107,\n                          -4.921881 ,  7.2402987,  6.163925 ,  7.5212545, -4.5643506,  3.5216124,\n                          -4.8071866, 10.707689 , 17.436972 ,  7.503669 , -4.5256386, -4.4571543,\n                          12.350715 ,  6.1825852, 11.497909 ,  9.672484 , -4.440812 ,  5.4674582,\n                          11.61399  ,  9.626986 ,  6.403341 , 11.609344 , -4.984295 , -4.8061166,\n                          17.122574 , 12.148381 , 17.238338 ,  5.3291926,  9.586766 ],\n                         dtype=float32),\n              'yaxis': 'y'}],\n    'layout': {'annotations': [{'showarrow': False,\n                                'text': 'D1',\n                                'x': -20.65614194869995,\n                                'y': 6.921021211147308,\n                                'yshift': 10},\n                               {'showarrow': False,\n                                'text': 'D2',\n                                'x': 2.293876981735229,\n                                'xshift': 10,\n                                'y': 20.052517414093018}],\n               'height': 650,\n               'hoverlabel': {'bgcolor': 'white', 'font': {'family': 'Rockwell', 'size': 16}},\n               'legend': {'itemsizing': 'constant', 'tracegroupgap': 0},\n               'margin': {'t': 60},\n               'shapes': [{'line': {'color': '#CFD8DC', 'width': 2},\n                           'type': 'line',\n                           'x0': 2.293876981735229,\n                           'x1': 2.293876981735229,\n                           'y0': -6.210474991798401,\n                           'y1': 20.052517414093018},\n                          {'line': {'color': '#9E9E9E', 'width': 2},\n                           'type': 'line',\n                           'x0': -20.65614194869995,\n                           'x1': 25.24389591217041,\n                           'y0': 6.921021211147308,\n                           'y1': 6.921021211147308}],\n               'sliders': [{'active': 0,\n                            'pad': {'t': 50},\n                            'steps': [{'args': [{'marker.color': [['red',\n                                                                  '#B0BEC5',\n                                                                  '#B0BEC5',\n                                                                  '#B0BEC5',\n                                                                  '#B0BEC5',\n                                                                  '#B0BEC5',\n                                                                  '#B0BEC5',\n                                                                  '#B0BEC5',\n                                                                  '#B0BEC5',\n                                                                  '#B0BEC5',\n                                                                  '#B0BEC5',\n                                                                  '#B0BEC5',\n                                                                  '#B0BEC5',\n                                                                  '#B0BEC5',\n                                                                  '#B0BEC5',\n                                                                  '#B0BEC5',\n                                                                  '#B0BEC5',\n                                                                  '#B0BEC5',\n                                                                  '#B0BEC5',\n                                                                  '#B0BEC5',\n                                                                  '#B0BEC5',\n                                                                  '#B0BEC5',\n                                                                  '#B0BEC5',\n                                                                  '#B0BEC5',\n                                                                  '#B0BEC5',\n                                                                  '#B0BEC5',\n                                                                  '#B0BEC5',\n                                                                  '#B0BEC5',\n                                                                  '#B0BEC5',\n                                                                  '#B0BEC5',\n                                                                  '#B0BEC5',\n                                                                  '#B0BEC5',\n                                                                  '#B0BEC5',\n                                                                  '#B0BEC5',\n                                                                  '#B0BEC5',\n                                                                  '#B0BEC5',\n                                                                  '#B0BEC5',\n                                                                  '#B0BEC5',\n                                                                  '#B0BEC5',\n                                                                  '#B0BEC5',\n                                                                  '#B0BEC5']]}],\n                                       'label': 'Topic 1',\n                                       'method': 'update'},\n                                      {'args': [{'marker.color': [['#B0BEC5',\n                                                                  'red', '#B0BEC5',\n                                                                  '#B0BEC5',\n                                                                  '#B0BEC5',\n                                                                  '#B0BEC5',\n                                                                  '#B0BEC5',\n                                                                  '#B0BEC5',\n                                                                  '#B0BEC5',\n                                                                  '#B0BEC5',\n                                                                  '#B0BEC5',\n                                                                  '#B0BEC5',\n                                                                  '#B0BEC5',\n                                                                  '#B0BEC5',\n                                                                  '#B0BEC5',\n                                                                  '#B0BEC5',\n                                                                  '#B0BEC5',\n                                                                  '#B0BEC5',\n                                                                  '#B0BEC5',\n                                                                  '#B0BEC5',\n                                                                  '#B0BEC5',\n                                                                  '#B0BEC5',\n                                                                  '#B0BEC5',\n                                                                  '#B0BEC5',\n                                                                  '#B0BEC5',\n                                                                  '#B0BEC5',\n                                                                  '#B0BEC5',\n                                                                  '#B0BEC5',\n                                                                  '#B0BEC5',\n                                                                  '#B0BEC5',\n                                                                  '#B0BEC5',\n                                                                  '#B0BEC5',\n                                                                  '#B0BEC5',\n                                                                  '#B0BEC5',\n                                                                  '#B0BEC5',\n                                                                  '#B0BEC5',\n                                                                  '#B0BEC5',\n                                                                  '#B0BEC5',\n                                                                  '#B0BEC5',\n                                                                  '#B0BEC5',\n                                                                  '#B0BEC5']]}],\n                                       'label': 'Topic 2',\n                                       'method': 'update'},\n                                      {'args': [{'marker.color': [['#B0BEC5',\n                                                                  '#B0BEC5', 'red',\n                                                                  '#B0BEC5',\n                                                                  '#B0BEC5',\n                                                                  '#B0BEC5',\n                                                                  '#B0BEC5',\n                                                                  '#B0BEC5',\n                                                                  '#B0BEC5',\n                                                                  '#B0BEC5',\n                                                                  '#B0BEC5',\n                                                                  '#B0BEC5',\n                                                                  '#B0BEC5',\n                                                                  '#B0BEC5',\n                                                                  '#B0BEC5',\n                                                                  '#B0BEC5',\n                                                                  '#B0BEC5',\n                                                                  '#B0BEC5',\n                                                                  '#B0BEC5',\n                                                                  '#B0BEC5',\n                                                                  '#B0BEC5',\n                                                                  '#B0BEC5',\n                                                                  '#B0BEC5',\n                                                                  '#B0BEC5',\n                                                                  '#B0BEC5',\n                                                                  '#B0BEC5',\n                                                                  '#B0BEC5',\n                                                                  '#B0BEC5',\n                                                                  '#B0BEC5',\n                                                                  '#B0BEC5',\n                                                                  '#B0BEC5',\n                                                                  '#B0BEC5',\n                                                                  '#B0BEC5',\n                                                                  '#B0BEC5',\n                                                                  '#B0BEC5',\n                                                                  '#B0BEC5',\n                                                                  '#B0BEC5',\n                                                                  '#B0BEC5',\n                                                                  '#B0BEC5',\n                                                                  '#B0BEC5',\n                                                                  '#B0BEC5']]}],\n                                       'label': 'Topic 3',\n                                       'method': 'update'},\n                                      {'args': [{'marker.color': [['#B0BEC5',\n                                                                  '#B0BEC5',\n                                                                  '#B0BEC5', 'red',\n                                                                  '#B0BEC5',\n                                                                  '#B0BEC5',\n                                                                  '#B0BEC5',\n                                                                  '#B0BEC5',\n                                                                  '#B0BEC5',\n                                                                  '#B0BEC5',\n                                                                  '#B0BEC5',\n                                                                  '#B0BEC5',\n                                                                  '#B0BEC5',\n                                                                  '#B0BEC5',\n                                                                  '#B0BEC5',\n                                                                  '#B0BEC5',\n                                                                  '#B0BEC5',\n                                                                  '#B0BEC5',\n                                                                  '#B0BEC5',\n                                                                  '#B0BEC5',\n                                                                  '#B0BEC5',\n                                                                  '#B0BEC5',\n                                                                  '#B0BEC5',\n                                                                  '#B0BEC5',\n                                                                  '#B0BEC5',\n                                                                  '#B0BEC5',\n                                                                  '#B0BEC5',\n                                                                  '#B0BEC5',\n                                                                  '#B0BEC5',\n                                                                  '#B0BEC5',\n                                                                  '#B0BEC5',\n                                                                  '#B0BEC5',\n                                                                  '#B0BEC5',\n                                                                  '#B0BEC5',\n                                                                  '#B0BEC5',\n                                                                  '#B0BEC5',\n                                                                  '#B0BEC5',\n                                                                  '#B0BEC5',\n                                                                  '#B0BEC5',\n                                                                  '#B0BEC5',\n                                                                  '#B0BEC5']]}],\n                                       'label': 'Topic 4',\n                                       'method': 'update'},\n                                      {'args': [{'marker.color': [['#B0BEC5',\n                                                                  '#B0BEC5',\n                                                                  '#B0BEC5',\n                                                                  '#B0BEC5', 'red',\n                                                                  '#B0BEC5',\n                                                                  '#B0BEC5',\n                                                                  '#B0BEC5',\n                                                                  '#B0BEC5',\n                                                                  '#B0BEC5',\n                                                                  '#B0BEC5',\n                                                                  '#B0BEC5',\n                                                                  '#B0BEC5',\n                                                                  '#B0BEC5',\n                                                                  '#B0BEC5',\n                                                                  '#B0BEC5',\n                                                                  '#B0BEC5',\n                                                                  '#B0BEC5',\n                                                                  '#B0BEC5',\n                                                                  '#B0BEC5',\n                                                                  '#B0BEC5',\n                                                                  '#B0BEC5',\n                                                                  '#B0BEC5',\n                                                                  '#B0BEC5',\n                                                                  '#B0BEC5',\n                                                                  '#B0BEC5',\n                                                                  '#B0BEC5',\n                                                                  '#B0BEC5',\n                                                                  '#B0BEC5',\n                                                                  '#B0BEC5',\n                                                                  '#B0BEC5',\n                                                                  '#B0BEC5',\n                                                                  '#B0BEC5',\n                                                                  '#B0BEC5',\n                                                                  '#B0BEC5',\n                                                                  '#B0BEC5',\n                                                                  '#B0BEC5',\n                                                                  '#B0BEC5',\n                                                                  '#B0BEC5',\n                                                                  '#B0BEC5',\n                                                                  '#B0BEC5']]}],\n                                       'label': 'Topic 5',\n                                       'method': 'update'},\n                                      {'args': [{'marker.color': [['#B0BEC5',\n                                                                  '#B0BEC5',\n                                                                  '#B0BEC5',\n                                                                  '#B0BEC5',\n                                                                  '#B0BEC5', 'red',\n                                                                  '#B0BEC5',\n                                                                  '#B0BEC5',\n                                                                  '#B0BEC5',\n                                                                  '#B0BEC5',\n                                                                  '#B0BEC5',\n                                                                  '#B0BEC5',\n                                                                  '#B0BEC5',\n                                                                  '#B0BEC5',\n                                                                  '#B0BEC5',\n                                                                  '#B0BEC5',\n                                                                  '#B0BEC5',\n                                                                  '#B0BEC5',\n                                                                  '#B0BEC5',\n                                                                  '#B0BEC5',\n                                                                  '#B0BEC5',\n                                                                  '#B0BEC5',\n                                                                  '#B0BEC5',\n                                                                  '#B0BEC5',\n                                                                  '#B0BEC5',\n                                                                  '#B0BEC5',\n                                                                  '#B0BEC5',\n                                                                  '#B0BEC5',\n                                                                  '#B0BEC5',\n                                                                  '#B0BEC5',\n                                                                  '#B0BEC5',\n                                                                  '#B0BEC5',\n                                                                  '#B0BEC5',\n                                                                  '#B0BEC5',\n                                                                  '#B0BEC5',\n                                                                  '#B0BEC5',\n                                                                  '#B0BEC5',\n                                                                  '#B0BEC5',\n                                                                  '#B0BEC5',\n                                                                  '#B0BEC5',\n                                                                  '#B0BEC5']]}],\n                                       'label': 'Topic 6',\n                                       'method': 'update'},\n                                      {'args': [{'marker.color': [['#B0BEC5',\n                                                                  '#B0BEC5',\n                                                                  '#B0BEC5',\n                                                                  '#B0BEC5',\n                                                                  '#B0BEC5',\n                                                                  '#B0BEC5', 'red',\n                                                                  '#B0BEC5',\n                                                                  '#B0BEC5',\n                                                                  '#B0BEC5',\n                                                                  '#B0BEC5',\n                                                                  '#B0BEC5',\n                                                                  '#B0BEC5',\n                                                                  '#B0BEC5',\n                                                                  '#B0BEC5',\n                                                                  '#B0BEC5',\n                                                                  '#B0BEC5',\n                                                                  '#B0BEC5',\n                                                                  '#B0BEC5',\n                                                                  '#B0BEC5',\n                                                                  '#B0BEC5',\n                                                                  '#B0BEC5',\n                                                                  '#B0BEC5',\n                                                                  '#B0BEC5',\n                                                                  '#B0BEC5',\n                                                                  '#B0BEC5',\n                                                                  '#B0BEC5',\n                                                                  '#B0BEC5',\n                                                                  '#B0BEC5',\n                                                                  '#B0BEC5',\n                                                                  '#B0BEC5',\n                                                                  '#B0BEC5',\n                                                                  '#B0BEC5',\n                                                                  '#B0BEC5',\n                                                                  '#B0BEC5',\n                                                                  '#B0BEC5',\n                                                                  '#B0BEC5',\n                                                                  '#B0BEC5',\n                                                                  '#B0BEC5',\n                                                                  '#B0BEC5',\n                                                                  '#B0BEC5']]}],\n                                       'label': 'Topic 7',\n                                       'method': 'update'},\n                                      {'args': [{'marker.color': [['#B0BEC5',\n                                                                  '#B0BEC5',\n                                                                  '#B0BEC5',\n                                                                  '#B0BEC5',\n                                                                  '#B0BEC5',\n                                                                  '#B0BEC5',\n                                                                  '#B0BEC5', 'red',\n                                                                  '#B0BEC5',\n                                                                  '#B0BEC5',\n                                                                  '#B0BEC5',\n                                                                  '#B0BEC5',\n                                                                  '#B0BEC5',\n                                                                  '#B0BEC5',\n                                                                  '#B0BEC5',\n                                                                  '#B0BEC5',\n                                                                  '#B0BEC5',\n                                                                  '#B0BEC5',\n                                                                  '#B0BEC5',\n                                                                  '#B0BEC5',\n                                                                  '#B0BEC5',\n                                                                  '#B0BEC5',\n                                                                  '#B0BEC5',\n                                                                  '#B0BEC5',\n                                                                  '#B0BEC5',\n                                                                  '#B0BEC5',\n                                                                  '#B0BEC5',\n                                                                  '#B0BEC5',\n                                                                  '#B0BEC5',\n                                                                  '#B0BEC5',\n                                                                  '#B0BEC5',\n                                                                  '#B0BEC5',\n                                                                  '#B0BEC5',\n                                                                  '#B0BEC5',\n                                                                  '#B0BEC5',\n                                                                  '#B0BEC5',\n                                                                  '#B0BEC5',\n                                                                  '#B0BEC5',\n                                                                  '#B0BEC5',\n                                                                  '#B0BEC5',\n                                                                  '#B0BEC5']]}],\n                                       'label': 'Topic 8',\n                                       'method': 'update'},\n                                      {'args': [{'marker.color': [['#B0BEC5',\n                                                                  '#B0BEC5',\n                                                                  '#B0BEC5',\n                                                                  '#B0BEC5',\n                                                                  '#B0BEC5',\n                                                                  '#B0BEC5',\n                                                                  '#B0BEC5',\n                                                                  '#B0BEC5', 'red',\n                                                                  '#B0BEC5',\n                                                                  '#B0BEC5',\n                                                                  '#B0BEC5',\n                                                                  '#B0BEC5',\n                                                                  '#B0BEC5',\n                                                                  '#B0BEC5',\n                                                                  '#B0BEC5',\n                                                                  '#B0BEC5',\n                                                                  '#B0BEC5',\n                                                                  '#B0BEC5',\n                                                                  '#B0BEC5',\n                                                                  '#B0BEC5',\n                                                                  '#B0BEC5',\n                                                                  '#B0BEC5',\n                                                                  '#B0BEC5',\n                                                                  '#B0BEC5',\n                                                                  '#B0BEC5',\n                                                                  '#B0BEC5',\n                                                                  '#B0BEC5',\n                                                                  '#B0BEC5',\n                                                                  '#B0BEC5',\n                                                                  '#B0BEC5',\n                                                                  '#B0BEC5',\n                                                                  '#B0BEC5',\n                                                                  '#B0BEC5',\n                                                                  '#B0BEC5',\n                                                                  '#B0BEC5',\n                                                                  '#B0BEC5',\n                                                                  '#B0BEC5',\n                                                                  '#B0BEC5',\n                                                                  '#B0BEC5',\n                                                                  '#B0BEC5']]}],\n                                       'label': 'Topic 9',\n                                       'method': 'update'},\n                                      {'args': [{'marker.color': [['#B0BEC5',\n                                                                  '#B0BEC5',\n                                                                  '#B0BEC5',\n                                                                  '#B0BEC5',\n                                                                  '#B0BEC5',\n                                                                  '#B0BEC5',\n                                                                  '#B0BEC5',\n                                                                  '#B0BEC5',\n                                                                  '#B0BEC5', 'red',\n                                                                  '#B0BEC5',\n                                                                  '#B0BEC5',\n                                                                  '#B0BEC5',\n                                                                  '#B0BEC5',\n                                                                  '#B0BEC5',\n                                                                  '#B0BEC5',\n                                                                  '#B0BEC5',\n                                                                  '#B0BEC5',\n                                                                  '#B0BEC5',\n                                                                  '#B0BEC5',\n                                                                  '#B0BEC5',\n                                                                  '#B0BEC5',\n                                                                  '#B0BEC5',\n                                                                  '#B0BEC5',\n                                                                  '#B0BEC5',\n                                                                  '#B0BEC5',\n                                                                  '#B0BEC5',\n                                                                  '#B0BEC5',\n                                                                  '#B0BEC5',\n                                                                  '#B0BEC5',\n                                                                  '#B0BEC5',\n                                                                  '#B0BEC5',\n                                                                  '#B0BEC5',\n                                                                  '#B0BEC5',\n                                                                  '#B0BEC5',\n                                                                  '#B0BEC5',\n                                                                  '#B0BEC5',\n                                                                  '#B0BEC5',\n                                                                  '#B0BEC5',\n                                                                  '#B0BEC5',\n                                                                  '#B0BEC5']]}],\n                                       'label': 'Topic 10',\n                                       'method': 'update'},\n                                      {'args': [{'marker.color': [['#B0BEC5',\n                                                                  '#B0BEC5',\n                                                                  '#B0BEC5',\n                                                                  '#B0BEC5',\n                                                                  '#B0BEC5',\n                                                                  '#B0BEC5',\n                                                                  '#B0BEC5',\n                                                                  '#B0BEC5',\n                                                                  '#B0BEC5',\n                                                                  '#B0BEC5', 'red',\n                                                                  '#B0BEC5',\n                                                                  '#B0BEC5',\n                                                                  '#B0BEC5',\n                                                                  '#B0BEC5',\n                                                                  '#B0BEC5',\n                                                                  '#B0BEC5',\n                                                                  '#B0BEC5',\n                                                                  '#B0BEC5',\n                                                                  '#B0BEC5',\n                                                                  '#B0BEC5',\n                                                                  '#B0BEC5',\n                                                                  '#B0BEC5',\n                                                                  '#B0BEC5',\n                                                                  '#B0BEC5',\n                                                                  '#B0BEC5',\n                                                                  '#B0BEC5',\n                                                                  '#B0BEC5',\n                                                                  '#B0BEC5',\n                                                                  '#B0BEC5',\n                                                                  '#B0BEC5',\n                                                                  '#B0BEC5',\n                                                                  '#B0BEC5',\n                                                                  '#B0BEC5',\n                                                                  '#B0BEC5',\n                                                                  '#B0BEC5',\n                                                                  '#B0BEC5',\n                                                                  '#B0BEC5',\n                                                                  '#B0BEC5',\n                                                                  '#B0BEC5',\n                                                                  '#B0BEC5']]}],\n                                       'label': 'Topic 11',\n                                       'method': 'update'},\n                                      {'args': [{'marker.color': [['#B0BEC5',\n                                                                  '#B0BEC5',\n                                                                  '#B0BEC5',\n                                                                  '#B0BEC5',\n                                                                  '#B0BEC5',\n                                                                  '#B0BEC5',\n                                                                  '#B0BEC5',\n                                                                  '#B0BEC5',\n                                                                  '#B0BEC5',\n                                                                  '#B0BEC5',\n                                                                  '#B0BEC5', 'red',\n                                                                  '#B0BEC5',\n                                                                  '#B0BEC5',\n                                                                  '#B0BEC5',\n                                                                  '#B0BEC5',\n                                                                  '#B0BEC5',\n                                                                  '#B0BEC5',\n                                                                  '#B0BEC5',\n                                                                  '#B0BEC5',\n                                                                  '#B0BEC5',\n                                                                  '#B0BEC5',\n                                                                  '#B0BEC5',\n                                                                  '#B0BEC5',\n                                                                  '#B0BEC5',\n                                                                  '#B0BEC5',\n                                                                  '#B0BEC5',\n                                                                  '#B0BEC5',\n                                                                  '#B0BEC5',\n                                                                  '#B0BEC5',\n                                                                  '#B0BEC5',\n                                                                  '#B0BEC5',\n                                                                  '#B0BEC5',\n                                                                  '#B0BEC5',\n                                                                  '#B0BEC5',\n                                                                  '#B0BEC5',\n                                                                  '#B0BEC5',\n                                                                  '#B0BEC5',\n                                                                  '#B0BEC5',\n                                                                  '#B0BEC5',\n                                                                  '#B0BEC5']]}],\n                                       'label': 'Topic 12',\n                                       'method': 'update'},\n                                      {'args': [{'marker.color': [['#B0BEC5',\n                                                                  '#B0BEC5',\n                                                                  '#B0BEC5',\n                                                                  '#B0BEC5',\n                                                                  '#B0BEC5',\n                                                                  '#B0BEC5',\n                                                                  '#B0BEC5',\n                                                                  '#B0BEC5',\n                                                                  '#B0BEC5',\n                                                                  '#B0BEC5',\n                                                                  '#B0BEC5',\n                                                                  '#B0BEC5', 'red',\n                                                                  '#B0BEC5',\n                                                                  '#B0BEC5',\n                                                                  '#B0BEC5',\n                                                                  '#B0BEC5',\n                                                                  '#B0BEC5',\n                                                                  '#B0BEC5',\n                                                                  '#B0BEC5',\n                                                                  '#B0BEC5',\n                                                                  '#B0BEC5',\n                                                                  '#B0BEC5',\n                                                                  '#B0BEC5',\n                                                                  '#B0BEC5',\n                                                                  '#B0BEC5',\n                                                                  '#B0BEC5',\n                                                                  '#B0BEC5',\n                                                                  '#B0BEC5',\n                                                                  '#B0BEC5',\n                                                                  '#B0BEC5',\n                                                                  '#B0BEC5',\n                                                                  '#B0BEC5',\n                                                                  '#B0BEC5',\n                                                                  '#B0BEC5',\n                                                                  '#B0BEC5',\n                                                                  '#B0BEC5',\n                                                                  '#B0BEC5',\n                                                                  '#B0BEC5',\n                                                                  '#B0BEC5',\n                                                                  '#B0BEC5']]}],\n                                       'label': 'Topic 13',\n                                       'method': 'update'},\n                                      {'args': [{'marker.color': [['#B0BEC5',\n                                                                  '#B0BEC5',\n                                                                  '#B0BEC5',\n                                                                  '#B0BEC5',\n                                                                  '#B0BEC5',\n                                                                  '#B0BEC5',\n                                                                  '#B0BEC5',\n                                                                  '#B0BEC5',\n                                                                  '#B0BEC5',\n                                                                  '#B0BEC5',\n                                                                  '#B0BEC5',\n                                                                  '#B0BEC5',\n                                                                  '#B0BEC5', 'red',\n                                                                  '#B0BEC5',\n                                                                  '#B0BEC5',\n                                                                  '#B0BEC5',\n                                                                  '#B0BEC5',\n                                                                  '#B0BEC5',\n                                                                  '#B0BEC5',\n                                                                  '#B0BEC5',\n                                                                  '#B0BEC5',\n                                                                  '#B0BEC5',\n                                                                  '#B0BEC5',\n                                                                  '#B0BEC5',\n                                                                  '#B0BEC5',\n                                                                  '#B0BEC5',\n                                                                  '#B0BEC5',\n                                                                  '#B0BEC5',\n                                                                  '#B0BEC5',\n                                                                  '#B0BEC5',\n                                                                  '#B0BEC5',\n                                                                  '#B0BEC5',\n                                                                  '#B0BEC5',\n                                                                  '#B0BEC5',\n                                                                  '#B0BEC5',\n                                                                  '#B0BEC5',\n                                                                  '#B0BEC5',\n                                                                  '#B0BEC5',\n                                                                  '#B0BEC5',\n                                                                  '#B0BEC5']]}],\n                                       'label': 'Topic 14',\n                                       'method': 'update'},\n                                      {'args': [{'marker.color': [['#B0BEC5',\n                                                                  '#B0BEC5',\n                                                                  '#B0BEC5',\n                                                                  '#B0BEC5',\n                                                                  '#B0BEC5',\n                                                                  '#B0BEC5',\n                                                                  '#B0BEC5',\n                                                                  '#B0BEC5',\n                                                                  '#B0BEC5',\n                                                                  '#B0BEC5',\n                                                                  '#B0BEC5',\n                                                                  '#B0BEC5',\n                                                                  '#B0BEC5',\n                                                                  '#B0BEC5', 'red',\n                                                                  '#B0BEC5',\n                                                                  '#B0BEC5',\n                                                                  '#B0BEC5',\n                                                                  '#B0BEC5',\n                                                                  '#B0BEC5',\n                                                                  '#B0BEC5',\n                                                                  '#B0BEC5',\n                                                                  '#B0BEC5',\n                                                                  '#B0BEC5',\n                                                                  '#B0BEC5',\n                                                                  '#B0BEC5',\n                                                                  '#B0BEC5',\n                                                                  '#B0BEC5',\n                                                                  '#B0BEC5',\n                                                                  '#B0BEC5',\n                                                                  '#B0BEC5',\n                                                                  '#B0BEC5',\n                                                                  '#B0BEC5',\n                                                                  '#B0BEC5',\n                                                                  '#B0BEC5',\n                                                                  '#B0BEC5',\n                                                                  '#B0BEC5',\n                                                                  '#B0BEC5',\n                                                                  '#B0BEC5',\n                                                                  '#B0BEC5',\n                                                                  '#B0BEC5']]}],\n                                       'label': 'Topic 15',\n                                       'method': 'update'},\n                                      {'args': [{'marker.color': [['#B0BEC5',\n                                                                  '#B0BEC5',\n                                                                  '#B0BEC5',\n                                                                  '#B0BEC5',\n                                                                  '#B0BEC5',\n                                                                  '#B0BEC5',\n                                                                  '#B0BEC5',\n                                                                  '#B0BEC5',\n                                                                  '#B0BEC5',\n                                                                  '#B0BEC5',\n                                                                  '#B0BEC5',\n                                                                  '#B0BEC5',\n                                                                  '#B0BEC5',\n                                                                  '#B0BEC5',\n                                                                  '#B0BEC5', 'red',\n                                                                  '#B0BEC5',\n                                                                  '#B0BEC5',\n                                                                  '#B0BEC5',\n                                                                  '#B0BEC5',\n                                                                  '#B0BEC5',\n                                                                  '#B0BEC5',\n                                                                  '#B0BEC5',\n                                                                  '#B0BEC5',\n                                                                  '#B0BEC5',\n                                                                  '#B0BEC5',\n                                                                  '#B0BEC5',\n                                                                  '#B0BEC5',\n                                                                  '#B0BEC5',\n                                                                  '#B0BEC5',\n                                                                  '#B0BEC5',\n                                                                  '#B0BEC5',\n                                                                  '#B0BEC5',\n                                                                  '#B0BEC5',\n                                                                  '#B0BEC5',\n                                                                  '#B0BEC5',\n                                                                  '#B0BEC5',\n                                                                  '#B0BEC5',\n                                                                  '#B0BEC5',\n                                                                  '#B0BEC5',\n                                                                  '#B0BEC5']]}],\n                                       'label': 'Topic 16',\n                                       'method': 'update'},\n                                      {'args': [{'marker.color': [['#B0BEC5',\n                                                                  '#B0BEC5',\n                                                                  '#B0BEC5',\n                                                                  '#B0BEC5',\n                                                                  '#B0BEC5',\n                                                                  '#B0BEC5',\n                                                                  '#B0BEC5',\n                                                                  '#B0BEC5',\n                                                                  '#B0BEC5',\n                                                                  '#B0BEC5',\n                                                                  '#B0BEC5',\n                                                                  '#B0BEC5',\n                                                                  '#B0BEC5',\n                                                                  '#B0BEC5',\n                                                                  '#B0BEC5',\n                                                                  '#B0BEC5', 'red',\n                                                                  '#B0BEC5',\n                                                                  '#B0BEC5',\n                                                                  '#B0BEC5',\n                                                                  '#B0BEC5',\n                                                                  '#B0BEC5',\n                                                                  '#B0BEC5',\n                                                                  '#B0BEC5',\n                                                                  '#B0BEC5',\n                                                                  '#B0BEC5',\n                                                                  '#B0BEC5',\n                                                                  '#B0BEC5',\n                                                                  '#B0BEC5',\n                                                                  '#B0BEC5',\n                                                                  '#B0BEC5',\n                                                                  '#B0BEC5',\n                                                                  '#B0BEC5',\n                                                                  '#B0BEC5',\n                                                                  '#B0BEC5',\n                                                                  '#B0BEC5',\n                                                                  '#B0BEC5',\n                                                                  '#B0BEC5',\n                                                                  '#B0BEC5',\n                                                                  '#B0BEC5',\n                                                                  '#B0BEC5']]}],\n                                       'label': 'Topic 17',\n                                       'method': 'update'},\n                                      {'args': [{'marker.color': [['#B0BEC5',\n                                                                  '#B0BEC5',\n                                                                  '#B0BEC5',\n                                                                  '#B0BEC5',\n                                                                  '#B0BEC5',\n                                                                  '#B0BEC5',\n                                                                  '#B0BEC5',\n                                                                  '#B0BEC5',\n                                                                  '#B0BEC5',\n                                                                  '#B0BEC5',\n                                                                  '#B0BEC5',\n                                                                  '#B0BEC5',\n                                                                  '#B0BEC5',\n                                                                  '#B0BEC5',\n                                                                  '#B0BEC5',\n                                                                  '#B0BEC5',\n                                                                  '#B0BEC5', 'red',\n                                                                  '#B0BEC5',\n                                                                  '#B0BEC5',\n                                                                  '#B0BEC5',\n                                                                  '#B0BEC5',\n                                                                  '#B0BEC5',\n                                                                  '#B0BEC5',\n                                                                  '#B0BEC5',\n                                                                  '#B0BEC5',\n                                                                  '#B0BEC5',\n                                                                  '#B0BEC5',\n                                                                  '#B0BEC5',\n                                                                  '#B0BEC5',\n                                                                  '#B0BEC5',\n                                                                  '#B0BEC5',\n                                                                  '#B0BEC5',\n                                                                  '#B0BEC5',\n                                                                  '#B0BEC5',\n                                                                  '#B0BEC5',\n                                                                  '#B0BEC5',\n                                                                  '#B0BEC5',\n                                                                  '#B0BEC5',\n                                                                  '#B0BEC5',\n                                                                  '#B0BEC5']]}],\n                                       'label': 'Topic 18',\n                                       'method': 'update'},\n                                      {'args': [{'marker.color': [['#B0BEC5',\n                                                                  '#B0BEC5',\n                                                                  '#B0BEC5',\n                                                                  '#B0BEC5',\n                                                                  '#B0BEC5',\n                                                                  '#B0BEC5',\n                                                                  '#B0BEC5',\n                                                                  '#B0BEC5',\n                                                                  '#B0BEC5',\n                                                                  '#B0BEC5',\n                                                                  '#B0BEC5',\n                                                                  '#B0BEC5',\n                                                                  '#B0BEC5',\n                                                                  '#B0BEC5',\n                                                                  '#B0BEC5',\n                                                                  '#B0BEC5',\n                                                                  '#B0BEC5',\n                                                                  '#B0BEC5', 'red',\n                                                                  '#B0BEC5',\n                                                                  '#B0BEC5',\n                                                                  '#B0BEC5',\n                                                                  '#B0BEC5',\n                                                                  '#B0BEC5',\n                                                                  '#B0BEC5',\n                                                                  '#B0BEC5',\n                                                                  '#B0BEC5',\n                                                                  '#B0BEC5',\n                                                                  '#B0BEC5',\n                                                                  '#B0BEC5',\n                                                                  '#B0BEC5',\n                                                                  '#B0BEC5',\n                                                                  '#B0BEC5',\n                                                                  '#B0BEC5',\n                                                                  '#B0BEC5',\n                                                                  '#B0BEC5',\n                                                                  '#B0BEC5',\n                                                                  '#B0BEC5',\n                                                                  '#B0BEC5',\n                                                                  '#B0BEC5',\n                                                                  '#B0BEC5']]}],\n                                       'label': 'Topic 19',\n                                       'method': 'update'},\n                                      {'args': [{'marker.color': [['#B0BEC5',\n                                                                  '#B0BEC5',\n                                                                  '#B0BEC5',\n                                                                  '#B0BEC5',\n                                                                  '#B0BEC5',\n                                                                  '#B0BEC5',\n                                                                  '#B0BEC5',\n                                                                  '#B0BEC5',\n                                                                  '#B0BEC5',\n                                                                  '#B0BEC5',\n                                                                  '#B0BEC5',\n                                                                  '#B0BEC5',\n                                                                  '#B0BEC5',\n                                                                  '#B0BEC5',\n                                                                  '#B0BEC5',\n                                                                  '#B0BEC5',\n                                                                  '#B0BEC5',\n                                                                  '#B0BEC5',\n                                                                  '#B0BEC5', 'red',\n                                                                  '#B0BEC5',\n                                                                  '#B0BEC5',\n                                                                  '#B0BEC5',\n                                                                  '#B0BEC5',\n                                                                  '#B0BEC5',\n                                                                  '#B0BEC5',\n                                                                  '#B0BEC5',\n                                                                  '#B0BEC5',\n                                                                  '#B0BEC5',\n                                                                  '#B0BEC5',\n                                                                  '#B0BEC5',\n                                                                  '#B0BEC5',\n                                                                  '#B0BEC5',\n                                                                  '#B0BEC5',\n                                                                  '#B0BEC5',\n                                                                  '#B0BEC5',\n                                                                  '#B0BEC5',\n                                                                  '#B0BEC5',\n                                                                  '#B0BEC5',\n                                                                  '#B0BEC5',\n                                                                  '#B0BEC5']]}],\n                                       'label': 'Topic 20',\n                                       'method': 'update'},\n                                      {'args': [{'marker.color': [['#B0BEC5',\n                                                                  '#B0BEC5',\n                                                                  '#B0BEC5',\n                                                                  '#B0BEC5',\n                                                                  '#B0BEC5',\n                                                                  '#B0BEC5',\n                                                                  '#B0BEC5',\n                                                                  '#B0BEC5',\n                                                                  '#B0BEC5',\n                                                                  '#B0BEC5',\n                                                                  '#B0BEC5',\n                                                                  '#B0BEC5',\n                                                                  '#B0BEC5',\n                                                                  '#B0BEC5',\n                                                                  '#B0BEC5',\n                                                                  '#B0BEC5',\n                                                                  '#B0BEC5',\n                                                                  '#B0BEC5',\n                                                                  '#B0BEC5',\n                                                                  '#B0BEC5', 'red',\n                                                                  '#B0BEC5',\n                                                                  '#B0BEC5',\n                                                                  '#B0BEC5',\n                                                                  '#B0BEC5',\n                                                                  '#B0BEC5',\n                                                                  '#B0BEC5',\n                                                                  '#B0BEC5',\n                                                                  '#B0BEC5',\n                                                                  '#B0BEC5',\n                                                                  '#B0BEC5',\n                                                                  '#B0BEC5',\n                                                                  '#B0BEC5',\n                                                                  '#B0BEC5',\n                                                                  '#B0BEC5',\n                                                                  '#B0BEC5',\n                                                                  '#B0BEC5',\n                                                                  '#B0BEC5',\n                                                                  '#B0BEC5',\n                                                                  '#B0BEC5',\n                                                                  '#B0BEC5']]}],\n                                       'label': 'Topic 21',\n                                       'method': 'update'},\n                                      {'args': [{'marker.color': [['#B0BEC5',\n                                                                  '#B0BEC5',\n                                                                  '#B0BEC5',\n                                                                  '#B0BEC5',\n                                                                  '#B0BEC5',\n                                                                  '#B0BEC5',\n                                                                  '#B0BEC5',\n                                                                  '#B0BEC5',\n                                                                  '#B0BEC5',\n                                                                  '#B0BEC5',\n                                                                  '#B0BEC5',\n                                                                  '#B0BEC5',\n                                                                  '#B0BEC5',\n                                                                  '#B0BEC5',\n                                                                  '#B0BEC5',\n                                                                  '#B0BEC5',\n                                                                  '#B0BEC5',\n                                                                  '#B0BEC5',\n                                                                  '#B0BEC5',\n                                                                  '#B0BEC5',\n                                                                  '#B0BEC5', 'red',\n                                                                  '#B0BEC5',\n                                                                  '#B0BEC5',\n                                                                  '#B0BEC5',\n                                                                  '#B0BEC5',\n                                                                  '#B0BEC5',\n                                                                  '#B0BEC5',\n                                                                  '#B0BEC5',\n                                                                  '#B0BEC5',\n                                                                  '#B0BEC5',\n                                                                  '#B0BEC5',\n                                                                  '#B0BEC5',\n                                                                  '#B0BEC5',\n                                                                  '#B0BEC5',\n                                                                  '#B0BEC5',\n                                                                  '#B0BEC5',\n                                                                  '#B0BEC5',\n                                                                  '#B0BEC5',\n                                                                  '#B0BEC5',\n                                                                  '#B0BEC5']]}],\n                                       'label': 'Topic 22',\n                                       'method': 'update'},\n                                      {'args': [{'marker.color': [['#B0BEC5',\n                                                                  '#B0BEC5',\n                                                                  '#B0BEC5',\n                                                                  '#B0BEC5',\n                                                                  '#B0BEC5',\n                                                                  '#B0BEC5',\n                                                                  '#B0BEC5',\n                                                                  '#B0BEC5',\n                                                                  '#B0BEC5',\n                                                                  '#B0BEC5',\n                                                                  '#B0BEC5',\n                                                                  '#B0BEC5',\n                                                                  '#B0BEC5',\n                                                                  '#B0BEC5',\n                                                                  '#B0BEC5',\n                                                                  '#B0BEC5',\n                                                                  '#B0BEC5',\n                                                                  '#B0BEC5',\n                                                                  '#B0BEC5',\n                                                                  '#B0BEC5',\n                                                                  '#B0BEC5',\n                                                                  '#B0BEC5', 'red',\n                                                                  '#B0BEC5',\n                                                                  '#B0BEC5',\n                                                                  '#B0BEC5',\n                                                                  '#B0BEC5',\n                                                                  '#B0BEC5',\n                                                                  '#B0BEC5',\n                                                                  '#B0BEC5',\n                                                                  '#B0BEC5',\n                                                                  '#B0BEC5',\n                                                                  '#B0BEC5',\n                                                                  '#B0BEC5',\n                                                                  '#B0BEC5',\n                                                                  '#B0BEC5',\n                                                                  '#B0BEC5',\n                                                                  '#B0BEC5',\n                                                                  '#B0BEC5',\n                                                                  '#B0BEC5',\n                                                                  '#B0BEC5']]}],\n                                       'label': 'Topic 23',\n                                       'method': 'update'},\n                                      {'args': [{'marker.color': [['#B0BEC5',\n                                                                  '#B0BEC5',\n                                                                  '#B0BEC5',\n                                                                  '#B0BEC5',\n                                                                  '#B0BEC5',\n                                                                  '#B0BEC5',\n                                                                  '#B0BEC5',\n                                                                  '#B0BEC5',\n                                                                  '#B0BEC5',\n                                                                  '#B0BEC5',\n                                                                  '#B0BEC5',\n                                                                  '#B0BEC5',\n                                                                  '#B0BEC5',\n                                                                  '#B0BEC5',\n                                                                  '#B0BEC5',\n                                                                  '#B0BEC5',\n                                                                  '#B0BEC5',\n                                                                  '#B0BEC5',\n                                                                  '#B0BEC5',\n                                                                  '#B0BEC5',\n                                                                  '#B0BEC5',\n                                                                  '#B0BEC5',\n                                                                  '#B0BEC5', 'red',\n                                                                  '#B0BEC5',\n                                                                  '#B0BEC5',\n                                                                  '#B0BEC5',\n                                                                  '#B0BEC5',\n                                                                  '#B0BEC5',\n                                                                  '#B0BEC5',\n                                                                  '#B0BEC5',\n                                                                  '#B0BEC5',\n                                                                  '#B0BEC5',\n                                                                  '#B0BEC5',\n                                                                  '#B0BEC5',\n                                                                  '#B0BEC5',\n                                                                  '#B0BEC5',\n                                                                  '#B0BEC5',\n                                                                  '#B0BEC5',\n                                                                  '#B0BEC5',\n                                                                  '#B0BEC5']]}],\n                                       'label': 'Topic 24',\n                                       'method': 'update'},\n                                      {'args': [{'marker.color': [['#B0BEC5',\n                                                                  '#B0BEC5',\n                                                                  '#B0BEC5',\n                                                                  '#B0BEC5',\n                                                                  '#B0BEC5',\n                                                                  '#B0BEC5',\n                                                                  '#B0BEC5',\n                                                                  '#B0BEC5',\n                                                                  '#B0BEC5',\n                                                                  '#B0BEC5',\n                                                                  '#B0BEC5',\n                                                                  '#B0BEC5',\n                                                                  '#B0BEC5',\n                                                                  '#B0BEC5',\n                                                                  '#B0BEC5',\n                                                                  '#B0BEC5',\n                                                                  '#B0BEC5',\n                                                                  '#B0BEC5',\n                                                                  '#B0BEC5',\n                                                                  '#B0BEC5',\n                                                                  '#B0BEC5',\n                                                                  '#B0BEC5',\n                                                                  '#B0BEC5',\n                                                                  '#B0BEC5', 'red',\n                                                                  '#B0BEC5',\n                                                                  '#B0BEC5',\n                                                                  '#B0BEC5',\n                                                                  '#B0BEC5',\n                                                                  '#B0BEC5',\n                                                                  '#B0BEC5',\n                                                                  '#B0BEC5',\n                                                                  '#B0BEC5',\n                                                                  '#B0BEC5',\n                                                                  '#B0BEC5',\n                                                                  '#B0BEC5',\n                                                                  '#B0BEC5',\n                                                                  '#B0BEC5',\n                                                                  '#B0BEC5',\n                                                                  '#B0BEC5',\n                                                                  '#B0BEC5']]}],\n                                       'label': 'Topic 25',\n                                       'method': 'update'},\n                                      {'args': [{'marker.color': [['#B0BEC5',\n                                                                  '#B0BEC5',\n                                                                  '#B0BEC5',\n                                                                  '#B0BEC5',\n                                                                  '#B0BEC5',\n                                                                  '#B0BEC5',\n                                                                  '#B0BEC5',\n                                                                  '#B0BEC5',\n                                                                  '#B0BEC5',\n                                                                  '#B0BEC5',\n                                                                  '#B0BEC5',\n                                                                  '#B0BEC5',\n                                                                  '#B0BEC5',\n                                                                  '#B0BEC5',\n                                                                  '#B0BEC5',\n                                                                  '#B0BEC5',\n                                                                  '#B0BEC5',\n                                                                  '#B0BEC5',\n                                                                  '#B0BEC5',\n                                                                  '#B0BEC5',\n                                                                  '#B0BEC5',\n                                                                  '#B0BEC5',\n                                                                  '#B0BEC5',\n                                                                  '#B0BEC5',\n                                                                  '#B0BEC5', 'red',\n                                                                  '#B0BEC5',\n                                                                  '#B0BEC5',\n                                                                  '#B0BEC5',\n                                                                  '#B0BEC5',\n                                                                  '#B0BEC5',\n                                                                  '#B0BEC5',\n                                                                  '#B0BEC5',\n                                                                  '#B0BEC5',\n                                                                  '#B0BEC5',\n                                                                  '#B0BEC5',\n                                                                  '#B0BEC5',\n                                                                  '#B0BEC5',\n                                                                  '#B0BEC5',\n                                                                  '#B0BEC5',\n                                                                  '#B0BEC5']]}],\n                                       'label': 'Topic 26',\n                                       'method': 'update'},\n                                      {'args': [{'marker.color': [['#B0BEC5',\n                                                                  '#B0BEC5',\n                                                                  '#B0BEC5',\n                                                                  '#B0BEC5',\n                                                                  '#B0BEC5',\n                                                                  '#B0BEC5',\n                                                                  '#B0BEC5',\n                                                                  '#B0BEC5',\n                                                                  '#B0BEC5',\n                                                                  '#B0BEC5',\n                                                                  '#B0BEC5',\n                                                                  '#B0BEC5',\n                                                                  '#B0BEC5',\n                                                                  '#B0BEC5',\n                                                                  '#B0BEC5',\n                                                                  '#B0BEC5',\n                                                                  '#B0BEC5',\n                                                                  '#B0BEC5',\n                                                                  '#B0BEC5',\n                                                                  '#B0BEC5',\n                                                                  '#B0BEC5',\n                                                                  '#B0BEC5',\n                                                                  '#B0BEC5',\n                                                                  '#B0BEC5',\n                                                                  '#B0BEC5',\n                                                                  '#B0BEC5', 'red',\n                                                                  '#B0BEC5',\n                                                                  '#B0BEC5',\n                                                                  '#B0BEC5',\n                                                                  '#B0BEC5',\n                                                                  '#B0BEC5',\n                                                                  '#B0BEC5',\n                                                                  '#B0BEC5',\n                                                                  '#B0BEC5',\n                                                                  '#B0BEC5',\n                                                                  '#B0BEC5',\n                                                                  '#B0BEC5',\n                                                                  '#B0BEC5',\n                                                                  '#B0BEC5',\n                                                                  '#B0BEC5']]}],\n                                       'label': 'Topic 27',\n                                       'method': 'update'},\n                                      {'args': [{'marker.color': [['#B0BEC5',\n                                                                  '#B0BEC5',\n                                                                  '#B0BEC5',\n                                                                  '#B0BEC5',\n                                                                  '#B0BEC5',\n                                                                  '#B0BEC5',\n                                                                  '#B0BEC5',\n                                                                  '#B0BEC5',\n                                                                  '#B0BEC5',\n                                                                  '#B0BEC5',\n                                                                  '#B0BEC5',\n                                                                  '#B0BEC5',\n                                                                  '#B0BEC5',\n                                                                  '#B0BEC5',\n                                                                  '#B0BEC5',\n                                                                  '#B0BEC5',\n                                                                  '#B0BEC5',\n                                                                  '#B0BEC5',\n                                                                  '#B0BEC5',\n                                                                  '#B0BEC5',\n                                                                  '#B0BEC5',\n                                                                  '#B0BEC5',\n                                                                  '#B0BEC5',\n                                                                  '#B0BEC5',\n                                                                  '#B0BEC5',\n                                                                  '#B0BEC5',\n                                                                  '#B0BEC5', 'red',\n                                                                  '#B0BEC5',\n                                                                  '#B0BEC5',\n                                                                  '#B0BEC5',\n                                                                  '#B0BEC5',\n                                                                  '#B0BEC5',\n                                                                  '#B0BEC5',\n                                                                  '#B0BEC5',\n                                                                  '#B0BEC5',\n                                                                  '#B0BEC5',\n                                                                  '#B0BEC5',\n                                                                  '#B0BEC5',\n                                                                  '#B0BEC5',\n                                                                  '#B0BEC5']]}],\n                                       'label': 'Topic 28',\n                                       'method': 'update'},\n                                      {'args': [{'marker.color': [['#B0BEC5',\n                                                                  '#B0BEC5',\n                                                                  '#B0BEC5',\n                                                                  '#B0BEC5',\n                                                                  '#B0BEC5',\n                                                                  '#B0BEC5',\n                                                                  '#B0BEC5',\n                                                                  '#B0BEC5',\n                                                                  '#B0BEC5',\n                                                                  '#B0BEC5',\n                                                                  '#B0BEC5',\n                                                                  '#B0BEC5',\n                                                                  '#B0BEC5',\n                                                                  '#B0BEC5',\n                                                                  '#B0BEC5',\n                                                                  '#B0BEC5',\n                                                                  '#B0BEC5',\n                                                                  '#B0BEC5',\n                                                                  '#B0BEC5',\n                                                                  '#B0BEC5',\n                                                                  '#B0BEC5',\n                                                                  '#B0BEC5',\n                                                                  '#B0BEC5',\n                                                                  '#B0BEC5',\n                                                                  '#B0BEC5',\n                                                                  '#B0BEC5',\n                                                                  '#B0BEC5',\n                                                                  '#B0BEC5', 'red',\n                                                                  '#B0BEC5',\n                                                                  '#B0BEC5',\n                                                                  '#B0BEC5',\n                                                                  '#B0BEC5',\n                                                                  '#B0BEC5',\n                                                                  '#B0BEC5',\n                                                                  '#B0BEC5',\n                                                                  '#B0BEC5',\n                                                                  '#B0BEC5',\n                                                                  '#B0BEC5',\n                                                                  '#B0BEC5',\n                                                                  '#B0BEC5']]}],\n                                       'label': 'Topic 29',\n                                       'method': 'update'},\n                                      {'args': [{'marker.color': [['#B0BEC5',\n                                                                  '#B0BEC5',\n                                                                  '#B0BEC5',\n                                                                  '#B0BEC5',\n                                                                  '#B0BEC5',\n                                                                  '#B0BEC5',\n                                                                  '#B0BEC5',\n                                                                  '#B0BEC5',\n                                                                  '#B0BEC5',\n                                                                  '#B0BEC5',\n                                                                  '#B0BEC5',\n                                                                  '#B0BEC5',\n                                                                  '#B0BEC5',\n                                                                  '#B0BEC5',\n                                                                  '#B0BEC5',\n                                                                  '#B0BEC5',\n                                                                  '#B0BEC5',\n                                                                  '#B0BEC5',\n                                                                  '#B0BEC5',\n                                                                  '#B0BEC5',\n                                                                  '#B0BEC5',\n                                                                  '#B0BEC5',\n                                                                  '#B0BEC5',\n                                                                  '#B0BEC5',\n                                                                  '#B0BEC5',\n                                                                  '#B0BEC5',\n                                                                  '#B0BEC5',\n                                                                  '#B0BEC5',\n                                                                  '#B0BEC5', 'red',\n                                                                  '#B0BEC5',\n                                                                  '#B0BEC5',\n                                                                  '#B0BEC5',\n                                                                  '#B0BEC5',\n                                                                  '#B0BEC5',\n                                                                  '#B0BEC5',\n                                                                  '#B0BEC5',\n                                                                  '#B0BEC5',\n                                                                  '#B0BEC5',\n                                                                  '#B0BEC5',\n                                                                  '#B0BEC5']]}],\n                                       'label': 'Topic 30',\n                                       'method': 'update'},\n                                      {'args': [{'marker.color': [['#B0BEC5',\n                                                                  '#B0BEC5',\n                                                                  '#B0BEC5',\n                                                                  '#B0BEC5',\n                                                                  '#B0BEC5',\n                                                                  '#B0BEC5',\n                                                                  '#B0BEC5',\n                                                                  '#B0BEC5',\n                                                                  '#B0BEC5',\n                                                                  '#B0BEC5',\n                                                                  '#B0BEC5',\n                                                                  '#B0BEC5',\n                                                                  '#B0BEC5',\n                                                                  '#B0BEC5',\n                                                                  '#B0BEC5',\n                                                                  '#B0BEC5',\n                                                                  '#B0BEC5',\n                                                                  '#B0BEC5',\n                                                                  '#B0BEC5',\n                                                                  '#B0BEC5',\n                                                                  '#B0BEC5',\n                                                                  '#B0BEC5',\n                                                                  '#B0BEC5',\n                                                                  '#B0BEC5',\n                                                                  '#B0BEC5',\n                                                                  '#B0BEC5',\n                                                                  '#B0BEC5',\n                                                                  '#B0BEC5',\n                                                                  '#B0BEC5',\n                                                                  '#B0BEC5', 'red',\n                                                                  '#B0BEC5',\n                                                                  '#B0BEC5',\n                                                                  '#B0BEC5',\n                                                                  '#B0BEC5',\n                                                                  '#B0BEC5',\n                                                                  '#B0BEC5',\n                                                                  '#B0BEC5',\n                                                                  '#B0BEC5',\n                                                                  '#B0BEC5',\n                                                                  '#B0BEC5']]}],\n                                       'label': 'Topic 31',\n                                       'method': 'update'},\n                                      {'args': [{'marker.color': [['#B0BEC5',\n                                                                  '#B0BEC5',\n                                                                  '#B0BEC5',\n                                                                  '#B0BEC5',\n                                                                  '#B0BEC5',\n                                                                  '#B0BEC5',\n                                                                  '#B0BEC5',\n                                                                  '#B0BEC5',\n                                                                  '#B0BEC5',\n                                                                  '#B0BEC5',\n                                                                  '#B0BEC5',\n                                                                  '#B0BEC5',\n                                                                  '#B0BEC5',\n                                                                  '#B0BEC5',\n                                                                  '#B0BEC5',\n                                                                  '#B0BEC5',\n                                                                  '#B0BEC5',\n                                                                  '#B0BEC5',\n                                                                  '#B0BEC5',\n                                                                  '#B0BEC5',\n                                                                  '#B0BEC5',\n                                                                  '#B0BEC5',\n                                                                  '#B0BEC5',\n                                                                  '#B0BEC5',\n                                                                  '#B0BEC5',\n                                                                  '#B0BEC5',\n                                                                  '#B0BEC5',\n                                                                  '#B0BEC5',\n                                                                  '#B0BEC5',\n                                                                  '#B0BEC5',\n                                                                  '#B0BEC5', 'red',\n                                                                  '#B0BEC5',\n                                                                  '#B0BEC5',\n                                                                  '#B0BEC5',\n                                                                  '#B0BEC5',\n                                                                  '#B0BEC5',\n                                                                  '#B0BEC5',\n                                                                  '#B0BEC5',\n                                                                  '#B0BEC5',\n                                                                  '#B0BEC5']]}],\n                                       'label': 'Topic 32',\n                                       'method': 'update'},\n                                      {'args': [{'marker.color': [['#B0BEC5',\n                                                                  '#B0BEC5',\n                                                                  '#B0BEC5',\n                                                                  '#B0BEC5',\n                                                                  '#B0BEC5',\n                                                                  '#B0BEC5',\n                                                                  '#B0BEC5',\n                                                                  '#B0BEC5',\n                                                                  '#B0BEC5',\n                                                                  '#B0BEC5',\n                                                                  '#B0BEC5',\n                                                                  '#B0BEC5',\n                                                                  '#B0BEC5',\n                                                                  '#B0BEC5',\n                                                                  '#B0BEC5',\n                                                                  '#B0BEC5',\n                                                                  '#B0BEC5',\n                                                                  '#B0BEC5',\n                                                                  '#B0BEC5',\n                                                                  '#B0BEC5',\n                                                                  '#B0BEC5',\n                                                                  '#B0BEC5',\n                                                                  '#B0BEC5',\n                                                                  '#B0BEC5',\n                                                                  '#B0BEC5',\n                                                                  '#B0BEC5',\n                                                                  '#B0BEC5',\n                                                                  '#B0BEC5',\n                                                                  '#B0BEC5',\n                                                                  '#B0BEC5',\n                                                                  '#B0BEC5',\n                                                                  '#B0BEC5', 'red',\n                                                                  '#B0BEC5',\n                                                                  '#B0BEC5',\n                                                                  '#B0BEC5',\n                                                                  '#B0BEC5',\n                                                                  '#B0BEC5',\n                                                                  '#B0BEC5',\n                                                                  '#B0BEC5',\n                                                                  '#B0BEC5']]}],\n                                       'label': 'Topic 33',\n                                       'method': 'update'},\n                                      {'args': [{'marker.color': [['#B0BEC5',\n                                                                  '#B0BEC5',\n                                                                  '#B0BEC5',\n                                                                  '#B0BEC5',\n                                                                  '#B0BEC5',\n                                                                  '#B0BEC5',\n                                                                  '#B0BEC5',\n                                                                  '#B0BEC5',\n                                                                  '#B0BEC5',\n                                                                  '#B0BEC5',\n                                                                  '#B0BEC5',\n                                                                  '#B0BEC5',\n                                                                  '#B0BEC5',\n                                                                  '#B0BEC5',\n                                                                  '#B0BEC5',\n                                                                  '#B0BEC5',\n                                                                  '#B0BEC5',\n                                                                  '#B0BEC5',\n                                                                  '#B0BEC5',\n                                                                  '#B0BEC5',\n                                                                  '#B0BEC5',\n                                                                  '#B0BEC5',\n                                                                  '#B0BEC5',\n                                                                  '#B0BEC5',\n                                                                  '#B0BEC5',\n                                                                  '#B0BEC5',\n                                                                  '#B0BEC5',\n                                                                  '#B0BEC5',\n                                                                  '#B0BEC5',\n                                                                  '#B0BEC5',\n                                                                  '#B0BEC5',\n                                                                  '#B0BEC5',\n                                                                  '#B0BEC5', 'red',\n                                                                  '#B0BEC5',\n                                                                  '#B0BEC5',\n                                                                  '#B0BEC5',\n                                                                  '#B0BEC5',\n                                                                  '#B0BEC5',\n                                                                  '#B0BEC5',\n                                                                  '#B0BEC5']]}],\n                                       'label': 'Topic 34',\n                                       'method': 'update'},\n                                      {'args': [{'marker.color': [['#B0BEC5',\n                                                                  '#B0BEC5',\n                                                                  '#B0BEC5',\n                                                                  '#B0BEC5',\n                                                                  '#B0BEC5',\n                                                                  '#B0BEC5',\n                                                                  '#B0BEC5',\n                                                                  '#B0BEC5',\n                                                                  '#B0BEC5',\n                                                                  '#B0BEC5',\n                                                                  '#B0BEC5',\n                                                                  '#B0BEC5',\n                                                                  '#B0BEC5',\n                                                                  '#B0BEC5',\n                                                                  '#B0BEC5',\n                                                                  '#B0BEC5',\n                                                                  '#B0BEC5',\n                                                                  '#B0BEC5',\n                                                                  '#B0BEC5',\n                                                                  '#B0BEC5',\n                                                                  '#B0BEC5',\n                                                                  '#B0BEC5',\n                                                                  '#B0BEC5',\n                                                                  '#B0BEC5',\n                                                                  '#B0BEC5',\n                                                                  '#B0BEC5',\n                                                                  '#B0BEC5',\n                                                                  '#B0BEC5',\n                                                                  '#B0BEC5',\n                                                                  '#B0BEC5',\n                                                                  '#B0BEC5',\n                                                                  '#B0BEC5',\n                                                                  '#B0BEC5',\n                                                                  '#B0BEC5', 'red',\n                                                                  '#B0BEC5',\n                                                                  '#B0BEC5',\n                                                                  '#B0BEC5',\n                                                                  '#B0BEC5',\n                                                                  '#B0BEC5',\n                                                                  '#B0BEC5']]}],\n                                       'label': 'Topic 35',\n                                       'method': 'update'},\n                                      {'args': [{'marker.color': [['#B0BEC5',\n                                                                  '#B0BEC5',\n                                                                  '#B0BEC5',\n                                                                  '#B0BEC5',\n                                                                  '#B0BEC5',\n                                                                  '#B0BEC5',\n                                                                  '#B0BEC5',\n                                                                  '#B0BEC5',\n                                                                  '#B0BEC5',\n                                                                  '#B0BEC5',\n                                                                  '#B0BEC5',\n                                                                  '#B0BEC5',\n                                                                  '#B0BEC5',\n                                                                  '#B0BEC5',\n                                                                  '#B0BEC5',\n                                                                  '#B0BEC5',\n                                                                  '#B0BEC5',\n                                                                  '#B0BEC5',\n                                                                  '#B0BEC5',\n                                                                  '#B0BEC5',\n                                                                  '#B0BEC5',\n                                                                  '#B0BEC5',\n                                                                  '#B0BEC5',\n                                                                  '#B0BEC5',\n                                                                  '#B0BEC5',\n                                                                  '#B0BEC5',\n                                                                  '#B0BEC5',\n                                                                  '#B0BEC5',\n                                                                  '#B0BEC5',\n                                                                  '#B0BEC5',\n                                                                  '#B0BEC5',\n                                                                  '#B0BEC5',\n                                                                  '#B0BEC5',\n                                                                  '#B0BEC5',\n                                                                  '#B0BEC5', 'red',\n                                                                  '#B0BEC5',\n                                                                  '#B0BEC5',\n                                                                  '#B0BEC5',\n                                                                  '#B0BEC5',\n                                                                  '#B0BEC5']]}],\n                                       'label': 'Topic 36',\n                                       'method': 'update'},\n                                      {'args': [{'marker.color': [['#B0BEC5',\n                                                                  '#B0BEC5',\n                                                                  '#B0BEC5',\n                                                                  '#B0BEC5',\n                                                                  '#B0BEC5',\n                                                                  '#B0BEC5',\n                                                                  '#B0BEC5',\n                                                                  '#B0BEC5',\n                                                                  '#B0BEC5',\n                                                                  '#B0BEC5',\n                                                                  '#B0BEC5',\n                                                                  '#B0BEC5',\n                                                                  '#B0BEC5',\n                                                                  '#B0BEC5',\n                                                                  '#B0BEC5',\n                                                                  '#B0BEC5',\n                                                                  '#B0BEC5',\n                                                                  '#B0BEC5',\n                                                                  '#B0BEC5',\n                                                                  '#B0BEC5',\n                                                                  '#B0BEC5',\n                                                                  '#B0BEC5',\n                                                                  '#B0BEC5',\n                                                                  '#B0BEC5',\n                                                                  '#B0BEC5',\n                                                                  '#B0BEC5',\n                                                                  '#B0BEC5',\n                                                                  '#B0BEC5',\n                                                                  '#B0BEC5',\n                                                                  '#B0BEC5',\n                                                                  '#B0BEC5',\n                                                                  '#B0BEC5',\n                                                                  '#B0BEC5',\n                                                                  '#B0BEC5',\n                                                                  '#B0BEC5',\n                                                                  '#B0BEC5', 'red',\n                                                                  '#B0BEC5',\n                                                                  '#B0BEC5',\n                                                                  '#B0BEC5',\n                                                                  '#B0BEC5']]}],\n                                       'label': 'Topic 37',\n                                       'method': 'update'},\n                                      {'args': [{'marker.color': [['#B0BEC5',\n                                                                  '#B0BEC5',\n                                                                  '#B0BEC5',\n                                                                  '#B0BEC5',\n                                                                  '#B0BEC5',\n                                                                  '#B0BEC5',\n                                                                  '#B0BEC5',\n                                                                  '#B0BEC5',\n                                                                  '#B0BEC5',\n                                                                  '#B0BEC5',\n                                                                  '#B0BEC5',\n                                                                  '#B0BEC5',\n                                                                  '#B0BEC5',\n                                                                  '#B0BEC5',\n                                                                  '#B0BEC5',\n                                                                  '#B0BEC5',\n                                                                  '#B0BEC5',\n                                                                  '#B0BEC5',\n                                                                  '#B0BEC5',\n                                                                  '#B0BEC5',\n                                                                  '#B0BEC5',\n                                                                  '#B0BEC5',\n                                                                  '#B0BEC5',\n                                                                  '#B0BEC5',\n                                                                  '#B0BEC5',\n                                                                  '#B0BEC5',\n                                                                  '#B0BEC5',\n                                                                  '#B0BEC5',\n                                                                  '#B0BEC5',\n                                                                  '#B0BEC5',\n                                                                  '#B0BEC5',\n                                                                  '#B0BEC5',\n                                                                  '#B0BEC5',\n                                                                  '#B0BEC5',\n                                                                  '#B0BEC5',\n                                                                  '#B0BEC5',\n                                                                  '#B0BEC5', 'red',\n                                                                  '#B0BEC5',\n                                                                  '#B0BEC5',\n                                                                  '#B0BEC5']]}],\n                                       'label': 'Topic 38',\n                                       'method': 'update'},\n                                      {'args': [{'marker.color': [['#B0BEC5',\n                                                                  '#B0BEC5',\n                                                                  '#B0BEC5',\n                                                                  '#B0BEC5',\n                                                                  '#B0BEC5',\n                                                                  '#B0BEC5',\n                                                                  '#B0BEC5',\n                                                                  '#B0BEC5',\n                                                                  '#B0BEC5',\n                                                                  '#B0BEC5',\n                                                                  '#B0BEC5',\n                                                                  '#B0BEC5',\n                                                                  '#B0BEC5',\n                                                                  '#B0BEC5',\n                                                                  '#B0BEC5',\n                                                                  '#B0BEC5',\n                                                                  '#B0BEC5',\n                                                                  '#B0BEC5',\n                                                                  '#B0BEC5',\n                                                                  '#B0BEC5',\n                                                                  '#B0BEC5',\n                                                                  '#B0BEC5',\n                                                                  '#B0BEC5',\n                                                                  '#B0BEC5',\n                                                                  '#B0BEC5',\n                                                                  '#B0BEC5',\n                                                                  '#B0BEC5',\n                                                                  '#B0BEC5',\n                                                                  '#B0BEC5',\n                                                                  '#B0BEC5',\n                                                                  '#B0BEC5',\n                                                                  '#B0BEC5',\n                                                                  '#B0BEC5',\n                                                                  '#B0BEC5',\n                                                                  '#B0BEC5',\n                                                                  '#B0BEC5',\n                                                                  '#B0BEC5',\n                                                                  '#B0BEC5', 'red',\n                                                                  '#B0BEC5',\n                                                                  '#B0BEC5']]}],\n                                       'label': 'Topic 39',\n                                       'method': 'update'},\n                                      {'args': [{'marker.color': [['#B0BEC5',\n                                                                  '#B0BEC5',\n                                                                  '#B0BEC5',\n                                                                  '#B0BEC5',\n                                                                  '#B0BEC5',\n                                                                  '#B0BEC5',\n                                                                  '#B0BEC5',\n                                                                  '#B0BEC5',\n                                                                  '#B0BEC5',\n                                                                  '#B0BEC5',\n                                                                  '#B0BEC5',\n                                                                  '#B0BEC5',\n                                                                  '#B0BEC5',\n                                                                  '#B0BEC5',\n                                                                  '#B0BEC5',\n                                                                  '#B0BEC5',\n                                                                  '#B0BEC5',\n                                                                  '#B0BEC5',\n                                                                  '#B0BEC5',\n                                                                  '#B0BEC5',\n                                                                  '#B0BEC5',\n                                                                  '#B0BEC5',\n                                                                  '#B0BEC5',\n                                                                  '#B0BEC5',\n                                                                  '#B0BEC5',\n                                                                  '#B0BEC5',\n                                                                  '#B0BEC5',\n                                                                  '#B0BEC5',\n                                                                  '#B0BEC5',\n                                                                  '#B0BEC5',\n                                                                  '#B0BEC5',\n                                                                  '#B0BEC5',\n                                                                  '#B0BEC5',\n                                                                  '#B0BEC5',\n                                                                  '#B0BEC5',\n                                                                  '#B0BEC5',\n                                                                  '#B0BEC5',\n                                                                  '#B0BEC5',\n                                                                  '#B0BEC5', 'red',\n                                                                  '#B0BEC5']]}],\n                                       'label': 'Topic 40',\n                                       'method': 'update'},\n                                      {'args': [{'marker.color': [['#B0BEC5',\n                                                                  '#B0BEC5',\n                                                                  '#B0BEC5',\n                                                                  '#B0BEC5',\n                                                                  '#B0BEC5',\n                                                                  '#B0BEC5',\n                                                                  '#B0BEC5',\n                                                                  '#B0BEC5',\n                                                                  '#B0BEC5',\n                                                                  '#B0BEC5',\n                                                                  '#B0BEC5',\n                                                                  '#B0BEC5',\n                                                                  '#B0BEC5',\n                                                                  '#B0BEC5',\n                                                                  '#B0BEC5',\n                                                                  '#B0BEC5',\n                                                                  '#B0BEC5',\n                                                                  '#B0BEC5',\n                                                                  '#B0BEC5',\n                                                                  '#B0BEC5',\n                                                                  '#B0BEC5',\n                                                                  '#B0BEC5',\n                                                                  '#B0BEC5',\n                                                                  '#B0BEC5',\n                                                                  '#B0BEC5',\n                                                                  '#B0BEC5',\n                                                                  '#B0BEC5',\n                                                                  '#B0BEC5',\n                                                                  '#B0BEC5',\n                                                                  '#B0BEC5',\n                                                                  '#B0BEC5',\n                                                                  '#B0BEC5',\n                                                                  '#B0BEC5',\n                                                                  '#B0BEC5',\n                                                                  '#B0BEC5',\n                                                                  '#B0BEC5',\n                                                                  '#B0BEC5',\n                                                                  '#B0BEC5',\n                                                                  '#B0BEC5',\n                                                                  '#B0BEC5',\n                                                                  'red']]}],\n                                       'label': 'Topic 41',\n                                       'method': 'update'}]}],\n               'template': '...',\n               'title': {'font': {'color': 'Black', 'size': 22},\n                         'text': '<b>Intertopic Distance Map',\n                         'x': 0.5,\n                         'xanchor': 'center',\n                         'y': 0.95,\n                         'yanchor': 'top'},\n               'width': 650,\n               'xaxis': {'anchor': 'y',\n                         'domain': [0.0, 1.0],\n                         'range': [-20.65614194869995, 25.24389591217041],\n                         'title': {'text': ''},\n                         'visible': False},\n               'yaxis': {'anchor': 'x',\n                         'domain': [0.0, 1.0],\n                         'range': [-6.210474991798401, 20.052517414093018],\n                         'title': {'text': ''},\n                         'visible': False}}\n})"
     },
     "execution_count": 50,
     "metadata": {},
     "output_type": "execute_result"
    }
   ],
   "source": [
    "model.visualize_topics()"
   ],
   "metadata": {
    "collapsed": false,
    "pycharm": {
     "name": "#%%\n"
    }
   }
  },
  {
   "cell_type": "code",
   "execution_count": null,
   "outputs": [],
   "source": [],
   "metadata": {
    "collapsed": false,
    "pycharm": {
     "name": "#%%\n"
    }
   }
  }
 ],
 "metadata": {
  "kernelspec": {
   "name": "nlp_env",
   "language": "python",
   "display_name": "nlp_env"
  },
  "language_info": {
   "codemirror_mode": {
    "name": "ipython",
    "version": 2
   },
   "file_extension": ".py",
   "mimetype": "text/x-python",
   "name": "python",
   "nbconvert_exporter": "python",
   "pygments_lexer": "ipython2",
   "version": "2.7.6"
  }
 },
 "nbformat": 4,
 "nbformat_minor": 0
}