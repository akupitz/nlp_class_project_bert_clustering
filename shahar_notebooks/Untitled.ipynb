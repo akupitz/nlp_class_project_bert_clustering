{
 "cells": [
  {
   "cell_type": "code",
   "execution_count": 20,
   "metadata": {},
   "outputs": [],
   "source": [
    "import sys"
   ]
  },
  {
   "cell_type": "code",
   "execution_count": 22,
   "metadata": {},
   "outputs": [],
   "source": [
    "sys.path.append(\"/Users/shaharmeir/PycharmProjects/nlp_class_project_bert_topic_modeling\")"
   ]
  },
  {
   "cell_type": "code",
   "execution_count": 36,
   "metadata": {},
   "outputs": [],
   "source": [
    "import bert_embedding"
   ]
  },
  {
   "cell_type": "code",
   "execution_count": 27,
   "metadata": {},
   "outputs": [],
   "source": [
    "import data_preperation"
   ]
  },
  {
   "cell_type": "code",
   "execution_count": null,
   "metadata": {},
   "outputs": [],
   "source": [
    "topic_modeling_df = data_preperation.read_excel_df(data_preperation.ORIGINAL_EXCEL_PATH)\n",
    "topic_modeling_df = data_preperation.fix_df(topic_modeling_df)\n",
    "topic_modeling_df[data_preperation.EMBEDDING_COLUMN] = topic_modeling_df.apply(\n",
    "    lambda row: bert_embedding.get_text_embedding(row[data_preperation.WHY_NOT_ETHICAL_CLEAN_TEXT_COLUMN]), axis=1)\n",
    "topic_modeling_df[\"embedding_legal\"] = topic_modeling_df.apply(\n",
    "    lambda row: bert_embedding.get_text_embedding_legal_bert(row[data_preperation.WHY_NOT_ETHICAL_CLEAN_TEXT_COLUMN]), axis=1)\n",
    "topic_modeling_df[\"embedding_mpnet\"] = topic_modeling_df.apply(\n",
    "    lambda row: bert_embedding.get_text_embedding_mpnet(row[data_preperation.WHY_NOT_ETHICAL_CLEAN_TEXT_COLUMN]), axis=1)\n",
    "topic_modeling_df = topic_modeling_df.reset_index(drop=True)\n",
    "with open(data_preperation.OUTPUT_WITH_EMBEDDING_PICKLE_PATH, \"wb\") as f:\n",
    "    data_preperation.pickle.dump(topic_modeling_df, f)"
   ]
  },
  {
   "cell_type": "code",
   "execution_count": null,
   "metadata": {},
   "outputs": [],
   "source": [
    "import pandas as pd"
   ]
  },
  {
   "cell_type": "code",
   "execution_count": null,
   "metadata": {},
   "outputs": [],
   "source": [
    "df = pd.read_pickle(data_preperation.OUTPUT_WITH_EMBEDDING_PICKLE_PATH)"
   ]
  }
 ],
 "metadata": {
  "kernelspec": {
   "display_name": "Python 3",
   "language": "python",
   "name": "python3"
  },
  "language_info": {
   "codemirror_mode": {
    "name": "ipython",
    "version": 3
   },
   "file_extension": ".py",
   "mimetype": "text/x-python",
   "name": "python",
   "nbconvert_exporter": "python",
   "pygments_lexer": "ipython3",
   "version": "3.8.5"
  }
 },
 "nbformat": 4,
 "nbformat_minor": 4
}
